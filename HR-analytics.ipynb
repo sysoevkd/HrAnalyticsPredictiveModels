{
 "cells": [
  {
   "cell_type": "markdown",
   "id": "00323c6e",
   "metadata": {},
   "source": [
    "# Проект: HR-аналитика\n",
    "\n",
    "## Описание исследования\n",
    "\n",
    "Это проект, в котором необходимо применить навыки анализа данных и машинного обучения для решения задач HR-аналитики. Работа включает предсказание уровня удовлетворённости сотрудников и их вероятности увольнения на основе различных характеристик. Эти предсказания помогут компании «Работа с заботой» оптимизировать управление персоналом, минимизировать отток сотрудников и улучшить бизнес-показатели.\n",
    "\n",
    "## Цель исследования\n",
    "\n",
    "Разработать модели для предсказания:\n",
    "\n",
    "1. Уровня удовлетворённости сотрудников работой.\n",
    "2. Вероятности увольнения сотрудников.\n",
    "\n",
    "## Суть исследования\n",
    "\n",
    "Задачи направлены на построение предсказательных моделей, которые помогут компании оценивать текущие процессы и принимать меры для снижения текучести кадров. Исследуются характеристики сотрудников, такие как уровень должности, загруженность, зарплата и другие факторы, влияющие на удовлетворённость и увольнение.\n",
    "\n",
    "## Задачи исследования\n",
    "\n",
    "1. Изучить данные о сотрудниках.\n",
    "2. Провести исследовательский анализ данных для выявления зависимостей.\n",
    "3. Подготовить данные для моделирования.\n",
    "4. Построить и обучить модели для решения двух задач:\n",
    "    - Предсказание уровня удовлетворённости сотрудников.\n",
    "    - Предсказание вероятности увольнения сотрудников.\n",
    "5. Оценить качество моделей с использованием метрик SMAPE и ROC-AUC.\n",
    "\n",
    "## Исходные данные\n",
    "\n",
    "Для выполнения проекта предоставлены следующие файлы:\n",
    "\n",
    "- **train_job_satisfaction_rate.csv** — тренировочные данные для предсказания уровня удовлетворённости.\n",
    "- **test_features.csv** — признаки для тестовой выборки по первой задаче.\n",
    "- **test_target_job_satisfaction_rate.csv** — целевые значения для тестовой выборки по первой задаче.\n",
    "- **train_quit.csv** — тренировочные данные для предсказания увольнений.\n",
    "- **test_target_quit.csv** — целевые значения для тестовой выборки по второй задаче.\n",
    "\n",
    "## Структура исследования\n",
    "\n",
    "Исследование состоит из нескольких шагов:\n",
    "\n",
    "### Часть 1. Изучение общей информации\n",
    "1. Загрузка и исследование файлов с данными.\n",
    "2. Обработка пропусков и ошибок.\n",
    "\n",
    "### Часть 2. Подготовка данных\n",
    "1. Приведение данных к корректным типам.\n",
    "2. Устранение аномалий.\n",
    "\n",
    "### Часть 3. Исследовательский анализ данных\n",
    "1. Анализ всех признаков для выявления влияния на целевые переменные.\n",
    "2. Построение портретов сотрудников с разным уровнем удовлетворённости и вероятностью увольнения.\n",
    "\n",
    "### Часть 4. Моделирование\n",
    "1. Обучение моделей для предсказания уровня удовлетворённости и увольнения сотрудников.\n",
    "2. Оценка моделей по метрикам SMAPE и ROC-AUC.\n",
    "\n",
    "### Часть 5. Выводы\n",
    "1. Сравнение моделей и формулировка рекомендаций для бизнеса.\n",
    "\n",
    "---\n",
    "\n",
    "Этот проект позволит лучше понять ключевые факторы, влияющие на удовлетворённость сотрудников и их увольнение, что поможет компании эффективно управлять персоналом.\n"
   ]
  },
  {
   "cell_type": "code",
   "execution_count": 1,
   "id": "2fc6dd53",
   "metadata": {
    "scrolled": true
   },
   "outputs": [
    {
     "name": "stdout",
     "output_type": "stream",
     "text": [
      "Note: you may need to restart the kernel to use updated packages.\n"
     ]
    }
   ],
   "source": [
    "pip install -q --upgrade scikit-learn matplotlib numpy seaborn shap"
   ]
  },
  {
   "cell_type": "code",
   "execution_count": 2,
   "id": "ffe9f207",
   "metadata": {},
   "outputs": [
    {
     "name": "stdout",
     "output_type": "stream",
     "text": [
      "Note: you may need to restart the kernel to use updated packages.\n"
     ]
    }
   ],
   "source": [
    "pip install -q phik"
   ]
  },
  {
   "cell_type": "code",
   "execution_count": 3,
   "id": "9b6f7add",
   "metadata": {},
   "outputs": [],
   "source": [
    "import pandas as pd\n",
    "import numpy as np\n",
    "import matplotlib.pyplot as plt\n",
    "import seaborn as sns\n",
    "\n",
    "from sklearn.preprocessing import OneHotEncoder, OrdinalEncoder, StandardScaler, MinMaxScaler\n",
    "from sklearn.compose import ColumnTransformer\n",
    "from sklearn.model_selection import RandomizedSearchCV, GridSearchCV\n",
    "from sklearn.pipeline import Pipeline\n",
    "from sklearn.impute import SimpleImputer\n",
    "\n",
    "from sklearn.metrics import roc_auc_score, accuracy_score, f1_score, make_scorer, precision_score, recall_score, r2_score, mean_absolute_error\n",
    "\n",
    "from phik.report import plot_correlation_matrix\n",
    "\n",
    "from sklearn.linear_model import LinearRegression\n",
    "from sklearn.tree import DecisionTreeRegressor\n",
    "from sklearn.linear_model import LogisticRegression\n",
    "from sklearn.neighbors import KNeighborsClassifier\n",
    "from sklearn.tree import DecisionTreeClassifier\n",
    "from sklearn.svm import SVC\n",
    "\n",
    "import shap\n",
    "\n",
    "from scipy.stats import mannwhitneyu"
   ]
  },
  {
   "cell_type": "markdown",
   "id": "a82cea74",
   "metadata": {},
   "source": [
    "## Задача 1: предсказание уровня удовлетворённости сотрудника"
   ]
  },
  {
   "cell_type": "markdown",
   "id": "db596514",
   "metadata": {},
   "source": [
    "###  Загрузка данных"
   ]
  },
  {
   "cell_type": "code",
   "execution_count": 4,
   "id": "8faa43db",
   "metadata": {},
   "outputs": [],
   "source": [
    "satisfaction = pd.read_csv('/datasets/train_job_satisfaction_rate.csv')\n",
    "test_features = pd.read_csv('/datasets/test_features.csv')\n",
    "test_target_job = pd.read_csv('/datasets/test_target_job_satisfaction_rate.csv')"
   ]
  },
  {
   "cell_type": "code",
   "execution_count": 5,
   "id": "2aa4a8a1",
   "metadata": {},
   "outputs": [
    {
     "data": {
      "text/html": [
       "<div>\n",
       "<style scoped>\n",
       "    .dataframe tbody tr th:only-of-type {\n",
       "        vertical-align: middle;\n",
       "    }\n",
       "\n",
       "    .dataframe tbody tr th {\n",
       "        vertical-align: top;\n",
       "    }\n",
       "\n",
       "    .dataframe thead th {\n",
       "        text-align: right;\n",
       "    }\n",
       "</style>\n",
       "<table border=\"1\" class=\"dataframe\">\n",
       "  <thead>\n",
       "    <tr style=\"text-align: right;\">\n",
       "      <th></th>\n",
       "      <th>id</th>\n",
       "      <th>dept</th>\n",
       "      <th>level</th>\n",
       "      <th>workload</th>\n",
       "      <th>employment_years</th>\n",
       "      <th>last_year_promo</th>\n",
       "      <th>last_year_violations</th>\n",
       "      <th>supervisor_evaluation</th>\n",
       "      <th>salary</th>\n",
       "      <th>job_satisfaction_rate</th>\n",
       "    </tr>\n",
       "  </thead>\n",
       "  <tbody>\n",
       "    <tr>\n",
       "      <th>0</th>\n",
       "      <td>155278</td>\n",
       "      <td>sales</td>\n",
       "      <td>junior</td>\n",
       "      <td>medium</td>\n",
       "      <td>2</td>\n",
       "      <td>no</td>\n",
       "      <td>no</td>\n",
       "      <td>1</td>\n",
       "      <td>24000</td>\n",
       "      <td>0.58</td>\n",
       "    </tr>\n",
       "    <tr>\n",
       "      <th>1</th>\n",
       "      <td>653870</td>\n",
       "      <td>hr</td>\n",
       "      <td>junior</td>\n",
       "      <td>high</td>\n",
       "      <td>2</td>\n",
       "      <td>no</td>\n",
       "      <td>no</td>\n",
       "      <td>5</td>\n",
       "      <td>38400</td>\n",
       "      <td>0.76</td>\n",
       "    </tr>\n",
       "    <tr>\n",
       "      <th>2</th>\n",
       "      <td>184592</td>\n",
       "      <td>sales</td>\n",
       "      <td>junior</td>\n",
       "      <td>low</td>\n",
       "      <td>1</td>\n",
       "      <td>no</td>\n",
       "      <td>no</td>\n",
       "      <td>2</td>\n",
       "      <td>12000</td>\n",
       "      <td>0.11</td>\n",
       "    </tr>\n",
       "    <tr>\n",
       "      <th>3</th>\n",
       "      <td>171431</td>\n",
       "      <td>technology</td>\n",
       "      <td>junior</td>\n",
       "      <td>low</td>\n",
       "      <td>4</td>\n",
       "      <td>no</td>\n",
       "      <td>no</td>\n",
       "      <td>2</td>\n",
       "      <td>18000</td>\n",
       "      <td>0.37</td>\n",
       "    </tr>\n",
       "    <tr>\n",
       "      <th>4</th>\n",
       "      <td>693419</td>\n",
       "      <td>hr</td>\n",
       "      <td>junior</td>\n",
       "      <td>medium</td>\n",
       "      <td>1</td>\n",
       "      <td>no</td>\n",
       "      <td>no</td>\n",
       "      <td>3</td>\n",
       "      <td>22800</td>\n",
       "      <td>0.20</td>\n",
       "    </tr>\n",
       "  </tbody>\n",
       "</table>\n",
       "</div>"
      ],
      "text/plain": [
       "       id        dept   level workload  employment_years last_year_promo  \\\n",
       "0  155278       sales  junior   medium                 2              no   \n",
       "1  653870          hr  junior     high                 2              no   \n",
       "2  184592       sales  junior      low                 1              no   \n",
       "3  171431  technology  junior      low                 4              no   \n",
       "4  693419          hr  junior   medium                 1              no   \n",
       "\n",
       "  last_year_violations  supervisor_evaluation  salary  job_satisfaction_rate  \n",
       "0                   no                      1   24000                   0.58  \n",
       "1                   no                      5   38400                   0.76  \n",
       "2                   no                      2   12000                   0.11  \n",
       "3                   no                      2   18000                   0.37  \n",
       "4                   no                      3   22800                   0.20  "
      ]
     },
     "execution_count": 5,
     "metadata": {},
     "output_type": "execute_result"
    }
   ],
   "source": [
    "satisfaction.head()"
   ]
  },
  {
   "cell_type": "code",
   "execution_count": 6,
   "id": "5fa7c59f",
   "metadata": {},
   "outputs": [
    {
     "data": {
      "text/html": [
       "<div>\n",
       "<style scoped>\n",
       "    .dataframe tbody tr th:only-of-type {\n",
       "        vertical-align: middle;\n",
       "    }\n",
       "\n",
       "    .dataframe tbody tr th {\n",
       "        vertical-align: top;\n",
       "    }\n",
       "\n",
       "    .dataframe thead th {\n",
       "        text-align: right;\n",
       "    }\n",
       "</style>\n",
       "<table border=\"1\" class=\"dataframe\">\n",
       "  <thead>\n",
       "    <tr style=\"text-align: right;\">\n",
       "      <th></th>\n",
       "      <th>id</th>\n",
       "      <th>dept</th>\n",
       "      <th>level</th>\n",
       "      <th>workload</th>\n",
       "      <th>employment_years</th>\n",
       "      <th>last_year_promo</th>\n",
       "      <th>last_year_violations</th>\n",
       "      <th>supervisor_evaluation</th>\n",
       "      <th>salary</th>\n",
       "    </tr>\n",
       "  </thead>\n",
       "  <tbody>\n",
       "    <tr>\n",
       "      <th>0</th>\n",
       "      <td>485046</td>\n",
       "      <td>marketing</td>\n",
       "      <td>junior</td>\n",
       "      <td>medium</td>\n",
       "      <td>2</td>\n",
       "      <td>no</td>\n",
       "      <td>no</td>\n",
       "      <td>5</td>\n",
       "      <td>28800</td>\n",
       "    </tr>\n",
       "    <tr>\n",
       "      <th>1</th>\n",
       "      <td>686555</td>\n",
       "      <td>hr</td>\n",
       "      <td>junior</td>\n",
       "      <td>medium</td>\n",
       "      <td>1</td>\n",
       "      <td>no</td>\n",
       "      <td>no</td>\n",
       "      <td>4</td>\n",
       "      <td>30000</td>\n",
       "    </tr>\n",
       "    <tr>\n",
       "      <th>2</th>\n",
       "      <td>467458</td>\n",
       "      <td>sales</td>\n",
       "      <td>middle</td>\n",
       "      <td>low</td>\n",
       "      <td>5</td>\n",
       "      <td>no</td>\n",
       "      <td>no</td>\n",
       "      <td>4</td>\n",
       "      <td>19200</td>\n",
       "    </tr>\n",
       "    <tr>\n",
       "      <th>3</th>\n",
       "      <td>418655</td>\n",
       "      <td>sales</td>\n",
       "      <td>middle</td>\n",
       "      <td>low</td>\n",
       "      <td>6</td>\n",
       "      <td>no</td>\n",
       "      <td>no</td>\n",
       "      <td>4</td>\n",
       "      <td>19200</td>\n",
       "    </tr>\n",
       "    <tr>\n",
       "      <th>4</th>\n",
       "      <td>789145</td>\n",
       "      <td>hr</td>\n",
       "      <td>middle</td>\n",
       "      <td>medium</td>\n",
       "      <td>5</td>\n",
       "      <td>no</td>\n",
       "      <td>no</td>\n",
       "      <td>5</td>\n",
       "      <td>40800</td>\n",
       "    </tr>\n",
       "  </tbody>\n",
       "</table>\n",
       "</div>"
      ],
      "text/plain": [
       "       id       dept   level workload  employment_years last_year_promo  \\\n",
       "0  485046  marketing  junior   medium                 2              no   \n",
       "1  686555         hr  junior   medium                 1              no   \n",
       "2  467458      sales  middle      low                 5              no   \n",
       "3  418655      sales  middle      low                 6              no   \n",
       "4  789145         hr  middle   medium                 5              no   \n",
       "\n",
       "  last_year_violations  supervisor_evaluation  salary  \n",
       "0                   no                      5   28800  \n",
       "1                   no                      4   30000  \n",
       "2                   no                      4   19200  \n",
       "3                   no                      4   19200  \n",
       "4                   no                      5   40800  "
      ]
     },
     "execution_count": 6,
     "metadata": {},
     "output_type": "execute_result"
    }
   ],
   "source": [
    "test_features.head()"
   ]
  },
  {
   "cell_type": "code",
   "execution_count": 7,
   "id": "31d33c76",
   "metadata": {},
   "outputs": [
    {
     "data": {
      "text/html": [
       "<div>\n",
       "<style scoped>\n",
       "    .dataframe tbody tr th:only-of-type {\n",
       "        vertical-align: middle;\n",
       "    }\n",
       "\n",
       "    .dataframe tbody tr th {\n",
       "        vertical-align: top;\n",
       "    }\n",
       "\n",
       "    .dataframe thead th {\n",
       "        text-align: right;\n",
       "    }\n",
       "</style>\n",
       "<table border=\"1\" class=\"dataframe\">\n",
       "  <thead>\n",
       "    <tr style=\"text-align: right;\">\n",
       "      <th></th>\n",
       "      <th>id</th>\n",
       "      <th>job_satisfaction_rate</th>\n",
       "    </tr>\n",
       "  </thead>\n",
       "  <tbody>\n",
       "    <tr>\n",
       "      <th>0</th>\n",
       "      <td>130604</td>\n",
       "      <td>0.74</td>\n",
       "    </tr>\n",
       "    <tr>\n",
       "      <th>1</th>\n",
       "      <td>825977</td>\n",
       "      <td>0.75</td>\n",
       "    </tr>\n",
       "    <tr>\n",
       "      <th>2</th>\n",
       "      <td>418490</td>\n",
       "      <td>0.60</td>\n",
       "    </tr>\n",
       "    <tr>\n",
       "      <th>3</th>\n",
       "      <td>555320</td>\n",
       "      <td>0.72</td>\n",
       "    </tr>\n",
       "    <tr>\n",
       "      <th>4</th>\n",
       "      <td>826430</td>\n",
       "      <td>0.08</td>\n",
       "    </tr>\n",
       "  </tbody>\n",
       "</table>\n",
       "</div>"
      ],
      "text/plain": [
       "       id  job_satisfaction_rate\n",
       "0  130604                   0.74\n",
       "1  825977                   0.75\n",
       "2  418490                   0.60\n",
       "3  555320                   0.72\n",
       "4  826430                   0.08"
      ]
     },
     "execution_count": 7,
     "metadata": {},
     "output_type": "execute_result"
    }
   ],
   "source": [
    "test_target_job.head()"
   ]
  },
  {
   "cell_type": "code",
   "execution_count": 8,
   "id": "4d1fbf96",
   "metadata": {},
   "outputs": [],
   "source": [
    "datasets = [satisfaction, test_features, test_target_job]"
   ]
  },
  {
   "cell_type": "code",
   "execution_count": 9,
   "id": "10e951ac",
   "metadata": {},
   "outputs": [
    {
     "name": "stdout",
     "output_type": "stream",
     "text": [
      "<class 'pandas.core.frame.DataFrame'>\n",
      "RangeIndex: 4000 entries, 0 to 3999\n",
      "Data columns (total 10 columns):\n",
      " #   Column                 Non-Null Count  Dtype  \n",
      "---  ------                 --------------  -----  \n",
      " 0   id                     4000 non-null   int64  \n",
      " 1   dept                   3994 non-null   object \n",
      " 2   level                  3996 non-null   object \n",
      " 3   workload               4000 non-null   object \n",
      " 4   employment_years       4000 non-null   int64  \n",
      " 5   last_year_promo        4000 non-null   object \n",
      " 6   last_year_violations   4000 non-null   object \n",
      " 7   supervisor_evaluation  4000 non-null   int64  \n",
      " 8   salary                 4000 non-null   int64  \n",
      " 9   job_satisfaction_rate  4000 non-null   float64\n",
      "dtypes: float64(1), int64(4), object(5)\n",
      "memory usage: 312.6+ KB\n",
      "None \n",
      "\n",
      "<class 'pandas.core.frame.DataFrame'>\n",
      "RangeIndex: 2000 entries, 0 to 1999\n",
      "Data columns (total 9 columns):\n",
      " #   Column                 Non-Null Count  Dtype \n",
      "---  ------                 --------------  ----- \n",
      " 0   id                     2000 non-null   int64 \n",
      " 1   dept                   1998 non-null   object\n",
      " 2   level                  1999 non-null   object\n",
      " 3   workload               2000 non-null   object\n",
      " 4   employment_years       2000 non-null   int64 \n",
      " 5   last_year_promo        2000 non-null   object\n",
      " 6   last_year_violations   2000 non-null   object\n",
      " 7   supervisor_evaluation  2000 non-null   int64 \n",
      " 8   salary                 2000 non-null   int64 \n",
      "dtypes: int64(4), object(5)\n",
      "memory usage: 140.8+ KB\n",
      "None \n",
      "\n",
      "<class 'pandas.core.frame.DataFrame'>\n",
      "RangeIndex: 2000 entries, 0 to 1999\n",
      "Data columns (total 2 columns):\n",
      " #   Column                 Non-Null Count  Dtype  \n",
      "---  ------                 --------------  -----  \n",
      " 0   id                     2000 non-null   int64  \n",
      " 1   job_satisfaction_rate  2000 non-null   float64\n",
      "dtypes: float64(1), int64(1)\n",
      "memory usage: 31.4 KB\n",
      "None \n",
      "\n"
     ]
    }
   ],
   "source": [
    "for i in datasets:\n",
    "    print(i.info(), '\\n')"
   ]
  },
  {
   "cell_type": "markdown",
   "id": "beefcab8",
   "metadata": {},
   "source": [
    "В данных есть пропуски, типы данных в порядке"
   ]
  },
  {
   "cell_type": "markdown",
   "id": "cc18219c",
   "metadata": {},
   "source": [
    "### Шаг 2. Предобработка данных"
   ]
  },
  {
   "cell_type": "markdown",
   "id": "7a255fe4",
   "metadata": {},
   "source": [
    "Проверим пропуски"
   ]
  },
  {
   "cell_type": "code",
   "execution_count": 10,
   "id": "66f46835",
   "metadata": {},
   "outputs": [
    {
     "data": {
      "text/html": [
       "<div>\n",
       "<style scoped>\n",
       "    .dataframe tbody tr th:only-of-type {\n",
       "        vertical-align: middle;\n",
       "    }\n",
       "\n",
       "    .dataframe tbody tr th {\n",
       "        vertical-align: top;\n",
       "    }\n",
       "\n",
       "    .dataframe thead th {\n",
       "        text-align: right;\n",
       "    }\n",
       "</style>\n",
       "<table border=\"1\" class=\"dataframe\">\n",
       "  <thead>\n",
       "    <tr style=\"text-align: right;\">\n",
       "      <th></th>\n",
       "      <th>id</th>\n",
       "      <th>dept</th>\n",
       "      <th>level</th>\n",
       "      <th>workload</th>\n",
       "      <th>employment_years</th>\n",
       "      <th>last_year_promo</th>\n",
       "      <th>last_year_violations</th>\n",
       "      <th>supervisor_evaluation</th>\n",
       "      <th>salary</th>\n",
       "      <th>job_satisfaction_rate</th>\n",
       "    </tr>\n",
       "  </thead>\n",
       "  <tbody>\n",
       "    <tr>\n",
       "      <th>1209</th>\n",
       "      <td>631073</td>\n",
       "      <td>sales</td>\n",
       "      <td>NaN</td>\n",
       "      <td>medium</td>\n",
       "      <td>1</td>\n",
       "      <td>no</td>\n",
       "      <td>no</td>\n",
       "      <td>4</td>\n",
       "      <td>27600</td>\n",
       "      <td>0.66</td>\n",
       "    </tr>\n",
       "    <tr>\n",
       "      <th>1469</th>\n",
       "      <td>416327</td>\n",
       "      <td>sales</td>\n",
       "      <td>NaN</td>\n",
       "      <td>low</td>\n",
       "      <td>1</td>\n",
       "      <td>no</td>\n",
       "      <td>no</td>\n",
       "      <td>5</td>\n",
       "      <td>18000</td>\n",
       "      <td>0.73</td>\n",
       "    </tr>\n",
       "    <tr>\n",
       "      <th>1526</th>\n",
       "      <td>694746</td>\n",
       "      <td>NaN</td>\n",
       "      <td>junior</td>\n",
       "      <td>medium</td>\n",
       "      <td>5</td>\n",
       "      <td>no</td>\n",
       "      <td>no</td>\n",
       "      <td>4</td>\n",
       "      <td>21600</td>\n",
       "      <td>0.62</td>\n",
       "    </tr>\n",
       "    <tr>\n",
       "      <th>1630</th>\n",
       "      <td>814624</td>\n",
       "      <td>NaN</td>\n",
       "      <td>junior</td>\n",
       "      <td>medium</td>\n",
       "      <td>3</td>\n",
       "      <td>no</td>\n",
       "      <td>no</td>\n",
       "      <td>4</td>\n",
       "      <td>24000</td>\n",
       "      <td>0.88</td>\n",
       "    </tr>\n",
       "    <tr>\n",
       "      <th>1633</th>\n",
       "      <td>475114</td>\n",
       "      <td>NaN</td>\n",
       "      <td>junior</td>\n",
       "      <td>high</td>\n",
       "      <td>4</td>\n",
       "      <td>no</td>\n",
       "      <td>no</td>\n",
       "      <td>4</td>\n",
       "      <td>31200</td>\n",
       "      <td>0.63</td>\n",
       "    </tr>\n",
       "    <tr>\n",
       "      <th>1745</th>\n",
       "      <td>135043</td>\n",
       "      <td>sales</td>\n",
       "      <td>NaN</td>\n",
       "      <td>medium</td>\n",
       "      <td>1</td>\n",
       "      <td>no</td>\n",
       "      <td>no</td>\n",
       "      <td>3</td>\n",
       "      <td>26400</td>\n",
       "      <td>0.30</td>\n",
       "    </tr>\n",
       "    <tr>\n",
       "      <th>2522</th>\n",
       "      <td>998838</td>\n",
       "      <td>sales</td>\n",
       "      <td>NaN</td>\n",
       "      <td>medium</td>\n",
       "      <td>1</td>\n",
       "      <td>no</td>\n",
       "      <td>no</td>\n",
       "      <td>5</td>\n",
       "      <td>27600</td>\n",
       "      <td>0.71</td>\n",
       "    </tr>\n",
       "    <tr>\n",
       "      <th>2781</th>\n",
       "      <td>497243</td>\n",
       "      <td>NaN</td>\n",
       "      <td>junior</td>\n",
       "      <td>medium</td>\n",
       "      <td>1</td>\n",
       "      <td>no</td>\n",
       "      <td>no</td>\n",
       "      <td>3</td>\n",
       "      <td>26400</td>\n",
       "      <td>0.28</td>\n",
       "    </tr>\n",
       "    <tr>\n",
       "      <th>2975</th>\n",
       "      <td>168668</td>\n",
       "      <td>NaN</td>\n",
       "      <td>junior</td>\n",
       "      <td>low</td>\n",
       "      <td>3</td>\n",
       "      <td>no</td>\n",
       "      <td>no</td>\n",
       "      <td>4</td>\n",
       "      <td>18000</td>\n",
       "      <td>0.88</td>\n",
       "    </tr>\n",
       "    <tr>\n",
       "      <th>3866</th>\n",
       "      <td>641150</td>\n",
       "      <td>NaN</td>\n",
       "      <td>junior</td>\n",
       "      <td>low</td>\n",
       "      <td>3</td>\n",
       "      <td>no</td>\n",
       "      <td>yes</td>\n",
       "      <td>4</td>\n",
       "      <td>12000</td>\n",
       "      <td>0.54</td>\n",
       "    </tr>\n",
       "  </tbody>\n",
       "</table>\n",
       "</div>"
      ],
      "text/plain": [
       "          id   dept   level workload  employment_years last_year_promo  \\\n",
       "1209  631073  sales     NaN   medium                 1              no   \n",
       "1469  416327  sales     NaN      low                 1              no   \n",
       "1526  694746    NaN  junior   medium                 5              no   \n",
       "1630  814624    NaN  junior   medium                 3              no   \n",
       "1633  475114    NaN  junior     high                 4              no   \n",
       "1745  135043  sales     NaN   medium                 1              no   \n",
       "2522  998838  sales     NaN   medium                 1              no   \n",
       "2781  497243    NaN  junior   medium                 1              no   \n",
       "2975  168668    NaN  junior      low                 3              no   \n",
       "3866  641150    NaN  junior      low                 3              no   \n",
       "\n",
       "     last_year_violations  supervisor_evaluation  salary  \\\n",
       "1209                   no                      4   27600   \n",
       "1469                   no                      5   18000   \n",
       "1526                   no                      4   21600   \n",
       "1630                   no                      4   24000   \n",
       "1633                   no                      4   31200   \n",
       "1745                   no                      3   26400   \n",
       "2522                   no                      5   27600   \n",
       "2781                   no                      3   26400   \n",
       "2975                   no                      4   18000   \n",
       "3866                  yes                      4   12000   \n",
       "\n",
       "      job_satisfaction_rate  \n",
       "1209                   0.66  \n",
       "1469                   0.73  \n",
       "1526                   0.62  \n",
       "1630                   0.88  \n",
       "1633                   0.63  \n",
       "1745                   0.30  \n",
       "2522                   0.71  \n",
       "2781                   0.28  \n",
       "2975                   0.88  \n",
       "3866                   0.54  "
      ]
     },
     "execution_count": 10,
     "metadata": {},
     "output_type": "execute_result"
    }
   ],
   "source": [
    "satisfaction[satisfaction.isna().any(axis=1)]"
   ]
  },
  {
   "cell_type": "code",
   "execution_count": 11,
   "id": "39f408cb",
   "metadata": {},
   "outputs": [
    {
     "data": {
      "text/html": [
       "<div>\n",
       "<style scoped>\n",
       "    .dataframe tbody tr th:only-of-type {\n",
       "        vertical-align: middle;\n",
       "    }\n",
       "\n",
       "    .dataframe tbody tr th {\n",
       "        vertical-align: top;\n",
       "    }\n",
       "\n",
       "    .dataframe thead th {\n",
       "        text-align: right;\n",
       "    }\n",
       "</style>\n",
       "<table border=\"1\" class=\"dataframe\">\n",
       "  <thead>\n",
       "    <tr style=\"text-align: right;\">\n",
       "      <th></th>\n",
       "      <th>id</th>\n",
       "      <th>dept</th>\n",
       "      <th>level</th>\n",
       "      <th>workload</th>\n",
       "      <th>employment_years</th>\n",
       "      <th>last_year_promo</th>\n",
       "      <th>last_year_violations</th>\n",
       "      <th>supervisor_evaluation</th>\n",
       "      <th>salary</th>\n",
       "    </tr>\n",
       "  </thead>\n",
       "  <tbody>\n",
       "    <tr>\n",
       "      <th>191</th>\n",
       "      <td>609865</td>\n",
       "      <td>NaN</td>\n",
       "      <td>junior</td>\n",
       "      <td>medium</td>\n",
       "      <td>1</td>\n",
       "      <td>no</td>\n",
       "      <td>no</td>\n",
       "      <td>1</td>\n",
       "      <td>20400</td>\n",
       "    </tr>\n",
       "    <tr>\n",
       "      <th>312</th>\n",
       "      <td>471990</td>\n",
       "      <td>sales</td>\n",
       "      <td>NaN</td>\n",
       "      <td>low</td>\n",
       "      <td>1</td>\n",
       "      <td>no</td>\n",
       "      <td>no</td>\n",
       "      <td>3</td>\n",
       "      <td>12000</td>\n",
       "    </tr>\n",
       "    <tr>\n",
       "      <th>1196</th>\n",
       "      <td>832342</td>\n",
       "      <td>NaN</td>\n",
       "      <td>junior</td>\n",
       "      <td>medium</td>\n",
       "      <td>1</td>\n",
       "      <td>no</td>\n",
       "      <td>no</td>\n",
       "      <td>4</td>\n",
       "      <td>28800</td>\n",
       "    </tr>\n",
       "  </tbody>\n",
       "</table>\n",
       "</div>"
      ],
      "text/plain": [
       "          id   dept   level workload  employment_years last_year_promo  \\\n",
       "191   609865    NaN  junior   medium                 1              no   \n",
       "312   471990  sales     NaN      low                 1              no   \n",
       "1196  832342    NaN  junior   medium                 1              no   \n",
       "\n",
       "     last_year_violations  supervisor_evaluation  salary  \n",
       "191                    no                      1   20400  \n",
       "312                    no                      3   12000  \n",
       "1196                   no                      4   28800  "
      ]
     },
     "execution_count": 11,
     "metadata": {},
     "output_type": "execute_result"
    }
   ],
   "source": [
    "test_features[test_features.isna().any(axis=1)]"
   ]
  },
  {
   "cell_type": "markdown",
   "id": "a9853dbf",
   "metadata": {},
   "source": [
    "Пропусков не так много, заполним их в пайплайне подготовки данных"
   ]
  },
  {
   "cell_type": "markdown",
   "id": "9cbdf6ce",
   "metadata": {},
   "source": [
    "Проверим дубликаты"
   ]
  },
  {
   "cell_type": "code",
   "execution_count": 12,
   "id": "09d65713",
   "metadata": {},
   "outputs": [
    {
     "name": "stdout",
     "output_type": "stream",
     "text": [
      "0 \n",
      "\n",
      "0 \n",
      "\n",
      "0 \n",
      "\n"
     ]
    }
   ],
   "source": [
    "for i in datasets:\n",
    "    print(i.duplicated().sum(), '\\n')"
   ]
  },
  {
   "cell_type": "code",
   "execution_count": 13,
   "id": "b83a8ff0",
   "metadata": {},
   "outputs": [
    {
     "name": "stdout",
     "output_type": "stream",
     "text": [
      "['sales' 'hr' 'technology' 'purchasing' 'marketing' nan] \n",
      "\n",
      "['junior' 'middle' 'sinior' nan] \n",
      "\n",
      "['medium' 'high' 'low'] \n",
      "\n",
      "['no' 'yes'] \n",
      "\n",
      "['no' 'yes'] \n",
      "\n",
      "['marketing' 'hr' 'sales' 'purchasing' 'technology' nan ' '] \n",
      "\n",
      "['junior' 'middle' 'sinior' nan] \n",
      "\n",
      "['medium' 'low' 'high' ' '] \n",
      "\n",
      "['no' 'yes'] \n",
      "\n",
      "['no' 'yes'] \n",
      "\n"
     ]
    }
   ],
   "source": [
    "for i in datasets:\n",
    "    for j in i.select_dtypes('object'):\n",
    "        print(i[j].unique(), '\\n')"
   ]
  },
  {
   "cell_type": "markdown",
   "id": "a4c9f5a0",
   "metadata": {},
   "source": [
    "Исправим ошибку"
   ]
  },
  {
   "cell_type": "code",
   "execution_count": 14,
   "id": "8790b3a2",
   "metadata": {},
   "outputs": [],
   "source": [
    "satisfaction.loc[satisfaction['level'] == 'sinior', 'level'] = 'senior'\n",
    "test_features.loc[test_features['level'] == 'sinior', 'level'] = 'senior'"
   ]
  },
  {
   "cell_type": "markdown",
   "id": "805b8d63",
   "metadata": {},
   "source": [
    "В тестовой выборке есть строки со значением ' '"
   ]
  },
  {
   "cell_type": "code",
   "execution_count": 15,
   "id": "bcef88b3",
   "metadata": {},
   "outputs": [
    {
     "data": {
      "text/html": [
       "<div>\n",
       "<style scoped>\n",
       "    .dataframe tbody tr th:only-of-type {\n",
       "        vertical-align: middle;\n",
       "    }\n",
       "\n",
       "    .dataframe tbody tr th {\n",
       "        vertical-align: top;\n",
       "    }\n",
       "\n",
       "    .dataframe thead th {\n",
       "        text-align: right;\n",
       "    }\n",
       "</style>\n",
       "<table border=\"1\" class=\"dataframe\">\n",
       "  <thead>\n",
       "    <tr style=\"text-align: right;\">\n",
       "      <th></th>\n",
       "      <th>id</th>\n",
       "      <th>dept</th>\n",
       "      <th>level</th>\n",
       "      <th>workload</th>\n",
       "      <th>employment_years</th>\n",
       "      <th>last_year_promo</th>\n",
       "      <th>last_year_violations</th>\n",
       "      <th>supervisor_evaluation</th>\n",
       "      <th>salary</th>\n",
       "    </tr>\n",
       "  </thead>\n",
       "  <tbody>\n",
       "    <tr>\n",
       "      <th>15</th>\n",
       "      <td>590867</td>\n",
       "      <td>marketing</td>\n",
       "      <td>junior</td>\n",
       "      <td></td>\n",
       "      <td>4</td>\n",
       "      <td>no</td>\n",
       "      <td>no</td>\n",
       "      <td>4</td>\n",
       "      <td>28800</td>\n",
       "    </tr>\n",
       "    <tr>\n",
       "      <th>1699</th>\n",
       "      <td>822186</td>\n",
       "      <td></td>\n",
       "      <td>middle</td>\n",
       "      <td>medium</td>\n",
       "      <td>3</td>\n",
       "      <td>no</td>\n",
       "      <td>no</td>\n",
       "      <td>4</td>\n",
       "      <td>38400</td>\n",
       "    </tr>\n",
       "  </tbody>\n",
       "</table>\n",
       "</div>"
      ],
      "text/plain": [
       "          id       dept   level workload  employment_years last_year_promo  \\\n",
       "15    590867  marketing  junior                          4              no   \n",
       "1699  822186             middle   medium                 3              no   \n",
       "\n",
       "     last_year_violations  supervisor_evaluation  salary  \n",
       "15                     no                      4   28800  \n",
       "1699                   no                      4   38400  "
      ]
     },
     "execution_count": 15,
     "metadata": {},
     "output_type": "execute_result"
    }
   ],
   "source": [
    "test_features.query('dept == \" \" or workload == \" \"')"
   ]
  },
  {
   "cell_type": "markdown",
   "id": "f7876f67",
   "metadata": {},
   "source": [
    "Учтем это и заполним в пайплайне"
   ]
  },
  {
   "cell_type": "markdown",
   "id": "fd173805",
   "metadata": {},
   "source": [
    "Была исправлена ошибка в категориальной переменной, ошибочные значения ' ' заменены на те, которые встречаются чаще всего. Пропуски будут заполнены при подготовке данных"
   ]
  },
  {
   "cell_type": "markdown",
   "id": "0e3afca0",
   "metadata": {},
   "source": [
    "### Исследовательский анализ данных"
   ]
  },
  {
   "cell_type": "markdown",
   "id": "41336405",
   "metadata": {},
   "source": [
    "Построим графики для всех признаков"
   ]
  },
  {
   "cell_type": "code",
   "execution_count": 16,
   "id": "3404087c",
   "metadata": {},
   "outputs": [],
   "source": [
    "def num_hist(df, lst):\n",
    "    for i in lst:\n",
    "        fig, axes = plt.subplots(nrows=1, ncols=2, figsize=(12, 5))\n",
    "        \n",
    "        df[i].plot(kind='hist', bins=15, ax=axes[0])\n",
    "        axes[0].set_title(f'Гистограмма {df[i].name}')\n",
    "        axes[0].set_xlabel(df[i].name)\n",
    "        axes[0].set_ylabel('Частота')\n",
    "\n",
    "        df[i].plot(kind='box', ax=axes[1])\n",
    "        axes[1].set_title(f'Boxplot {df[i].name}')\n",
    "        \n",
    "        plt.tight_layout()\n",
    "        plt.show()"
   ]
  },
  {
   "cell_type": "code",
   "execution_count": 17,
   "id": "f54db72c",
   "metadata": {},
   "outputs": [],
   "source": [
    "def cat_bar(df, lst):\n",
    "     for i in lst:\n",
    "        plt.figure()\n",
    "        df[i].value_counts().plot(kind='bar')\n",
    "        plt.title(df[i].name)\n",
    "        plt.xlabel(df[i].name)\n",
    "        plt.ylabel('Частота')\n",
    "        plt.show()"
   ]
  },
  {
   "cell_type": "code",
   "execution_count": 18,
   "id": "780c867b",
   "metadata": {},
   "outputs": [],
   "source": [
    "satisfaction_num = ['salary', 'job_satisfaction_rate']\n",
    "satisfaction_cat = [i for i in satisfaction.columns if i not in satisfaction_num and i != 'id']\n",
    "test_features_num = ['salary']\n",
    "test_features_cat = [i for i in test_features.columns if i not in test_features_num and i != 'id']\n",
    "test_target_job_num = ['job_satisfaction_rate']"
   ]
  },
  {
   "cell_type": "code",
   "execution_count": 19,
   "id": "cdd298cc",
   "metadata": {
    "scrolled": false
   },
   "outputs": [
    {
     "data": {
      "image/png": "[encoded data removed]",
      "text/plain": [
       "<Figure size 864x360 with 2 Axes>"
      ]
     },
     "metadata": {
      "needs_background": "light"
     },
     "output_type": "display_data"
    },
    {
     "data": {
      "image/png": "[encoded data removed]",
      "text/plain": [
       "<Figure size 864x360 with 2 Axes>"
      ]
     },
     "metadata": {
      "needs_background": "light"
     },
     "output_type": "display_data"
    }
   ],
   "source": [
    "num_hist(satisfaction, satisfaction_num)"
   ]
  },
  {
   "cell_type": "markdown",
   "id": "96ca7778",
   "metadata": {},
   "source": [
    "Ни один признак не распределен нормально, аномалий нет"
   ]
  },
  {
   "cell_type": "code",
   "execution_count": 20,
   "id": "e936be03",
   "metadata": {
    "scrolled": true
   },
   "outputs": [
    {
     "data": {
      "image/png": "[encoded data removed]",
      "text/plain": [
       "<Figure size 432x288 with 1 Axes>"
      ]
     },
     "metadata": {
      "needs_background": "light"
     },
     "output_type": "display_data"
    },
    {
     "data": {
      "image/png": "[encoded data removed]",
      "text/plain": [
       "<Figure size 432x288 with 1 Axes>"
      ]
     },
     "metadata": {
      "needs_background": "light"
     },
     "output_type": "display_data"
    },
    {
     "data": {
      "image/png": "[encoded data removed]",
      "text/plain": [
       "<Figure size 432x288 with 1 Axes>"
      ]
     },
     "metadata": {
      "needs_background": "light"
     },
     "output_type": "display_data"
    },
    {
     "data": {
      "image/png": "[encoded data removed]",
      "text/plain": [
       "<Figure size 432x288 with 1 Axes>"
      ]
     },
     "metadata": {
      "needs_background": "light"
     },
     "output_type": "display_data"
    },
    {
     "data": {
      "image/png": "[encoded data removed]",
      "text/plain": [
       "<Figure size 432x288 with 1 Axes>"
      ]
     },
     "metadata": {
      "needs_background": "light"
     },
     "output_type": "display_data"
    },
    {
     "data": {
      "image/png": "[encoded data removed]",
      "text/plain": [
       "<Figure size 432x288 with 1 Axes>"
      ]
     },
     "metadata": {
      "needs_background": "light"
     },
     "output_type": "display_data"
    },
    {
     "data": {
      "image/png": "[encoded data removed]",
      "text/plain": [
       "<Figure size 432x288 with 1 Axes>"
      ]
     },
     "metadata": {
      "needs_background": "light"
     },
     "output_type": "display_data"
    }
   ],
   "source": [
    "cat_bar(satisfaction, satisfaction_cat)"
   ]
  },
  {
   "cell_type": "code",
   "execution_count": 21,
   "id": "0e4afc9d",
   "metadata": {},
   "outputs": [
    {
     "data": {
      "image/png": "[encoded data removed]",
      "text/plain": [
       "<Figure size 864x360 with 2 Axes>"
      ]
     },
     "metadata": {
      "needs_background": "light"
     },
     "output_type": "display_data"
    }
   ],
   "source": [
    "num_hist(test_features, test_features_num)"
   ]
  },
  {
   "cell_type": "code",
   "execution_count": 22,
   "id": "023e6dc8",
   "metadata": {
    "scrolled": true
   },
   "outputs": [
    {
     "data": {
      "image/png": "[encoded data removed]",
      "text/plain": [
       "<Figure size 432x288 with 1 Axes>"
      ]
     },
     "metadata": {
      "needs_background": "light"
     },
     "output_type": "display_data"
    },
    {
     "data": {
      "image/png": "[encoded data removed]",
      "text/plain": [
       "<Figure size 432x288 with 1 Axes>"
      ]
     },
     "metadata": {
      "needs_background": "light"
     },
     "output_type": "display_data"
    },
    {
     "data": {
      "image/png": "[encoded data removed]",
      "text/plain": [
       "<Figure size 432x288 with 1 Axes>"
      ]
     },
     "metadata": {
      "needs_background": "light"
     },
     "output_type": "display_data"
    },
    {
     "data": {
      "image/png": "[encoded data removed]",
      "text/plain": [
       "<Figure size 432x288 with 1 Axes>"
      ]
     },
     "metadata": {
      "needs_background": "light"
     },
     "output_type": "display_data"
    },
    {
     "data": {
      "image/png": "[encoded data removed]",
      "text/plain": [
       "<Figure size 432x288 with 1 Axes>"
      ]
     },
     "metadata": {
      "needs_background": "light"
     },
     "output_type": "display_data"
    },
    {
     "data": {
      "image/png": "[encoded data removed]",
      "text/plain": [
       "<Figure size 432x288 with 1 Axes>"
      ]
     },
     "metadata": {
      "needs_background": "light"
     },
     "output_type": "display_data"
    },
    {
     "data": {
      "image/png": "[encoded data removed]",
      "text/plain": [
       "<Figure size 432x288 with 1 Axes>"
      ]
     },
     "metadata": {
      "needs_background": "light"
     },
     "output_type": "display_data"
    }
   ],
   "source": [
    "cat_bar(test_features, test_features_cat)"
   ]
  },
  {
   "cell_type": "code",
   "execution_count": 23,
   "id": "54cc028d",
   "metadata": {
    "scrolled": false
   },
   "outputs": [
    {
     "data": {
      "image/png": "[encoded data removed]",
      "text/plain": [
       "<Figure size 864x360 with 2 Axes>"
      ]
     },
     "metadata": {
      "needs_background": "light"
     },
     "output_type": "display_data"
    }
   ],
   "source": [
    "num_hist(test_target_job, test_target_job_num)"
   ]
  },
  {
   "cell_type": "markdown",
   "id": "d252789d",
   "metadata": {},
   "source": [
    "Проанализировав все графики, можно сделать обобщенный вывод по данным. Больше всего сотрудников в отделе продаж, со средним уровнем загруженности, имеющих должность junior и работающих в компании в пределах двух лет. Большая часть зарплат находится в диапазоне от 10 до 40 тысяч. В основном удовлетворенность работой - около 0.7, однако достаточно много случаев, когда она варьируется от 0.3 до 0.6 "
   ]
  },
  {
   "cell_type": "markdown",
   "id": "eb00aad8",
   "metadata": {},
   "source": [
    "Проблем в данных не обнаружено"
   ]
  },
  {
   "cell_type": "markdown",
   "id": "4c15a51c",
   "metadata": {},
   "source": [
    "Посмотрим кореляцию"
   ]
  },
  {
   "cell_type": "code",
   "execution_count": 24,
   "id": "09f86a9c",
   "metadata": {},
   "outputs": [],
   "source": [
    "cor = satisfaction.drop('id', axis=1).corr(method='spearman')"
   ]
  },
  {
   "cell_type": "code",
   "execution_count": 25,
   "id": "400c9838",
   "metadata": {},
   "outputs": [
    {
     "data": {
      "image/png": "[encoded data removed]",
      "text/plain": [
       "<Figure size 720x576 with 2 Axes>"
      ]
     },
     "metadata": {
      "needs_background": "light"
     },
     "output_type": "display_data"
    }
   ],
   "source": [
    "plt.figure(figsize=(10, 8))\n",
    "sns.heatmap(cor, annot=True, cmap='coolwarm');\n",
    "plt.title('Кореляционная матрица')\n",
    "plt.show()"
   ]
  },
  {
   "cell_type": "code",
   "execution_count": 26,
   "id": "397f6ed6",
   "metadata": {},
   "outputs": [
    {
     "data": {
      "image/png": "[encoded data removed]",
      "text/plain": [
       "<Figure size 1080x720 with 2 Axes>"
      ]
     },
     "metadata": {
      "needs_background": "light"
     },
     "output_type": "display_data"
    }
   ],
   "source": [
    "phik_matrix = satisfaction.drop('id', axis=1).\\\n",
    "phik_matrix(interval_cols=satisfaction.drop('id', axis=1).select_dtypes(exclude='object').columns)\n",
    "\n",
    "plot_correlation_matrix(phik_matrix.values, \n",
    "                        x_labels=phik_matrix.columns, \n",
    "                        y_labels=phik_matrix.index, \n",
    "                        vmin=-1, vmax=1, title=\"Phik матрица\", figsize=(15, 10))\n",
    "\n",
    "plt.show()"
   ]
  },
  {
   "cell_type": "markdown",
   "id": "b2d03289",
   "metadata": {},
   "source": [
    "Сильных зависимостей признаков и мультиколлинеарности нет"
   ]
  },
  {
   "cell_type": "markdown",
   "id": "5f541465",
   "metadata": {},
   "source": [
    "### Подготовка данных"
   ]
  },
  {
   "cell_type": "markdown",
   "id": "7f28eee6",
   "metadata": {},
   "source": [
    "Перед тем, как разделять данные на входные признаки и целевой, нужно проверить дубликаты при удалении признака id "
   ]
  },
  {
   "cell_type": "code",
   "execution_count": 27,
   "id": "a408b05c",
   "metadata": {},
   "outputs": [
    {
     "name": "stdout",
     "output_type": "stream",
     "text": [
      "245 \n",
      "\n",
      "557 \n",
      "\n"
     ]
    }
   ],
   "source": [
    "for i in [satisfaction.drop('id', axis=1), test_features.drop('id', axis=1)]:\n",
    "    print(i.duplicated().sum(), '\\n')"
   ]
  },
  {
   "cell_type": "markdown",
   "id": "a2ddd4dc",
   "metadata": {},
   "source": [
    "Удалим идентичные объекты из обучающей выборки"
   ]
  },
  {
   "cell_type": "code",
   "execution_count": 28,
   "id": "29638f9c",
   "metadata": {},
   "outputs": [],
   "source": [
    "satisfaction_dropped_duplicates = satisfaction.drop('id', axis=1).drop_duplicates()"
   ]
  },
  {
   "cell_type": "markdown",
   "id": "ce3dcfa5",
   "metadata": {},
   "source": [
    "Теперь проверим, сходится ли порядок тестовых X и y </font>\n"
   ]
  },
  {
   "cell_type": "code",
   "execution_count": 29,
   "id": "163127e0",
   "metadata": {},
   "outputs": [
    {
     "data": {
      "text/html": [
       "<div>\n",
       "<style scoped>\n",
       "    .dataframe tbody tr th:only-of-type {\n",
       "        vertical-align: middle;\n",
       "    }\n",
       "\n",
       "    .dataframe tbody tr th {\n",
       "        vertical-align: top;\n",
       "    }\n",
       "\n",
       "    .dataframe thead th {\n",
       "        text-align: right;\n",
       "    }\n",
       "</style>\n",
       "<table border=\"1\" class=\"dataframe\">\n",
       "  <thead>\n",
       "    <tr style=\"text-align: right;\">\n",
       "      <th></th>\n",
       "      <th>id</th>\n",
       "      <th>dept</th>\n",
       "      <th>level</th>\n",
       "      <th>workload</th>\n",
       "      <th>employment_years</th>\n",
       "      <th>last_year_promo</th>\n",
       "      <th>last_year_violations</th>\n",
       "      <th>supervisor_evaluation</th>\n",
       "      <th>salary</th>\n",
       "    </tr>\n",
       "  </thead>\n",
       "  <tbody>\n",
       "    <tr>\n",
       "      <th>0</th>\n",
       "      <td>485046</td>\n",
       "      <td>marketing</td>\n",
       "      <td>junior</td>\n",
       "      <td>medium</td>\n",
       "      <td>2</td>\n",
       "      <td>no</td>\n",
       "      <td>no</td>\n",
       "      <td>5</td>\n",
       "      <td>28800</td>\n",
       "    </tr>\n",
       "    <tr>\n",
       "      <th>1</th>\n",
       "      <td>686555</td>\n",
       "      <td>hr</td>\n",
       "      <td>junior</td>\n",
       "      <td>medium</td>\n",
       "      <td>1</td>\n",
       "      <td>no</td>\n",
       "      <td>no</td>\n",
       "      <td>4</td>\n",
       "      <td>30000</td>\n",
       "    </tr>\n",
       "    <tr>\n",
       "      <th>2</th>\n",
       "      <td>467458</td>\n",
       "      <td>sales</td>\n",
       "      <td>middle</td>\n",
       "      <td>low</td>\n",
       "      <td>5</td>\n",
       "      <td>no</td>\n",
       "      <td>no</td>\n",
       "      <td>4</td>\n",
       "      <td>19200</td>\n",
       "    </tr>\n",
       "    <tr>\n",
       "      <th>3</th>\n",
       "      <td>418655</td>\n",
       "      <td>sales</td>\n",
       "      <td>middle</td>\n",
       "      <td>low</td>\n",
       "      <td>6</td>\n",
       "      <td>no</td>\n",
       "      <td>no</td>\n",
       "      <td>4</td>\n",
       "      <td>19200</td>\n",
       "    </tr>\n",
       "    <tr>\n",
       "      <th>4</th>\n",
       "      <td>789145</td>\n",
       "      <td>hr</td>\n",
       "      <td>middle</td>\n",
       "      <td>medium</td>\n",
       "      <td>5</td>\n",
       "      <td>no</td>\n",
       "      <td>no</td>\n",
       "      <td>5</td>\n",
       "      <td>40800</td>\n",
       "    </tr>\n",
       "  </tbody>\n",
       "</table>\n",
       "</div>"
      ],
      "text/plain": [
       "       id       dept   level workload  employment_years last_year_promo  \\\n",
       "0  485046  marketing  junior   medium                 2              no   \n",
       "1  686555         hr  junior   medium                 1              no   \n",
       "2  467458      sales  middle      low                 5              no   \n",
       "3  418655      sales  middle      low                 6              no   \n",
       "4  789145         hr  middle   medium                 5              no   \n",
       "\n",
       "  last_year_violations  supervisor_evaluation  salary  \n",
       "0                   no                      5   28800  \n",
       "1                   no                      4   30000  \n",
       "2                   no                      4   19200  \n",
       "3                   no                      4   19200  \n",
       "4                   no                      5   40800  "
      ]
     },
     "execution_count": 29,
     "metadata": {},
     "output_type": "execute_result"
    }
   ],
   "source": [
    "test_features.head()"
   ]
  },
  {
   "cell_type": "code",
   "execution_count": 30,
   "id": "4b40e912",
   "metadata": {},
   "outputs": [
    {
     "data": {
      "text/html": [
       "<div>\n",
       "<style scoped>\n",
       "    .dataframe tbody tr th:only-of-type {\n",
       "        vertical-align: middle;\n",
       "    }\n",
       "\n",
       "    .dataframe tbody tr th {\n",
       "        vertical-align: top;\n",
       "    }\n",
       "\n",
       "    .dataframe thead th {\n",
       "        text-align: right;\n",
       "    }\n",
       "</style>\n",
       "<table border=\"1\" class=\"dataframe\">\n",
       "  <thead>\n",
       "    <tr style=\"text-align: right;\">\n",
       "      <th></th>\n",
       "      <th>id</th>\n",
       "      <th>job_satisfaction_rate</th>\n",
       "    </tr>\n",
       "  </thead>\n",
       "  <tbody>\n",
       "    <tr>\n",
       "      <th>0</th>\n",
       "      <td>130604</td>\n",
       "      <td>0.74</td>\n",
       "    </tr>\n",
       "    <tr>\n",
       "      <th>1</th>\n",
       "      <td>825977</td>\n",
       "      <td>0.75</td>\n",
       "    </tr>\n",
       "    <tr>\n",
       "      <th>2</th>\n",
       "      <td>418490</td>\n",
       "      <td>0.60</td>\n",
       "    </tr>\n",
       "    <tr>\n",
       "      <th>3</th>\n",
       "      <td>555320</td>\n",
       "      <td>0.72</td>\n",
       "    </tr>\n",
       "    <tr>\n",
       "      <th>4</th>\n",
       "      <td>826430</td>\n",
       "      <td>0.08</td>\n",
       "    </tr>\n",
       "  </tbody>\n",
       "</table>\n",
       "</div>"
      ],
      "text/plain": [
       "       id  job_satisfaction_rate\n",
       "0  130604                   0.74\n",
       "1  825977                   0.75\n",
       "2  418490                   0.60\n",
       "3  555320                   0.72\n",
       "4  826430                   0.08"
      ]
     },
     "execution_count": 30,
     "metadata": {},
     "output_type": "execute_result"
    }
   ],
   "source": [
    "test_target_job.head()"
   ]
  },
  {
   "cell_type": "markdown",
   "id": "6234ef2a",
   "metadata": {},
   "source": [
    "Порядок не соответствует, нужно его поменять"
   ]
  },
  {
   "cell_type": "code",
   "execution_count": 31,
   "id": "2b4c70ad",
   "metadata": {},
   "outputs": [],
   "source": [
    "test_target_job = test_features[['id']].merge(test_target_job)"
   ]
  },
  {
   "cell_type": "code",
   "execution_count": 32,
   "id": "bb7d3a01",
   "metadata": {},
   "outputs": [
    {
     "data": {
      "text/html": [
       "<div>\n",
       "<style scoped>\n",
       "    .dataframe tbody tr th:only-of-type {\n",
       "        vertical-align: middle;\n",
       "    }\n",
       "\n",
       "    .dataframe tbody tr th {\n",
       "        vertical-align: top;\n",
       "    }\n",
       "\n",
       "    .dataframe thead th {\n",
       "        text-align: right;\n",
       "    }\n",
       "</style>\n",
       "<table border=\"1\" class=\"dataframe\">\n",
       "  <thead>\n",
       "    <tr style=\"text-align: right;\">\n",
       "      <th></th>\n",
       "      <th>id</th>\n",
       "      <th>job_satisfaction_rate</th>\n",
       "    </tr>\n",
       "  </thead>\n",
       "  <tbody>\n",
       "    <tr>\n",
       "      <th>0</th>\n",
       "      <td>485046</td>\n",
       "      <td>0.79</td>\n",
       "    </tr>\n",
       "    <tr>\n",
       "      <th>1</th>\n",
       "      <td>686555</td>\n",
       "      <td>0.72</td>\n",
       "    </tr>\n",
       "    <tr>\n",
       "      <th>2</th>\n",
       "      <td>467458</td>\n",
       "      <td>0.64</td>\n",
       "    </tr>\n",
       "    <tr>\n",
       "      <th>3</th>\n",
       "      <td>418655</td>\n",
       "      <td>0.60</td>\n",
       "    </tr>\n",
       "    <tr>\n",
       "      <th>4</th>\n",
       "      <td>789145</td>\n",
       "      <td>0.75</td>\n",
       "    </tr>\n",
       "  </tbody>\n",
       "</table>\n",
       "</div>"
      ],
      "text/plain": [
       "       id  job_satisfaction_rate\n",
       "0  485046                   0.79\n",
       "1  686555                   0.72\n",
       "2  467458                   0.64\n",
       "3  418655                   0.60\n",
       "4  789145                   0.75"
      ]
     },
     "execution_count": 32,
     "metadata": {},
     "output_type": "execute_result"
    }
   ],
   "source": [
    "test_target_job.head()"
   ]
  },
  {
   "cell_type": "markdown",
   "id": "216592e9",
   "metadata": {},
   "source": [
    "Создадим пайплайн, отвечающий за подготовку"
   ]
  },
  {
   "cell_type": "code",
   "execution_count": 33,
   "id": "d846e979",
   "metadata": {},
   "outputs": [],
   "source": [
    "X = satisfaction_dropped_duplicates.drop('job_satisfaction_rate', axis=1)\n",
    "y = satisfaction_dropped_duplicates['job_satisfaction_rate']"
   ]
  },
  {
   "cell_type": "code",
   "execution_count": 34,
   "id": "8a84a0a6",
   "metadata": {},
   "outputs": [],
   "source": [
    "X_test = test_features.drop(['id'], axis=1)"
   ]
  },
  {
   "cell_type": "code",
   "execution_count": 35,
   "id": "78ff9216",
   "metadata": {},
   "outputs": [
    {
     "data": {
      "text/plain": [
       "array([ True,  True,  True,  True,  True,  True,  True,  True])"
      ]
     },
     "execution_count": 35,
     "metadata": {},
     "output_type": "execute_result"
    }
   ],
   "source": [
    "X.columns == X_test.columns"
   ]
  },
  {
   "cell_type": "code",
   "execution_count": 36,
   "id": "534b5e09",
   "metadata": {},
   "outputs": [],
   "source": [
    "y_test = test_target_job['job_satisfaction_rate']"
   ]
  },
  {
   "cell_type": "code",
   "execution_count": 37,
   "id": "b92020b7",
   "metadata": {},
   "outputs": [
    {
     "data": {
      "text/html": [
       "<div>\n",
       "<style scoped>\n",
       "    .dataframe tbody tr th:only-of-type {\n",
       "        vertical-align: middle;\n",
       "    }\n",
       "\n",
       "    .dataframe tbody tr th {\n",
       "        vertical-align: top;\n",
       "    }\n",
       "\n",
       "    .dataframe thead th {\n",
       "        text-align: right;\n",
       "    }\n",
       "</style>\n",
       "<table border=\"1\" class=\"dataframe\">\n",
       "  <thead>\n",
       "    <tr style=\"text-align: right;\">\n",
       "      <th></th>\n",
       "      <th>dept</th>\n",
       "      <th>level</th>\n",
       "      <th>workload</th>\n",
       "      <th>employment_years</th>\n",
       "      <th>last_year_promo</th>\n",
       "      <th>last_year_violations</th>\n",
       "      <th>supervisor_evaluation</th>\n",
       "      <th>salary</th>\n",
       "    </tr>\n",
       "  </thead>\n",
       "  <tbody>\n",
       "    <tr>\n",
       "      <th>0</th>\n",
       "      <td>sales</td>\n",
       "      <td>junior</td>\n",
       "      <td>medium</td>\n",
       "      <td>2</td>\n",
       "      <td>no</td>\n",
       "      <td>no</td>\n",
       "      <td>1</td>\n",
       "      <td>24000</td>\n",
       "    </tr>\n",
       "    <tr>\n",
       "      <th>1</th>\n",
       "      <td>hr</td>\n",
       "      <td>junior</td>\n",
       "      <td>high</td>\n",
       "      <td>2</td>\n",
       "      <td>no</td>\n",
       "      <td>no</td>\n",
       "      <td>5</td>\n",
       "      <td>38400</td>\n",
       "    </tr>\n",
       "    <tr>\n",
       "      <th>2</th>\n",
       "      <td>sales</td>\n",
       "      <td>junior</td>\n",
       "      <td>low</td>\n",
       "      <td>1</td>\n",
       "      <td>no</td>\n",
       "      <td>no</td>\n",
       "      <td>2</td>\n",
       "      <td>12000</td>\n",
       "    </tr>\n",
       "    <tr>\n",
       "      <th>3</th>\n",
       "      <td>technology</td>\n",
       "      <td>junior</td>\n",
       "      <td>low</td>\n",
       "      <td>4</td>\n",
       "      <td>no</td>\n",
       "      <td>no</td>\n",
       "      <td>2</td>\n",
       "      <td>18000</td>\n",
       "    </tr>\n",
       "    <tr>\n",
       "      <th>4</th>\n",
       "      <td>hr</td>\n",
       "      <td>junior</td>\n",
       "      <td>medium</td>\n",
       "      <td>1</td>\n",
       "      <td>no</td>\n",
       "      <td>no</td>\n",
       "      <td>3</td>\n",
       "      <td>22800</td>\n",
       "    </tr>\n",
       "  </tbody>\n",
       "</table>\n",
       "</div>"
      ],
      "text/plain": [
       "         dept   level workload  employment_years last_year_promo  \\\n",
       "0       sales  junior   medium                 2              no   \n",
       "1          hr  junior     high                 2              no   \n",
       "2       sales  junior      low                 1              no   \n",
       "3  technology  junior      low                 4              no   \n",
       "4          hr  junior   medium                 1              no   \n",
       "\n",
       "  last_year_violations  supervisor_evaluation  salary  \n",
       "0                   no                      1   24000  \n",
       "1                   no                      5   38400  \n",
       "2                   no                      2   12000  \n",
       "3                   no                      2   18000  \n",
       "4                   no                      3   22800  "
      ]
     },
     "execution_count": 37,
     "metadata": {},
     "output_type": "execute_result"
    }
   ],
   "source": [
    "X.head()"
   ]
  },
  {
   "cell_type": "code",
   "execution_count": 38,
   "id": "f78770cf",
   "metadata": {},
   "outputs": [],
   "source": [
    "num_col = X.select_dtypes(exclude='object').columns\n",
    "ohe_col = ['dept', 'last_year_promo', 'last_year_violations']\n",
    "ord_col = ['level', 'workload']"
   ]
  },
  {
   "cell_type": "code",
   "execution_count": 39,
   "id": "4b49b6c5",
   "metadata": {},
   "outputs": [
    {
     "name": "stdout",
     "output_type": "stream",
     "text": [
      "['sales' 'hr' 'technology' 'purchasing' 'marketing' nan] \n",
      "\n",
      "['junior' 'middle' 'senior' nan] \n",
      "\n",
      "['medium' 'high' 'low'] \n",
      "\n",
      "['no' 'yes'] \n",
      "\n",
      "['no' 'yes'] \n",
      "\n"
     ]
    }
   ],
   "source": [
    "for i in X_test.select_dtypes('object'):\n",
    "    print(X[i].unique(), '\\n')"
   ]
  },
  {
   "cell_type": "code",
   "execution_count": 40,
   "id": "117df52f",
   "metadata": {},
   "outputs": [],
   "source": [
    "ohe_pipe = Pipeline(\n",
    "    [\n",
    "     ('imputer', SimpleImputer(strategy='most_frequent')),\n",
    "     ('imputer2', SimpleImputer(missing_values =' ', strategy='most_frequent')),\n",
    "     ('ohe', OneHotEncoder(drop='first', handle_unknown='ignore'))\n",
    "    ]\n",
    "    )\n",
    "\n",
    "ord_pipe = Pipeline(\n",
    "    [\n",
    "     ('imputer', SimpleImputer(strategy='most_frequent')),\n",
    "     ('imputer2', SimpleImputer(missing_values=' ', strategy='most_frequent')),\n",
    "     ('ord',  OrdinalEncoder(\n",
    "                categories=[\n",
    "                    ['junior', 'middle' ,'senior'],\n",
    "                    ['low', 'medium', 'high']\n",
    "                ], \n",
    "                handle_unknown='use_encoded_value', unknown_value=np.nan\n",
    "            )\n",
    "        )\n",
    "    ]\n",
    ")"
   ]
  },
  {
   "cell_type": "code",
   "execution_count": 41,
   "id": "e4938833",
   "metadata": {},
   "outputs": [],
   "source": [
    "data_preprocessor = ColumnTransformer(\n",
    "    [('ohe', ohe_pipe, ohe_col),\n",
    "     ('ord', ord_pipe, ord_col),\n",
    "     ('num', MinMaxScaler(), num_col)\n",
    "    ], \n",
    "    remainder='passthrough'\n",
    ")"
   ]
  },
  {
   "cell_type": "code",
   "execution_count": 42,
   "id": "1c71ee29",
   "metadata": {},
   "outputs": [],
   "source": [
    "X_transformed = data_preprocessor.fit_transform(X)"
   ]
  },
  {
   "cell_type": "code",
   "execution_count": 43,
   "id": "b2a41a93",
   "metadata": {},
   "outputs": [],
   "source": [
    "X_test_transformed = data_preprocessor.transform(X_test)"
   ]
  },
  {
   "cell_type": "markdown",
   "id": "46d097db",
   "metadata": {},
   "source": [
    "### Обучение моделей"
   ]
  },
  {
   "cell_type": "code",
   "execution_count": 44,
   "id": "4edf04c6",
   "metadata": {},
   "outputs": [],
   "source": [
    "def smape(y_true, y_pred):\n",
    "    y_true = np.array(y_true)\n",
    "    y_pred = np.array(y_pred)\n",
    "    \n",
    "    numerator = np.abs(y_true - y_pred)\n",
    "    denominator = (np.abs(y_true) + np.abs(y_pred)) / 2\n",
    "    \n",
    "    smape_value = np.mean(numerator / denominator) * 100\n",
    "    return smape_value"
   ]
  },
  {
   "cell_type": "code",
   "execution_count": 45,
   "id": "e0487d95",
   "metadata": {},
   "outputs": [],
   "source": [
    "smape_scorer = make_scorer(smape, greater_is_better=False)"
   ]
  },
  {
   "cell_type": "code",
   "execution_count": 46,
   "id": "10e90c33",
   "metadata": {},
   "outputs": [],
   "source": [
    "pipe = Pipeline([\n",
    "    ('model', LinearRegression())\n",
    "])\n"
   ]
  },
  {
   "cell_type": "code",
   "execution_count": 47,
   "id": "ba6b79fc",
   "metadata": {},
   "outputs": [],
   "source": [
    "param_distributions = [\n",
    "    {\n",
    "        'model': [LinearRegression()],\n",
    "    },\n",
    "    {\n",
    "        'model': [DecisionTreeRegressor(random_state=42)],\n",
    "        'model__max_depth': range(1, 25),\n",
    "        'model__min_samples_split': range(2, 10),\n",
    "        'model__min_samples_leaf': range(1, 10)\n",
    "    }\n",
    "   \n",
    "]"
   ]
  },
  {
   "cell_type": "code",
   "execution_count": 48,
   "id": "18b3d0f8",
   "metadata": {},
   "outputs": [],
   "source": [
    "grid_search = GridSearchCV(\n",
    "    pipe, \n",
    "    param_distributions, \n",
    "    cv=5, \n",
    "    scoring=smape_scorer, \n",
    "    n_jobs=-1, \n",
    ")"
   ]
  },
  {
   "cell_type": "code",
   "execution_count": 49,
   "id": "cdd1a8c5",
   "metadata": {},
   "outputs": [
    {
     "name": "stdout",
     "output_type": "stream",
     "text": [
      "CPU times: user 52.1 s, sys: 207 ms, total: 52.3 s\n",
      "Wall time: 52.3 s\n"
     ]
    },
    {
     "data": {
      "text/html": [
       "<style>#sk-container-id-1 {\n",
       "  /* Definition of color scheme common for light and dark mode */\n",
       "  --sklearn-color-text: black;\n",
       "  --sklearn-color-line: gray;\n",
       "  /* Definition of color scheme for unfitted estimators */\n",
       "  --sklearn-color-unfitted-level-0: #fff5e6;\n",
       "  --sklearn-color-unfitted-level-1: #f6e4d2;\n",
       "  --sklearn-color-unfitted-level-2: #ffe0b3;\n",
       "  --sklearn-color-unfitted-level-3: chocolate;\n",
       "  /* Definition of color scheme for fitted estimators */\n",
       "  --sklearn-color-fitted-level-0: #f0f8ff;\n",
       "  --sklearn-color-fitted-level-1: #d4ebff;\n",
       "  --sklearn-color-fitted-level-2: #b3dbfd;\n",
       "  --sklearn-color-fitted-level-3: cornflowerblue;\n",
       "\n",
       "  /* Specific color for light theme */\n",
       "  --sklearn-color-text-on-default-background: var(--sg-text-color, var(--theme-code-foreground, var(--jp-content-font-color1, black)));\n",
       "  --sklearn-color-background: var(--sg-background-color, var(--theme-background, var(--jp-layout-color0, white)));\n",
       "  --sklearn-color-border-box: var(--sg-text-color, var(--theme-code-foreground, var(--jp-content-font-color1, black)));\n",
       "  --sklearn-color-icon: #696969;\n",
       "\n",
       "  @media (prefers-color-scheme: dark) {\n",
       "    /* Redefinition of color scheme for dark theme */\n",
       "    --sklearn-color-text-on-default-background: var(--sg-text-color, var(--theme-code-foreground, var(--jp-content-font-color1, white)));\n",
       "    --sklearn-color-background: var(--sg-background-color, var(--theme-background, var(--jp-layout-color0, #111)));\n",
       "    --sklearn-color-border-box: var(--sg-text-color, var(--theme-code-foreground, var(--jp-content-font-color1, white)));\n",
       "    --sklearn-color-icon: #878787;\n",
       "  }\n",
       "}\n",
       "\n",
       "#sk-container-id-1 {\n",
       "  color: var(--sklearn-color-text);\n",
       "}\n",
       "\n",
       "#sk-container-id-1 pre {\n",
       "  padding: 0;\n",
       "}\n",
       "\n",
       "#sk-container-id-1 input.sk-hidden--visually {\n",
       "  border: 0;\n",
       "  clip: rect(1px 1px 1px 1px);\n",
       "  clip: rect(1px, 1px, 1px, 1px);\n",
       "  height: 1px;\n",
       "  margin: -1px;\n",
       "  overflow: hidden;\n",
       "  padding: 0;\n",
       "  position: absolute;\n",
       "  width: 1px;\n",
       "}\n",
       "\n",
       "#sk-container-id-1 div.sk-dashed-wrapped {\n",
       "  border: 1px dashed var(--sklearn-color-line);\n",
       "  margin: 0 0.4em 0.5em 0.4em;\n",
       "  box-sizing: border-box;\n",
       "  padding-bottom: 0.4em;\n",
       "  background-color: var(--sklearn-color-background);\n",
       "}\n",
       "\n",
       "#sk-container-id-1 div.sk-container {\n",
       "  /* jupyter's `normalize.less` sets `[hidden] { display: none; }`\n",
       "     but bootstrap.min.css set `[hidden] { display: none !important; }`\n",
       "     so we also need the `!important` here to be able to override the\n",
       "     default hidden behavior on the sphinx rendered scikit-learn.org.\n",
       "     See: https://github.com/scikit-learn/scikit-learn/issues/21755 */\n",
       "  display: inline-block !important;\n",
       "  position: relative;\n",
       "}\n",
       "\n",
       "#sk-container-id-1 div.sk-text-repr-fallback {\n",
       "  display: none;\n",
       "}\n",
       "\n",
       "div.sk-parallel-item,\n",
       "div.sk-serial,\n",
       "div.sk-item {\n",
       "  /* draw centered vertical line to link estimators */\n",
       "  background-image: linear-gradient(var(--sklearn-color-text-on-default-background), var(--sklearn-color-text-on-default-background));\n",
       "  background-size: 2px 100%;\n",
       "  background-repeat: no-repeat;\n",
       "  background-position: center center;\n",
       "}\n",
       "\n",
       "/* Parallel-specific style estimator block */\n",
       "\n",
       "#sk-container-id-1 div.sk-parallel-item::after {\n",
       "  content: \"\";\n",
       "  width: 100%;\n",
       "  border-bottom: 2px solid var(--sklearn-color-text-on-default-background);\n",
       "  flex-grow: 1;\n",
       "}\n",
       "\n",
       "#sk-container-id-1 div.sk-parallel {\n",
       "  display: flex;\n",
       "  align-items: stretch;\n",
       "  justify-content: center;\n",
       "  background-color: var(--sklearn-color-background);\n",
       "  position: relative;\n",
       "}\n",
       "\n",
       "#sk-container-id-1 div.sk-parallel-item {\n",
       "  display: flex;\n",
       "  flex-direction: column;\n",
       "}\n",
       "\n",
       "#sk-container-id-1 div.sk-parallel-item:first-child::after {\n",
       "  align-self: flex-end;\n",
       "  width: 50%;\n",
       "}\n",
       "\n",
       "#sk-container-id-1 div.sk-parallel-item:last-child::after {\n",
       "  align-self: flex-start;\n",
       "  width: 50%;\n",
       "}\n",
       "\n",
       "#sk-container-id-1 div.sk-parallel-item:only-child::after {\n",
       "  width: 0;\n",
       "}\n",
       "\n",
       "/* Serial-specific style estimator block */\n",
       "\n",
       "#sk-container-id-1 div.sk-serial {\n",
       "  display: flex;\n",
       "  flex-direction: column;\n",
       "  align-items: center;\n",
       "  background-color: var(--sklearn-color-background);\n",
       "  padding-right: 1em;\n",
       "  padding-left: 1em;\n",
       "}\n",
       "\n",
       "\n",
       "/* Toggleable style: style used for estimator/Pipeline/ColumnTransformer box that is\n",
       "clickable and can be expanded/collapsed.\n",
       "- Pipeline and ColumnTransformer use this feature and define the default style\n",
       "- Estimators will overwrite some part of the style using the `sk-estimator` class\n",
       "*/\n",
       "\n",
       "/* Pipeline and ColumnTransformer style (default) */\n",
       "\n",
       "#sk-container-id-1 div.sk-toggleable {\n",
       "  /* Default theme specific background. It is overwritten whether we have a\n",
       "  specific estimator or a Pipeline/ColumnTransformer */\n",
       "  background-color: var(--sklearn-color-background);\n",
       "}\n",
       "\n",
       "/* Toggleable label */\n",
       "#sk-container-id-1 label.sk-toggleable__label {\n",
       "  cursor: pointer;\n",
       "  display: block;\n",
       "  width: 100%;\n",
       "  margin-bottom: 0;\n",
       "  padding: 0.5em;\n",
       "  box-sizing: border-box;\n",
       "  text-align: center;\n",
       "}\n",
       "\n",
       "#sk-container-id-1 label.sk-toggleable__label-arrow:before {\n",
       "  /* Arrow on the left of the label */\n",
       "  content: \"▸\";\n",
       "  float: left;\n",
       "  margin-right: 0.25em;\n",
       "  color: var(--sklearn-color-icon);\n",
       "}\n",
       "\n",
       "#sk-container-id-1 label.sk-toggleable__label-arrow:hover:before {\n",
       "  color: var(--sklearn-color-text);\n",
       "}\n",
       "\n",
       "/* Toggleable content - dropdown */\n",
       "\n",
       "#sk-container-id-1 div.sk-toggleable__content {\n",
       "  max-height: 0;\n",
       "  max-width: 0;\n",
       "  overflow: hidden;\n",
       "  text-align: left;\n",
       "  /* unfitted */\n",
       "  background-color: var(--sklearn-color-unfitted-level-0);\n",
       "}\n",
       "\n",
       "#sk-container-id-1 div.sk-toggleable__content.fitted {\n",
       "  /* fitted */\n",
       "  background-color: var(--sklearn-color-fitted-level-0);\n",
       "}\n",
       "\n",
       "#sk-container-id-1 div.sk-toggleable__content pre {\n",
       "  margin: 0.2em;\n",
       "  border-radius: 0.25em;\n",
       "  color: var(--sklearn-color-text);\n",
       "  /* unfitted */\n",
       "  background-color: var(--sklearn-color-unfitted-level-0);\n",
       "}\n",
       "\n",
       "#sk-container-id-1 div.sk-toggleable__content.fitted pre {\n",
       "  /* unfitted */\n",
       "  background-color: var(--sklearn-color-fitted-level-0);\n",
       "}\n",
       "\n",
       "#sk-container-id-1 input.sk-toggleable__control:checked~div.sk-toggleable__content {\n",
       "  /* Expand drop-down */\n",
       "  max-height: 200px;\n",
       "  max-width: 100%;\n",
       "  overflow: auto;\n",
       "}\n",
       "\n",
       "#sk-container-id-1 input.sk-toggleable__control:checked~label.sk-toggleable__label-arrow:before {\n",
       "  content: \"▾\";\n",
       "}\n",
       "\n",
       "/* Pipeline/ColumnTransformer-specific style */\n",
       "\n",
       "#sk-container-id-1 div.sk-label input.sk-toggleable__control:checked~label.sk-toggleable__label {\n",
       "  color: var(--sklearn-color-text);\n",
       "  background-color: var(--sklearn-color-unfitted-level-2);\n",
       "}\n",
       "\n",
       "#sk-container-id-1 div.sk-label.fitted input.sk-toggleable__control:checked~label.sk-toggleable__label {\n",
       "  background-color: var(--sklearn-color-fitted-level-2);\n",
       "}\n",
       "\n",
       "/* Estimator-specific style */\n",
       "\n",
       "/* Colorize estimator box */\n",
       "#sk-container-id-1 div.sk-estimator input.sk-toggleable__control:checked~label.sk-toggleable__label {\n",
       "  /* unfitted */\n",
       "  background-color: var(--sklearn-color-unfitted-level-2);\n",
       "}\n",
       "\n",
       "#sk-container-id-1 div.sk-estimator.fitted input.sk-toggleable__control:checked~label.sk-toggleable__label {\n",
       "  /* fitted */\n",
       "  background-color: var(--sklearn-color-fitted-level-2);\n",
       "}\n",
       "\n",
       "#sk-container-id-1 div.sk-label label.sk-toggleable__label,\n",
       "#sk-container-id-1 div.sk-label label {\n",
       "  /* The background is the default theme color */\n",
       "  color: var(--sklearn-color-text-on-default-background);\n",
       "}\n",
       "\n",
       "/* On hover, darken the color of the background */\n",
       "#sk-container-id-1 div.sk-label:hover label.sk-toggleable__label {\n",
       "  color: var(--sklearn-color-text);\n",
       "  background-color: var(--sklearn-color-unfitted-level-2);\n",
       "}\n",
       "\n",
       "/* Label box, darken color on hover, fitted */\n",
       "#sk-container-id-1 div.sk-label.fitted:hover label.sk-toggleable__label.fitted {\n",
       "  color: var(--sklearn-color-text);\n",
       "  background-color: var(--sklearn-color-fitted-level-2);\n",
       "}\n",
       "\n",
       "/* Estimator label */\n",
       "\n",
       "#sk-container-id-1 div.sk-label label {\n",
       "  font-family: monospace;\n",
       "  font-weight: bold;\n",
       "  display: inline-block;\n",
       "  line-height: 1.2em;\n",
       "}\n",
       "\n",
       "#sk-container-id-1 div.sk-label-container {\n",
       "  text-align: center;\n",
       "}\n",
       "\n",
       "/* Estimator-specific */\n",
       "#sk-container-id-1 div.sk-estimator {\n",
       "  font-family: monospace;\n",
       "  border: 1px dotted var(--sklearn-color-border-box);\n",
       "  border-radius: 0.25em;\n",
       "  box-sizing: border-box;\n",
       "  margin-bottom: 0.5em;\n",
       "  /* unfitted */\n",
       "  background-color: var(--sklearn-color-unfitted-level-0);\n",
       "}\n",
       "\n",
       "#sk-container-id-1 div.sk-estimator.fitted {\n",
       "  /* fitted */\n",
       "  background-color: var(--sklearn-color-fitted-level-0);\n",
       "}\n",
       "\n",
       "/* on hover */\n",
       "#sk-container-id-1 div.sk-estimator:hover {\n",
       "  /* unfitted */\n",
       "  background-color: var(--sklearn-color-unfitted-level-2);\n",
       "}\n",
       "\n",
       "#sk-container-id-1 div.sk-estimator.fitted:hover {\n",
       "  /* fitted */\n",
       "  background-color: var(--sklearn-color-fitted-level-2);\n",
       "}\n",
       "\n",
       "/* Specification for estimator info (e.g. \"i\" and \"?\") */\n",
       "\n",
       "/* Common style for \"i\" and \"?\" */\n",
       "\n",
       ".sk-estimator-doc-link,\n",
       "a:link.sk-estimator-doc-link,\n",
       "a:visited.sk-estimator-doc-link {\n",
       "  float: right;\n",
       "  font-size: smaller;\n",
       "  line-height: 1em;\n",
       "  font-family: monospace;\n",
       "  background-color: var(--sklearn-color-background);\n",
       "  border-radius: 1em;\n",
       "  height: 1em;\n",
       "  width: 1em;\n",
       "  text-decoration: none !important;\n",
       "  margin-left: 1ex;\n",
       "  /* unfitted */\n",
       "  border: var(--sklearn-color-unfitted-level-1) 1pt solid;\n",
       "  color: var(--sklearn-color-unfitted-level-1);\n",
       "}\n",
       "\n",
       ".sk-estimator-doc-link.fitted,\n",
       "a:link.sk-estimator-doc-link.fitted,\n",
       "a:visited.sk-estimator-doc-link.fitted {\n",
       "  /* fitted */\n",
       "  border: var(--sklearn-color-fitted-level-1) 1pt solid;\n",
       "  color: var(--sklearn-color-fitted-level-1);\n",
       "}\n",
       "\n",
       "/* On hover */\n",
       "div.sk-estimator:hover .sk-estimator-doc-link:hover,\n",
       ".sk-estimator-doc-link:hover,\n",
       "div.sk-label-container:hover .sk-estimator-doc-link:hover,\n",
       ".sk-estimator-doc-link:hover {\n",
       "  /* unfitted */\n",
       "  background-color: var(--sklearn-color-unfitted-level-3);\n",
       "  color: var(--sklearn-color-background);\n",
       "  text-decoration: none;\n",
       "}\n",
       "\n",
       "div.sk-estimator.fitted:hover .sk-estimator-doc-link.fitted:hover,\n",
       ".sk-estimator-doc-link.fitted:hover,\n",
       "div.sk-label-container:hover .sk-estimator-doc-link.fitted:hover,\n",
       ".sk-estimator-doc-link.fitted:hover {\n",
       "  /* fitted */\n",
       "  background-color: var(--sklearn-color-fitted-level-3);\n",
       "  color: var(--sklearn-color-background);\n",
       "  text-decoration: none;\n",
       "}\n",
       "\n",
       "/* Span, style for the box shown on hovering the info icon */\n",
       ".sk-estimator-doc-link span {\n",
       "  display: none;\n",
       "  z-index: 9999;\n",
       "  position: relative;\n",
       "  font-weight: normal;\n",
       "  right: .2ex;\n",
       "  padding: .5ex;\n",
       "  margin: .5ex;\n",
       "  width: min-content;\n",
       "  min-width: 20ex;\n",
       "  max-width: 50ex;\n",
       "  color: var(--sklearn-color-text);\n",
       "  box-shadow: 2pt 2pt 4pt #999;\n",
       "  /* unfitted */\n",
       "  background: var(--sklearn-color-unfitted-level-0);\n",
       "  border: .5pt solid var(--sklearn-color-unfitted-level-3);\n",
       "}\n",
       "\n",
       ".sk-estimator-doc-link.fitted span {\n",
       "  /* fitted */\n",
       "  background: var(--sklearn-color-fitted-level-0);\n",
       "  border: var(--sklearn-color-fitted-level-3);\n",
       "}\n",
       "\n",
       ".sk-estimator-doc-link:hover span {\n",
       "  display: block;\n",
       "}\n",
       "\n",
       "/* \"?\"-specific style due to the `<a>` HTML tag */\n",
       "\n",
       "#sk-container-id-1 a.estimator_doc_link {\n",
       "  float: right;\n",
       "  font-size: 1rem;\n",
       "  line-height: 1em;\n",
       "  font-family: monospace;\n",
       "  background-color: var(--sklearn-color-background);\n",
       "  border-radius: 1rem;\n",
       "  height: 1rem;\n",
       "  width: 1rem;\n",
       "  text-decoration: none;\n",
       "  /* unfitted */\n",
       "  color: var(--sklearn-color-unfitted-level-1);\n",
       "  border: var(--sklearn-color-unfitted-level-1) 1pt solid;\n",
       "}\n",
       "\n",
       "#sk-container-id-1 a.estimator_doc_link.fitted {\n",
       "  /* fitted */\n",
       "  border: var(--sklearn-color-fitted-level-1) 1pt solid;\n",
       "  color: var(--sklearn-color-fitted-level-1);\n",
       "}\n",
       "\n",
       "/* On hover */\n",
       "#sk-container-id-1 a.estimator_doc_link:hover {\n",
       "  /* unfitted */\n",
       "  background-color: var(--sklearn-color-unfitted-level-3);\n",
       "  color: var(--sklearn-color-background);\n",
       "  text-decoration: none;\n",
       "}\n",
       "\n",
       "#sk-container-id-1 a.estimator_doc_link.fitted:hover {\n",
       "  /* fitted */\n",
       "  background-color: var(--sklearn-color-fitted-level-3);\n",
       "}\n",
       "</style><div id=\"sk-container-id-1\" class=\"sk-top-container\"><div class=\"sk-text-repr-fallback\"><pre>GridSearchCV(cv=5, estimator=Pipeline(steps=[(&#x27;model&#x27;, LinearRegression())]),\n",
       "             n_jobs=-1,\n",
       "             param_grid=[{&#x27;model&#x27;: [LinearRegression()]},\n",
       "                         {&#x27;model&#x27;: [DecisionTreeRegressor(random_state=42)],\n",
       "                          &#x27;model__max_depth&#x27;: range(1, 25),\n",
       "                          &#x27;model__min_samples_leaf&#x27;: range(1, 10),\n",
       "                          &#x27;model__min_samples_split&#x27;: range(2, 10)}],\n",
       "             scoring=make_scorer(smape, greater_is_better=False, response_method=&#x27;predict&#x27;))</pre><b>In a Jupyter environment, please rerun this cell to show the HTML representation or trust the notebook. <br />On GitHub, the HTML representation is unable to render, please try loading this page with nbviewer.org.</b></div><div class=\"sk-container\" hidden><div class=\"sk-item sk-dashed-wrapped\"><div class=\"sk-label-container\"><div class=\"sk-label fitted sk-toggleable\"><input class=\"sk-toggleable__control sk-hidden--visually\" id=\"sk-estimator-id-1\" type=\"checkbox\" ><label for=\"sk-estimator-id-1\" class=\"sk-toggleable__label fitted sk-toggleable__label-arrow fitted\">&nbsp;&nbsp;GridSearchCV<a class=\"sk-estimator-doc-link fitted\" rel=\"noreferrer\" target=\"_blank\" href=\"https://scikit-learn.org/1.5/modules/generated/sklearn.model_selection.GridSearchCV.html\">?<span>Documentation for GridSearchCV</span></a><span class=\"sk-estimator-doc-link fitted\">i<span>Fitted</span></span></label><div class=\"sk-toggleable__content fitted\"><pre>GridSearchCV(cv=5, estimator=Pipeline(steps=[(&#x27;model&#x27;, LinearRegression())]),\n",
       "             n_jobs=-1,\n",
       "             param_grid=[{&#x27;model&#x27;: [LinearRegression()]},\n",
       "                         {&#x27;model&#x27;: [DecisionTreeRegressor(random_state=42)],\n",
       "                          &#x27;model__max_depth&#x27;: range(1, 25),\n",
       "                          &#x27;model__min_samples_leaf&#x27;: range(1, 10),\n",
       "                          &#x27;model__min_samples_split&#x27;: range(2, 10)}],\n",
       "             scoring=make_scorer(smape, greater_is_better=False, response_method=&#x27;predict&#x27;))</pre></div> </div></div><div class=\"sk-parallel\"><div class=\"sk-parallel-item\"><div class=\"sk-item\"><div class=\"sk-label-container\"><div class=\"sk-label fitted sk-toggleable\"><input class=\"sk-toggleable__control sk-hidden--visually\" id=\"sk-estimator-id-2\" type=\"checkbox\" ><label for=\"sk-estimator-id-2\" class=\"sk-toggleable__label fitted sk-toggleable__label-arrow fitted\">best_estimator_: Pipeline</label><div class=\"sk-toggleable__content fitted\"><pre>Pipeline(steps=[(&#x27;model&#x27;,\n",
       "                 DecisionTreeRegressor(max_depth=20, min_samples_split=8,\n",
       "                                       random_state=42))])</pre></div> </div></div><div class=\"sk-serial\"><div class=\"sk-item\"><div class=\"sk-serial\"><div class=\"sk-item\"><div class=\"sk-estimator fitted sk-toggleable\"><input class=\"sk-toggleable__control sk-hidden--visually\" id=\"sk-estimator-id-3\" type=\"checkbox\" ><label for=\"sk-estimator-id-3\" class=\"sk-toggleable__label fitted sk-toggleable__label-arrow fitted\">&nbsp;DecisionTreeRegressor<a class=\"sk-estimator-doc-link fitted\" rel=\"noreferrer\" target=\"_blank\" href=\"https://scikit-learn.org/1.5/modules/generated/sklearn.tree.DecisionTreeRegressor.html\">?<span>Documentation for DecisionTreeRegressor</span></a></label><div class=\"sk-toggleable__content fitted\"><pre>DecisionTreeRegressor(max_depth=20, min_samples_split=8, random_state=42)</pre></div> </div></div></div></div></div></div></div></div></div></div></div>"
      ],
      "text/plain": [
       "GridSearchCV(cv=5, estimator=Pipeline(steps=[('model', LinearRegression())]),\n",
       "             n_jobs=-1,\n",
       "             param_grid=[{'model': [LinearRegression()]},\n",
       "                         {'model': [DecisionTreeRegressor(random_state=42)],\n",
       "                          'model__max_depth': range(1, 25),\n",
       "                          'model__min_samples_leaf': range(1, 10),\n",
       "                          'model__min_samples_split': range(2, 10)}],\n",
       "             scoring=make_scorer(smape, greater_is_better=False, response_method='predict'))"
      ]
     },
     "execution_count": 49,
     "metadata": {},
     "output_type": "execute_result"
    }
   ],
   "source": [
    "%%time\n",
    "grid_search.fit(X_transformed, y)"
   ]
  },
  {
   "cell_type": "code",
   "execution_count": 50,
   "id": "2f271100",
   "metadata": {},
   "outputs": [
    {
     "name": "stdout",
     "output_type": "stream",
     "text": [
      "метрика SMAPE у лучшей модели - 15.0384153272308\n"
     ]
    }
   ],
   "source": [
    "print(f'метрика SMAPE у лучшей модели - {grid_search.best_score_ * -1}')"
   ]
  },
  {
   "cell_type": "code",
   "execution_count": 51,
   "id": "5637c530",
   "metadata": {},
   "outputs": [
    {
     "data": {
      "text/plain": [
       "{'model': DecisionTreeRegressor(random_state=42),\n",
       " 'model__max_depth': 20,\n",
       " 'model__min_samples_leaf': 1,\n",
       " 'model__min_samples_split': 8}"
      ]
     },
     "execution_count": 51,
     "metadata": {},
     "output_type": "execute_result"
    }
   ],
   "source": [
    "grid_search.best_params_"
   ]
  },
  {
   "cell_type": "markdown",
   "id": "04514cd6",
   "metadata": {},
   "source": [
    "Параметры модели, лучше всего справляющейся с предсказаниями: Дерево решений, max_depth=18, min_samples_split=2, min_samples_leaf=3"
   ]
  },
  {
   "cell_type": "markdown",
   "id": "99208506",
   "metadata": {},
   "source": [
    "### Оформление выводов"
   ]
  },
  {
   "cell_type": "markdown",
   "id": "5aa65b4c",
   "metadata": {},
   "source": [
    "Возьмем модель с худшей метрикой smape и сравним значения важности признаков с деревом решений"
   ]
  },
  {
   "cell_type": "code",
   "execution_count": 52,
   "id": "9979d02d",
   "metadata": {},
   "outputs": [],
   "source": [
    "y_pred = grid_search.predict(X_test_transformed)"
   ]
  },
  {
   "cell_type": "code",
   "execution_count": 53,
   "id": "d8493ed2",
   "metadata": {},
   "outputs": [],
   "source": [
    "result_df = pd.DataFrame(grid_search.cv_results_)"
   ]
  },
  {
   "cell_type": "code",
   "execution_count": 54,
   "id": "48e49888",
   "metadata": {},
   "outputs": [
    {
     "data": {
      "text/html": [
       "<div>\n",
       "<style scoped>\n",
       "    .dataframe tbody tr th:only-of-type {\n",
       "        vertical-align: middle;\n",
       "    }\n",
       "\n",
       "    .dataframe tbody tr th {\n",
       "        vertical-align: top;\n",
       "    }\n",
       "\n",
       "    .dataframe thead th {\n",
       "        text-align: right;\n",
       "    }\n",
       "</style>\n",
       "<table border=\"1\" class=\"dataframe\">\n",
       "  <thead>\n",
       "    <tr style=\"text-align: right;\">\n",
       "      <th></th>\n",
       "      <th>mean_fit_time</th>\n",
       "      <th>std_fit_time</th>\n",
       "      <th>mean_score_time</th>\n",
       "      <th>std_score_time</th>\n",
       "      <th>param_model</th>\n",
       "      <th>param_model__max_depth</th>\n",
       "      <th>param_model__min_samples_leaf</th>\n",
       "      <th>param_model__min_samples_split</th>\n",
       "      <th>params</th>\n",
       "      <th>split0_test_score</th>\n",
       "      <th>split1_test_score</th>\n",
       "      <th>split2_test_score</th>\n",
       "      <th>split3_test_score</th>\n",
       "      <th>split4_test_score</th>\n",
       "      <th>mean_test_score</th>\n",
       "      <th>std_test_score</th>\n",
       "      <th>rank_test_score</th>\n",
       "    </tr>\n",
       "  </thead>\n",
       "  <tbody>\n",
       "    <tr>\n",
       "      <th>0</th>\n",
       "      <td>0.002260</td>\n",
       "      <td>0.000353</td>\n",
       "      <td>0.000306</td>\n",
       "      <td>0.000035</td>\n",
       "      <td>LinearRegression()</td>\n",
       "      <td>NaN</td>\n",
       "      <td>NaN</td>\n",
       "      <td>NaN</td>\n",
       "      <td>{'model': LinearRegression()}</td>\n",
       "      <td>-25.206527</td>\n",
       "      <td>-24.859881</td>\n",
       "      <td>-26.082386</td>\n",
       "      <td>-25.083587</td>\n",
       "      <td>-23.700211</td>\n",
       "      <td>-24.986518</td>\n",
       "      <td>0.765425</td>\n",
       "      <td>1657</td>\n",
       "    </tr>\n",
       "    <tr>\n",
       "      <th>1</th>\n",
       "      <td>0.001870</td>\n",
       "      <td>0.000131</td>\n",
       "      <td>0.000331</td>\n",
       "      <td>0.000017</td>\n",
       "      <td>DecisionTreeRegressor(random_state=42)</td>\n",
       "      <td>1.0</td>\n",
       "      <td>1.0</td>\n",
       "      <td>2.0</td>\n",
       "      <td>{'model': DecisionTreeRegressor(random_state=4...</td>\n",
       "      <td>-26.413701</td>\n",
       "      <td>-25.155592</td>\n",
       "      <td>-26.215378</td>\n",
       "      <td>-26.064616</td>\n",
       "      <td>-24.953016</td>\n",
       "      <td>-25.760461</td>\n",
       "      <td>0.590595</td>\n",
       "      <td>1658</td>\n",
       "    </tr>\n",
       "    <tr>\n",
       "      <th>2</th>\n",
       "      <td>0.014305</td>\n",
       "      <td>0.024990</td>\n",
       "      <td>0.000411</td>\n",
       "      <td>0.000113</td>\n",
       "      <td>DecisionTreeRegressor(random_state=42)</td>\n",
       "      <td>1.0</td>\n",
       "      <td>1.0</td>\n",
       "      <td>3.0</td>\n",
       "      <td>{'model': DecisionTreeRegressor(random_state=4...</td>\n",
       "      <td>-26.413701</td>\n",
       "      <td>-25.155592</td>\n",
       "      <td>-26.215378</td>\n",
       "      <td>-26.064616</td>\n",
       "      <td>-24.953016</td>\n",
       "      <td>-25.760461</td>\n",
       "      <td>0.590595</td>\n",
       "      <td>1658</td>\n",
       "    </tr>\n",
       "    <tr>\n",
       "      <th>3</th>\n",
       "      <td>0.002803</td>\n",
       "      <td>0.000197</td>\n",
       "      <td>0.000468</td>\n",
       "      <td>0.000067</td>\n",
       "      <td>DecisionTreeRegressor(random_state=42)</td>\n",
       "      <td>1.0</td>\n",
       "      <td>1.0</td>\n",
       "      <td>4.0</td>\n",
       "      <td>{'model': DecisionTreeRegressor(random_state=4...</td>\n",
       "      <td>-26.413701</td>\n",
       "      <td>-25.155592</td>\n",
       "      <td>-26.215378</td>\n",
       "      <td>-26.064616</td>\n",
       "      <td>-24.953016</td>\n",
       "      <td>-25.760461</td>\n",
       "      <td>0.590595</td>\n",
       "      <td>1658</td>\n",
       "    </tr>\n",
       "    <tr>\n",
       "      <th>4</th>\n",
       "      <td>0.015598</td>\n",
       "      <td>0.026501</td>\n",
       "      <td>0.000435</td>\n",
       "      <td>0.000101</td>\n",
       "      <td>DecisionTreeRegressor(random_state=42)</td>\n",
       "      <td>1.0</td>\n",
       "      <td>1.0</td>\n",
       "      <td>5.0</td>\n",
       "      <td>{'model': DecisionTreeRegressor(random_state=4...</td>\n",
       "      <td>-26.413701</td>\n",
       "      <td>-25.155592</td>\n",
       "      <td>-26.215378</td>\n",
       "      <td>-26.064616</td>\n",
       "      <td>-24.953016</td>\n",
       "      <td>-25.760461</td>\n",
       "      <td>0.590595</td>\n",
       "      <td>1658</td>\n",
       "    </tr>\n",
       "  </tbody>\n",
       "</table>\n",
       "</div>"
      ],
      "text/plain": [
       "   mean_fit_time  std_fit_time  mean_score_time  std_score_time  \\\n",
       "0       0.002260      0.000353         0.000306        0.000035   \n",
       "1       0.001870      0.000131         0.000331        0.000017   \n",
       "2       0.014305      0.024990         0.000411        0.000113   \n",
       "3       0.002803      0.000197         0.000468        0.000067   \n",
       "4       0.015598      0.026501         0.000435        0.000101   \n",
       "\n",
       "                              param_model  param_model__max_depth  \\\n",
       "0                      LinearRegression()                     NaN   \n",
       "1  DecisionTreeRegressor(random_state=42)                     1.0   \n",
       "2  DecisionTreeRegressor(random_state=42)                     1.0   \n",
       "3  DecisionTreeRegressor(random_state=42)                     1.0   \n",
       "4  DecisionTreeRegressor(random_state=42)                     1.0   \n",
       "\n",
       "   param_model__min_samples_leaf  param_model__min_samples_split  \\\n",
       "0                            NaN                             NaN   \n",
       "1                            1.0                             2.0   \n",
       "2                            1.0                             3.0   \n",
       "3                            1.0                             4.0   \n",
       "4                            1.0                             5.0   \n",
       "\n",
       "                                              params  split0_test_score  \\\n",
       "0                      {'model': LinearRegression()}         -25.206527   \n",
       "1  {'model': DecisionTreeRegressor(random_state=4...         -26.413701   \n",
       "2  {'model': DecisionTreeRegressor(random_state=4...         -26.413701   \n",
       "3  {'model': DecisionTreeRegressor(random_state=4...         -26.413701   \n",
       "4  {'model': DecisionTreeRegressor(random_state=4...         -26.413701   \n",
       "\n",
       "   split1_test_score  split2_test_score  split3_test_score  split4_test_score  \\\n",
       "0         -24.859881         -26.082386         -25.083587         -23.700211   \n",
       "1         -25.155592         -26.215378         -26.064616         -24.953016   \n",
       "2         -25.155592         -26.215378         -26.064616         -24.953016   \n",
       "3         -25.155592         -26.215378         -26.064616         -24.953016   \n",
       "4         -25.155592         -26.215378         -26.064616         -24.953016   \n",
       "\n",
       "   mean_test_score  std_test_score  rank_test_score  \n",
       "0       -24.986518        0.765425             1657  \n",
       "1       -25.760461        0.590595             1658  \n",
       "2       -25.760461        0.590595             1658  \n",
       "3       -25.760461        0.590595             1658  \n",
       "4       -25.760461        0.590595             1658  "
      ]
     },
     "execution_count": 54,
     "metadata": {},
     "output_type": "execute_result"
    }
   ],
   "source": [
    "result_df.head()"
   ]
  },
  {
   "cell_type": "code",
   "execution_count": 55,
   "id": "15be4236",
   "metadata": {},
   "outputs": [],
   "source": [
    "linreg = LinearRegression()"
   ]
  },
  {
   "cell_type": "code",
   "execution_count": 56,
   "id": "bd0d9fb5",
   "metadata": {},
   "outputs": [],
   "source": [
    "tree = grid_search.best_estimator_.named_steps['model']"
   ]
  },
  {
   "cell_type": "code",
   "execution_count": 57,
   "id": "8d5b6318",
   "metadata": {},
   "outputs": [
    {
     "data": {
      "text/html": [
       "<style>#sk-container-id-2 {\n",
       "  /* Definition of color scheme common for light and dark mode */\n",
       "  --sklearn-color-text: black;\n",
       "  --sklearn-color-line: gray;\n",
       "  /* Definition of color scheme for unfitted estimators */\n",
       "  --sklearn-color-unfitted-level-0: #fff5e6;\n",
       "  --sklearn-color-unfitted-level-1: #f6e4d2;\n",
       "  --sklearn-color-unfitted-level-2: #ffe0b3;\n",
       "  --sklearn-color-unfitted-level-3: chocolate;\n",
       "  /* Definition of color scheme for fitted estimators */\n",
       "  --sklearn-color-fitted-level-0: #f0f8ff;\n",
       "  --sklearn-color-fitted-level-1: #d4ebff;\n",
       "  --sklearn-color-fitted-level-2: #b3dbfd;\n",
       "  --sklearn-color-fitted-level-3: cornflowerblue;\n",
       "\n",
       "  /* Specific color for light theme */\n",
       "  --sklearn-color-text-on-default-background: var(--sg-text-color, var(--theme-code-foreground, var(--jp-content-font-color1, black)));\n",
       "  --sklearn-color-background: var(--sg-background-color, var(--theme-background, var(--jp-layout-color0, white)));\n",
       "  --sklearn-color-border-box: var(--sg-text-color, var(--theme-code-foreground, var(--jp-content-font-color1, black)));\n",
       "  --sklearn-color-icon: #696969;\n",
       "\n",
       "  @media (prefers-color-scheme: dark) {\n",
       "    /* Redefinition of color scheme for dark theme */\n",
       "    --sklearn-color-text-on-default-background: var(--sg-text-color, var(--theme-code-foreground, var(--jp-content-font-color1, white)));\n",
       "    --sklearn-color-background: var(--sg-background-color, var(--theme-background, var(--jp-layout-color0, #111)));\n",
       "    --sklearn-color-border-box: var(--sg-text-color, var(--theme-code-foreground, var(--jp-content-font-color1, white)));\n",
       "    --sklearn-color-icon: #878787;\n",
       "  }\n",
       "}\n",
       "\n",
       "#sk-container-id-2 {\n",
       "  color: var(--sklearn-color-text);\n",
       "}\n",
       "\n",
       "#sk-container-id-2 pre {\n",
       "  padding: 0;\n",
       "}\n",
       "\n",
       "#sk-container-id-2 input.sk-hidden--visually {\n",
       "  border: 0;\n",
       "  clip: rect(1px 1px 1px 1px);\n",
       "  clip: rect(1px, 1px, 1px, 1px);\n",
       "  height: 1px;\n",
       "  margin: -1px;\n",
       "  overflow: hidden;\n",
       "  padding: 0;\n",
       "  position: absolute;\n",
       "  width: 1px;\n",
       "}\n",
       "\n",
       "#sk-container-id-2 div.sk-dashed-wrapped {\n",
       "  border: 1px dashed var(--sklearn-color-line);\n",
       "  margin: 0 0.4em 0.5em 0.4em;\n",
       "  box-sizing: border-box;\n",
       "  padding-bottom: 0.4em;\n",
       "  background-color: var(--sklearn-color-background);\n",
       "}\n",
       "\n",
       "#sk-container-id-2 div.sk-container {\n",
       "  /* jupyter's `normalize.less` sets `[hidden] { display: none; }`\n",
       "     but bootstrap.min.css set `[hidden] { display: none !important; }`\n",
       "     so we also need the `!important` here to be able to override the\n",
       "     default hidden behavior on the sphinx rendered scikit-learn.org.\n",
       "     See: https://github.com/scikit-learn/scikit-learn/issues/21755 */\n",
       "  display: inline-block !important;\n",
       "  position: relative;\n",
       "}\n",
       "\n",
       "#sk-container-id-2 div.sk-text-repr-fallback {\n",
       "  display: none;\n",
       "}\n",
       "\n",
       "div.sk-parallel-item,\n",
       "div.sk-serial,\n",
       "div.sk-item {\n",
       "  /* draw centered vertical line to link estimators */\n",
       "  background-image: linear-gradient(var(--sklearn-color-text-on-default-background), var(--sklearn-color-text-on-default-background));\n",
       "  background-size: 2px 100%;\n",
       "  background-repeat: no-repeat;\n",
       "  background-position: center center;\n",
       "}\n",
       "\n",
       "/* Parallel-specific style estimator block */\n",
       "\n",
       "#sk-container-id-2 div.sk-parallel-item::after {\n",
       "  content: \"\";\n",
       "  width: 100%;\n",
       "  border-bottom: 2px solid var(--sklearn-color-text-on-default-background);\n",
       "  flex-grow: 1;\n",
       "}\n",
       "\n",
       "#sk-container-id-2 div.sk-parallel {\n",
       "  display: flex;\n",
       "  align-items: stretch;\n",
       "  justify-content: center;\n",
       "  background-color: var(--sklearn-color-background);\n",
       "  position: relative;\n",
       "}\n",
       "\n",
       "#sk-container-id-2 div.sk-parallel-item {\n",
       "  display: flex;\n",
       "  flex-direction: column;\n",
       "}\n",
       "\n",
       "#sk-container-id-2 div.sk-parallel-item:first-child::after {\n",
       "  align-self: flex-end;\n",
       "  width: 50%;\n",
       "}\n",
       "\n",
       "#sk-container-id-2 div.sk-parallel-item:last-child::after {\n",
       "  align-self: flex-start;\n",
       "  width: 50%;\n",
       "}\n",
       "\n",
       "#sk-container-id-2 div.sk-parallel-item:only-child::after {\n",
       "  width: 0;\n",
       "}\n",
       "\n",
       "/* Serial-specific style estimator block */\n",
       "\n",
       "#sk-container-id-2 div.sk-serial {\n",
       "  display: flex;\n",
       "  flex-direction: column;\n",
       "  align-items: center;\n",
       "  background-color: var(--sklearn-color-background);\n",
       "  padding-right: 1em;\n",
       "  padding-left: 1em;\n",
       "}\n",
       "\n",
       "\n",
       "/* Toggleable style: style used for estimator/Pipeline/ColumnTransformer box that is\n",
       "clickable and can be expanded/collapsed.\n",
       "- Pipeline and ColumnTransformer use this feature and define the default style\n",
       "- Estimators will overwrite some part of the style using the `sk-estimator` class\n",
       "*/\n",
       "\n",
       "/* Pipeline and ColumnTransformer style (default) */\n",
       "\n",
       "#sk-container-id-2 div.sk-toggleable {\n",
       "  /* Default theme specific background. It is overwritten whether we have a\n",
       "  specific estimator or a Pipeline/ColumnTransformer */\n",
       "  background-color: var(--sklearn-color-background);\n",
       "}\n",
       "\n",
       "/* Toggleable label */\n",
       "#sk-container-id-2 label.sk-toggleable__label {\n",
       "  cursor: pointer;\n",
       "  display: block;\n",
       "  width: 100%;\n",
       "  margin-bottom: 0;\n",
       "  padding: 0.5em;\n",
       "  box-sizing: border-box;\n",
       "  text-align: center;\n",
       "}\n",
       "\n",
       "#sk-container-id-2 label.sk-toggleable__label-arrow:before {\n",
       "  /* Arrow on the left of the label */\n",
       "  content: \"▸\";\n",
       "  float: left;\n",
       "  margin-right: 0.25em;\n",
       "  color: var(--sklearn-color-icon);\n",
       "}\n",
       "\n",
       "#sk-container-id-2 label.sk-toggleable__label-arrow:hover:before {\n",
       "  color: var(--sklearn-color-text);\n",
       "}\n",
       "\n",
       "/* Toggleable content - dropdown */\n",
       "\n",
       "#sk-container-id-2 div.sk-toggleable__content {\n",
       "  max-height: 0;\n",
       "  max-width: 0;\n",
       "  overflow: hidden;\n",
       "  text-align: left;\n",
       "  /* unfitted */\n",
       "  background-color: var(--sklearn-color-unfitted-level-0);\n",
       "}\n",
       "\n",
       "#sk-container-id-2 div.sk-toggleable__content.fitted {\n",
       "  /* fitted */\n",
       "  background-color: var(--sklearn-color-fitted-level-0);\n",
       "}\n",
       "\n",
       "#sk-container-id-2 div.sk-toggleable__content pre {\n",
       "  margin: 0.2em;\n",
       "  border-radius: 0.25em;\n",
       "  color: var(--sklearn-color-text);\n",
       "  /* unfitted */\n",
       "  background-color: var(--sklearn-color-unfitted-level-0);\n",
       "}\n",
       "\n",
       "#sk-container-id-2 div.sk-toggleable__content.fitted pre {\n",
       "  /* unfitted */\n",
       "  background-color: var(--sklearn-color-fitted-level-0);\n",
       "}\n",
       "\n",
       "#sk-container-id-2 input.sk-toggleable__control:checked~div.sk-toggleable__content {\n",
       "  /* Expand drop-down */\n",
       "  max-height: 200px;\n",
       "  max-width: 100%;\n",
       "  overflow: auto;\n",
       "}\n",
       "\n",
       "#sk-container-id-2 input.sk-toggleable__control:checked~label.sk-toggleable__label-arrow:before {\n",
       "  content: \"▾\";\n",
       "}\n",
       "\n",
       "/* Pipeline/ColumnTransformer-specific style */\n",
       "\n",
       "#sk-container-id-2 div.sk-label input.sk-toggleable__control:checked~label.sk-toggleable__label {\n",
       "  color: var(--sklearn-color-text);\n",
       "  background-color: var(--sklearn-color-unfitted-level-2);\n",
       "}\n",
       "\n",
       "#sk-container-id-2 div.sk-label.fitted input.sk-toggleable__control:checked~label.sk-toggleable__label {\n",
       "  background-color: var(--sklearn-color-fitted-level-2);\n",
       "}\n",
       "\n",
       "/* Estimator-specific style */\n",
       "\n",
       "/* Colorize estimator box */\n",
       "#sk-container-id-2 div.sk-estimator input.sk-toggleable__control:checked~label.sk-toggleable__label {\n",
       "  /* unfitted */\n",
       "  background-color: var(--sklearn-color-unfitted-level-2);\n",
       "}\n",
       "\n",
       "#sk-container-id-2 div.sk-estimator.fitted input.sk-toggleable__control:checked~label.sk-toggleable__label {\n",
       "  /* fitted */\n",
       "  background-color: var(--sklearn-color-fitted-level-2);\n",
       "}\n",
       "\n",
       "#sk-container-id-2 div.sk-label label.sk-toggleable__label,\n",
       "#sk-container-id-2 div.sk-label label {\n",
       "  /* The background is the default theme color */\n",
       "  color: var(--sklearn-color-text-on-default-background);\n",
       "}\n",
       "\n",
       "/* On hover, darken the color of the background */\n",
       "#sk-container-id-2 div.sk-label:hover label.sk-toggleable__label {\n",
       "  color: var(--sklearn-color-text);\n",
       "  background-color: var(--sklearn-color-unfitted-level-2);\n",
       "}\n",
       "\n",
       "/* Label box, darken color on hover, fitted */\n",
       "#sk-container-id-2 div.sk-label.fitted:hover label.sk-toggleable__label.fitted {\n",
       "  color: var(--sklearn-color-text);\n",
       "  background-color: var(--sklearn-color-fitted-level-2);\n",
       "}\n",
       "\n",
       "/* Estimator label */\n",
       "\n",
       "#sk-container-id-2 div.sk-label label {\n",
       "  font-family: monospace;\n",
       "  font-weight: bold;\n",
       "  display: inline-block;\n",
       "  line-height: 1.2em;\n",
       "}\n",
       "\n",
       "#sk-container-id-2 div.sk-label-container {\n",
       "  text-align: center;\n",
       "}\n",
       "\n",
       "/* Estimator-specific */\n",
       "#sk-container-id-2 div.sk-estimator {\n",
       "  font-family: monospace;\n",
       "  border: 1px dotted var(--sklearn-color-border-box);\n",
       "  border-radius: 0.25em;\n",
       "  box-sizing: border-box;\n",
       "  margin-bottom: 0.5em;\n",
       "  /* unfitted */\n",
       "  background-color: var(--sklearn-color-unfitted-level-0);\n",
       "}\n",
       "\n",
       "#sk-container-id-2 div.sk-estimator.fitted {\n",
       "  /* fitted */\n",
       "  background-color: var(--sklearn-color-fitted-level-0);\n",
       "}\n",
       "\n",
       "/* on hover */\n",
       "#sk-container-id-2 div.sk-estimator:hover {\n",
       "  /* unfitted */\n",
       "  background-color: var(--sklearn-color-unfitted-level-2);\n",
       "}\n",
       "\n",
       "#sk-container-id-2 div.sk-estimator.fitted:hover {\n",
       "  /* fitted */\n",
       "  background-color: var(--sklearn-color-fitted-level-2);\n",
       "}\n",
       "\n",
       "/* Specification for estimator info (e.g. \"i\" and \"?\") */\n",
       "\n",
       "/* Common style for \"i\" and \"?\" */\n",
       "\n",
       ".sk-estimator-doc-link,\n",
       "a:link.sk-estimator-doc-link,\n",
       "a:visited.sk-estimator-doc-link {\n",
       "  float: right;\n",
       "  font-size: smaller;\n",
       "  line-height: 1em;\n",
       "  font-family: monospace;\n",
       "  background-color: var(--sklearn-color-background);\n",
       "  border-radius: 1em;\n",
       "  height: 1em;\n",
       "  width: 1em;\n",
       "  text-decoration: none !important;\n",
       "  margin-left: 1ex;\n",
       "  /* unfitted */\n",
       "  border: var(--sklearn-color-unfitted-level-1) 1pt solid;\n",
       "  color: var(--sklearn-color-unfitted-level-1);\n",
       "}\n",
       "\n",
       ".sk-estimator-doc-link.fitted,\n",
       "a:link.sk-estimator-doc-link.fitted,\n",
       "a:visited.sk-estimator-doc-link.fitted {\n",
       "  /* fitted */\n",
       "  border: var(--sklearn-color-fitted-level-1) 1pt solid;\n",
       "  color: var(--sklearn-color-fitted-level-1);\n",
       "}\n",
       "\n",
       "/* On hover */\n",
       "div.sk-estimator:hover .sk-estimator-doc-link:hover,\n",
       ".sk-estimator-doc-link:hover,\n",
       "div.sk-label-container:hover .sk-estimator-doc-link:hover,\n",
       ".sk-estimator-doc-link:hover {\n",
       "  /* unfitted */\n",
       "  background-color: var(--sklearn-color-unfitted-level-3);\n",
       "  color: var(--sklearn-color-background);\n",
       "  text-decoration: none;\n",
       "}\n",
       "\n",
       "div.sk-estimator.fitted:hover .sk-estimator-doc-link.fitted:hover,\n",
       ".sk-estimator-doc-link.fitted:hover,\n",
       "div.sk-label-container:hover .sk-estimator-doc-link.fitted:hover,\n",
       ".sk-estimator-doc-link.fitted:hover {\n",
       "  /* fitted */\n",
       "  background-color: var(--sklearn-color-fitted-level-3);\n",
       "  color: var(--sklearn-color-background);\n",
       "  text-decoration: none;\n",
       "}\n",
       "\n",
       "/* Span, style for the box shown on hovering the info icon */\n",
       ".sk-estimator-doc-link span {\n",
       "  display: none;\n",
       "  z-index: 9999;\n",
       "  position: relative;\n",
       "  font-weight: normal;\n",
       "  right: .2ex;\n",
       "  padding: .5ex;\n",
       "  margin: .5ex;\n",
       "  width: min-content;\n",
       "  min-width: 20ex;\n",
       "  max-width: 50ex;\n",
       "  color: var(--sklearn-color-text);\n",
       "  box-shadow: 2pt 2pt 4pt #999;\n",
       "  /* unfitted */\n",
       "  background: var(--sklearn-color-unfitted-level-0);\n",
       "  border: .5pt solid var(--sklearn-color-unfitted-level-3);\n",
       "}\n",
       "\n",
       ".sk-estimator-doc-link.fitted span {\n",
       "  /* fitted */\n",
       "  background: var(--sklearn-color-fitted-level-0);\n",
       "  border: var(--sklearn-color-fitted-level-3);\n",
       "}\n",
       "\n",
       ".sk-estimator-doc-link:hover span {\n",
       "  display: block;\n",
       "}\n",
       "\n",
       "/* \"?\"-specific style due to the `<a>` HTML tag */\n",
       "\n",
       "#sk-container-id-2 a.estimator_doc_link {\n",
       "  float: right;\n",
       "  font-size: 1rem;\n",
       "  line-height: 1em;\n",
       "  font-family: monospace;\n",
       "  background-color: var(--sklearn-color-background);\n",
       "  border-radius: 1rem;\n",
       "  height: 1rem;\n",
       "  width: 1rem;\n",
       "  text-decoration: none;\n",
       "  /* unfitted */\n",
       "  color: var(--sklearn-color-unfitted-level-1);\n",
       "  border: var(--sklearn-color-unfitted-level-1) 1pt solid;\n",
       "}\n",
       "\n",
       "#sk-container-id-2 a.estimator_doc_link.fitted {\n",
       "  /* fitted */\n",
       "  border: var(--sklearn-color-fitted-level-1) 1pt solid;\n",
       "  color: var(--sklearn-color-fitted-level-1);\n",
       "}\n",
       "\n",
       "/* On hover */\n",
       "#sk-container-id-2 a.estimator_doc_link:hover {\n",
       "  /* unfitted */\n",
       "  background-color: var(--sklearn-color-unfitted-level-3);\n",
       "  color: var(--sklearn-color-background);\n",
       "  text-decoration: none;\n",
       "}\n",
       "\n",
       "#sk-container-id-2 a.estimator_doc_link.fitted:hover {\n",
       "  /* fitted */\n",
       "  background-color: var(--sklearn-color-fitted-level-3);\n",
       "}\n",
       "</style><div id=\"sk-container-id-2\" class=\"sk-top-container\"><div class=\"sk-text-repr-fallback\"><pre>DecisionTreeRegressor(max_depth=20, min_samples_split=8, random_state=42)</pre><b>In a Jupyter environment, please rerun this cell to show the HTML representation or trust the notebook. <br />On GitHub, the HTML representation is unable to render, please try loading this page with nbviewer.org.</b></div><div class=\"sk-container\" hidden><div class=\"sk-item\"><div class=\"sk-estimator fitted sk-toggleable\"><input class=\"sk-toggleable__control sk-hidden--visually\" id=\"sk-estimator-id-4\" type=\"checkbox\" checked><label for=\"sk-estimator-id-4\" class=\"sk-toggleable__label fitted sk-toggleable__label-arrow fitted\">&nbsp;&nbsp;DecisionTreeRegressor<a class=\"sk-estimator-doc-link fitted\" rel=\"noreferrer\" target=\"_blank\" href=\"https://scikit-learn.org/1.5/modules/generated/sklearn.tree.DecisionTreeRegressor.html\">?<span>Documentation for DecisionTreeRegressor</span></a><span class=\"sk-estimator-doc-link fitted\">i<span>Fitted</span></span></label><div class=\"sk-toggleable__content fitted\"><pre>DecisionTreeRegressor(max_depth=20, min_samples_split=8, random_state=42)</pre></div> </div></div></div></div>"
      ],
      "text/plain": [
       "DecisionTreeRegressor(max_depth=20, min_samples_split=8, random_state=42)"
      ]
     },
     "execution_count": 57,
     "metadata": {},
     "output_type": "execute_result"
    }
   ],
   "source": [
    "linreg.fit(X_transformed, y)\n",
    "tree.fit(X_transformed, y)"
   ]
  },
  {
   "cell_type": "code",
   "execution_count": 58,
   "id": "13911af2",
   "metadata": {},
   "outputs": [],
   "source": [
    "y_pred = linreg.predict(X_test_transformed)"
   ]
  },
  {
   "cell_type": "code",
   "execution_count": 59,
   "id": "52a7c818",
   "metadata": {},
   "outputs": [
    {
     "data": {
      "image/png": "[encoded data removed]",
      "text/plain": [
       "<Figure size 864x432 with 1 Axes>"
      ]
     },
     "metadata": {
      "needs_background": "light"
     },
     "output_type": "display_data"
    }
   ],
   "source": [
    "linear_importances = np.abs(linreg.coef_)\n",
    "tree_importances = tree.feature_importances_\n",
    "\n",
    "importance_df = pd.DataFrame({\n",
    "    'Feature': data_preprocessor.get_feature_names_out(),\n",
    "    'Linear Regression': linear_importances,\n",
    "    'Decision Tree': tree_importances\n",
    "})\n",
    "\n",
    "importance_df = importance_df.set_index('Feature').sort_values(by='Linear Regression', ascending=False)\n",
    "\n",
    "fig, ax = plt.subplots(figsize=(12, 6))\n",
    "\n",
    "importance_df[['Linear Regression', 'Decision Tree']].plot(kind='bar', ax=ax)\n",
    "plt.title('Сравнение важности признаков')\n",
    "plt.xlabel('Признаки')\n",
    "plt.ylabel('Важность')\n",
    "plt.xticks(rotation=45)\n",
    "plt.legend(title='Модель')\n",
    "plt.tight_layout()\n",
    "plt.show()"
   ]
  },
  {
   "cell_type": "markdown",
   "id": "634da059",
   "metadata": {},
   "source": [
    "В отличие от линейной регрессии, дерево решений предавало значительно меньший вес такому параметру, как зарплата. Это помогло минимизировать smape"
   ]
  },
  {
   "cell_type": "markdown",
   "id": "9371cf07",
   "metadata": {},
   "source": [
    "## Задача 2: предсказание увольнения сотрудника из компании"
   ]
  },
  {
   "cell_type": "markdown",
   "id": "336a4baf",
   "metadata": {},
   "source": [
    " ### Загрузка данных"
   ]
  },
  {
   "cell_type": "code",
   "execution_count": 60,
   "id": "be541264",
   "metadata": {},
   "outputs": [],
   "source": [
    "quit_train = pd.read_csv('/datasets/train_quit.csv')\n",
    "test_target = pd.read_csv('/datasets/test_target_quit.csv')"
   ]
  },
  {
   "cell_type": "code",
   "execution_count": 61,
   "id": "8beea333",
   "metadata": {},
   "outputs": [
    {
     "data": {
      "text/html": [
       "<div>\n",
       "<style scoped>\n",
       "    .dataframe tbody tr th:only-of-type {\n",
       "        vertical-align: middle;\n",
       "    }\n",
       "\n",
       "    .dataframe tbody tr th {\n",
       "        vertical-align: top;\n",
       "    }\n",
       "\n",
       "    .dataframe thead th {\n",
       "        text-align: right;\n",
       "    }\n",
       "</style>\n",
       "<table border=\"1\" class=\"dataframe\">\n",
       "  <thead>\n",
       "    <tr style=\"text-align: right;\">\n",
       "      <th></th>\n",
       "      <th>id</th>\n",
       "      <th>dept</th>\n",
       "      <th>level</th>\n",
       "      <th>workload</th>\n",
       "      <th>employment_years</th>\n",
       "      <th>last_year_promo</th>\n",
       "      <th>last_year_violations</th>\n",
       "      <th>supervisor_evaluation</th>\n",
       "      <th>salary</th>\n",
       "      <th>quit</th>\n",
       "    </tr>\n",
       "  </thead>\n",
       "  <tbody>\n",
       "    <tr>\n",
       "      <th>0</th>\n",
       "      <td>723290</td>\n",
       "      <td>sales</td>\n",
       "      <td>middle</td>\n",
       "      <td>high</td>\n",
       "      <td>2</td>\n",
       "      <td>no</td>\n",
       "      <td>no</td>\n",
       "      <td>4</td>\n",
       "      <td>54000</td>\n",
       "      <td>no</td>\n",
       "    </tr>\n",
       "    <tr>\n",
       "      <th>1</th>\n",
       "      <td>814010</td>\n",
       "      <td>sales</td>\n",
       "      <td>junior</td>\n",
       "      <td>medium</td>\n",
       "      <td>2</td>\n",
       "      <td>no</td>\n",
       "      <td>no</td>\n",
       "      <td>4</td>\n",
       "      <td>27600</td>\n",
       "      <td>no</td>\n",
       "    </tr>\n",
       "    <tr>\n",
       "      <th>2</th>\n",
       "      <td>155091</td>\n",
       "      <td>purchasing</td>\n",
       "      <td>middle</td>\n",
       "      <td>medium</td>\n",
       "      <td>5</td>\n",
       "      <td>no</td>\n",
       "      <td>no</td>\n",
       "      <td>1</td>\n",
       "      <td>37200</td>\n",
       "      <td>no</td>\n",
       "    </tr>\n",
       "    <tr>\n",
       "      <th>3</th>\n",
       "      <td>257132</td>\n",
       "      <td>sales</td>\n",
       "      <td>junior</td>\n",
       "      <td>medium</td>\n",
       "      <td>2</td>\n",
       "      <td>no</td>\n",
       "      <td>yes</td>\n",
       "      <td>3</td>\n",
       "      <td>24000</td>\n",
       "      <td>yes</td>\n",
       "    </tr>\n",
       "    <tr>\n",
       "      <th>4</th>\n",
       "      <td>910140</td>\n",
       "      <td>marketing</td>\n",
       "      <td>junior</td>\n",
       "      <td>medium</td>\n",
       "      <td>2</td>\n",
       "      <td>no</td>\n",
       "      <td>no</td>\n",
       "      <td>5</td>\n",
       "      <td>25200</td>\n",
       "      <td>no</td>\n",
       "    </tr>\n",
       "  </tbody>\n",
       "</table>\n",
       "</div>"
      ],
      "text/plain": [
       "       id        dept   level workload  employment_years last_year_promo  \\\n",
       "0  723290       sales  middle     high                 2              no   \n",
       "1  814010       sales  junior   medium                 2              no   \n",
       "2  155091  purchasing  middle   medium                 5              no   \n",
       "3  257132       sales  junior   medium                 2              no   \n",
       "4  910140   marketing  junior   medium                 2              no   \n",
       "\n",
       "  last_year_violations  supervisor_evaluation  salary quit  \n",
       "0                   no                      4   54000   no  \n",
       "1                   no                      4   27600   no  \n",
       "2                   no                      1   37200   no  \n",
       "3                  yes                      3   24000  yes  \n",
       "4                   no                      5   25200   no  "
      ]
     },
     "execution_count": 61,
     "metadata": {},
     "output_type": "execute_result"
    }
   ],
   "source": [
    "quit_train.head()"
   ]
  },
  {
   "cell_type": "code",
   "execution_count": 62,
   "id": "031028a0",
   "metadata": {},
   "outputs": [
    {
     "data": {
      "text/html": [
       "<div>\n",
       "<style scoped>\n",
       "    .dataframe tbody tr th:only-of-type {\n",
       "        vertical-align: middle;\n",
       "    }\n",
       "\n",
       "    .dataframe tbody tr th {\n",
       "        vertical-align: top;\n",
       "    }\n",
       "\n",
       "    .dataframe thead th {\n",
       "        text-align: right;\n",
       "    }\n",
       "</style>\n",
       "<table border=\"1\" class=\"dataframe\">\n",
       "  <thead>\n",
       "    <tr style=\"text-align: right;\">\n",
       "      <th></th>\n",
       "      <th>id</th>\n",
       "      <th>quit</th>\n",
       "    </tr>\n",
       "  </thead>\n",
       "  <tbody>\n",
       "    <tr>\n",
       "      <th>0</th>\n",
       "      <td>999029</td>\n",
       "      <td>yes</td>\n",
       "    </tr>\n",
       "    <tr>\n",
       "      <th>1</th>\n",
       "      <td>372846</td>\n",
       "      <td>no</td>\n",
       "    </tr>\n",
       "    <tr>\n",
       "      <th>2</th>\n",
       "      <td>726767</td>\n",
       "      <td>no</td>\n",
       "    </tr>\n",
       "    <tr>\n",
       "      <th>3</th>\n",
       "      <td>490105</td>\n",
       "      <td>no</td>\n",
       "    </tr>\n",
       "    <tr>\n",
       "      <th>4</th>\n",
       "      <td>416898</td>\n",
       "      <td>yes</td>\n",
       "    </tr>\n",
       "  </tbody>\n",
       "</table>\n",
       "</div>"
      ],
      "text/plain": [
       "       id quit\n",
       "0  999029  yes\n",
       "1  372846   no\n",
       "2  726767   no\n",
       "3  490105   no\n",
       "4  416898  yes"
      ]
     },
     "execution_count": 62,
     "metadata": {},
     "output_type": "execute_result"
    }
   ],
   "source": [
    "test_target.head()"
   ]
  },
  {
   "cell_type": "code",
   "execution_count": 63,
   "id": "0516854c",
   "metadata": {},
   "outputs": [
    {
     "name": "stdout",
     "output_type": "stream",
     "text": [
      "<class 'pandas.core.frame.DataFrame'>\n",
      "RangeIndex: 4000 entries, 0 to 3999\n",
      "Data columns (total 10 columns):\n",
      " #   Column                 Non-Null Count  Dtype \n",
      "---  ------                 --------------  ----- \n",
      " 0   id                     4000 non-null   int64 \n",
      " 1   dept                   4000 non-null   object\n",
      " 2   level                  4000 non-null   object\n",
      " 3   workload               4000 non-null   object\n",
      " 4   employment_years       4000 non-null   int64 \n",
      " 5   last_year_promo        4000 non-null   object\n",
      " 6   last_year_violations   4000 non-null   object\n",
      " 7   supervisor_evaluation  4000 non-null   int64 \n",
      " 8   salary                 4000 non-null   int64 \n",
      " 9   quit                   4000 non-null   object\n",
      "dtypes: int64(4), object(6)\n",
      "memory usage: 312.6+ KB\n"
     ]
    }
   ],
   "source": [
    "quit_train.info()"
   ]
  },
  {
   "cell_type": "code",
   "execution_count": 64,
   "id": "208ba4ab",
   "metadata": {},
   "outputs": [
    {
     "name": "stdout",
     "output_type": "stream",
     "text": [
      "<class 'pandas.core.frame.DataFrame'>\n",
      "RangeIndex: 2000 entries, 0 to 1999\n",
      "Data columns (total 2 columns):\n",
      " #   Column  Non-Null Count  Dtype \n",
      "---  ------  --------------  ----- \n",
      " 0   id      2000 non-null   int64 \n",
      " 1   quit    2000 non-null   object\n",
      "dtypes: int64(1), object(1)\n",
      "memory usage: 31.4+ KB\n"
     ]
    }
   ],
   "source": [
    "test_target.info()"
   ]
  },
  {
   "cell_type": "markdown",
   "id": "d4c316c4",
   "metadata": {},
   "source": [
    "Пропусков нет"
   ]
  },
  {
   "cell_type": "markdown",
   "id": "2c9eccf7",
   "metadata": {},
   "source": [
    "### Предобработка данных"
   ]
  },
  {
   "cell_type": "code",
   "execution_count": 65,
   "id": "0b0b9301",
   "metadata": {},
   "outputs": [
    {
     "data": {
      "text/plain": [
       "0"
      ]
     },
     "execution_count": 65,
     "metadata": {},
     "output_type": "execute_result"
    }
   ],
   "source": [
    "quit_train.duplicated().sum()"
   ]
  },
  {
   "cell_type": "code",
   "execution_count": 66,
   "id": "425f8bcf",
   "metadata": {},
   "outputs": [
    {
     "name": "stdout",
     "output_type": "stream",
     "text": [
      "['sales' 'purchasing' 'marketing' 'technology' 'hr']\n",
      "['middle' 'junior' 'sinior']\n",
      "['high' 'medium' 'low']\n",
      "['no' 'yes']\n",
      "['no' 'yes']\n",
      "['no' 'yes']\n"
     ]
    }
   ],
   "source": [
    "for i in quit_train.select_dtypes('object'):\n",
    "    print(quit_train[i].unique()) \n",
    "    "
   ]
  },
  {
   "cell_type": "code",
   "execution_count": 67,
   "id": "3e811b8e",
   "metadata": {},
   "outputs": [],
   "source": [
    "quit_train.loc[quit_train['level'] == 'sinior', 'level'] = 'senior'"
   ]
  },
  {
   "cell_type": "markdown",
   "id": "76f7d3c2",
   "metadata": {},
   "source": [
    "Дубликатов нет"
   ]
  },
  {
   "cell_type": "markdown",
   "id": "7d060ec4",
   "metadata": {},
   "source": [
    "### Исследовательский анализ"
   ]
  },
  {
   "cell_type": "markdown",
   "id": "7bf6a320",
   "metadata": {},
   "source": [
    "Построим графики распределения"
   ]
  },
  {
   "cell_type": "code",
   "execution_count": 68,
   "id": "ec19ab97",
   "metadata": {},
   "outputs": [],
   "source": [
    "quit_num = ['salary']\n",
    "quit_cat = [i for i in quit_train.columns if i not in quit_num and i != 'id']"
   ]
  },
  {
   "cell_type": "code",
   "execution_count": 69,
   "id": "f14f0aab",
   "metadata": {},
   "outputs": [
    {
     "data": {
      "text/plain": [
       "Index(['id', 'dept', 'level', 'workload', 'employment_years',\n",
       "       'last_year_promo', 'last_year_violations', 'supervisor_evaluation',\n",
       "       'salary', 'quit'],\n",
       "      dtype='object')"
      ]
     },
     "execution_count": 69,
     "metadata": {},
     "output_type": "execute_result"
    }
   ],
   "source": [
    "quit_train.columns"
   ]
  },
  {
   "cell_type": "code",
   "execution_count": 70,
   "id": "9b1b9486",
   "metadata": {
    "scrolled": false
   },
   "outputs": [
    {
     "data": {
      "image/png": "[encoded data removed]",
      "text/plain": [
       "<Figure size 864x360 with 2 Axes>"
      ]
     },
     "metadata": {
      "needs_background": "light"
     },
     "output_type": "display_data"
    }
   ],
   "source": [
    "num_hist(quit_train,quit_num )"
   ]
  },
  {
   "cell_type": "code",
   "execution_count": 71,
   "id": "287642cb",
   "metadata": {},
   "outputs": [
    {
     "data": {
      "image/png": "[encoded data removed]",
      "text/plain": [
       "<Figure size 432x288 with 1 Axes>"
      ]
     },
     "metadata": {
      "needs_background": "light"
     },
     "output_type": "display_data"
    },
    {
     "data": {
      "image/png": "[encoded data removed]",
      "text/plain": [
       "<Figure size 432x288 with 1 Axes>"
      ]
     },
     "metadata": {
      "needs_background": "light"
     },
     "output_type": "display_data"
    },
    {
     "data": {
      "image/png": "[encoded data removed]",
      "text/plain": [
       "<Figure size 432x288 with 1 Axes>"
      ]
     },
     "metadata": {
      "needs_background": "light"
     },
     "output_type": "display_data"
    },
    {
     "data": {
      "image/png": "[encoded data removed]",
      "text/plain": [
       "<Figure size 432x288 with 1 Axes>"
      ]
     },
     "metadata": {
      "needs_background": "light"
     },
     "output_type": "display_data"
    },
    {
     "data": {
      "image/png": "[encoded data removed]",
      "text/plain": [
       "<Figure size 432x288 with 1 Axes>"
      ]
     },
     "metadata": {
      "needs_background": "light"
     },
     "output_type": "display_data"
    },
    {
     "data": {
      "image/png": "[encoded data removed]",
      "text/plain": [
       "<Figure size 432x288 with 1 Axes>"
      ]
     },
     "metadata": {
      "needs_background": "light"
     },
     "output_type": "display_data"
    }
   ],
   "source": [
    "cat_bar(quit_train, quit_train.select_dtypes('object').columns)"
   ]
  },
  {
   "cell_type": "code",
   "execution_count": 72,
   "id": "df269655",
   "metadata": {},
   "outputs": [
    {
     "data": {
      "image/png": "[encoded data removed]",
      "text/plain": [
       "<Figure size 432x288 with 1 Axes>"
      ]
     },
     "metadata": {
      "needs_background": "light"
     },
     "output_type": "display_data"
    }
   ],
   "source": [
    "cat_bar(test_target, ['quit'])"
   ]
  },
  {
   "cell_type": "markdown",
   "id": "43daa13f",
   "metadata": {},
   "source": [
    "Аномалий нет, в целевом признаке есть дисбаланс классов"
   ]
  },
  {
   "cell_type": "markdown",
   "id": "9e639cd5",
   "metadata": {},
   "source": [
    "За исключением нового признака quit, данные схожи с предыдущим набором. Сотрудников которые не уволились примерно в 2,5 раза больше тех, кто ушел"
   ]
  },
  {
   "cell_type": "markdown",
   "id": "8ad99955",
   "metadata": {},
   "source": [
    "Стоит использовать roc_auc, которая имеет устойчивость к дисбалансу "
   ]
  },
  {
   "cell_type": "markdown",
   "id": "9b2943b7",
   "metadata": {},
   "source": [
    "Составим портрет уволившегося сотрудника"
   ]
  },
  {
   "cell_type": "code",
   "execution_count": 73,
   "id": "ad2ed9dc",
   "metadata": {},
   "outputs": [],
   "source": [
    "quited = quit_train.query('quit == \"yes\"')"
   ]
  },
  {
   "cell_type": "code",
   "execution_count": 74,
   "id": "c54d6914",
   "metadata": {},
   "outputs": [],
   "source": [
    "stayed = quit_train.query('quit == \"no\"')"
   ]
  },
  {
   "cell_type": "code",
   "execution_count": 75,
   "id": "da763d6c",
   "metadata": {},
   "outputs": [],
   "source": [
    "def num_hist_group(df1, df2, lst):\n",
    "    for i in lst:\n",
    "        fig, axes = plt.subplots(nrows=1, ncols=2, figsize=(12, 5))\n",
    "        \n",
    "        sns.histplot(df1[i], bins=15, stat='density', common_norm=False, ax=axes[0], alpha=0.7)\n",
    "        axes[0].set_title(f'Гистограмма {df1[i].name} группы')\n",
    "        axes[0].set_xlabel(df1[i].name)\n",
    "        axes[0].set_ylabel('Плотность')\n",
    "\n",
    "        sns.histplot(df2[i], bins=15, stat='density', common_norm=False, ax=axes[1], alpha=0.7)\n",
    "        axes[1].set_title(f'Гистограмма {df2[i].name}')\n",
    "        axes[1].set_xlabel(df2[i].name)\n",
    "        axes[1].set_ylabel('Плотность')\n",
    "        \n",
    "        plt.tight_layout()\n",
    "        plt.show()"
   ]
  },
  {
   "cell_type": "code",
   "execution_count": 76,
   "id": "69b9c217",
   "metadata": {},
   "outputs": [],
   "source": [
    "def cat_bar_group(df1, df2, lst):\n",
    "    for i in lst:\n",
    "        fig, axes = plt.subplots(nrows=1, ncols=2, figsize=(12, 5))\n",
    "        \n",
    "        df1[i].value_counts().plot(kind='bar', ax=axes[0])\n",
    "        axes[0].set_title(f'{df1[i].name} группы')\n",
    "        axes[0].set_xlabel(df1[i].name)\n",
    "        axes[0].set_ylabel('Частота')\n",
    "\n",
    "        df2[i].value_counts().plot(kind='bar', ax=axes[1])\n",
    "        axes[1].set_title(f'общий {df2[i].name}')\n",
    "        axes[1].set_xlabel(df2[i].name)\n",
    "        axes[1].set_ylabel('Частота')\n",
    "        \n",
    "        plt.tight_layout()\n",
    "        plt.show()\n"
   ]
  },
  {
   "cell_type": "code",
   "execution_count": 77,
   "id": "ace64de1",
   "metadata": {},
   "outputs": [],
   "source": [
    "def cat_bar_group_norm(df1, df2, lst):\n",
    "    for i in lst:\n",
    "        fig, axes = plt.subplots(nrows=1, ncols=2, figsize=(12, 5))\n",
    "        \n",
    "        df1[i].value_counts(normalize=True).plot(kind='bar', ax=axes[0])\n",
    "        axes[0].set_title(f'{df1[i].name} уволившихся')\n",
    "        axes[0].set_xlabel(df1[i].name)\n",
    "        axes[0].set_ylabel('Частота')\n",
    "\n",
    "        df2[i].value_counts(normalize=True).plot(kind='bar', ax=axes[1])\n",
    "        axes[1].set_title(f'{df2[i].name} оставшихся')\n",
    "        axes[1].set_xlabel(df2[i].name)\n",
    "        axes[1].set_ylabel('Частота')\n",
    "        \n",
    "        plt.tight_layout()\n",
    "        plt.show()\n"
   ]
  },
  {
   "cell_type": "code",
   "execution_count": 78,
   "id": "4da5a88b",
   "metadata": {},
   "outputs": [
    {
     "data": {
      "image/png": "[encoded data removed]",
      "text/plain": [
       "<Figure size 864x360 with 2 Axes>"
      ]
     },
     "metadata": {
      "needs_background": "light"
     },
     "output_type": "display_data"
    }
   ],
   "source": [
    "num_hist_group(quited, stayed, quit_num)"
   ]
  },
  {
   "cell_type": "code",
   "execution_count": 79,
   "id": "93283a4a",
   "metadata": {
    "scrolled": false
   },
   "outputs": [
    {
     "data": {
      "image/png": "[encoded data removed]",
      "text/plain": [
       "<Figure size 864x360 with 2 Axes>"
      ]
     },
     "metadata": {
      "needs_background": "light"
     },
     "output_type": "display_data"
    },
    {
     "data": {
      "image/png": "[encoded data removed]",
      "text/plain": [
       "<Figure size 864x360 with 2 Axes>"
      ]
     },
     "metadata": {
      "needs_background": "light"
     },
     "output_type": "display_data"
    },
    {
     "data": {
      "image/png": "[encoded data removed]",
      "text/plain": [
       "<Figure size 864x360 with 2 Axes>"
      ]
     },
     "metadata": {
      "needs_background": "light"
     },
     "output_type": "display_data"
    },
    {
     "data": {
      "image/png": "[encoded data removed]",
      "text/plain": [
       "<Figure size 864x360 with 2 Axes>"
      ]
     },
     "metadata": {
      "needs_background": "light"
     },
     "output_type": "display_data"
    },
    {
     "data": {
      "image/png": "[encoded data removed]",
      "text/plain": [
       "<Figure size 864x360 with 2 Axes>"
      ]
     },
     "metadata": {
      "needs_background": "light"
     },
     "output_type": "display_data"
    },
    {
     "data": {
      "image/png": "[encoded data removed]",
      "text/plain": [
       "<Figure size 864x360 with 2 Axes>"
      ]
     },
     "metadata": {
      "needs_background": "light"
     },
     "output_type": "display_data"
    },
    {
     "data": {
      "image/png": "[encoded data removed]",
      "text/plain": [
       "<Figure size 864x360 with 2 Axes>"
      ]
     },
     "metadata": {
      "needs_background": "light"
     },
     "output_type": "display_data"
    },
    {
     "data": {
      "image/png": "[encoded data removed]",
      "text/plain": [
       "<Figure size 864x360 with 2 Axes>"
      ]
     },
     "metadata": {
      "needs_background": "light"
     },
     "output_type": "display_data"
    }
   ],
   "source": [
    "cat_bar_group_norm(quited, stayed, quit_cat)"
   ]
  },
  {
   "cell_type": "markdown",
   "id": "9f02618e",
   "metadata": {},
   "source": [
    "Основная масса уволившихся сотрудников получала зарплату в диапазоне от 10 до 30 тысяч, что уступает зарплате у оставшихся, а также почти не работала больше трех лет. Почти все уволившиеся работали на позиции junior, а руководитель в основном оценивал их работу на 3 из 5. "
   ]
  },
  {
   "cell_type": "markdown",
   "id": "de9beb8d",
   "metadata": {},
   "source": [
    "#### Проверим влияние удовлетворенности уровнем работы на то, уйдет ли сотрудник"
   ]
  },
  {
   "cell_type": "code",
   "execution_count": 80,
   "id": "25a67172",
   "metadata": {},
   "outputs": [],
   "source": [
    "df = test_features.merge(test_target_job).merge(test_target)"
   ]
  },
  {
   "cell_type": "code",
   "execution_count": 81,
   "id": "b590c83a",
   "metadata": {
    "scrolled": false
   },
   "outputs": [
    {
     "data": {
      "image/png": "[encoded data removed]",
      "text/plain": [
       "<Figure size 720x432 with 1 Axes>"
      ]
     },
     "metadata": {
      "needs_background": "light"
     },
     "output_type": "display_data"
    }
   ],
   "source": [
    "plt.figure(figsize=(10, 6))\n",
    "for label in df['quit'].unique():\n",
    "    subset = df[df['quit'] == label]\n",
    "    plt.hist(subset['job_satisfaction_rate'], bins=10, alpha=0.5, label=f'Ушел: {label}')\n",
    "\n",
    "plt.xlabel('Удовлетворенность')\n",
    "plt.ylabel('Частота')\n",
    "plt.title('Завиимость ухода от удовлетворенности')\n",
    "plt.legend()\n",
    "plt.show()"
   ]
  },
  {
   "cell_type": "code",
   "execution_count": 82,
   "id": "59b91fb7",
   "metadata": {},
   "outputs": [
    {
     "name": "stderr",
     "output_type": "stream",
     "text": [
      "/opt/conda/lib/python3.9/site-packages/phik/data_quality.py:59: UserWarning: The number of unique values of variable id is large: 2000. Are you sure this is not an interval variable? Analysis for pairs of variables including id can be slow.\n",
      "  warnings.warn(\n"
     ]
    },
    {
     "name": "stdout",
     "output_type": "stream",
     "text": [
      "Phi-корреляция: 0.6102629749056108\n"
     ]
    }
   ],
   "source": [
    "phik_matrix = df.phik_matrix(interval_cols=['job_satisfaction_rate'])\n",
    "\n",
    "phik_value = phik_matrix.at['job_satisfaction_rate', 'quit']\n",
    "print(f'Phi-корреляция: {phik_value}')"
   ]
  },
  {
   "cell_type": "markdown",
   "id": "a287b9e1",
   "metadata": {},
   "source": [
    "Проверим влияние тестом Манна-Уитни\n",
    "Нулевая гипотеза: уровень удовлетворенности работой у работников, которые остались, такой же, как и у работников, которые ушли\n",
    "Альтернативная гипотеза: уровни удовлетворенности отличаются"
   ]
  },
  {
   "cell_type": "code",
   "execution_count": 83,
   "id": "b1b467b7",
   "metadata": {},
   "outputs": [
    {
     "name": "stdout",
     "output_type": "stream",
     "text": [
      "U-статистика: 167292.5, p-значение: 5.673072286850858e-93\n"
     ]
    }
   ],
   "source": [
    "left_satisfaction = df[df['quit'] == 'yes']['job_satisfaction_rate']\n",
    "stayed_satisfaction = df[df['quit'] == 'no']['job_satisfaction_rate']\n",
    "\n",
    "u_stat, p_value = mannwhitneyu(left_satisfaction, stayed_satisfaction)\n",
    "\n",
    "print(f'U-статистика: {u_stat}, p-значение: {p_value}')"
   ]
  },
  {
   "cell_type": "markdown",
   "id": "18b8838b",
   "metadata": {},
   "source": [
    "p-значение значительно меньше уровня значимости (0.05), значит мы отвергаем нулевую гипотезу. Уровни удовлетворенности отличаются"
   ]
  },
  {
   "cell_type": "markdown",
   "id": "1bb686f7",
   "metadata": {},
   "source": [
    "Действительно, удалось статистически подтвердить, что уйдет ли сотрудник, достаточно сильно зависит от его удовлетворенности работой, phi-кореляция - 0.61 "
   ]
  },
  {
   "cell_type": "markdown",
   "id": "c3ac16aa",
   "metadata": {},
   "source": [
    "### Добавление нового входного признака"
   ]
  },
  {
   "cell_type": "markdown",
   "id": "73b5865c",
   "metadata": {},
   "source": [
    "Предскажем удовлетворенность и добавим в данные"
   ]
  },
  {
   "cell_type": "code",
   "execution_count": 84,
   "id": "3370bc69",
   "metadata": {},
   "outputs": [],
   "source": [
    "X_quit_train = quit_train.drop(['id', 'quit'], axis=1)\n",
    "X_quit_train_transformed = data_preprocessor.transform(X_quit_train)"
   ]
  },
  {
   "cell_type": "code",
   "execution_count": 85,
   "id": "1f2016a4",
   "metadata": {},
   "outputs": [],
   "source": [
    "satisfaction_pred = tree.predict(X_quit_train_transformed)"
   ]
  },
  {
   "cell_type": "code",
   "execution_count": 86,
   "id": "c9e28136",
   "metadata": {},
   "outputs": [],
   "source": [
    "quit_train['job_satisfaction_rate'] = satisfaction_pred"
   ]
  },
  {
   "cell_type": "code",
   "execution_count": 87,
   "id": "2e1215d4",
   "metadata": {},
   "outputs": [
    {
     "data": {
      "text/html": [
       "<div>\n",
       "<style scoped>\n",
       "    .dataframe tbody tr th:only-of-type {\n",
       "        vertical-align: middle;\n",
       "    }\n",
       "\n",
       "    .dataframe tbody tr th {\n",
       "        vertical-align: top;\n",
       "    }\n",
       "\n",
       "    .dataframe thead th {\n",
       "        text-align: right;\n",
       "    }\n",
       "</style>\n",
       "<table border=\"1\" class=\"dataframe\">\n",
       "  <thead>\n",
       "    <tr style=\"text-align: right;\">\n",
       "      <th></th>\n",
       "      <th>id</th>\n",
       "      <th>dept</th>\n",
       "      <th>level</th>\n",
       "      <th>workload</th>\n",
       "      <th>employment_years</th>\n",
       "      <th>last_year_promo</th>\n",
       "      <th>last_year_violations</th>\n",
       "      <th>supervisor_evaluation</th>\n",
       "      <th>salary</th>\n",
       "      <th>quit</th>\n",
       "      <th>job_satisfaction_rate</th>\n",
       "    </tr>\n",
       "  </thead>\n",
       "  <tbody>\n",
       "    <tr>\n",
       "      <th>0</th>\n",
       "      <td>723290</td>\n",
       "      <td>sales</td>\n",
       "      <td>middle</td>\n",
       "      <td>high</td>\n",
       "      <td>2</td>\n",
       "      <td>no</td>\n",
       "      <td>no</td>\n",
       "      <td>4</td>\n",
       "      <td>54000</td>\n",
       "      <td>no</td>\n",
       "      <td>0.600000</td>\n",
       "    </tr>\n",
       "    <tr>\n",
       "      <th>1</th>\n",
       "      <td>814010</td>\n",
       "      <td>sales</td>\n",
       "      <td>junior</td>\n",
       "      <td>medium</td>\n",
       "      <td>2</td>\n",
       "      <td>no</td>\n",
       "      <td>no</td>\n",
       "      <td>4</td>\n",
       "      <td>27600</td>\n",
       "      <td>no</td>\n",
       "      <td>0.846364</td>\n",
       "    </tr>\n",
       "    <tr>\n",
       "      <th>2</th>\n",
       "      <td>155091</td>\n",
       "      <td>purchasing</td>\n",
       "      <td>middle</td>\n",
       "      <td>medium</td>\n",
       "      <td>5</td>\n",
       "      <td>no</td>\n",
       "      <td>no</td>\n",
       "      <td>1</td>\n",
       "      <td>37200</td>\n",
       "      <td>no</td>\n",
       "      <td>0.340000</td>\n",
       "    </tr>\n",
       "    <tr>\n",
       "      <th>3</th>\n",
       "      <td>257132</td>\n",
       "      <td>sales</td>\n",
       "      <td>junior</td>\n",
       "      <td>medium</td>\n",
       "      <td>2</td>\n",
       "      <td>no</td>\n",
       "      <td>yes</td>\n",
       "      <td>3</td>\n",
       "      <td>24000</td>\n",
       "      <td>yes</td>\n",
       "      <td>0.340000</td>\n",
       "    </tr>\n",
       "    <tr>\n",
       "      <th>4</th>\n",
       "      <td>910140</td>\n",
       "      <td>marketing</td>\n",
       "      <td>junior</td>\n",
       "      <td>medium</td>\n",
       "      <td>2</td>\n",
       "      <td>no</td>\n",
       "      <td>no</td>\n",
       "      <td>5</td>\n",
       "      <td>25200</td>\n",
       "      <td>no</td>\n",
       "      <td>0.690000</td>\n",
       "    </tr>\n",
       "  </tbody>\n",
       "</table>\n",
       "</div>"
      ],
      "text/plain": [
       "       id        dept   level workload  employment_years last_year_promo  \\\n",
       "0  723290       sales  middle     high                 2              no   \n",
       "1  814010       sales  junior   medium                 2              no   \n",
       "2  155091  purchasing  middle   medium                 5              no   \n",
       "3  257132       sales  junior   medium                 2              no   \n",
       "4  910140   marketing  junior   medium                 2              no   \n",
       "\n",
       "  last_year_violations  supervisor_evaluation  salary quit  \\\n",
       "0                   no                      4   54000   no   \n",
       "1                   no                      4   27600   no   \n",
       "2                   no                      1   37200   no   \n",
       "3                  yes                      3   24000  yes   \n",
       "4                   no                      5   25200   no   \n",
       "\n",
       "   job_satisfaction_rate  \n",
       "0               0.600000  \n",
       "1               0.846364  \n",
       "2               0.340000  \n",
       "3               0.340000  \n",
       "4               0.690000  "
      ]
     },
     "execution_count": 87,
     "metadata": {},
     "output_type": "execute_result"
    }
   ],
   "source": [
    "quit_train.head()"
   ]
  },
  {
   "cell_type": "markdown",
   "id": "5766c06f",
   "metadata": {},
   "source": [
    "### Подготовка данных"
   ]
  },
  {
   "cell_type": "code",
   "execution_count": 88,
   "id": "04f2f1fc",
   "metadata": {},
   "outputs": [],
   "source": [
    "X_train = quit_train.drop(['quit', 'id', 'dept'], axis=1)\n",
    "y_train = quit_train['quit']"
   ]
  },
  {
   "cell_type": "code",
   "execution_count": 89,
   "id": "be29cfed",
   "metadata": {},
   "outputs": [],
   "source": [
    "num_col = X_train.select_dtypes(exclude='object').columns"
   ]
  },
  {
   "cell_type": "code",
   "execution_count": 90,
   "id": "fa4fa8f7",
   "metadata": {},
   "outputs": [],
   "source": [
    "ohe_col =  ['last_year_promo', 'last_year_violations']"
   ]
  },
  {
   "cell_type": "code",
   "execution_count": 91,
   "id": "f3cc0943",
   "metadata": {},
   "outputs": [],
   "source": [
    "ohe_pipe = Pipeline(\n",
    "    [\n",
    "     ('imputer', SimpleImputer(strategy='most_frequent')),\n",
    "     ('imputer2', SimpleImputer(missing_values =' ', strategy='most_frequent')),\n",
    "     ('ohe', OneHotEncoder(drop='first', handle_unknown='ignore'))\n",
    "    ]\n",
    "    )\n",
    "\n",
    "ord_pipe = Pipeline(\n",
    "    [\n",
    "     ('imputer', SimpleImputer(strategy='most_frequent')),\n",
    "     ('imputer2', SimpleImputer(missing_values =' ', strategy='most_frequent')),\n",
    "     ('ord',  OrdinalEncoder(\n",
    "                categories=[\n",
    "                    ['junior', 'middle' ,'senior'],\n",
    "                    ['low', 'medium', 'high']\n",
    "                ], \n",
    "                handle_unknown='use_encoded_value', unknown_value=np.nan\n",
    "            )\n",
    "        )\n",
    "    ]\n",
    ")\n",
    "data_preprocessor = ColumnTransformer(\n",
    "    [('ohe', ohe_pipe, ohe_col),\n",
    "     ('ord', ord_pipe, ord_col),\n",
    "     ('num', MinMaxScaler(), num_col)\n",
    "    ], \n",
    "    remainder='passthrough'\n",
    ")"
   ]
  },
  {
   "cell_type": "code",
   "execution_count": 92,
   "id": "62e57b37",
   "metadata": {},
   "outputs": [],
   "source": [
    "X_train_transformed = data_preprocessor.fit_transform(X_train)"
   ]
  },
  {
   "cell_type": "markdown",
   "id": "5f450dd6",
   "metadata": {},
   "source": [
    "#### Обучение модели"
   ]
  },
  {
   "cell_type": "code",
   "execution_count": 93,
   "id": "00532c11",
   "metadata": {},
   "outputs": [],
   "source": [
    "param_distributions = [\n",
    "    {\n",
    "        'model': [LogisticRegression(random_state=42)],\n",
    "        'model__C': [0.01, 0.1, 1, 10], \n",
    "        'model__penalty': ['l1', 'l2'],\n",
    "        'model__solver': ['liblinear']\n",
    "    },\n",
    "    {\n",
    "        'model': [DecisionTreeClassifier(random_state=42)],\n",
    "        'model__max_depth': range(2, 12),\n",
    "        'model__min_samples_split': range(2, 10),\n",
    "        'model__min_samples_leaf': range(2, 8)\n",
    "        \n",
    "    },\n",
    "    {\n",
    "        'model': [SVC(probability=True)],\n",
    "        'model__C': [ 1, 10,  8, 15, 100],  \n",
    "        'model__kernel': ['linear', 'rbf'],\n",
    "    }\n",
    "]"
   ]
  },
  {
   "cell_type": "code",
   "execution_count": 94,
   "id": "e3ae5a1c",
   "metadata": {},
   "outputs": [],
   "source": [
    "pipe = Pipeline([\n",
    "    ('model', LogisticRegression(random_state=42))\n",
    "])\n"
   ]
  },
  {
   "cell_type": "code",
   "execution_count": 95,
   "id": "32239fb3",
   "metadata": {},
   "outputs": [],
   "source": [
    "grid_search = GridSearchCV(\n",
    "    pipe, \n",
    "    param_distributions,\n",
    "    cv=5, \n",
    "    scoring='roc_auc', \n",
    "    n_jobs=-1, \n",
    ")"
   ]
  },
  {
   "cell_type": "code",
   "execution_count": 96,
   "id": "4aa88e60",
   "metadata": {},
   "outputs": [
    {
     "name": "stdout",
     "output_type": "stream",
     "text": [
      "CPU times: user 1min 14s, sys: 330 ms, total: 1min 14s\n",
      "Wall time: 1min 15s\n"
     ]
    },
    {
     "data": {
      "text/html": [
       "<style>#sk-container-id-3 {\n",
       "  /* Definition of color scheme common for light and dark mode */\n",
       "  --sklearn-color-text: black;\n",
       "  --sklearn-color-line: gray;\n",
       "  /* Definition of color scheme for unfitted estimators */\n",
       "  --sklearn-color-unfitted-level-0: #fff5e6;\n",
       "  --sklearn-color-unfitted-level-1: #f6e4d2;\n",
       "  --sklearn-color-unfitted-level-2: #ffe0b3;\n",
       "  --sklearn-color-unfitted-level-3: chocolate;\n",
       "  /* Definition of color scheme for fitted estimators */\n",
       "  --sklearn-color-fitted-level-0: #f0f8ff;\n",
       "  --sklearn-color-fitted-level-1: #d4ebff;\n",
       "  --sklearn-color-fitted-level-2: #b3dbfd;\n",
       "  --sklearn-color-fitted-level-3: cornflowerblue;\n",
       "\n",
       "  /* Specific color for light theme */\n",
       "  --sklearn-color-text-on-default-background: var(--sg-text-color, var(--theme-code-foreground, var(--jp-content-font-color1, black)));\n",
       "  --sklearn-color-background: var(--sg-background-color, var(--theme-background, var(--jp-layout-color0, white)));\n",
       "  --sklearn-color-border-box: var(--sg-text-color, var(--theme-code-foreground, var(--jp-content-font-color1, black)));\n",
       "  --sklearn-color-icon: #696969;\n",
       "\n",
       "  @media (prefers-color-scheme: dark) {\n",
       "    /* Redefinition of color scheme for dark theme */\n",
       "    --sklearn-color-text-on-default-background: var(--sg-text-color, var(--theme-code-foreground, var(--jp-content-font-color1, white)));\n",
       "    --sklearn-color-background: var(--sg-background-color, var(--theme-background, var(--jp-layout-color0, #111)));\n",
       "    --sklearn-color-border-box: var(--sg-text-color, var(--theme-code-foreground, var(--jp-content-font-color1, white)));\n",
       "    --sklearn-color-icon: #878787;\n",
       "  }\n",
       "}\n",
       "\n",
       "#sk-container-id-3 {\n",
       "  color: var(--sklearn-color-text);\n",
       "}\n",
       "\n",
       "#sk-container-id-3 pre {\n",
       "  padding: 0;\n",
       "}\n",
       "\n",
       "#sk-container-id-3 input.sk-hidden--visually {\n",
       "  border: 0;\n",
       "  clip: rect(1px 1px 1px 1px);\n",
       "  clip: rect(1px, 1px, 1px, 1px);\n",
       "  height: 1px;\n",
       "  margin: -1px;\n",
       "  overflow: hidden;\n",
       "  padding: 0;\n",
       "  position: absolute;\n",
       "  width: 1px;\n",
       "}\n",
       "\n",
       "#sk-container-id-3 div.sk-dashed-wrapped {\n",
       "  border: 1px dashed var(--sklearn-color-line);\n",
       "  margin: 0 0.4em 0.5em 0.4em;\n",
       "  box-sizing: border-box;\n",
       "  padding-bottom: 0.4em;\n",
       "  background-color: var(--sklearn-color-background);\n",
       "}\n",
       "\n",
       "#sk-container-id-3 div.sk-container {\n",
       "  /* jupyter's `normalize.less` sets `[hidden] { display: none; }`\n",
       "     but bootstrap.min.css set `[hidden] { display: none !important; }`\n",
       "     so we also need the `!important` here to be able to override the\n",
       "     default hidden behavior on the sphinx rendered scikit-learn.org.\n",
       "     See: https://github.com/scikit-learn/scikit-learn/issues/21755 */\n",
       "  display: inline-block !important;\n",
       "  position: relative;\n",
       "}\n",
       "\n",
       "#sk-container-id-3 div.sk-text-repr-fallback {\n",
       "  display: none;\n",
       "}\n",
       "\n",
       "div.sk-parallel-item,\n",
       "div.sk-serial,\n",
       "div.sk-item {\n",
       "  /* draw centered vertical line to link estimators */\n",
       "  background-image: linear-gradient(var(--sklearn-color-text-on-default-background), var(--sklearn-color-text-on-default-background));\n",
       "  background-size: 2px 100%;\n",
       "  background-repeat: no-repeat;\n",
       "  background-position: center center;\n",
       "}\n",
       "\n",
       "/* Parallel-specific style estimator block */\n",
       "\n",
       "#sk-container-id-3 div.sk-parallel-item::after {\n",
       "  content: \"\";\n",
       "  width: 100%;\n",
       "  border-bottom: 2px solid var(--sklearn-color-text-on-default-background);\n",
       "  flex-grow: 1;\n",
       "}\n",
       "\n",
       "#sk-container-id-3 div.sk-parallel {\n",
       "  display: flex;\n",
       "  align-items: stretch;\n",
       "  justify-content: center;\n",
       "  background-color: var(--sklearn-color-background);\n",
       "  position: relative;\n",
       "}\n",
       "\n",
       "#sk-container-id-3 div.sk-parallel-item {\n",
       "  display: flex;\n",
       "  flex-direction: column;\n",
       "}\n",
       "\n",
       "#sk-container-id-3 div.sk-parallel-item:first-child::after {\n",
       "  align-self: flex-end;\n",
       "  width: 50%;\n",
       "}\n",
       "\n",
       "#sk-container-id-3 div.sk-parallel-item:last-child::after {\n",
       "  align-self: flex-start;\n",
       "  width: 50%;\n",
       "}\n",
       "\n",
       "#sk-container-id-3 div.sk-parallel-item:only-child::after {\n",
       "  width: 0;\n",
       "}\n",
       "\n",
       "/* Serial-specific style estimator block */\n",
       "\n",
       "#sk-container-id-3 div.sk-serial {\n",
       "  display: flex;\n",
       "  flex-direction: column;\n",
       "  align-items: center;\n",
       "  background-color: var(--sklearn-color-background);\n",
       "  padding-right: 1em;\n",
       "  padding-left: 1em;\n",
       "}\n",
       "\n",
       "\n",
       "/* Toggleable style: style used for estimator/Pipeline/ColumnTransformer box that is\n",
       "clickable and can be expanded/collapsed.\n",
       "- Pipeline and ColumnTransformer use this feature and define the default style\n",
       "- Estimators will overwrite some part of the style using the `sk-estimator` class\n",
       "*/\n",
       "\n",
       "/* Pipeline and ColumnTransformer style (default) */\n",
       "\n",
       "#sk-container-id-3 div.sk-toggleable {\n",
       "  /* Default theme specific background. It is overwritten whether we have a\n",
       "  specific estimator or a Pipeline/ColumnTransformer */\n",
       "  background-color: var(--sklearn-color-background);\n",
       "}\n",
       "\n",
       "/* Toggleable label */\n",
       "#sk-container-id-3 label.sk-toggleable__label {\n",
       "  cursor: pointer;\n",
       "  display: block;\n",
       "  width: 100%;\n",
       "  margin-bottom: 0;\n",
       "  padding: 0.5em;\n",
       "  box-sizing: border-box;\n",
       "  text-align: center;\n",
       "}\n",
       "\n",
       "#sk-container-id-3 label.sk-toggleable__label-arrow:before {\n",
       "  /* Arrow on the left of the label */\n",
       "  content: \"▸\";\n",
       "  float: left;\n",
       "  margin-right: 0.25em;\n",
       "  color: var(--sklearn-color-icon);\n",
       "}\n",
       "\n",
       "#sk-container-id-3 label.sk-toggleable__label-arrow:hover:before {\n",
       "  color: var(--sklearn-color-text);\n",
       "}\n",
       "\n",
       "/* Toggleable content - dropdown */\n",
       "\n",
       "#sk-container-id-3 div.sk-toggleable__content {\n",
       "  max-height: 0;\n",
       "  max-width: 0;\n",
       "  overflow: hidden;\n",
       "  text-align: left;\n",
       "  /* unfitted */\n",
       "  background-color: var(--sklearn-color-unfitted-level-0);\n",
       "}\n",
       "\n",
       "#sk-container-id-3 div.sk-toggleable__content.fitted {\n",
       "  /* fitted */\n",
       "  background-color: var(--sklearn-color-fitted-level-0);\n",
       "}\n",
       "\n",
       "#sk-container-id-3 div.sk-toggleable__content pre {\n",
       "  margin: 0.2em;\n",
       "  border-radius: 0.25em;\n",
       "  color: var(--sklearn-color-text);\n",
       "  /* unfitted */\n",
       "  background-color: var(--sklearn-color-unfitted-level-0);\n",
       "}\n",
       "\n",
       "#sk-container-id-3 div.sk-toggleable__content.fitted pre {\n",
       "  /* unfitted */\n",
       "  background-color: var(--sklearn-color-fitted-level-0);\n",
       "}\n",
       "\n",
       "#sk-container-id-3 input.sk-toggleable__control:checked~div.sk-toggleable__content {\n",
       "  /* Expand drop-down */\n",
       "  max-height: 200px;\n",
       "  max-width: 100%;\n",
       "  overflow: auto;\n",
       "}\n",
       "\n",
       "#sk-container-id-3 input.sk-toggleable__control:checked~label.sk-toggleable__label-arrow:before {\n",
       "  content: \"▾\";\n",
       "}\n",
       "\n",
       "/* Pipeline/ColumnTransformer-specific style */\n",
       "\n",
       "#sk-container-id-3 div.sk-label input.sk-toggleable__control:checked~label.sk-toggleable__label {\n",
       "  color: var(--sklearn-color-text);\n",
       "  background-color: var(--sklearn-color-unfitted-level-2);\n",
       "}\n",
       "\n",
       "#sk-container-id-3 div.sk-label.fitted input.sk-toggleable__control:checked~label.sk-toggleable__label {\n",
       "  background-color: var(--sklearn-color-fitted-level-2);\n",
       "}\n",
       "\n",
       "/* Estimator-specific style */\n",
       "\n",
       "/* Colorize estimator box */\n",
       "#sk-container-id-3 div.sk-estimator input.sk-toggleable__control:checked~label.sk-toggleable__label {\n",
       "  /* unfitted */\n",
       "  background-color: var(--sklearn-color-unfitted-level-2);\n",
       "}\n",
       "\n",
       "#sk-container-id-3 div.sk-estimator.fitted input.sk-toggleable__control:checked~label.sk-toggleable__label {\n",
       "  /* fitted */\n",
       "  background-color: var(--sklearn-color-fitted-level-2);\n",
       "}\n",
       "\n",
       "#sk-container-id-3 div.sk-label label.sk-toggleable__label,\n",
       "#sk-container-id-3 div.sk-label label {\n",
       "  /* The background is the default theme color */\n",
       "  color: var(--sklearn-color-text-on-default-background);\n",
       "}\n",
       "\n",
       "/* On hover, darken the color of the background */\n",
       "#sk-container-id-3 div.sk-label:hover label.sk-toggleable__label {\n",
       "  color: var(--sklearn-color-text);\n",
       "  background-color: var(--sklearn-color-unfitted-level-2);\n",
       "}\n",
       "\n",
       "/* Label box, darken color on hover, fitted */\n",
       "#sk-container-id-3 div.sk-label.fitted:hover label.sk-toggleable__label.fitted {\n",
       "  color: var(--sklearn-color-text);\n",
       "  background-color: var(--sklearn-color-fitted-level-2);\n",
       "}\n",
       "\n",
       "/* Estimator label */\n",
       "\n",
       "#sk-container-id-3 div.sk-label label {\n",
       "  font-family: monospace;\n",
       "  font-weight: bold;\n",
       "  display: inline-block;\n",
       "  line-height: 1.2em;\n",
       "}\n",
       "\n",
       "#sk-container-id-3 div.sk-label-container {\n",
       "  text-align: center;\n",
       "}\n",
       "\n",
       "/* Estimator-specific */\n",
       "#sk-container-id-3 div.sk-estimator {\n",
       "  font-family: monospace;\n",
       "  border: 1px dotted var(--sklearn-color-border-box);\n",
       "  border-radius: 0.25em;\n",
       "  box-sizing: border-box;\n",
       "  margin-bottom: 0.5em;\n",
       "  /* unfitted */\n",
       "  background-color: var(--sklearn-color-unfitted-level-0);\n",
       "}\n",
       "\n",
       "#sk-container-id-3 div.sk-estimator.fitted {\n",
       "  /* fitted */\n",
       "  background-color: var(--sklearn-color-fitted-level-0);\n",
       "}\n",
       "\n",
       "/* on hover */\n",
       "#sk-container-id-3 div.sk-estimator:hover {\n",
       "  /* unfitted */\n",
       "  background-color: var(--sklearn-color-unfitted-level-2);\n",
       "}\n",
       "\n",
       "#sk-container-id-3 div.sk-estimator.fitted:hover {\n",
       "  /* fitted */\n",
       "  background-color: var(--sklearn-color-fitted-level-2);\n",
       "}\n",
       "\n",
       "/* Specification for estimator info (e.g. \"i\" and \"?\") */\n",
       "\n",
       "/* Common style for \"i\" and \"?\" */\n",
       "\n",
       ".sk-estimator-doc-link,\n",
       "a:link.sk-estimator-doc-link,\n",
       "a:visited.sk-estimator-doc-link {\n",
       "  float: right;\n",
       "  font-size: smaller;\n",
       "  line-height: 1em;\n",
       "  font-family: monospace;\n",
       "  background-color: var(--sklearn-color-background);\n",
       "  border-radius: 1em;\n",
       "  height: 1em;\n",
       "  width: 1em;\n",
       "  text-decoration: none !important;\n",
       "  margin-left: 1ex;\n",
       "  /* unfitted */\n",
       "  border: var(--sklearn-color-unfitted-level-1) 1pt solid;\n",
       "  color: var(--sklearn-color-unfitted-level-1);\n",
       "}\n",
       "\n",
       ".sk-estimator-doc-link.fitted,\n",
       "a:link.sk-estimator-doc-link.fitted,\n",
       "a:visited.sk-estimator-doc-link.fitted {\n",
       "  /* fitted */\n",
       "  border: var(--sklearn-color-fitted-level-1) 1pt solid;\n",
       "  color: var(--sklearn-color-fitted-level-1);\n",
       "}\n",
       "\n",
       "/* On hover */\n",
       "div.sk-estimator:hover .sk-estimator-doc-link:hover,\n",
       ".sk-estimator-doc-link:hover,\n",
       "div.sk-label-container:hover .sk-estimator-doc-link:hover,\n",
       ".sk-estimator-doc-link:hover {\n",
       "  /* unfitted */\n",
       "  background-color: var(--sklearn-color-unfitted-level-3);\n",
       "  color: var(--sklearn-color-background);\n",
       "  text-decoration: none;\n",
       "}\n",
       "\n",
       "div.sk-estimator.fitted:hover .sk-estimator-doc-link.fitted:hover,\n",
       ".sk-estimator-doc-link.fitted:hover,\n",
       "div.sk-label-container:hover .sk-estimator-doc-link.fitted:hover,\n",
       ".sk-estimator-doc-link.fitted:hover {\n",
       "  /* fitted */\n",
       "  background-color: var(--sklearn-color-fitted-level-3);\n",
       "  color: var(--sklearn-color-background);\n",
       "  text-decoration: none;\n",
       "}\n",
       "\n",
       "/* Span, style for the box shown on hovering the info icon */\n",
       ".sk-estimator-doc-link span {\n",
       "  display: none;\n",
       "  z-index: 9999;\n",
       "  position: relative;\n",
       "  font-weight: normal;\n",
       "  right: .2ex;\n",
       "  padding: .5ex;\n",
       "  margin: .5ex;\n",
       "  width: min-content;\n",
       "  min-width: 20ex;\n",
       "  max-width: 50ex;\n",
       "  color: var(--sklearn-color-text);\n",
       "  box-shadow: 2pt 2pt 4pt #999;\n",
       "  /* unfitted */\n",
       "  background: var(--sklearn-color-unfitted-level-0);\n",
       "  border: .5pt solid var(--sklearn-color-unfitted-level-3);\n",
       "}\n",
       "\n",
       ".sk-estimator-doc-link.fitted span {\n",
       "  /* fitted */\n",
       "  background: var(--sklearn-color-fitted-level-0);\n",
       "  border: var(--sklearn-color-fitted-level-3);\n",
       "}\n",
       "\n",
       ".sk-estimator-doc-link:hover span {\n",
       "  display: block;\n",
       "}\n",
       "\n",
       "/* \"?\"-specific style due to the `<a>` HTML tag */\n",
       "\n",
       "#sk-container-id-3 a.estimator_doc_link {\n",
       "  float: right;\n",
       "  font-size: 1rem;\n",
       "  line-height: 1em;\n",
       "  font-family: monospace;\n",
       "  background-color: var(--sklearn-color-background);\n",
       "  border-radius: 1rem;\n",
       "  height: 1rem;\n",
       "  width: 1rem;\n",
       "  text-decoration: none;\n",
       "  /* unfitted */\n",
       "  color: var(--sklearn-color-unfitted-level-1);\n",
       "  border: var(--sklearn-color-unfitted-level-1) 1pt solid;\n",
       "}\n",
       "\n",
       "#sk-container-id-3 a.estimator_doc_link.fitted {\n",
       "  /* fitted */\n",
       "  border: var(--sklearn-color-fitted-level-1) 1pt solid;\n",
       "  color: var(--sklearn-color-fitted-level-1);\n",
       "}\n",
       "\n",
       "/* On hover */\n",
       "#sk-container-id-3 a.estimator_doc_link:hover {\n",
       "  /* unfitted */\n",
       "  background-color: var(--sklearn-color-unfitted-level-3);\n",
       "  color: var(--sklearn-color-background);\n",
       "  text-decoration: none;\n",
       "}\n",
       "\n",
       "#sk-container-id-3 a.estimator_doc_link.fitted:hover {\n",
       "  /* fitted */\n",
       "  background-color: var(--sklearn-color-fitted-level-3);\n",
       "}\n",
       "</style><div id=\"sk-container-id-3\" class=\"sk-top-container\"><div class=\"sk-text-repr-fallback\"><pre>GridSearchCV(cv=5,\n",
       "             estimator=Pipeline(steps=[(&#x27;model&#x27;,\n",
       "                                        LogisticRegression(random_state=42))]),\n",
       "             n_jobs=-1,\n",
       "             param_grid=[{&#x27;model&#x27;: [LogisticRegression(random_state=42)],\n",
       "                          &#x27;model__C&#x27;: [0.01, 0.1, 1, 10],\n",
       "                          &#x27;model__penalty&#x27;: [&#x27;l1&#x27;, &#x27;l2&#x27;],\n",
       "                          &#x27;model__solver&#x27;: [&#x27;liblinear&#x27;]},\n",
       "                         {&#x27;model&#x27;: [DecisionTreeClassifier(random_state=42)],\n",
       "                          &#x27;model__max_depth&#x27;: range(2, 12),\n",
       "                          &#x27;model__min_samples_leaf&#x27;: range(2, 8),\n",
       "                          &#x27;model__min_samples_split&#x27;: range(2, 10)},\n",
       "                         {&#x27;model&#x27;: [SVC(probability=True)],\n",
       "                          &#x27;model__C&#x27;: [1, 10, 8, 15, 100],\n",
       "                          &#x27;model__kernel&#x27;: [&#x27;linear&#x27;, &#x27;rbf&#x27;]}],\n",
       "             scoring=&#x27;roc_auc&#x27;)</pre><b>In a Jupyter environment, please rerun this cell to show the HTML representation or trust the notebook. <br />On GitHub, the HTML representation is unable to render, please try loading this page with nbviewer.org.</b></div><div class=\"sk-container\" hidden><div class=\"sk-item sk-dashed-wrapped\"><div class=\"sk-label-container\"><div class=\"sk-label fitted sk-toggleable\"><input class=\"sk-toggleable__control sk-hidden--visually\" id=\"sk-estimator-id-5\" type=\"checkbox\" ><label for=\"sk-estimator-id-5\" class=\"sk-toggleable__label fitted sk-toggleable__label-arrow fitted\">&nbsp;&nbsp;GridSearchCV<a class=\"sk-estimator-doc-link fitted\" rel=\"noreferrer\" target=\"_blank\" href=\"https://scikit-learn.org/1.5/modules/generated/sklearn.model_selection.GridSearchCV.html\">?<span>Documentation for GridSearchCV</span></a><span class=\"sk-estimator-doc-link fitted\">i<span>Fitted</span></span></label><div class=\"sk-toggleable__content fitted\"><pre>GridSearchCV(cv=5,\n",
       "             estimator=Pipeline(steps=[(&#x27;model&#x27;,\n",
       "                                        LogisticRegression(random_state=42))]),\n",
       "             n_jobs=-1,\n",
       "             param_grid=[{&#x27;model&#x27;: [LogisticRegression(random_state=42)],\n",
       "                          &#x27;model__C&#x27;: [0.01, 0.1, 1, 10],\n",
       "                          &#x27;model__penalty&#x27;: [&#x27;l1&#x27;, &#x27;l2&#x27;],\n",
       "                          &#x27;model__solver&#x27;: [&#x27;liblinear&#x27;]},\n",
       "                         {&#x27;model&#x27;: [DecisionTreeClassifier(random_state=42)],\n",
       "                          &#x27;model__max_depth&#x27;: range(2, 12),\n",
       "                          &#x27;model__min_samples_leaf&#x27;: range(2, 8),\n",
       "                          &#x27;model__min_samples_split&#x27;: range(2, 10)},\n",
       "                         {&#x27;model&#x27;: [SVC(probability=True)],\n",
       "                          &#x27;model__C&#x27;: [1, 10, 8, 15, 100],\n",
       "                          &#x27;model__kernel&#x27;: [&#x27;linear&#x27;, &#x27;rbf&#x27;]}],\n",
       "             scoring=&#x27;roc_auc&#x27;)</pre></div> </div></div><div class=\"sk-parallel\"><div class=\"sk-parallel-item\"><div class=\"sk-item\"><div class=\"sk-label-container\"><div class=\"sk-label fitted sk-toggleable\"><input class=\"sk-toggleable__control sk-hidden--visually\" id=\"sk-estimator-id-6\" type=\"checkbox\" ><label for=\"sk-estimator-id-6\" class=\"sk-toggleable__label fitted sk-toggleable__label-arrow fitted\">best_estimator_: Pipeline</label><div class=\"sk-toggleable__content fitted\"><pre>Pipeline(steps=[(&#x27;model&#x27;, SVC(C=10, probability=True))])</pre></div> </div></div><div class=\"sk-serial\"><div class=\"sk-item\"><div class=\"sk-serial\"><div class=\"sk-item\"><div class=\"sk-estimator fitted sk-toggleable\"><input class=\"sk-toggleable__control sk-hidden--visually\" id=\"sk-estimator-id-7\" type=\"checkbox\" ><label for=\"sk-estimator-id-7\" class=\"sk-toggleable__label fitted sk-toggleable__label-arrow fitted\">&nbsp;SVC<a class=\"sk-estimator-doc-link fitted\" rel=\"noreferrer\" target=\"_blank\" href=\"https://scikit-learn.org/1.5/modules/generated/sklearn.svm.SVC.html\">?<span>Documentation for SVC</span></a></label><div class=\"sk-toggleable__content fitted\"><pre>SVC(C=10, probability=True)</pre></div> </div></div></div></div></div></div></div></div></div></div></div>"
      ],
      "text/plain": [
       "GridSearchCV(cv=5,\n",
       "             estimator=Pipeline(steps=[('model',\n",
       "                                        LogisticRegression(random_state=42))]),\n",
       "             n_jobs=-1,\n",
       "             param_grid=[{'model': [LogisticRegression(random_state=42)],\n",
       "                          'model__C': [0.01, 0.1, 1, 10],\n",
       "                          'model__penalty': ['l1', 'l2'],\n",
       "                          'model__solver': ['liblinear']},\n",
       "                         {'model': [DecisionTreeClassifier(random_state=42)],\n",
       "                          'model__max_depth': range(2, 12),\n",
       "                          'model__min_samples_leaf': range(2, 8),\n",
       "                          'model__min_samples_split': range(2, 10)},\n",
       "                         {'model': [SVC(probability=True)],\n",
       "                          'model__C': [1, 10, 8, 15, 100],\n",
       "                          'model__kernel': ['linear', 'rbf']}],\n",
       "             scoring='roc_auc')"
      ]
     },
     "execution_count": 96,
     "metadata": {},
     "output_type": "execute_result"
    }
   ],
   "source": [
    "%%time\n",
    "grid_search.fit(X_train_transformed, y_train)"
   ]
  },
  {
   "cell_type": "code",
   "execution_count": 97,
   "id": "2c19b72f",
   "metadata": {},
   "outputs": [
    {
     "name": "stdout",
     "output_type": "stream",
     "text": [
      "Параметр roc_auc у лучшей модели - 0.931196714457465\n"
     ]
    }
   ],
   "source": [
    "print(f'Параметр roc_auc у лучшей модели - {grid_search.best_score_}')"
   ]
  },
  {
   "cell_type": "code",
   "execution_count": 98,
   "id": "beed91c0",
   "metadata": {},
   "outputs": [],
   "source": [
    "test_features['job_satisfaction_rate'] = y_pred"
   ]
  },
  {
   "cell_type": "code",
   "execution_count": 99,
   "id": "bcf5de58",
   "metadata": {},
   "outputs": [
    {
     "data": {
      "text/html": [
       "<div>\n",
       "<style scoped>\n",
       "    .dataframe tbody tr th:only-of-type {\n",
       "        vertical-align: middle;\n",
       "    }\n",
       "\n",
       "    .dataframe tbody tr th {\n",
       "        vertical-align: top;\n",
       "    }\n",
       "\n",
       "    .dataframe thead th {\n",
       "        text-align: right;\n",
       "    }\n",
       "</style>\n",
       "<table border=\"1\" class=\"dataframe\">\n",
       "  <thead>\n",
       "    <tr style=\"text-align: right;\">\n",
       "      <th></th>\n",
       "      <th>id</th>\n",
       "      <th>dept</th>\n",
       "      <th>level</th>\n",
       "      <th>workload</th>\n",
       "      <th>employment_years</th>\n",
       "      <th>last_year_promo</th>\n",
       "      <th>last_year_violations</th>\n",
       "      <th>supervisor_evaluation</th>\n",
       "      <th>salary</th>\n",
       "      <th>job_satisfaction_rate</th>\n",
       "    </tr>\n",
       "  </thead>\n",
       "  <tbody>\n",
       "    <tr>\n",
       "      <th>0</th>\n",
       "      <td>485046</td>\n",
       "      <td>marketing</td>\n",
       "      <td>junior</td>\n",
       "      <td>medium</td>\n",
       "      <td>2</td>\n",
       "      <td>no</td>\n",
       "      <td>no</td>\n",
       "      <td>5</td>\n",
       "      <td>28800</td>\n",
       "      <td>0.757254</td>\n",
       "    </tr>\n",
       "    <tr>\n",
       "      <th>1</th>\n",
       "      <td>686555</td>\n",
       "      <td>hr</td>\n",
       "      <td>junior</td>\n",
       "      <td>medium</td>\n",
       "      <td>1</td>\n",
       "      <td>no</td>\n",
       "      <td>no</td>\n",
       "      <td>4</td>\n",
       "      <td>30000</td>\n",
       "      <td>0.638153</td>\n",
       "    </tr>\n",
       "    <tr>\n",
       "      <th>2</th>\n",
       "      <td>467458</td>\n",
       "      <td>sales</td>\n",
       "      <td>middle</td>\n",
       "      <td>low</td>\n",
       "      <td>5</td>\n",
       "      <td>no</td>\n",
       "      <td>no</td>\n",
       "      <td>4</td>\n",
       "      <td>19200</td>\n",
       "      <td>0.553813</td>\n",
       "    </tr>\n",
       "    <tr>\n",
       "      <th>3</th>\n",
       "      <td>418655</td>\n",
       "      <td>sales</td>\n",
       "      <td>middle</td>\n",
       "      <td>low</td>\n",
       "      <td>6</td>\n",
       "      <td>no</td>\n",
       "      <td>no</td>\n",
       "      <td>4</td>\n",
       "      <td>19200</td>\n",
       "      <td>0.585589</td>\n",
       "    </tr>\n",
       "    <tr>\n",
       "      <th>4</th>\n",
       "      <td>789145</td>\n",
       "      <td>hr</td>\n",
       "      <td>middle</td>\n",
       "      <td>medium</td>\n",
       "      <td>5</td>\n",
       "      <td>no</td>\n",
       "      <td>no</td>\n",
       "      <td>5</td>\n",
       "      <td>40800</td>\n",
       "      <td>0.783444</td>\n",
       "    </tr>\n",
       "  </tbody>\n",
       "</table>\n",
       "</div>"
      ],
      "text/plain": [
       "       id       dept   level workload  employment_years last_year_promo  \\\n",
       "0  485046  marketing  junior   medium                 2              no   \n",
       "1  686555         hr  junior   medium                 1              no   \n",
       "2  467458      sales  middle      low                 5              no   \n",
       "3  418655      sales  middle      low                 6              no   \n",
       "4  789145         hr  middle   medium                 5              no   \n",
       "\n",
       "  last_year_violations  supervisor_evaluation  salary  job_satisfaction_rate  \n",
       "0                   no                      5   28800               0.757254  \n",
       "1                   no                      4   30000               0.638153  \n",
       "2                   no                      4   19200               0.553813  \n",
       "3                   no                      4   19200               0.585589  \n",
       "4                   no                      5   40800               0.783444  "
      ]
     },
     "execution_count": 99,
     "metadata": {},
     "output_type": "execute_result"
    }
   ],
   "source": [
    "test_features.head()"
   ]
  },
  {
   "cell_type": "code",
   "execution_count": 100,
   "id": "dc7a45a8",
   "metadata": {},
   "outputs": [
    {
     "data": {
      "text/html": [
       "<div>\n",
       "<style scoped>\n",
       "    .dataframe tbody tr th:only-of-type {\n",
       "        vertical-align: middle;\n",
       "    }\n",
       "\n",
       "    .dataframe tbody tr th {\n",
       "        vertical-align: top;\n",
       "    }\n",
       "\n",
       "    .dataframe thead th {\n",
       "        text-align: right;\n",
       "    }\n",
       "</style>\n",
       "<table border=\"1\" class=\"dataframe\">\n",
       "  <thead>\n",
       "    <tr style=\"text-align: right;\">\n",
       "      <th></th>\n",
       "      <th>id</th>\n",
       "      <th>quit</th>\n",
       "    </tr>\n",
       "  </thead>\n",
       "  <tbody>\n",
       "    <tr>\n",
       "      <th>0</th>\n",
       "      <td>999029</td>\n",
       "      <td>yes</td>\n",
       "    </tr>\n",
       "    <tr>\n",
       "      <th>1</th>\n",
       "      <td>372846</td>\n",
       "      <td>no</td>\n",
       "    </tr>\n",
       "    <tr>\n",
       "      <th>2</th>\n",
       "      <td>726767</td>\n",
       "      <td>no</td>\n",
       "    </tr>\n",
       "    <tr>\n",
       "      <th>3</th>\n",
       "      <td>490105</td>\n",
       "      <td>no</td>\n",
       "    </tr>\n",
       "    <tr>\n",
       "      <th>4</th>\n",
       "      <td>416898</td>\n",
       "      <td>yes</td>\n",
       "    </tr>\n",
       "  </tbody>\n",
       "</table>\n",
       "</div>"
      ],
      "text/plain": [
       "       id quit\n",
       "0  999029  yes\n",
       "1  372846   no\n",
       "2  726767   no\n",
       "3  490105   no\n",
       "4  416898  yes"
      ]
     },
     "execution_count": 100,
     "metadata": {},
     "output_type": "execute_result"
    }
   ],
   "source": [
    "test_target.head()"
   ]
  },
  {
   "cell_type": "code",
   "execution_count": 101,
   "id": "3d1f2b38",
   "metadata": {},
   "outputs": [],
   "source": [
    "test_target = test_features[['id']].merge(test_target)"
   ]
  },
  {
   "cell_type": "code",
   "execution_count": 102,
   "id": "53dbb882",
   "metadata": {},
   "outputs": [],
   "source": [
    "X_test_transformed = data_preprocessor.transform(test_features.drop(['id', 'dept'], axis=1))"
   ]
  },
  {
   "cell_type": "code",
   "execution_count": 103,
   "id": "c30cafda",
   "metadata": {},
   "outputs": [],
   "source": [
    "y_pred_proba = grid_search.predict_proba(X_test_transformed)"
   ]
  },
  {
   "cell_type": "code",
   "execution_count": 104,
   "id": "69072a19",
   "metadata": {},
   "outputs": [
    {
     "name": "stdout",
     "output_type": "stream",
     "text": [
      "Метрика roc_auc на тестовой выборке - 0.9058585955866374\n"
     ]
    }
   ],
   "source": [
    "print(f\"Метрика roc_auc на тестовой выборке - {roc_auc_score(test_target['quit'], y_pred_proba[:, 1])}\")"
   ]
  },
  {
   "cell_type": "markdown",
   "id": "8a678c2b",
   "metadata": {},
   "source": [
    "### Выводы"
   ]
  },
  {
   "cell_type": "code",
   "execution_count": 105,
   "id": "f26084f0",
   "metadata": {},
   "outputs": [
    {
     "data": {
      "text/plain": [
       "{'model': SVC(probability=True), 'model__C': 10, 'model__kernel': 'rbf'}"
      ]
     },
     "execution_count": 105,
     "metadata": {},
     "output_type": "execute_result"
    }
   ],
   "source": [
    "grid_search.best_params_"
   ]
  },
  {
   "cell_type": "markdown",
   "id": "c50f5a23",
   "metadata": {},
   "source": [
    "Лучшая модель - модель опорных векторов с ядром rbf и параметром регуляризации C=10"
   ]
  },
  {
   "cell_type": "markdown",
   "id": "f05814d1",
   "metadata": {},
   "source": [
    "# Общий вывод"
   ]
  },
  {
   "cell_type": "markdown",
   "id": "dfeedb5f",
   "metadata": {},
   "source": [
    "Требовалось обучить две модели, которые бы предсказывали уровень удовлетворенности работой, а также уволится ли сотрудник.\n",
    "\n",
    "Для этого были исправлены ошибки в данных, и они были подготовлены для обучения моделей.\n",
    "На основе метрики SMAPE была выбрана модель дерева решений, которая предсказываает уровень удовлетворенности.\n",
    "Подобные процессы были проделаны и с данными, имеющими информацию об уволившихся сотрудниках.\n",
    "Была подобрана модель опорных векторов, которая показала наилучшую метрику ROC AUC, что показывает её \"уверенность\" в прогнозах\n",
    "\n",
    "Можно сделать вывод, что увольняются чаще всего сотрудники на позиции junior, которые работали в фирме не более двух лет и не получали повышение. Возможно, причина может быть в том, что условия для позиции middle не устраивают сотрудников, либо же они вовсе не могут получить повышение, из-за чего становится легче уволиться"
   ]
  }
 ],
 "metadata": {
  "ExecuteTimeLog": [
   {
    "duration": 1465,
    "start_time": "2024-08-02T05:09:47.828Z"
   },
   {
    "duration": 58,
    "start_time": "2024-08-02T05:10:36.766Z"
   },
   {
    "duration": 142,
    "start_time": "2024-08-02T05:10:42.617Z"
   },
   {
    "duration": 83,
    "start_time": "2024-08-02T05:11:20.121Z"
   },
   {
    "duration": 95,
    "start_time": "2024-08-02T05:12:05.818Z"
   },
   {
    "duration": 136,
    "start_time": "2024-08-02T05:12:45.288Z"
   },
   {
    "duration": 15,
    "start_time": "2024-08-02T05:12:55.767Z"
   },
   {
    "duration": 76,
    "start_time": "2024-08-02T05:13:17.816Z"
   },
   {
    "duration": 10,
    "start_time": "2024-08-02T05:13:23.808Z"
   },
   {
    "duration": 7,
    "start_time": "2024-08-02T05:13:33.512Z"
   },
   {
    "duration": 2,
    "start_time": "2024-08-02T05:14:09.776Z"
   },
   {
    "duration": 28,
    "start_time": "2024-08-02T05:14:28.044Z"
   },
   {
    "duration": 17,
    "start_time": "2024-08-02T05:19:43.089Z"
   },
   {
    "duration": 22,
    "start_time": "2024-08-02T05:20:11.216Z"
   },
   {
    "duration": 15,
    "start_time": "2024-08-02T05:24:01.657Z"
   },
   {
    "duration": 12,
    "start_time": "2024-08-02T05:25:33.888Z"
   },
   {
    "duration": 20,
    "start_time": "2024-08-02T05:27:36.409Z"
   },
   {
    "duration": 9,
    "start_time": "2024-08-02T05:27:56.384Z"
   },
   {
    "duration": 10,
    "start_time": "2024-08-02T05:29:29.465Z"
   },
   {
    "duration": 10,
    "start_time": "2024-08-02T05:29:35.541Z"
   },
   {
    "duration": 12,
    "start_time": "2024-08-02T05:30:36.432Z"
   },
   {
    "duration": 33,
    "start_time": "2024-08-02T05:34:11.593Z"
   },
   {
    "duration": 41,
    "start_time": "2024-08-02T05:34:20.097Z"
   },
   {
    "duration": 12,
    "start_time": "2024-08-02T05:34:32.405Z"
   },
   {
    "duration": 6,
    "start_time": "2024-08-02T05:35:21.877Z"
   },
   {
    "duration": 4,
    "start_time": "2024-08-02T05:36:39.797Z"
   },
   {
    "duration": 4,
    "start_time": "2024-08-02T05:36:52.610Z"
   },
   {
    "duration": 13,
    "start_time": "2024-08-02T05:38:21.129Z"
   },
   {
    "duration": 14,
    "start_time": "2024-08-02T05:39:11.453Z"
   },
   {
    "duration": 75,
    "start_time": "2024-08-02T05:39:17.653Z"
   },
   {
    "duration": 11,
    "start_time": "2024-08-02T05:39:18.081Z"
   },
   {
    "duration": 10,
    "start_time": "2024-08-02T05:39:18.313Z"
   },
   {
    "duration": 8,
    "start_time": "2024-08-02T05:39:18.585Z"
   },
   {
    "duration": 3,
    "start_time": "2024-08-02T05:39:18.781Z"
   },
   {
    "duration": 24,
    "start_time": "2024-08-02T05:39:19.013Z"
   },
   {
    "duration": 15,
    "start_time": "2024-08-02T05:39:19.789Z"
   },
   {
    "duration": 11,
    "start_time": "2024-08-02T05:39:19.969Z"
   },
   {
    "duration": 9,
    "start_time": "2024-08-02T05:39:20.317Z"
   },
   {
    "duration": 11,
    "start_time": "2024-08-02T05:39:20.717Z"
   },
   {
    "duration": 15,
    "start_time": "2024-08-02T05:39:20.869Z"
   },
   {
    "duration": 13,
    "start_time": "2024-08-02T05:39:21.269Z"
   },
   {
    "duration": 7,
    "start_time": "2024-08-02T05:39:21.469Z"
   },
   {
    "duration": 4,
    "start_time": "2024-08-02T05:39:22.081Z"
   },
   {
    "duration": 3,
    "start_time": "2024-08-02T05:39:22.261Z"
   },
   {
    "duration": 11,
    "start_time": "2024-08-02T05:39:22.501Z"
   },
   {
    "duration": 45,
    "start_time": "2024-08-02T10:26:40.643Z"
   },
   {
    "duration": 1270,
    "start_time": "2024-08-02T10:26:45.549Z"
   },
   {
    "duration": 305,
    "start_time": "2024-08-02T10:26:46.821Z"
   },
   {
    "duration": 14,
    "start_time": "2024-08-02T10:26:47.128Z"
   },
   {
    "duration": 9,
    "start_time": "2024-08-02T10:26:47.144Z"
   },
   {
    "duration": 7,
    "start_time": "2024-08-02T10:26:47.154Z"
   },
   {
    "duration": 3,
    "start_time": "2024-08-02T10:26:47.163Z"
   },
   {
    "duration": 26,
    "start_time": "2024-08-02T10:26:47.167Z"
   },
   {
    "duration": 38,
    "start_time": "2024-08-02T10:26:47.194Z"
   },
   {
    "duration": 11,
    "start_time": "2024-08-02T10:26:47.233Z"
   },
   {
    "duration": 9,
    "start_time": "2024-08-02T10:26:47.246Z"
   },
   {
    "duration": 10,
    "start_time": "2024-08-02T10:26:47.256Z"
   },
   {
    "duration": 12,
    "start_time": "2024-08-02T10:26:47.268Z"
   },
   {
    "duration": 13,
    "start_time": "2024-08-02T10:26:47.282Z"
   },
   {
    "duration": 6,
    "start_time": "2024-08-02T10:26:47.323Z"
   },
   {
    "duration": 14,
    "start_time": "2024-08-02T10:26:47.330Z"
   },
   {
    "duration": 6,
    "start_time": "2024-08-02T10:26:47.345Z"
   },
   {
    "duration": 16,
    "start_time": "2024-08-02T10:26:47.353Z"
   },
   {
    "duration": 1983,
    "start_time": "2024-08-02T10:26:47.370Z"
   },
   {
    "duration": 1084,
    "start_time": "2024-08-02T10:27:04.934Z"
   },
   {
    "duration": 14,
    "start_time": "2024-08-02T10:27:14.980Z"
   },
   {
    "duration": 1082,
    "start_time": "2024-08-02T10:27:29.669Z"
   },
   {
    "duration": 4,
    "start_time": "2024-08-02T10:27:57.607Z"
   },
   {
    "duration": 879,
    "start_time": "2024-08-02T10:28:04.485Z"
   },
   {
    "duration": 5,
    "start_time": "2024-08-02T10:28:14.366Z"
   },
   {
    "duration": 15,
    "start_time": "2024-08-02T10:28:26.847Z"
   },
   {
    "duration": 1953,
    "start_time": "2024-08-02T10:28:47.196Z"
   },
   {
    "duration": 625,
    "start_time": "2024-08-02T10:30:43.699Z"
   },
   {
    "duration": 1534,
    "start_time": "2024-08-02T10:33:48.325Z"
   },
   {
    "duration": 616,
    "start_time": "2024-08-02T10:35:07.524Z"
   },
   {
    "duration": 11,
    "start_time": "2024-08-02T10:35:46.781Z"
   },
   {
    "duration": 6,
    "start_time": "2024-08-02T10:36:00.204Z"
   },
   {
    "duration": 12,
    "start_time": "2024-08-02T10:36:01.581Z"
   },
   {
    "duration": 12,
    "start_time": "2024-08-02T10:36:15.029Z"
   },
   {
    "duration": 6,
    "start_time": "2024-08-02T10:36:30.091Z"
   },
   {
    "duration": 10,
    "start_time": "2024-08-02T10:36:31.484Z"
   },
   {
    "duration": 526,
    "start_time": "2024-08-02T10:36:49.031Z"
   },
   {
    "duration": 800,
    "start_time": "2024-08-02T10:37:14.661Z"
   },
   {
    "duration": 4,
    "start_time": "2024-08-02T10:41:05.020Z"
   },
   {
    "duration": 10,
    "start_time": "2024-08-02T10:41:28.517Z"
   },
   {
    "duration": 4,
    "start_time": "2024-08-02T10:42:16.966Z"
   },
   {
    "duration": 3,
    "start_time": "2024-08-02T10:42:32.966Z"
   },
   {
    "duration": 6,
    "start_time": "2024-08-02T10:43:10.188Z"
   },
   {
    "duration": 4,
    "start_time": "2024-08-02T10:43:28.539Z"
   },
   {
    "duration": 9,
    "start_time": "2024-08-02T10:44:31.703Z"
   },
   {
    "duration": 4,
    "start_time": "2024-08-02T10:45:40.117Z"
   },
   {
    "duration": 8,
    "start_time": "2024-08-02T10:47:42.512Z"
   },
   {
    "duration": 1094,
    "start_time": "2024-08-02T11:54:31.827Z"
   },
   {
    "duration": 2,
    "start_time": "2024-08-02T11:54:58.819Z"
   },
   {
    "duration": 1034,
    "start_time": "2024-08-02T11:55:02.379Z"
   },
   {
    "duration": 86,
    "start_time": "2024-08-02T11:55:03.415Z"
   },
   {
    "duration": 14,
    "start_time": "2024-08-02T11:55:03.502Z"
   },
   {
    "duration": 10,
    "start_time": "2024-08-02T11:55:03.518Z"
   },
   {
    "duration": 11,
    "start_time": "2024-08-02T11:55:03.529Z"
   },
   {
    "duration": 4,
    "start_time": "2024-08-02T11:55:03.541Z"
   },
   {
    "duration": 33,
    "start_time": "2024-08-02T11:55:03.546Z"
   },
   {
    "duration": 13,
    "start_time": "2024-08-02T11:55:03.580Z"
   },
   {
    "duration": 10,
    "start_time": "2024-08-02T11:55:03.594Z"
   },
   {
    "duration": 26,
    "start_time": "2024-08-02T11:55:03.606Z"
   },
   {
    "duration": 10,
    "start_time": "2024-08-02T11:55:03.633Z"
   },
   {
    "duration": 11,
    "start_time": "2024-08-02T11:55:03.645Z"
   },
   {
    "duration": 11,
    "start_time": "2024-08-02T11:55:03.658Z"
   },
   {
    "duration": 5,
    "start_time": "2024-08-02T11:55:03.671Z"
   },
   {
    "duration": 5,
    "start_time": "2024-08-02T11:55:03.678Z"
   },
   {
    "duration": 42,
    "start_time": "2024-08-02T11:55:03.684Z"
   },
   {
    "duration": 20,
    "start_time": "2024-08-02T11:55:03.727Z"
   },
   {
    "duration": 1998,
    "start_time": "2024-08-02T11:55:03.748Z"
   },
   {
    "duration": 630,
    "start_time": "2024-08-02T11:55:05.748Z"
   },
   {
    "duration": 1568,
    "start_time": "2024-08-02T11:55:06.379Z"
   },
   {
    "duration": 613,
    "start_time": "2024-08-02T11:55:07.949Z"
   },
   {
    "duration": 792,
    "start_time": "2024-08-02T11:55:08.563Z"
   },
   {
    "duration": 4,
    "start_time": "2024-08-02T11:55:09.356Z"
   },
   {
    "duration": 7,
    "start_time": "2024-08-02T11:55:09.361Z"
   },
   {
    "duration": 5,
    "start_time": "2024-08-02T11:55:09.369Z"
   },
   {
    "duration": 9,
    "start_time": "2024-08-02T11:55:09.375Z"
   },
   {
    "duration": 9,
    "start_time": "2024-08-02T11:55:09.385Z"
   },
   {
    "duration": 3,
    "start_time": "2024-08-02T11:55:09.397Z"
   },
   {
    "duration": 113,
    "start_time": "2024-08-02T11:55:09.401Z"
   },
   {
    "duration": 220,
    "start_time": "2024-08-02T11:56:08.292Z"
   },
   {
    "duration": 7,
    "start_time": "2024-08-02T11:56:49.861Z"
   },
   {
    "duration": 17,
    "start_time": "2024-08-02T11:58:12.489Z"
   },
   {
    "duration": 3,
    "start_time": "2024-08-02T11:58:38.637Z"
   },
   {
    "duration": 4,
    "start_time": "2024-08-02T11:58:42.381Z"
   },
   {
    "duration": 8,
    "start_time": "2024-08-02T11:59:13.905Z"
   },
   {
    "duration": 2,
    "start_time": "2024-08-02T11:59:28.469Z"
   },
   {
    "duration": 763,
    "start_time": "2024-08-02T11:59:54.409Z"
   },
   {
    "duration": 5,
    "start_time": "2024-08-02T12:00:28.744Z"
   },
   {
    "duration": 4,
    "start_time": "2024-08-02T12:00:30.461Z"
   },
   {
    "duration": 7,
    "start_time": "2024-08-02T12:00:30.673Z"
   },
   {
    "duration": 4,
    "start_time": "2024-08-02T12:00:30.981Z"
   },
   {
    "duration": 3,
    "start_time": "2024-08-02T12:00:31.517Z"
   },
   {
    "duration": 11,
    "start_time": "2024-08-02T12:00:32.057Z"
   },
   {
    "duration": 4,
    "start_time": "2024-08-02T12:09:51.730Z"
   },
   {
    "duration": 3,
    "start_time": "2024-08-02T12:09:53.364Z"
   },
   {
    "duration": 11,
    "start_time": "2024-08-02T12:09:54.638Z"
   },
   {
    "duration": 5,
    "start_time": "2024-08-02T12:10:07.261Z"
   },
   {
    "duration": 7,
    "start_time": "2024-08-02T12:10:07.777Z"
   },
   {
    "duration": 4,
    "start_time": "2024-08-02T12:10:08.293Z"
   },
   {
    "duration": 3,
    "start_time": "2024-08-02T12:10:08.713Z"
   },
   {
    "duration": 11,
    "start_time": "2024-08-02T12:10:09.054Z"
   },
   {
    "duration": 8,
    "start_time": "2024-08-02T12:15:08.989Z"
   },
   {
    "duration": 21,
    "start_time": "2024-08-02T12:15:52.190Z"
   },
   {
    "duration": 4,
    "start_time": "2024-08-02T12:16:13.890Z"
   },
   {
    "duration": 11,
    "start_time": "2024-08-02T12:16:16.309Z"
   },
   {
    "duration": 4,
    "start_time": "2024-08-02T12:16:20.506Z"
   },
   {
    "duration": 3,
    "start_time": "2024-08-02T12:16:20.806Z"
   },
   {
    "duration": 22,
    "start_time": "2024-08-02T12:16:21.162Z"
   },
   {
    "duration": 24314,
    "start_time": "2024-08-02T12:17:01.594Z"
   },
   {
    "duration": 5152,
    "start_time": "2024-08-02T12:17:39.003Z"
   },
   {
    "duration": 1525,
    "start_time": "2024-08-02T12:17:44.157Z"
   },
   {
    "duration": 84,
    "start_time": "2024-08-02T12:17:45.684Z"
   },
   {
    "duration": 16,
    "start_time": "2024-08-02T12:17:45.770Z"
   },
   {
    "duration": 9,
    "start_time": "2024-08-02T12:17:45.788Z"
   },
   {
    "duration": 14,
    "start_time": "2024-08-02T12:17:45.798Z"
   },
   {
    "duration": 3,
    "start_time": "2024-08-02T12:17:45.813Z"
   },
   {
    "duration": 26,
    "start_time": "2024-08-02T12:17:45.817Z"
   },
   {
    "duration": 13,
    "start_time": "2024-08-02T12:17:45.844Z"
   },
   {
    "duration": 9,
    "start_time": "2024-08-02T12:17:45.859Z"
   },
   {
    "duration": 41,
    "start_time": "2024-08-02T12:17:45.870Z"
   },
   {
    "duration": 9,
    "start_time": "2024-08-02T12:17:45.912Z"
   },
   {
    "duration": 11,
    "start_time": "2024-08-02T12:17:45.923Z"
   },
   {
    "duration": 12,
    "start_time": "2024-08-02T12:17:45.936Z"
   },
   {
    "duration": 6,
    "start_time": "2024-08-02T12:17:45.949Z"
   },
   {
    "duration": 9,
    "start_time": "2024-08-02T12:17:45.956Z"
   },
   {
    "duration": 8,
    "start_time": "2024-08-02T12:17:45.966Z"
   },
   {
    "duration": 12,
    "start_time": "2024-08-02T12:17:45.975Z"
   },
   {
    "duration": 2647,
    "start_time": "2024-08-02T12:17:45.988Z"
   },
   {
    "duration": 1152,
    "start_time": "2024-08-02T12:17:48.636Z"
   },
   {
    "duration": 1974,
    "start_time": "2024-08-02T12:17:49.789Z"
   },
   {
    "duration": 1116,
    "start_time": "2024-08-02T12:17:51.765Z"
   },
   {
    "duration": 968,
    "start_time": "2024-08-02T12:17:52.883Z"
   },
   {
    "duration": 3,
    "start_time": "2024-08-02T12:17:53.853Z"
   },
   {
    "duration": 6,
    "start_time": "2024-08-02T12:17:53.857Z"
   },
   {
    "duration": 5,
    "start_time": "2024-08-02T12:17:53.865Z"
   },
   {
    "duration": 9,
    "start_time": "2024-08-02T12:17:53.872Z"
   },
   {
    "duration": 4,
    "start_time": "2024-08-02T12:17:53.884Z"
   },
   {
    "duration": 7,
    "start_time": "2024-08-02T12:17:53.890Z"
   },
   {
    "duration": 27,
    "start_time": "2024-08-02T12:17:53.898Z"
   },
   {
    "duration": 5,
    "start_time": "2024-08-02T12:17:53.926Z"
   },
   {
    "duration": 20,
    "start_time": "2024-08-02T12:17:53.932Z"
   },
   {
    "duration": 12,
    "start_time": "2024-08-02T12:17:53.953Z"
   },
   {
    "duration": 12,
    "start_time": "2024-08-02T12:18:27.518Z"
   },
   {
    "duration": 103,
    "start_time": "2024-08-02T12:18:39.862Z"
   },
   {
    "duration": 6,
    "start_time": "2024-08-02T12:21:24.737Z"
   },
   {
    "duration": 325,
    "start_time": "2024-08-02T12:21:37.509Z"
   },
   {
    "duration": 12,
    "start_time": "2024-08-02T12:22:24.745Z"
   },
   {
    "duration": 9,
    "start_time": "2024-08-02T12:23:07.481Z"
   },
   {
    "duration": 9,
    "start_time": "2024-08-02T12:23:11.798Z"
   },
   {
    "duration": 3009,
    "start_time": "2024-08-02T12:23:24.344Z"
   },
   {
    "duration": 112,
    "start_time": "2024-08-02T12:23:32.285Z"
   },
   {
    "duration": 24,
    "start_time": "2024-08-02T12:23:38.634Z"
   },
   {
    "duration": 955,
    "start_time": "2024-08-02T12:24:07.158Z"
   },
   {
    "duration": 326,
    "start_time": "2024-08-02T12:30:24.483Z"
   },
   {
    "duration": 319,
    "start_time": "2024-08-02T12:30:34.509Z"
   },
   {
    "duration": 57,
    "start_time": "2024-08-02T12:31:00.525Z"
   },
   {
    "duration": 2902,
    "start_time": "2024-08-02T12:31:06.391Z"
   },
   {
    "duration": 3,
    "start_time": "2024-08-02T12:34:21.873Z"
   },
   {
    "duration": 3,
    "start_time": "2024-08-02T12:35:16.872Z"
   },
   {
    "duration": 3,
    "start_time": "2024-08-02T12:35:57.113Z"
   },
   {
    "duration": 8,
    "start_time": "2024-08-02T12:39:27.186Z"
   },
   {
    "duration": 58,
    "start_time": "2024-08-02T12:40:37.674Z"
   },
   {
    "duration": 15,
    "start_time": "2024-08-02T12:41:33.426Z"
   },
   {
    "duration": 3,
    "start_time": "2024-08-02T12:42:00.838Z"
   },
   {
    "duration": 9,
    "start_time": "2024-08-02T12:42:11.320Z"
   },
   {
    "duration": 9,
    "start_time": "2024-08-02T12:42:22.481Z"
   },
   {
    "duration": 3,
    "start_time": "2024-08-02T12:42:32.067Z"
   },
   {
    "duration": 3,
    "start_time": "2024-08-02T12:42:33.487Z"
   },
   {
    "duration": 4,
    "start_time": "2024-08-02T12:43:12.990Z"
   },
   {
    "duration": 8,
    "start_time": "2024-08-02T12:43:41.902Z"
   },
   {
    "duration": 3,
    "start_time": "2024-08-02T12:43:54.186Z"
   },
   {
    "duration": 21,
    "start_time": "2024-08-02T12:44:15.996Z"
   },
   {
    "duration": 3,
    "start_time": "2024-08-02T12:44:47.266Z"
   },
   {
    "duration": 4,
    "start_time": "2024-08-02T12:44:48.941Z"
   },
   {
    "duration": 6,
    "start_time": "2024-08-02T12:44:49.165Z"
   },
   {
    "duration": 20,
    "start_time": "2024-08-02T12:44:49.685Z"
   },
   {
    "duration": 2,
    "start_time": "2024-08-02T12:46:33.246Z"
   },
   {
    "duration": 2,
    "start_time": "2024-08-02T12:46:34.130Z"
   },
   {
    "duration": 2166,
    "start_time": "2024-08-02T12:46:34.417Z"
   },
   {
    "duration": 4,
    "start_time": "2024-08-02T12:46:55.454Z"
   },
   {
    "duration": 3,
    "start_time": "2024-08-02T12:49:53.538Z"
   },
   {
    "duration": 3,
    "start_time": "2024-08-02T12:50:00.411Z"
   },
   {
    "duration": 2,
    "start_time": "2024-08-02T12:50:00.678Z"
   },
   {
    "duration": 2638,
    "start_time": "2024-08-02T12:50:01.043Z"
   },
   {
    "duration": 4,
    "start_time": "2024-08-02T12:50:05.061Z"
   },
   {
    "duration": 3,
    "start_time": "2024-08-02T12:50:17.062Z"
   },
   {
    "duration": 3,
    "start_time": "2024-08-02T12:50:17.283Z"
   },
   {
    "duration": 9515,
    "start_time": "2024-08-02T12:50:17.466Z"
   },
   {
    "duration": 4,
    "start_time": "2024-08-02T12:50:26.983Z"
   },
   {
    "duration": 58,
    "start_time": "2024-08-02T12:52:06.972Z"
   },
   {
    "duration": 3,
    "start_time": "2024-08-02T12:52:15.177Z"
   },
   {
    "duration": 7,
    "start_time": "2024-08-02T12:52:33.409Z"
   },
   {
    "duration": 4,
    "start_time": "2024-08-02T12:52:43.229Z"
   },
   {
    "duration": 4,
    "start_time": "2024-08-02T12:54:53.078Z"
   },
   {
    "duration": 4,
    "start_time": "2024-08-02T12:55:06.491Z"
   },
   {
    "duration": 3,
    "start_time": "2024-08-02T12:55:44.482Z"
   },
   {
    "duration": 9,
    "start_time": "2024-08-02T12:55:51.598Z"
   },
   {
    "duration": 3,
    "start_time": "2024-08-02T12:56:39.208Z"
   },
   {
    "duration": 4,
    "start_time": "2024-08-02T12:56:43.579Z"
   },
   {
    "duration": 3,
    "start_time": "2024-08-02T12:56:45.412Z"
   },
   {
    "duration": 13,
    "start_time": "2024-08-02T12:56:45.715Z"
   },
   {
    "duration": 6,
    "start_time": "2024-08-02T12:56:54.586Z"
   },
   {
    "duration": 7,
    "start_time": "2024-08-02T12:58:31.222Z"
   },
   {
    "duration": 6,
    "start_time": "2024-08-02T13:00:20.846Z"
   },
   {
    "duration": 5695,
    "start_time": "2024-08-02T13:00:27.186Z"
   },
   {
    "duration": 2417,
    "start_time": "2024-08-02T13:00:32.883Z"
   },
   {
    "duration": 1511,
    "start_time": "2024-08-02T13:00:35.302Z"
   },
   {
    "duration": 85,
    "start_time": "2024-08-02T13:00:36.815Z"
   },
   {
    "duration": 19,
    "start_time": "2024-08-02T13:00:36.901Z"
   },
   {
    "duration": 11,
    "start_time": "2024-08-02T13:00:36.922Z"
   },
   {
    "duration": 8,
    "start_time": "2024-08-02T13:00:36.934Z"
   },
   {
    "duration": 3,
    "start_time": "2024-08-02T13:00:36.944Z"
   },
   {
    "duration": 42,
    "start_time": "2024-08-02T13:00:36.949Z"
   },
   {
    "duration": 13,
    "start_time": "2024-08-02T13:00:36.994Z"
   },
   {
    "duration": 88,
    "start_time": "2024-08-02T13:00:37.009Z"
   },
   {
    "duration": 11,
    "start_time": "2024-08-02T13:00:37.098Z"
   },
   {
    "duration": 10,
    "start_time": "2024-08-02T13:00:37.111Z"
   },
   {
    "duration": 10,
    "start_time": "2024-08-02T13:00:37.122Z"
   },
   {
    "duration": 12,
    "start_time": "2024-08-02T13:00:37.133Z"
   },
   {
    "duration": 7,
    "start_time": "2024-08-02T13:00:37.146Z"
   },
   {
    "duration": 5,
    "start_time": "2024-08-02T13:00:37.154Z"
   },
   {
    "duration": 4,
    "start_time": "2024-08-02T13:00:37.160Z"
   },
   {
    "duration": 6,
    "start_time": "2024-08-02T13:00:37.166Z"
   },
   {
    "duration": 11,
    "start_time": "2024-08-02T13:00:37.174Z"
   },
   {
    "duration": 2570,
    "start_time": "2024-08-02T13:00:37.187Z"
   },
   {
    "duration": 1121,
    "start_time": "2024-08-02T13:00:39.758Z"
   },
   {
    "duration": 2070,
    "start_time": "2024-08-02T13:00:40.880Z"
   },
   {
    "duration": 1121,
    "start_time": "2024-08-02T13:00:42.952Z"
   },
   {
    "duration": 967,
    "start_time": "2024-08-02T13:00:44.075Z"
   },
   {
    "duration": 6,
    "start_time": "2024-08-02T13:00:45.043Z"
   },
   {
    "duration": 383,
    "start_time": "2024-08-02T13:00:45.050Z"
   },
   {
    "duration": 801,
    "start_time": "2024-08-02T13:00:45.436Z"
   },
   {
    "duration": 4,
    "start_time": "2024-08-02T13:00:46.238Z"
   },
   {
    "duration": 14,
    "start_time": "2024-08-02T13:00:46.243Z"
   },
   {
    "duration": 4,
    "start_time": "2024-08-02T13:00:46.258Z"
   },
   {
    "duration": 3,
    "start_time": "2024-08-02T13:00:46.263Z"
   },
   {
    "duration": 11,
    "start_time": "2024-08-02T13:00:46.267Z"
   },
   {
    "duration": 4,
    "start_time": "2024-08-02T13:00:46.279Z"
   },
   {
    "duration": 8,
    "start_time": "2024-08-02T13:00:46.285Z"
   },
   {
    "duration": 5,
    "start_time": "2024-08-02T13:00:46.295Z"
   },
   {
    "duration": 8,
    "start_time": "2024-08-02T13:00:46.301Z"
   },
   {
    "duration": 22,
    "start_time": "2024-08-02T13:00:46.311Z"
   },
   {
    "duration": 10,
    "start_time": "2024-08-02T13:00:46.335Z"
   },
   {
    "duration": 3,
    "start_time": "2024-08-02T13:00:46.347Z"
   },
   {
    "duration": 7,
    "start_time": "2024-08-02T13:00:46.351Z"
   },
   {
    "duration": 3,
    "start_time": "2024-08-02T13:00:46.360Z"
   },
   {
    "duration": 4,
    "start_time": "2024-08-02T13:00:46.364Z"
   },
   {
    "duration": 3,
    "start_time": "2024-08-02T13:00:46.369Z"
   },
   {
    "duration": 9461,
    "start_time": "2024-08-02T13:00:46.374Z"
   },
   {
    "duration": 3,
    "start_time": "2024-08-02T13:00:55.836Z"
   },
   {
    "duration": 45,
    "start_time": "2024-08-02T13:00:55.840Z"
   },
   {
    "duration": 4,
    "start_time": "2024-08-02T13:00:55.886Z"
   },
   {
    "duration": 216,
    "start_time": "2024-08-02T13:00:55.923Z"
   },
   {
    "duration": 0,
    "start_time": "2024-08-02T13:00:56.141Z"
   },
   {
    "duration": 0,
    "start_time": "2024-08-02T13:00:56.142Z"
   },
   {
    "duration": 222,
    "start_time": "2024-08-02T13:03:06.811Z"
   },
   {
    "duration": 6,
    "start_time": "2024-08-02T13:03:52.234Z"
   },
   {
    "duration": 5418,
    "start_time": "2024-08-02T13:04:56.472Z"
   },
   {
    "duration": 2473,
    "start_time": "2024-08-02T13:05:01.892Z"
   },
   {
    "duration": 1483,
    "start_time": "2024-08-02T13:05:04.366Z"
   },
   {
    "duration": 85,
    "start_time": "2024-08-02T13:05:05.851Z"
   },
   {
    "duration": 18,
    "start_time": "2024-08-02T13:05:05.937Z"
   },
   {
    "duration": 9,
    "start_time": "2024-08-02T13:05:05.956Z"
   },
   {
    "duration": 17,
    "start_time": "2024-08-02T13:05:05.967Z"
   },
   {
    "duration": 3,
    "start_time": "2024-08-02T13:05:05.986Z"
   },
   {
    "duration": 28,
    "start_time": "2024-08-02T13:05:05.990Z"
   },
   {
    "duration": 15,
    "start_time": "2024-08-02T13:05:06.023Z"
   },
   {
    "duration": 11,
    "start_time": "2024-08-02T13:05:06.040Z"
   },
   {
    "duration": 9,
    "start_time": "2024-08-02T13:05:06.053Z"
   },
   {
    "duration": 11,
    "start_time": "2024-08-02T13:05:06.063Z"
   },
   {
    "duration": 12,
    "start_time": "2024-08-02T13:05:06.076Z"
   },
   {
    "duration": 44,
    "start_time": "2024-08-02T13:05:06.089Z"
   },
   {
    "duration": 13,
    "start_time": "2024-08-02T13:05:06.135Z"
   },
   {
    "duration": 14,
    "start_time": "2024-08-02T13:05:06.149Z"
   },
   {
    "duration": 5,
    "start_time": "2024-08-02T13:05:06.164Z"
   },
   {
    "duration": 7,
    "start_time": "2024-08-02T13:05:06.170Z"
   },
   {
    "duration": 10,
    "start_time": "2024-08-02T13:05:06.179Z"
   },
   {
    "duration": 2664,
    "start_time": "2024-08-02T13:05:06.191Z"
   },
   {
    "duration": 1194,
    "start_time": "2024-08-02T13:05:08.856Z"
   },
   {
    "duration": 2108,
    "start_time": "2024-08-02T13:05:10.051Z"
   },
   {
    "duration": 1195,
    "start_time": "2024-08-02T13:05:12.160Z"
   },
   {
    "duration": 986,
    "start_time": "2024-08-02T13:05:13.356Z"
   },
   {
    "duration": 6,
    "start_time": "2024-08-02T13:05:14.343Z"
   },
   {
    "duration": 296,
    "start_time": "2024-08-02T13:05:14.351Z"
   },
   {
    "duration": 850,
    "start_time": "2024-08-02T13:05:14.650Z"
   },
   {
    "duration": 4,
    "start_time": "2024-08-02T13:05:15.502Z"
   },
   {
    "duration": 19,
    "start_time": "2024-08-02T13:05:15.507Z"
   },
   {
    "duration": 4,
    "start_time": "2024-08-02T13:05:15.528Z"
   },
   {
    "duration": 2,
    "start_time": "2024-08-02T13:05:15.534Z"
   },
   {
    "duration": 23,
    "start_time": "2024-08-02T13:05:15.537Z"
   },
   {
    "duration": 40,
    "start_time": "2024-08-02T13:05:15.561Z"
   },
   {
    "duration": 21,
    "start_time": "2024-08-02T13:05:15.603Z"
   },
   {
    "duration": 7,
    "start_time": "2024-08-02T13:05:15.626Z"
   },
   {
    "duration": 4,
    "start_time": "2024-08-02T13:05:15.634Z"
   },
   {
    "duration": 26,
    "start_time": "2024-08-02T13:05:15.639Z"
   },
   {
    "duration": 13,
    "start_time": "2024-08-02T13:05:15.667Z"
   },
   {
    "duration": 37,
    "start_time": "2024-08-02T13:05:15.681Z"
   },
   {
    "duration": 41,
    "start_time": "2024-08-02T13:05:15.719Z"
   },
   {
    "duration": 4,
    "start_time": "2024-08-02T13:05:15.761Z"
   },
   {
    "duration": 9,
    "start_time": "2024-08-02T13:05:15.766Z"
   },
   {
    "duration": 3,
    "start_time": "2024-08-02T13:05:15.776Z"
   },
   {
    "duration": 9368,
    "start_time": "2024-08-02T13:05:15.781Z"
   },
   {
    "duration": 3,
    "start_time": "2024-08-02T13:05:25.151Z"
   },
   {
    "duration": 7,
    "start_time": "2024-08-02T13:05:25.155Z"
   },
   {
    "duration": 8,
    "start_time": "2024-08-02T13:05:25.163Z"
   },
   {
    "duration": 18,
    "start_time": "2024-08-02T13:05:25.173Z"
   },
   {
    "duration": 5,
    "start_time": "2024-08-02T13:05:25.192Z"
   },
   {
    "duration": 5,
    "start_time": "2024-08-02T13:06:49.523Z"
   },
   {
    "duration": 3,
    "start_time": "2024-08-02T13:08:00.964Z"
   },
   {
    "duration": 2,
    "start_time": "2024-08-02T13:08:03.276Z"
   },
   {
    "duration": 3,
    "start_time": "2024-08-02T13:08:03.517Z"
   },
   {
    "duration": 34357,
    "start_time": "2024-08-02T13:08:04.068Z"
   },
   {
    "duration": 3,
    "start_time": "2024-08-02T13:08:42.432Z"
   },
   {
    "duration": 3,
    "start_time": "2024-08-02T13:09:03.001Z"
   },
   {
    "duration": 4,
    "start_time": "2024-08-02T13:09:04.796Z"
   },
   {
    "duration": 4,
    "start_time": "2024-08-02T13:09:08.463Z"
   },
   {
    "duration": 3,
    "start_time": "2024-08-02T13:09:37.784Z"
   },
   {
    "duration": 5,
    "start_time": "2024-08-02T13:09:38.204Z"
   },
   {
    "duration": 5,
    "start_time": "2024-08-02T13:09:40.869Z"
   },
   {
    "duration": 6,
    "start_time": "2024-08-02T13:09:42.155Z"
   },
   {
    "duration": 231,
    "start_time": "2024-08-02T13:12:56.390Z"
   },
   {
    "duration": 34,
    "start_time": "2024-08-02T13:13:16.475Z"
   },
   {
    "duration": 5,
    "start_time": "2024-08-02T13:15:27.217Z"
   },
   {
    "duration": 6,
    "start_time": "2024-08-02T13:15:45.247Z"
   },
   {
    "duration": 11,
    "start_time": "2024-08-02T13:16:25.424Z"
   },
   {
    "duration": 31,
    "start_time": "2024-08-02T13:16:35.448Z"
   },
   {
    "duration": 117,
    "start_time": "2024-08-02T13:20:15.356Z"
   },
   {
    "duration": 20,
    "start_time": "2024-08-02T13:20:32.920Z"
   },
   {
    "duration": 2,
    "start_time": "2024-08-02T13:20:49.668Z"
   },
   {
    "duration": 7,
    "start_time": "2024-08-02T13:21:04.817Z"
   },
   {
    "duration": 14,
    "start_time": "2024-08-02T13:21:22.295Z"
   },
   {
    "duration": 9,
    "start_time": "2024-08-02T13:22:10.652Z"
   },
   {
    "duration": 6,
    "start_time": "2024-08-02T13:22:29.063Z"
   },
   {
    "duration": 9,
    "start_time": "2024-08-02T13:22:55.052Z"
   },
   {
    "duration": 7,
    "start_time": "2024-08-02T13:23:22.212Z"
   },
   {
    "duration": 14,
    "start_time": "2024-08-02T13:24:06.712Z"
   },
   {
    "duration": 5310,
    "start_time": "2024-08-02T13:25:12.165Z"
   },
   {
    "duration": 2512,
    "start_time": "2024-08-02T13:25:17.478Z"
   },
   {
    "duration": 1537,
    "start_time": "2024-08-02T13:25:19.992Z"
   },
   {
    "duration": 84,
    "start_time": "2024-08-02T13:25:21.532Z"
   },
   {
    "duration": 18,
    "start_time": "2024-08-02T13:25:21.618Z"
   },
   {
    "duration": 9,
    "start_time": "2024-08-02T13:25:21.638Z"
   },
   {
    "duration": 11,
    "start_time": "2024-08-02T13:25:21.648Z"
   },
   {
    "duration": 5,
    "start_time": "2024-08-02T13:25:21.660Z"
   },
   {
    "duration": 26,
    "start_time": "2024-08-02T13:25:21.666Z"
   },
   {
    "duration": 35,
    "start_time": "2024-08-02T13:25:21.694Z"
   },
   {
    "duration": 14,
    "start_time": "2024-08-02T13:25:21.730Z"
   },
   {
    "duration": 55,
    "start_time": "2024-08-02T13:25:21.746Z"
   },
   {
    "duration": 9,
    "start_time": "2024-08-02T13:25:21.803Z"
   },
   {
    "duration": 10,
    "start_time": "2024-08-02T13:25:21.813Z"
   },
   {
    "duration": 11,
    "start_time": "2024-08-02T13:25:21.825Z"
   },
   {
    "duration": 9,
    "start_time": "2024-08-02T13:25:21.837Z"
   },
   {
    "duration": 12,
    "start_time": "2024-08-02T13:25:21.847Z"
   },
   {
    "duration": 7,
    "start_time": "2024-08-02T13:25:21.860Z"
   },
   {
    "duration": 8,
    "start_time": "2024-08-02T13:25:21.868Z"
   },
   {
    "duration": 14,
    "start_time": "2024-08-02T13:25:21.878Z"
   },
   {
    "duration": 2670,
    "start_time": "2024-08-02T13:25:21.893Z"
   },
   {
    "duration": 1106,
    "start_time": "2024-08-02T13:25:24.564Z"
   },
   {
    "duration": 2077,
    "start_time": "2024-08-02T13:25:25.671Z"
   },
   {
    "duration": 1028,
    "start_time": "2024-08-02T13:25:27.750Z"
   },
   {
    "duration": 961,
    "start_time": "2024-08-02T13:25:28.779Z"
   },
   {
    "duration": 6,
    "start_time": "2024-08-02T13:25:29.742Z"
   },
   {
    "duration": 303,
    "start_time": "2024-08-02T13:25:29.750Z"
   },
   {
    "duration": 853,
    "start_time": "2024-08-02T13:25:30.056Z"
   },
   {
    "duration": 4,
    "start_time": "2024-08-02T13:25:30.910Z"
   },
   {
    "duration": 50,
    "start_time": "2024-08-02T13:25:30.915Z"
   },
   {
    "duration": 26,
    "start_time": "2024-08-02T13:25:30.967Z"
   },
   {
    "duration": 17,
    "start_time": "2024-08-02T13:25:30.995Z"
   },
   {
    "duration": 33,
    "start_time": "2024-08-02T13:25:31.013Z"
   },
   {
    "duration": 42,
    "start_time": "2024-08-02T13:25:31.047Z"
   },
   {
    "duration": 87,
    "start_time": "2024-08-02T13:25:31.091Z"
   },
   {
    "duration": 4,
    "start_time": "2024-08-02T13:25:31.179Z"
   },
   {
    "duration": 36,
    "start_time": "2024-08-02T13:25:31.184Z"
   },
   {
    "duration": 44,
    "start_time": "2024-08-02T13:25:31.222Z"
   },
   {
    "duration": 17,
    "start_time": "2024-08-02T13:25:31.268Z"
   },
   {
    "duration": 14,
    "start_time": "2024-08-02T13:25:31.286Z"
   },
   {
    "duration": 20,
    "start_time": "2024-08-02T13:25:31.301Z"
   },
   {
    "duration": 17,
    "start_time": "2024-08-02T13:25:31.322Z"
   },
   {
    "duration": 23,
    "start_time": "2024-08-02T13:25:31.340Z"
   },
   {
    "duration": 12,
    "start_time": "2024-08-02T13:25:31.365Z"
   },
   {
    "duration": 34117,
    "start_time": "2024-08-02T13:25:31.378Z"
   },
   {
    "duration": 3,
    "start_time": "2024-08-02T13:26:05.496Z"
   },
   {
    "duration": 5,
    "start_time": "2024-08-02T13:26:05.501Z"
   },
   {
    "duration": 18,
    "start_time": "2024-08-02T13:26:05.507Z"
   },
   {
    "duration": 9,
    "start_time": "2024-08-02T13:26:05.526Z"
   },
   {
    "duration": 23,
    "start_time": "2024-08-02T13:26:05.536Z"
   },
   {
    "duration": 2,
    "start_time": "2024-08-02T13:26:05.561Z"
   },
   {
    "duration": 10,
    "start_time": "2024-08-02T13:26:05.564Z"
   },
   {
    "duration": 242,
    "start_time": "2024-08-02T13:26:05.576Z"
   },
   {
    "duration": 0,
    "start_time": "2024-08-02T13:26:05.824Z"
   },
   {
    "duration": 11,
    "start_time": "2024-08-02T13:27:21.077Z"
   },
   {
    "duration": 462,
    "start_time": "2024-08-02T13:27:33.099Z"
   },
   {
    "duration": 45,
    "start_time": "2024-08-02T13:28:07.298Z"
   },
   {
    "duration": 7,
    "start_time": "2024-08-02T13:30:01.710Z"
   },
   {
    "duration": 7,
    "start_time": "2024-08-02T13:30:08.394Z"
   },
   {
    "duration": 7,
    "start_time": "2024-08-02T13:30:14.373Z"
   },
   {
    "duration": 9,
    "start_time": "2024-08-02T13:31:09.998Z"
   },
   {
    "duration": 6,
    "start_time": "2024-08-02T13:31:24.449Z"
   },
   {
    "duration": 9,
    "start_time": "2024-08-02T13:32:15.830Z"
   },
   {
    "duration": 9,
    "start_time": "2024-08-02T13:32:26.177Z"
   },
   {
    "duration": 7,
    "start_time": "2024-08-02T13:33:06.539Z"
   },
   {
    "duration": 7,
    "start_time": "2024-08-02T13:33:11.979Z"
   },
   {
    "duration": 7,
    "start_time": "2024-08-02T13:33:39.345Z"
   },
   {
    "duration": 11,
    "start_time": "2024-08-02T13:34:01.156Z"
   },
   {
    "duration": 8,
    "start_time": "2024-08-02T13:36:08.094Z"
   },
   {
    "duration": 6,
    "start_time": "2024-08-02T13:36:12.730Z"
   },
   {
    "duration": 10,
    "start_time": "2024-08-02T13:38:34.551Z"
   },
   {
    "duration": 2,
    "start_time": "2024-08-02T13:38:37.399Z"
   },
   {
    "duration": 17,
    "start_time": "2024-08-02T13:38:38.575Z"
   },
   {
    "duration": 42,
    "start_time": "2024-08-02T13:39:15.065Z"
   },
   {
    "duration": 25,
    "start_time": "2024-08-02T13:39:24.807Z"
   },
   {
    "duration": 18,
    "start_time": "2024-08-02T13:40:06.630Z"
   },
   {
    "duration": 6,
    "start_time": "2024-08-02T13:41:11.207Z"
   },
   {
    "duration": 5,
    "start_time": "2024-08-02T13:42:38.554Z"
   },
   {
    "duration": 84,
    "start_time": "2024-08-02T13:42:51.523Z"
   },
   {
    "duration": 10,
    "start_time": "2024-08-02T13:42:51.726Z"
   },
   {
    "duration": 10,
    "start_time": "2024-08-02T13:42:51.930Z"
   },
   {
    "duration": 7,
    "start_time": "2024-08-02T13:42:52.089Z"
   },
   {
    "duration": 3,
    "start_time": "2024-08-02T13:42:52.313Z"
   },
   {
    "duration": 25,
    "start_time": "2024-08-02T13:42:52.490Z"
   },
   {
    "duration": 15,
    "start_time": "2024-08-02T13:42:53.479Z"
   },
   {
    "duration": 11,
    "start_time": "2024-08-02T13:42:53.677Z"
   },
   {
    "duration": 8,
    "start_time": "2024-08-02T13:42:54.137Z"
   },
   {
    "duration": 10,
    "start_time": "2024-08-02T13:42:55.045Z"
   },
   {
    "duration": 11,
    "start_time": "2024-08-02T13:42:55.381Z"
   },
   {
    "duration": 12,
    "start_time": "2024-08-02T13:42:56.633Z"
   },
   {
    "duration": 2,
    "start_time": "2024-08-02T13:42:57.134Z"
   },
   {
    "duration": 5,
    "start_time": "2024-08-02T13:42:57.798Z"
   },
   {
    "duration": 2,
    "start_time": "2024-08-02T13:42:58.217Z"
   },
   {
    "duration": 12,
    "start_time": "2024-08-02T13:42:58.652Z"
   },
   {
    "duration": 5,
    "start_time": "2024-08-02T13:42:59.198Z"
   },
   {
    "duration": 6,
    "start_time": "2024-08-02T13:43:02.370Z"
   },
   {
    "duration": 4,
    "start_time": "2024-08-02T13:43:12.655Z"
   },
   {
    "duration": 4,
    "start_time": "2024-08-02T13:43:12.926Z"
   },
   {
    "duration": 5,
    "start_time": "2024-08-02T13:43:13.126Z"
   },
   {
    "duration": 3,
    "start_time": "2024-08-02T13:43:13.328Z"
   },
   {
    "duration": 9,
    "start_time": "2024-08-02T13:43:13.574Z"
   },
   {
    "duration": 5,
    "start_time": "2024-08-02T13:43:13.861Z"
   },
   {
    "duration": 7,
    "start_time": "2024-08-02T13:43:14.520Z"
   },
   {
    "duration": 6,
    "start_time": "2024-08-02T13:43:15.226Z"
   },
   {
    "duration": 3,
    "start_time": "2024-08-02T13:43:30.957Z"
   },
   {
    "duration": 2,
    "start_time": "2024-08-02T13:43:31.178Z"
   },
   {
    "duration": 18,
    "start_time": "2024-08-02T13:43:31.438Z"
   },
   {
    "duration": 13,
    "start_time": "2024-08-02T13:43:32.684Z"
   },
   {
    "duration": 9,
    "start_time": "2024-08-02T13:43:49.702Z"
   },
   {
    "duration": 3,
    "start_time": "2024-08-02T13:43:52.131Z"
   },
   {
    "duration": 6,
    "start_time": "2024-08-02T13:44:13.574Z"
   },
   {
    "duration": 4,
    "start_time": "2024-08-02T13:44:33.279Z"
   },
   {
    "duration": 14,
    "start_time": "2024-08-02T13:46:39.705Z"
   },
   {
    "duration": 17,
    "start_time": "2024-08-02T13:46:59.606Z"
   },
   {
    "duration": 10,
    "start_time": "2024-08-02T13:47:51.390Z"
   },
   {
    "duration": 6,
    "start_time": "2024-08-02T13:48:40.554Z"
   },
   {
    "duration": 4,
    "start_time": "2024-08-02T13:49:09.011Z"
   },
   {
    "duration": 16,
    "start_time": "2024-08-02T13:49:29.151Z"
   },
   {
    "duration": 2,
    "start_time": "2024-08-02T13:49:33.102Z"
   },
   {
    "duration": 20,
    "start_time": "2024-08-02T13:49:34.458Z"
   },
   {
    "duration": 11,
    "start_time": "2024-08-02T13:49:46.194Z"
   },
   {
    "duration": 16,
    "start_time": "2024-08-02T13:49:54.269Z"
   },
   {
    "duration": 4,
    "start_time": "2024-08-02T13:50:40.902Z"
   },
   {
    "duration": 4,
    "start_time": "2024-08-02T13:50:54.213Z"
   },
   {
    "duration": 56,
    "start_time": "2024-08-02T13:51:04.305Z"
   },
   {
    "duration": 3,
    "start_time": "2024-08-02T13:51:08.837Z"
   },
   {
    "duration": 3,
    "start_time": "2024-08-02T13:51:15.670Z"
   },
   {
    "duration": 470,
    "start_time": "2024-08-02T13:51:45.971Z"
   },
   {
    "duration": 64,
    "start_time": "2024-08-02T14:06:41.453Z"
   },
   {
    "duration": 77,
    "start_time": "2024-08-02T14:06:59.177Z"
   },
   {
    "duration": 143,
    "start_time": "2024-08-02T14:07:07.292Z"
   },
   {
    "duration": 36,
    "start_time": "2024-08-02T14:07:50.803Z"
   },
   {
    "duration": 42,
    "start_time": "2024-08-02T14:09:04.667Z"
   },
   {
    "duration": 11,
    "start_time": "2024-08-02T14:09:12.398Z"
   },
   {
    "duration": 11,
    "start_time": "2024-08-02T14:09:24.610Z"
   },
   {
    "duration": 130,
    "start_time": "2024-08-02T14:09:48.524Z"
   },
   {
    "duration": 14,
    "start_time": "2024-08-02T14:09:50.199Z"
   },
   {
    "duration": 6,
    "start_time": "2024-08-02T14:09:52.023Z"
   },
   {
    "duration": 84,
    "start_time": "2024-08-02T14:18:24.207Z"
   },
   {
    "duration": 11,
    "start_time": "2024-08-02T14:19:52.988Z"
   },
   {
    "duration": 12,
    "start_time": "2024-08-02T14:20:10.951Z"
   },
   {
    "duration": 4,
    "start_time": "2024-08-02T14:20:29.723Z"
   },
   {
    "duration": 10,
    "start_time": "2024-08-02T14:20:41.531Z"
   },
   {
    "duration": 2,
    "start_time": "2024-08-02T14:21:36.575Z"
   },
   {
    "duration": 19,
    "start_time": "2024-08-02T14:22:01.112Z"
   },
   {
    "duration": 12,
    "start_time": "2024-08-02T14:22:23.440Z"
   },
   {
    "duration": 10,
    "start_time": "2024-08-02T14:22:51.373Z"
   },
   {
    "duration": 10,
    "start_time": "2024-08-02T14:23:11.820Z"
   },
   {
    "duration": 16,
    "start_time": "2024-08-02T14:23:22.213Z"
   },
   {
    "duration": 12,
    "start_time": "2024-08-02T14:23:25.483Z"
   },
   {
    "duration": 17,
    "start_time": "2024-08-02T14:24:03.867Z"
   },
   {
    "duration": 10,
    "start_time": "2024-08-02T14:24:12.674Z"
   },
   {
    "duration": 84,
    "start_time": "2024-08-02T14:24:14.517Z"
   },
   {
    "duration": 3,
    "start_time": "2024-08-02T14:24:19.628Z"
   },
   {
    "duration": 3,
    "start_time": "2024-08-02T14:24:20.159Z"
   },
   {
    "duration": 21,
    "start_time": "2024-08-02T14:24:20.748Z"
   },
   {
    "duration": 21,
    "start_time": "2024-08-02T14:25:03.663Z"
   },
   {
    "duration": 5155,
    "start_time": "2024-08-02T14:25:42.413Z"
   },
   {
    "duration": 2456,
    "start_time": "2024-08-02T14:25:47.570Z"
   },
   {
    "duration": 1896,
    "start_time": "2024-08-02T14:25:50.028Z"
   },
   {
    "duration": 87,
    "start_time": "2024-08-02T14:25:51.926Z"
   },
   {
    "duration": 17,
    "start_time": "2024-08-02T14:25:52.015Z"
   },
   {
    "duration": 9,
    "start_time": "2024-08-02T14:25:52.033Z"
   },
   {
    "duration": 7,
    "start_time": "2024-08-02T14:25:52.044Z"
   },
   {
    "duration": 12,
    "start_time": "2024-08-02T14:25:52.052Z"
   },
   {
    "duration": 45,
    "start_time": "2024-08-02T14:25:52.066Z"
   },
   {
    "duration": 17,
    "start_time": "2024-08-02T14:25:52.113Z"
   },
   {
    "duration": 25,
    "start_time": "2024-08-02T14:25:52.132Z"
   },
   {
    "duration": 25,
    "start_time": "2024-08-02T14:25:52.158Z"
   },
   {
    "duration": 10,
    "start_time": "2024-08-02T14:25:52.184Z"
   },
   {
    "duration": 11,
    "start_time": "2024-08-02T14:25:52.195Z"
   },
   {
    "duration": 12,
    "start_time": "2024-08-02T14:25:52.207Z"
   },
   {
    "duration": 158,
    "start_time": "2024-08-02T14:25:52.221Z"
   },
   {
    "duration": 0,
    "start_time": "2024-08-02T14:25:52.382Z"
   },
   {
    "duration": 0,
    "start_time": "2024-08-02T14:25:52.383Z"
   },
   {
    "duration": 0,
    "start_time": "2024-08-02T14:25:52.385Z"
   },
   {
    "duration": 0,
    "start_time": "2024-08-02T14:25:52.386Z"
   },
   {
    "duration": 0,
    "start_time": "2024-08-02T14:25:52.387Z"
   },
   {
    "duration": 0,
    "start_time": "2024-08-02T14:25:52.388Z"
   },
   {
    "duration": 0,
    "start_time": "2024-08-02T14:25:52.389Z"
   },
   {
    "duration": 0,
    "start_time": "2024-08-02T14:25:52.390Z"
   },
   {
    "duration": 0,
    "start_time": "2024-08-02T14:25:52.391Z"
   },
   {
    "duration": 0,
    "start_time": "2024-08-02T14:25:52.392Z"
   },
   {
    "duration": 0,
    "start_time": "2024-08-02T14:25:52.393Z"
   },
   {
    "duration": 0,
    "start_time": "2024-08-02T14:25:52.394Z"
   },
   {
    "duration": 0,
    "start_time": "2024-08-02T14:25:52.395Z"
   },
   {
    "duration": 0,
    "start_time": "2024-08-02T14:25:52.396Z"
   },
   {
    "duration": 0,
    "start_time": "2024-08-02T14:25:52.397Z"
   },
   {
    "duration": 0,
    "start_time": "2024-08-02T14:25:52.424Z"
   },
   {
    "duration": 0,
    "start_time": "2024-08-02T14:25:52.425Z"
   },
   {
    "duration": 0,
    "start_time": "2024-08-02T14:25:52.426Z"
   },
   {
    "duration": 0,
    "start_time": "2024-08-02T14:25:52.427Z"
   },
   {
    "duration": 0,
    "start_time": "2024-08-02T14:25:52.428Z"
   },
   {
    "duration": 0,
    "start_time": "2024-08-02T14:25:52.429Z"
   },
   {
    "duration": 0,
    "start_time": "2024-08-02T14:25:52.430Z"
   },
   {
    "duration": 0,
    "start_time": "2024-08-02T14:25:52.430Z"
   },
   {
    "duration": 0,
    "start_time": "2024-08-02T14:25:52.431Z"
   },
   {
    "duration": 0,
    "start_time": "2024-08-02T14:25:52.432Z"
   },
   {
    "duration": 0,
    "start_time": "2024-08-02T14:25:52.435Z"
   },
   {
    "duration": 0,
    "start_time": "2024-08-02T14:25:52.436Z"
   },
   {
    "duration": 0,
    "start_time": "2024-08-02T14:25:52.436Z"
   },
   {
    "duration": 0,
    "start_time": "2024-08-02T14:25:52.437Z"
   },
   {
    "duration": 0,
    "start_time": "2024-08-02T14:25:52.438Z"
   },
   {
    "duration": 0,
    "start_time": "2024-08-02T14:25:52.439Z"
   },
   {
    "duration": 0,
    "start_time": "2024-08-02T14:25:52.440Z"
   },
   {
    "duration": 0,
    "start_time": "2024-08-02T14:25:52.441Z"
   },
   {
    "duration": 0,
    "start_time": "2024-08-02T14:25:52.441Z"
   },
   {
    "duration": 0,
    "start_time": "2024-08-02T14:25:52.442Z"
   },
   {
    "duration": 0,
    "start_time": "2024-08-02T14:25:52.443Z"
   },
   {
    "duration": 0,
    "start_time": "2024-08-02T14:25:52.444Z"
   },
   {
    "duration": 0,
    "start_time": "2024-08-02T14:25:52.445Z"
   },
   {
    "duration": 0,
    "start_time": "2024-08-02T14:25:52.446Z"
   },
   {
    "duration": 0,
    "start_time": "2024-08-02T14:25:52.447Z"
   },
   {
    "duration": 0,
    "start_time": "2024-08-02T14:25:52.448Z"
   },
   {
    "duration": 0,
    "start_time": "2024-08-02T14:25:52.449Z"
   },
   {
    "duration": 0,
    "start_time": "2024-08-02T14:25:52.450Z"
   },
   {
    "duration": 0,
    "start_time": "2024-08-02T14:25:52.452Z"
   },
   {
    "duration": 0,
    "start_time": "2024-08-02T14:25:52.453Z"
   },
   {
    "duration": 0,
    "start_time": "2024-08-02T14:25:52.454Z"
   },
   {
    "duration": 5141,
    "start_time": "2024-08-02T14:26:12.818Z"
   },
   {
    "duration": 2497,
    "start_time": "2024-08-02T14:26:17.961Z"
   },
   {
    "duration": 1865,
    "start_time": "2024-08-02T14:26:20.460Z"
   },
   {
    "duration": 86,
    "start_time": "2024-08-02T14:26:22.327Z"
   },
   {
    "duration": 17,
    "start_time": "2024-08-02T14:26:22.415Z"
   },
   {
    "duration": 10,
    "start_time": "2024-08-02T14:26:22.433Z"
   },
   {
    "duration": 10,
    "start_time": "2024-08-02T14:26:22.444Z"
   },
   {
    "duration": 3,
    "start_time": "2024-08-02T14:26:22.456Z"
   },
   {
    "duration": 25,
    "start_time": "2024-08-02T14:26:22.460Z"
   },
   {
    "duration": 39,
    "start_time": "2024-08-02T14:26:22.488Z"
   },
   {
    "duration": 12,
    "start_time": "2024-08-02T14:26:22.529Z"
   },
   {
    "duration": 11,
    "start_time": "2024-08-02T14:26:22.542Z"
   },
   {
    "duration": 13,
    "start_time": "2024-08-02T14:26:22.554Z"
   },
   {
    "duration": 12,
    "start_time": "2024-08-02T14:26:22.569Z"
   },
   {
    "duration": 43,
    "start_time": "2024-08-02T14:26:22.582Z"
   },
   {
    "duration": 3,
    "start_time": "2024-08-02T14:26:22.627Z"
   },
   {
    "duration": 5,
    "start_time": "2024-08-02T14:26:22.631Z"
   },
   {
    "duration": 25,
    "start_time": "2024-08-02T14:26:22.637Z"
   },
   {
    "duration": 161,
    "start_time": "2024-08-02T14:26:22.664Z"
   },
   {
    "duration": 0,
    "start_time": "2024-08-02T14:26:22.828Z"
   },
   {
    "duration": 0,
    "start_time": "2024-08-02T14:26:22.830Z"
   },
   {
    "duration": 0,
    "start_time": "2024-08-02T14:26:22.831Z"
   },
   {
    "duration": 0,
    "start_time": "2024-08-02T14:26:22.833Z"
   },
   {
    "duration": 0,
    "start_time": "2024-08-02T14:26:22.834Z"
   },
   {
    "duration": 0,
    "start_time": "2024-08-02T14:26:22.836Z"
   },
   {
    "duration": 0,
    "start_time": "2024-08-02T14:26:22.837Z"
   },
   {
    "duration": 0,
    "start_time": "2024-08-02T14:26:22.839Z"
   },
   {
    "duration": 0,
    "start_time": "2024-08-02T14:26:22.841Z"
   },
   {
    "duration": 0,
    "start_time": "2024-08-02T14:26:22.842Z"
   },
   {
    "duration": 0,
    "start_time": "2024-08-02T14:26:22.844Z"
   },
   {
    "duration": 0,
    "start_time": "2024-08-02T14:26:22.845Z"
   },
   {
    "duration": 0,
    "start_time": "2024-08-02T14:26:22.846Z"
   },
   {
    "duration": 0,
    "start_time": "2024-08-02T14:26:22.848Z"
   },
   {
    "duration": 0,
    "start_time": "2024-08-02T14:26:22.849Z"
   },
   {
    "duration": 0,
    "start_time": "2024-08-02T14:26:22.850Z"
   },
   {
    "duration": 0,
    "start_time": "2024-08-02T14:26:22.852Z"
   },
   {
    "duration": 0,
    "start_time": "2024-08-02T14:26:22.853Z"
   },
   {
    "duration": 0,
    "start_time": "2024-08-02T14:26:22.855Z"
   },
   {
    "duration": 0,
    "start_time": "2024-08-02T14:26:22.856Z"
   },
   {
    "duration": 0,
    "start_time": "2024-08-02T14:26:22.857Z"
   },
   {
    "duration": 0,
    "start_time": "2024-08-02T14:26:22.859Z"
   },
   {
    "duration": 0,
    "start_time": "2024-08-02T14:26:22.860Z"
   },
   {
    "duration": 0,
    "start_time": "2024-08-02T14:26:22.861Z"
   },
   {
    "duration": 0,
    "start_time": "2024-08-02T14:26:22.863Z"
   },
   {
    "duration": 0,
    "start_time": "2024-08-02T14:26:22.925Z"
   },
   {
    "duration": 0,
    "start_time": "2024-08-02T14:26:22.926Z"
   },
   {
    "duration": 0,
    "start_time": "2024-08-02T14:26:22.928Z"
   },
   {
    "duration": 0,
    "start_time": "2024-08-02T14:26:22.929Z"
   },
   {
    "duration": 0,
    "start_time": "2024-08-02T14:26:22.931Z"
   },
   {
    "duration": 0,
    "start_time": "2024-08-02T14:26:22.932Z"
   },
   {
    "duration": 1,
    "start_time": "2024-08-02T14:26:22.933Z"
   },
   {
    "duration": 0,
    "start_time": "2024-08-02T14:26:22.935Z"
   },
   {
    "duration": 0,
    "start_time": "2024-08-02T14:26:22.936Z"
   },
   {
    "duration": 0,
    "start_time": "2024-08-02T14:26:22.937Z"
   },
   {
    "duration": 0,
    "start_time": "2024-08-02T14:26:22.939Z"
   },
   {
    "duration": 0,
    "start_time": "2024-08-02T14:26:22.940Z"
   },
   {
    "duration": 0,
    "start_time": "2024-08-02T14:26:22.942Z"
   },
   {
    "duration": 0,
    "start_time": "2024-08-02T14:26:22.943Z"
   },
   {
    "duration": 0,
    "start_time": "2024-08-02T14:26:22.944Z"
   },
   {
    "duration": 0,
    "start_time": "2024-08-02T14:26:22.946Z"
   },
   {
    "duration": 0,
    "start_time": "2024-08-02T14:26:22.947Z"
   },
   {
    "duration": 5125,
    "start_time": "2024-08-02T14:27:02.985Z"
   },
   {
    "duration": 2507,
    "start_time": "2024-08-02T14:27:08.112Z"
   },
   {
    "duration": 1898,
    "start_time": "2024-08-02T14:27:10.620Z"
   },
   {
    "duration": 87,
    "start_time": "2024-08-02T14:27:12.520Z"
   },
   {
    "duration": 17,
    "start_time": "2024-08-02T14:27:12.608Z"
   },
   {
    "duration": 13,
    "start_time": "2024-08-02T14:27:12.627Z"
   },
   {
    "duration": 7,
    "start_time": "2024-08-02T14:27:12.642Z"
   },
   {
    "duration": 6,
    "start_time": "2024-08-02T14:27:12.650Z"
   },
   {
    "duration": 25,
    "start_time": "2024-08-02T14:27:12.657Z"
   },
   {
    "duration": 14,
    "start_time": "2024-08-02T14:27:12.685Z"
   },
   {
    "duration": 32,
    "start_time": "2024-08-02T14:27:12.700Z"
   },
   {
    "duration": 7,
    "start_time": "2024-08-02T14:27:12.734Z"
   },
   {
    "duration": 9,
    "start_time": "2024-08-02T14:27:12.742Z"
   },
   {
    "duration": 14,
    "start_time": "2024-08-02T14:27:12.753Z"
   },
   {
    "duration": 12,
    "start_time": "2024-08-02T14:27:12.769Z"
   },
   {
    "duration": 3,
    "start_time": "2024-08-02T14:27:12.782Z"
   },
   {
    "duration": 38,
    "start_time": "2024-08-02T14:27:12.786Z"
   },
   {
    "duration": 14,
    "start_time": "2024-08-02T14:27:12.826Z"
   },
   {
    "duration": 30,
    "start_time": "2024-08-02T14:27:12.842Z"
   },
   {
    "duration": 4,
    "start_time": "2024-08-02T14:27:12.874Z"
   },
   {
    "duration": 4,
    "start_time": "2024-08-02T14:27:12.880Z"
   },
   {
    "duration": 10,
    "start_time": "2024-08-02T14:27:12.885Z"
   },
   {
    "duration": 2543,
    "start_time": "2024-08-02T14:27:12.896Z"
   },
   {
    "duration": 1140,
    "start_time": "2024-08-02T14:27:15.440Z"
   },
   {
    "duration": 3,
    "start_time": "2024-08-02T14:27:16.582Z"
   },
   {
    "duration": 11714,
    "start_time": "2024-08-02T14:27:16.586Z"
   },
   {
    "duration": 961,
    "start_time": "2024-08-02T14:27:28.301Z"
   },
   {
    "duration": 7,
    "start_time": "2024-08-02T14:27:29.266Z"
   },
   {
    "duration": 386,
    "start_time": "2024-08-02T14:27:29.274Z"
   },
   {
    "duration": 872,
    "start_time": "2024-08-02T14:27:29.661Z"
   },
   {
    "duration": 4,
    "start_time": "2024-08-02T14:27:30.534Z"
   },
   {
    "duration": 55,
    "start_time": "2024-08-02T14:27:30.540Z"
   },
   {
    "duration": 27,
    "start_time": "2024-08-02T14:27:30.596Z"
   },
   {
    "duration": 29,
    "start_time": "2024-08-02T14:27:30.625Z"
   },
   {
    "duration": 31,
    "start_time": "2024-08-02T14:27:30.656Z"
   },
   {
    "duration": 24,
    "start_time": "2024-08-02T14:27:30.689Z"
   },
   {
    "duration": 23,
    "start_time": "2024-08-02T14:27:30.714Z"
   },
   {
    "duration": 13,
    "start_time": "2024-08-02T14:27:30.739Z"
   },
   {
    "duration": 50,
    "start_time": "2024-08-02T14:27:30.754Z"
   },
   {
    "duration": 52,
    "start_time": "2024-08-02T14:27:30.806Z"
   },
   {
    "duration": 41,
    "start_time": "2024-08-02T14:27:30.859Z"
   },
   {
    "duration": 21,
    "start_time": "2024-08-02T14:27:30.902Z"
   },
   {
    "duration": 15,
    "start_time": "2024-08-02T14:27:30.924Z"
   },
   {
    "duration": 21,
    "start_time": "2024-08-02T14:27:30.940Z"
   },
   {
    "duration": 32,
    "start_time": "2024-08-02T14:27:30.962Z"
   },
   {
    "duration": 67,
    "start_time": "2024-08-02T14:27:30.996Z"
   },
   {
    "duration": 34290,
    "start_time": "2024-08-02T14:27:31.064Z"
   },
   {
    "duration": 3,
    "start_time": "2024-08-02T14:28:05.356Z"
   },
   {
    "duration": 11,
    "start_time": "2024-08-02T14:28:05.360Z"
   },
   {
    "duration": 7,
    "start_time": "2024-08-02T14:28:05.372Z"
   },
   {
    "duration": 35,
    "start_time": "2024-08-02T14:28:05.380Z"
   },
   {
    "duration": 21,
    "start_time": "2024-08-02T14:28:05.416Z"
   },
   {
    "duration": 8,
    "start_time": "2024-08-02T14:28:05.438Z"
   },
   {
    "duration": 4,
    "start_time": "2024-08-02T14:28:05.447Z"
   },
   {
    "duration": 17,
    "start_time": "2024-08-02T14:28:05.452Z"
   },
   {
    "duration": 153,
    "start_time": "2024-08-02T14:28:05.471Z"
   },
   {
    "duration": 609,
    "start_time": "2024-08-02T14:28:05.626Z"
   },
   {
    "duration": 65,
    "start_time": "2024-08-02T14:28:06.237Z"
   },
   {
    "duration": 11,
    "start_time": "2024-08-02T14:28:06.304Z"
   },
   {
    "duration": 7,
    "start_time": "2024-08-02T14:28:06.317Z"
   },
   {
    "duration": 160,
    "start_time": "2024-08-02T14:28:06.326Z"
   },
   {
    "duration": 12,
    "start_time": "2024-08-02T14:29:17.851Z"
   },
   {
    "duration": 13,
    "start_time": "2024-08-02T14:31:08.124Z"
   },
   {
    "duration": 11,
    "start_time": "2024-08-02T14:31:15.393Z"
   },
   {
    "duration": 2298,
    "start_time": "2024-08-02T14:31:49.646Z"
   },
   {
    "duration": 953,
    "start_time": "2024-08-02T14:32:39.338Z"
   },
   {
    "duration": 923,
    "start_time": "2024-08-02T14:32:52.201Z"
   },
   {
    "duration": 238,
    "start_time": "2024-08-02T14:33:08.928Z"
   },
   {
    "duration": 1300,
    "start_time": "2024-08-02T14:34:09.674Z"
   },
   {
    "duration": 10,
    "start_time": "2024-08-02T14:36:56.534Z"
   },
   {
    "duration": 9,
    "start_time": "2024-08-02T14:37:27.335Z"
   },
   {
    "duration": 6,
    "start_time": "2024-08-02T14:37:39.841Z"
   },
   {
    "duration": 7,
    "start_time": "2024-08-02T14:38:47.250Z"
   },
   {
    "duration": 10,
    "start_time": "2024-08-02T14:39:40.327Z"
   },
   {
    "duration": 18,
    "start_time": "2024-08-02T14:42:18.539Z"
   },
   {
    "duration": 5,
    "start_time": "2024-08-02T14:42:40.870Z"
   },
   {
    "duration": 6,
    "start_time": "2024-08-02T14:49:44.964Z"
   },
   {
    "duration": 8,
    "start_time": "2024-08-02T15:28:09.768Z"
   },
   {
    "duration": 1928,
    "start_time": "2024-08-02T15:28:47.852Z"
   },
   {
    "duration": 1447,
    "start_time": "2024-08-02T15:29:08.327Z"
   },
   {
    "duration": 5,
    "start_time": "2024-08-02T15:29:54.228Z"
   },
   {
    "duration": 6,
    "start_time": "2024-08-02T15:30:03.280Z"
   },
   {
    "duration": 5,
    "start_time": "2024-08-02T15:30:09.436Z"
   },
   {
    "duration": 2183,
    "start_time": "2024-08-02T15:30:32.613Z"
   },
   {
    "duration": 2951,
    "start_time": "2024-08-02T15:30:59.004Z"
   },
   {
    "duration": 17,
    "start_time": "2024-08-02T15:36:46.305Z"
   },
   {
    "duration": 14,
    "start_time": "2024-08-02T15:36:56.825Z"
   },
   {
    "duration": 16,
    "start_time": "2024-08-02T15:37:12.224Z"
   },
   {
    "duration": 15,
    "start_time": "2024-08-02T15:38:04.892Z"
   },
   {
    "duration": 14,
    "start_time": "2024-08-02T15:38:30.469Z"
   },
   {
    "duration": 17,
    "start_time": "2024-08-02T15:39:02.450Z"
   },
   {
    "duration": 13,
    "start_time": "2024-08-02T15:39:16.191Z"
   },
   {
    "duration": 782,
    "start_time": "2024-08-02T15:40:07.801Z"
   },
   {
    "duration": 12,
    "start_time": "2024-08-02T15:40:27.034Z"
   },
   {
    "duration": 14,
    "start_time": "2024-08-02T15:40:33.068Z"
   },
   {
    "duration": 24,
    "start_time": "2024-08-02T15:40:42.912Z"
   },
   {
    "duration": 24,
    "start_time": "2024-08-02T15:40:53.369Z"
   },
   {
    "duration": 14,
    "start_time": "2024-08-02T15:41:03.725Z"
   },
   {
    "duration": 27,
    "start_time": "2024-08-02T15:41:07.692Z"
   },
   {
    "duration": 23,
    "start_time": "2024-08-02T15:43:09.201Z"
   },
   {
    "duration": 21,
    "start_time": "2024-08-02T15:43:14.601Z"
   },
   {
    "duration": 13,
    "start_time": "2024-08-02T15:43:35.404Z"
   },
   {
    "duration": 28,
    "start_time": "2024-08-02T15:43:50.872Z"
   },
   {
    "duration": 21,
    "start_time": "2024-08-02T15:43:55.732Z"
   },
   {
    "duration": 12,
    "start_time": "2024-08-02T15:44:25.750Z"
   },
   {
    "duration": 8,
    "start_time": "2024-08-02T15:44:53.825Z"
   },
   {
    "duration": 19,
    "start_time": "2024-08-02T15:47:30.989Z"
   },
   {
    "duration": 24,
    "start_time": "2024-08-02T15:47:56.442Z"
   },
   {
    "duration": 12,
    "start_time": "2024-08-02T15:48:33.553Z"
   },
   {
    "duration": 271,
    "start_time": "2024-08-02T15:52:43.138Z"
   },
   {
    "duration": 271,
    "start_time": "2024-08-02T15:53:34.453Z"
   },
   {
    "duration": 321,
    "start_time": "2024-08-02T15:53:53.793Z"
   },
   {
    "duration": 3,
    "start_time": "2024-08-02T15:58:36.779Z"
   },
   {
    "duration": 15,
    "start_time": "2024-08-02T15:59:21.641Z"
   },
   {
    "duration": 3,
    "start_time": "2024-08-02T15:59:28.811Z"
   },
   {
    "duration": 4,
    "start_time": "2024-08-02T15:59:40.498Z"
   },
   {
    "duration": 3,
    "start_time": "2024-08-02T16:00:02.946Z"
   },
   {
    "duration": 11,
    "start_time": "2024-08-02T16:00:11.731Z"
   },
   {
    "duration": 59,
    "start_time": "2024-08-02T16:03:42.018Z"
   },
   {
    "duration": 4,
    "start_time": "2024-08-02T16:03:52.890Z"
   },
   {
    "duration": 13,
    "start_time": "2024-08-02T16:04:24.378Z"
   },
   {
    "duration": 8,
    "start_time": "2024-08-02T16:05:25.432Z"
   },
   {
    "duration": 4,
    "start_time": "2024-08-02T16:07:15.351Z"
   },
   {
    "duration": 4,
    "start_time": "2024-08-02T16:07:26.511Z"
   },
   {
    "duration": 4,
    "start_time": "2024-08-02T16:07:58.188Z"
   },
   {
    "duration": 19,
    "start_time": "2024-08-02T16:09:11.895Z"
   },
   {
    "duration": 21,
    "start_time": "2024-08-02T16:09:34.331Z"
   },
   {
    "duration": 23,
    "start_time": "2024-08-02T16:10:01.018Z"
   },
   {
    "duration": 4,
    "start_time": "2024-08-02T16:10:52.654Z"
   },
   {
    "duration": 18,
    "start_time": "2024-08-02T16:10:57.527Z"
   },
   {
    "duration": 15,
    "start_time": "2024-08-02T16:11:16.277Z"
   },
   {
    "duration": 6,
    "start_time": "2024-08-02T16:11:21.403Z"
   },
   {
    "duration": 12,
    "start_time": "2024-08-02T16:14:38.855Z"
   },
   {
    "duration": 5,
    "start_time": "2024-08-02T16:15:06.580Z"
   },
   {
    "duration": 4,
    "start_time": "2024-08-02T16:15:33.867Z"
   },
   {
    "duration": 4,
    "start_time": "2024-08-02T16:16:22.382Z"
   },
   {
    "duration": 3,
    "start_time": "2024-08-02T16:17:22.253Z"
   },
   {
    "duration": 12,
    "start_time": "2024-08-02T16:18:21.819Z"
   },
   {
    "duration": 4,
    "start_time": "2024-08-02T16:18:29.434Z"
   },
   {
    "duration": 97,
    "start_time": "2024-08-02T16:18:49.118Z"
   },
   {
    "duration": 89,
    "start_time": "2024-08-02T16:19:35.878Z"
   },
   {
    "duration": 93,
    "start_time": "2024-08-02T16:21:28.975Z"
   },
   {
    "duration": 4,
    "start_time": "2024-08-02T16:21:34.249Z"
   },
   {
    "duration": 5,
    "start_time": "2024-08-02T16:21:34.523Z"
   },
   {
    "duration": 4,
    "start_time": "2024-08-02T16:21:35.039Z"
   },
   {
    "duration": 29,
    "start_time": "2024-08-02T16:21:35.915Z"
   },
   {
    "duration": 56,
    "start_time": "2024-08-02T16:21:38.823Z"
   },
   {
    "duration": 5,
    "start_time": "2024-08-02T16:21:56.014Z"
   },
   {
    "duration": 3,
    "start_time": "2024-08-02T16:21:56.804Z"
   },
   {
    "duration": 4,
    "start_time": "2024-08-02T16:21:57.319Z"
   },
   {
    "duration": 109,
    "start_time": "2024-08-02T16:21:58.135Z"
   },
   {
    "duration": 4,
    "start_time": "2024-08-02T16:22:19.672Z"
   },
   {
    "duration": 3,
    "start_time": "2024-08-02T16:22:19.859Z"
   },
   {
    "duration": 2,
    "start_time": "2024-08-02T16:22:20.039Z"
   },
   {
    "duration": 99,
    "start_time": "2024-08-02T16:22:20.683Z"
   },
   {
    "duration": 5,
    "start_time": "2024-08-02T16:23:35.036Z"
   },
   {
    "duration": 3,
    "start_time": "2024-08-02T16:23:35.286Z"
   },
   {
    "duration": 3,
    "start_time": "2024-08-02T16:23:35.700Z"
   },
   {
    "duration": 44975,
    "start_time": "2024-08-02T16:23:36.208Z"
   },
   {
    "duration": 4,
    "start_time": "2024-08-02T16:24:41.777Z"
   },
   {
    "duration": 3,
    "start_time": "2024-08-02T16:25:43.572Z"
   },
   {
    "duration": 7877,
    "start_time": "2024-08-02T16:25:44.908Z"
   },
   {
    "duration": 45270,
    "start_time": "2024-08-02T16:25:57.874Z"
   },
   {
    "duration": 3,
    "start_time": "2024-08-02T16:26:45.492Z"
   },
   {
    "duration": 3,
    "start_time": "2024-08-02T16:26:59.129Z"
   },
   {
    "duration": 5,
    "start_time": "2024-08-02T16:27:18.370Z"
   },
   {
    "duration": 11,
    "start_time": "2024-08-02T16:29:24.346Z"
   },
   {
    "duration": 5506,
    "start_time": "2024-08-02T16:37:27.408Z"
   },
   {
    "duration": 2447,
    "start_time": "2024-08-02T16:37:32.917Z"
   },
   {
    "duration": 1869,
    "start_time": "2024-08-02T16:37:35.365Z"
   },
   {
    "duration": 85,
    "start_time": "2024-08-02T16:37:37.236Z"
   },
   {
    "duration": 17,
    "start_time": "2024-08-02T16:37:37.322Z"
   },
   {
    "duration": 9,
    "start_time": "2024-08-02T16:37:37.340Z"
   },
   {
    "duration": 11,
    "start_time": "2024-08-02T16:37:37.351Z"
   },
   {
    "duration": 6,
    "start_time": "2024-08-02T16:37:37.364Z"
   },
   {
    "duration": 36,
    "start_time": "2024-08-02T16:37:37.371Z"
   },
   {
    "duration": 15,
    "start_time": "2024-08-02T16:37:37.423Z"
   },
   {
    "duration": 13,
    "start_time": "2024-08-02T16:37:37.439Z"
   },
   {
    "duration": 20,
    "start_time": "2024-08-02T16:37:37.453Z"
   },
   {
    "duration": 10,
    "start_time": "2024-08-02T16:37:37.475Z"
   },
   {
    "duration": 11,
    "start_time": "2024-08-02T16:37:37.486Z"
   },
   {
    "duration": 27,
    "start_time": "2024-08-02T16:37:37.498Z"
   },
   {
    "duration": 3,
    "start_time": "2024-08-02T16:37:37.526Z"
   },
   {
    "duration": 2,
    "start_time": "2024-08-02T16:37:37.531Z"
   },
   {
    "duration": 19,
    "start_time": "2024-08-02T16:37:37.535Z"
   },
   {
    "duration": 42,
    "start_time": "2024-08-02T16:37:37.555Z"
   },
   {
    "duration": 21,
    "start_time": "2024-08-02T16:37:37.598Z"
   },
   {
    "duration": 7,
    "start_time": "2024-08-02T16:37:37.621Z"
   },
   {
    "duration": 9,
    "start_time": "2024-08-02T16:37:37.630Z"
   },
   {
    "duration": 2535,
    "start_time": "2024-08-02T16:37:37.641Z"
   },
   {
    "duration": 1101,
    "start_time": "2024-08-02T16:37:40.178Z"
   },
   {
    "duration": 2,
    "start_time": "2024-08-02T16:37:41.280Z"
   },
   {
    "duration": 11813,
    "start_time": "2024-08-02T16:37:41.284Z"
   },
   {
    "duration": 967,
    "start_time": "2024-08-02T16:37:53.099Z"
   },
   {
    "duration": 7,
    "start_time": "2024-08-02T16:37:54.070Z"
   },
   {
    "duration": 346,
    "start_time": "2024-08-02T16:37:54.078Z"
   },
   {
    "duration": 812,
    "start_time": "2024-08-02T16:37:54.425Z"
   },
   {
    "duration": 5,
    "start_time": "2024-08-02T16:37:55.238Z"
   },
   {
    "duration": 5,
    "start_time": "2024-08-02T16:37:55.245Z"
   },
   {
    "duration": 4,
    "start_time": "2024-08-02T16:37:55.252Z"
   },
   {
    "duration": 4,
    "start_time": "2024-08-02T16:37:55.258Z"
   },
   {
    "duration": 13,
    "start_time": "2024-08-02T16:37:55.263Z"
   },
   {
    "duration": 5,
    "start_time": "2024-08-02T16:37:55.278Z"
   },
   {
    "duration": 16,
    "start_time": "2024-08-02T16:37:55.285Z"
   },
   {
    "duration": 7,
    "start_time": "2024-08-02T16:37:55.302Z"
   },
   {
    "duration": 4,
    "start_time": "2024-08-02T16:37:55.324Z"
   },
   {
    "duration": 104,
    "start_time": "2024-08-02T16:37:55.330Z"
   },
   {
    "duration": 11,
    "start_time": "2024-08-02T16:37:55.436Z"
   },
   {
    "duration": 3,
    "start_time": "2024-08-02T16:37:55.449Z"
   },
   {
    "duration": 4,
    "start_time": "2024-08-02T16:37:55.454Z"
   },
   {
    "duration": 3,
    "start_time": "2024-08-02T16:37:55.460Z"
   },
   {
    "duration": 4,
    "start_time": "2024-08-02T16:37:55.464Z"
   },
   {
    "duration": 4,
    "start_time": "2024-08-02T16:37:55.469Z"
   },
   {
    "duration": 34368,
    "start_time": "2024-08-02T16:37:55.474Z"
   },
   {
    "duration": 3,
    "start_time": "2024-08-02T16:38:29.843Z"
   },
   {
    "duration": 6,
    "start_time": "2024-08-02T16:38:29.847Z"
   },
   {
    "duration": 4,
    "start_time": "2024-08-02T16:38:29.854Z"
   },
   {
    "duration": 6,
    "start_time": "2024-08-02T16:38:29.859Z"
   },
   {
    "duration": 19,
    "start_time": "2024-08-02T16:38:29.867Z"
   },
   {
    "duration": 3,
    "start_time": "2024-08-02T16:38:29.888Z"
   },
   {
    "duration": 4,
    "start_time": "2024-08-02T16:38:29.892Z"
   },
   {
    "duration": 43,
    "start_time": "2024-08-02T16:38:29.897Z"
   },
   {
    "duration": 182,
    "start_time": "2024-08-02T16:38:29.942Z"
   },
   {
    "duration": 499,
    "start_time": "2024-08-02T16:38:30.126Z"
   },
   {
    "duration": 65,
    "start_time": "2024-08-02T16:38:30.627Z"
   },
   {
    "duration": 11,
    "start_time": "2024-08-02T16:38:30.694Z"
   },
   {
    "duration": 53,
    "start_time": "2024-08-02T16:38:30.707Z"
   },
   {
    "duration": 36,
    "start_time": "2024-08-02T16:38:30.762Z"
   },
   {
    "duration": 64,
    "start_time": "2024-08-02T16:38:30.800Z"
   },
   {
    "duration": 39,
    "start_time": "2024-08-02T16:38:30.866Z"
   },
   {
    "duration": 45,
    "start_time": "2024-08-02T16:38:30.907Z"
   },
   {
    "duration": 2423,
    "start_time": "2024-08-02T16:38:30.954Z"
   },
   {
    "duration": 1294,
    "start_time": "2024-08-02T16:38:33.379Z"
   },
   {
    "duration": 212,
    "start_time": "2024-08-02T16:38:34.675Z"
   },
   {
    "duration": 5,
    "start_time": "2024-08-02T16:38:34.889Z"
   },
   {
    "duration": 5,
    "start_time": "2024-08-02T16:38:34.896Z"
   },
   {
    "duration": 23,
    "start_time": "2024-08-02T16:38:34.903Z"
   },
   {
    "duration": 2413,
    "start_time": "2024-08-02T16:38:34.927Z"
   },
   {
    "duration": 2819,
    "start_time": "2024-08-02T16:38:37.342Z"
   },
   {
    "duration": 15,
    "start_time": "2024-08-02T16:38:40.162Z"
   },
   {
    "duration": 328,
    "start_time": "2024-08-02T16:38:40.179Z"
   },
   {
    "duration": 24,
    "start_time": "2024-08-02T16:38:40.509Z"
   },
   {
    "duration": 4,
    "start_time": "2024-08-02T16:38:40.534Z"
   },
   {
    "duration": 17,
    "start_time": "2024-08-02T16:38:40.539Z"
   },
   {
    "duration": 13,
    "start_time": "2024-08-02T16:38:40.558Z"
   },
   {
    "duration": 5,
    "start_time": "2024-08-02T16:38:40.573Z"
   },
   {
    "duration": 4,
    "start_time": "2024-08-02T16:38:40.580Z"
   },
   {
    "duration": 4,
    "start_time": "2024-08-02T16:38:40.585Z"
   },
   {
    "duration": 33,
    "start_time": "2024-08-02T16:38:40.594Z"
   },
   {
    "duration": 4,
    "start_time": "2024-08-02T16:38:40.629Z"
   },
   {
    "duration": 4,
    "start_time": "2024-08-02T16:38:40.634Z"
   },
   {
    "duration": 5,
    "start_time": "2024-08-02T16:38:40.639Z"
   },
   {
    "duration": 45237,
    "start_time": "2024-08-02T16:38:40.645Z"
   },
   {
    "duration": 4,
    "start_time": "2024-08-02T16:39:25.884Z"
   },
   {
    "duration": 5,
    "start_time": "2024-08-02T16:39:25.889Z"
   },
   {
    "duration": 5112,
    "start_time": "2024-08-03T04:50:57.220Z"
   },
   {
    "duration": 4941,
    "start_time": "2024-08-03T04:51:26.676Z"
   },
   {
    "duration": 2472,
    "start_time": "2024-08-03T04:51:38.188Z"
   },
   {
    "duration": 6,
    "start_time": "2024-08-03T05:00:23.819Z"
   },
   {
    "duration": 88,
    "start_time": "2024-08-03T05:00:27.800Z"
   },
   {
    "duration": 12,
    "start_time": "2024-08-03T05:00:28.816Z"
   },
   {
    "duration": 13,
    "start_time": "2024-08-03T05:00:29.576Z"
   },
   {
    "duration": 7,
    "start_time": "2024-08-03T05:00:31.756Z"
   },
   {
    "duration": 2,
    "start_time": "2024-08-03T05:00:32.372Z"
   },
   {
    "duration": 26,
    "start_time": "2024-08-03T05:00:33.180Z"
   },
   {
    "duration": 16,
    "start_time": "2024-08-03T05:00:37.191Z"
   },
   {
    "duration": 12,
    "start_time": "2024-08-03T05:00:37.983Z"
   },
   {
    "duration": 11,
    "start_time": "2024-08-03T05:00:48.236Z"
   },
   {
    "duration": 12,
    "start_time": "2024-08-03T05:00:50.352Z"
   },
   {
    "duration": 6,
    "start_time": "2024-08-03T05:14:29.672Z"
   },
   {
    "duration": 4,
    "start_time": "2024-08-03T05:14:51.044Z"
   },
   {
    "duration": 6,
    "start_time": "2024-08-03T05:15:30.199Z"
   },
   {
    "duration": 4,
    "start_time": "2024-08-03T05:16:16.971Z"
   },
   {
    "duration": 5,
    "start_time": "2024-08-03T05:16:27.223Z"
   },
   {
    "duration": 12,
    "start_time": "2024-08-03T05:18:10.803Z"
   },
   {
    "duration": 143,
    "start_time": "2024-08-03T05:18:26.475Z"
   },
   {
    "duration": 5,
    "start_time": "2024-08-03T05:18:29.451Z"
   },
   {
    "duration": 6,
    "start_time": "2024-08-03T05:19:28.928Z"
   },
   {
    "duration": 10,
    "start_time": "2024-08-03T05:19:32.563Z"
   },
   {
    "duration": 8,
    "start_time": "2024-08-03T05:19:34.636Z"
   },
   {
    "duration": 13,
    "start_time": "2024-08-03T05:20:59.704Z"
   },
   {
    "duration": 11,
    "start_time": "2024-08-03T05:21:00.087Z"
   },
   {
    "duration": 11,
    "start_time": "2024-08-03T05:21:01.911Z"
   },
   {
    "duration": 12,
    "start_time": "2024-08-03T05:21:02.911Z"
   },
   {
    "duration": 5,
    "start_time": "2024-08-03T05:21:04.935Z"
   },
   {
    "duration": 9,
    "start_time": "2024-08-03T05:21:07.411Z"
   },
   {
    "duration": 3,
    "start_time": "2024-08-03T05:21:08.051Z"
   },
   {
    "duration": 6,
    "start_time": "2024-08-03T05:21:08.571Z"
   },
   {
    "duration": 15,
    "start_time": "2024-08-03T05:21:09.183Z"
   },
   {
    "duration": 83,
    "start_time": "2024-08-03T05:23:46.227Z"
   },
   {
    "duration": 11,
    "start_time": "2024-08-03T05:23:46.695Z"
   },
   {
    "duration": 10,
    "start_time": "2024-08-03T05:23:46.915Z"
   },
   {
    "duration": 6,
    "start_time": "2024-08-03T05:23:47.168Z"
   },
   {
    "duration": 3,
    "start_time": "2024-08-03T05:23:47.451Z"
   },
   {
    "duration": 26,
    "start_time": "2024-08-03T05:23:47.687Z"
   },
   {
    "duration": 13,
    "start_time": "2024-08-03T05:23:50.324Z"
   },
   {
    "duration": 12,
    "start_time": "2024-08-03T05:23:50.807Z"
   },
   {
    "duration": 10,
    "start_time": "2024-08-03T05:23:53.164Z"
   },
   {
    "duration": 10,
    "start_time": "2024-08-03T05:23:54.200Z"
   },
   {
    "duration": 5,
    "start_time": "2024-08-03T05:23:55.740Z"
   },
   {
    "duration": 12,
    "start_time": "2024-08-03T05:23:57.135Z"
   },
   {
    "duration": 3,
    "start_time": "2024-08-03T05:23:59.451Z"
   },
   {
    "duration": 5,
    "start_time": "2024-08-03T05:24:00.068Z"
   },
   {
    "duration": 4,
    "start_time": "2024-08-03T05:24:04.024Z"
   },
   {
    "duration": 5,
    "start_time": "2024-08-03T05:24:04.303Z"
   },
   {
    "duration": 11,
    "start_time": "2024-08-03T05:24:34.075Z"
   },
   {
    "duration": 2639,
    "start_time": "2024-08-03T05:24:34.820Z"
   },
   {
    "duration": 9,
    "start_time": "2024-08-03T05:25:38.120Z"
   },
   {
    "duration": 10,
    "start_time": "2024-08-03T05:26:31.139Z"
   },
   {
    "duration": 4,
    "start_time": "2024-08-03T05:27:10.200Z"
   },
   {
    "duration": 15,
    "start_time": "2024-08-03T05:27:50.291Z"
   },
   {
    "duration": 3,
    "start_time": "2024-08-03T05:28:07.844Z"
   },
   {
    "duration": 3,
    "start_time": "2024-08-03T05:28:12.471Z"
   },
   {
    "duration": 4,
    "start_time": "2024-08-03T05:28:18.591Z"
   },
   {
    "duration": 4,
    "start_time": "2024-08-03T05:28:25.203Z"
   },
   {
    "duration": 3,
    "start_time": "2024-08-03T05:28:56.839Z"
   },
   {
    "duration": 4,
    "start_time": "2024-08-03T05:29:01.279Z"
   },
   {
    "duration": 2420,
    "start_time": "2024-08-03T05:30:06.423Z"
   },
   {
    "duration": 10,
    "start_time": "2024-08-03T05:33:03.784Z"
   },
   {
    "duration": 10,
    "start_time": "2024-08-03T05:33:06.392Z"
   },
   {
    "duration": 2,
    "start_time": "2024-08-03T05:33:08.092Z"
   },
   {
    "duration": 2193,
    "start_time": "2024-08-03T05:33:09.683Z"
   },
   {
    "duration": 10,
    "start_time": "2024-08-03T05:33:34.760Z"
   },
   {
    "duration": 10,
    "start_time": "2024-08-03T05:34:00.464Z"
   },
   {
    "duration": 3,
    "start_time": "2024-08-03T05:34:00.872Z"
   },
   {
    "duration": 1963,
    "start_time": "2024-08-03T05:34:04.476Z"
   },
   {
    "duration": 4,
    "start_time": "2024-08-03T05:35:38.252Z"
   },
   {
    "duration": 9,
    "start_time": "2024-08-03T05:37:25.001Z"
   },
   {
    "duration": 4,
    "start_time": "2024-08-03T05:37:30.693Z"
   },
   {
    "duration": 9,
    "start_time": "2024-08-03T05:39:44.102Z"
   },
   {
    "duration": 3,
    "start_time": "2024-08-03T05:40:34.374Z"
   },
   {
    "duration": 1010,
    "start_time": "2024-08-03T05:40:42.926Z"
   },
   {
    "duration": 1744,
    "start_time": "2024-08-03T05:41:24.322Z"
   },
   {
    "duration": 456,
    "start_time": "2024-08-03T05:41:50.218Z"
   },
   {
    "duration": 1495,
    "start_time": "2024-08-03T05:42:02.574Z"
   },
   {
    "duration": 470,
    "start_time": "2024-08-03T05:42:24.375Z"
   },
   {
    "duration": 800,
    "start_time": "2024-08-03T06:19:38.296Z"
   },
   {
    "duration": 17,
    "start_time": "2024-08-03T06:24:48.080Z"
   },
   {
    "duration": 10,
    "start_time": "2024-08-03T06:27:44.364Z"
   },
   {
    "duration": 6,
    "start_time": "2024-08-03T06:28:24.236Z"
   },
   {
    "duration": 293,
    "start_time": "2024-08-03T06:28:24.852Z"
   },
   {
    "duration": 818,
    "start_time": "2024-08-03T06:28:25.496Z"
   },
   {
    "duration": 4,
    "start_time": "2024-08-03T06:28:40.472Z"
   },
   {
    "duration": 4,
    "start_time": "2024-08-03T06:28:42.544Z"
   },
   {
    "duration": 9,
    "start_time": "2024-08-03T06:28:45.208Z"
   },
   {
    "duration": 4,
    "start_time": "2024-08-03T06:28:48.284Z"
   },
   {
    "duration": 3,
    "start_time": "2024-08-03T06:28:48.604Z"
   },
   {
    "duration": 9,
    "start_time": "2024-08-03T06:28:50.324Z"
   },
   {
    "duration": 14,
    "start_time": "2024-08-03T06:30:54.752Z"
   },
   {
    "duration": 12,
    "start_time": "2024-08-03T06:35:27.764Z"
   },
   {
    "duration": 8,
    "start_time": "2024-08-03T06:38:13.580Z"
   },
   {
    "duration": 3,
    "start_time": "2024-08-03T06:38:29.421Z"
   },
   {
    "duration": 3,
    "start_time": "2024-08-03T06:38:37.740Z"
   },
   {
    "duration": 10,
    "start_time": "2024-08-03T06:39:54.913Z"
   },
   {
    "duration": 8,
    "start_time": "2024-08-03T06:40:30.176Z"
   },
   {
    "duration": 13,
    "start_time": "2024-08-03T06:43:43.898Z"
   },
   {
    "duration": 8,
    "start_time": "2024-08-03T06:43:54.052Z"
   },
   {
    "duration": 14,
    "start_time": "2024-08-03T06:44:19.553Z"
   },
   {
    "duration": 7,
    "start_time": "2024-08-03T06:45:02.781Z"
   },
   {
    "duration": 7,
    "start_time": "2024-08-03T06:45:14.317Z"
   },
   {
    "duration": 3,
    "start_time": "2024-08-03T06:45:35.513Z"
   },
   {
    "duration": 3,
    "start_time": "2024-08-03T06:45:36.753Z"
   },
   {
    "duration": 4,
    "start_time": "2024-08-03T06:45:37.817Z"
   },
   {
    "duration": 3,
    "start_time": "2024-08-03T06:45:42.925Z"
   },
   {
    "duration": 9,
    "start_time": "2024-08-03T06:45:49.421Z"
   },
   {
    "duration": 5,
    "start_time": "2024-08-03T06:45:59.209Z"
   },
   {
    "duration": 7,
    "start_time": "2024-08-03T06:46:00.481Z"
   },
   {
    "duration": 4,
    "start_time": "2024-08-03T06:49:13.837Z"
   },
   {
    "duration": 4,
    "start_time": "2024-08-03T06:49:16.917Z"
   },
   {
    "duration": 3,
    "start_time": "2024-08-03T06:49:21.849Z"
   },
   {
    "duration": 24,
    "start_time": "2024-08-03T06:49:24.325Z"
   },
   {
    "duration": 16,
    "start_time": "2024-08-03T06:49:25.213Z"
   },
   {
    "duration": 5,
    "start_time": "2024-08-03T06:49:43.602Z"
   },
   {
    "duration": 6,
    "start_time": "2024-08-03T06:49:48.301Z"
   },
   {
    "duration": 4,
    "start_time": "2024-08-03T06:50:06.909Z"
   },
   {
    "duration": 3,
    "start_time": "2024-08-03T06:50:42.669Z"
   },
   {
    "duration": 3,
    "start_time": "2024-08-03T06:50:44.789Z"
   },
   {
    "duration": 3,
    "start_time": "2024-08-03T06:50:45.705Z"
   },
   {
    "duration": 2,
    "start_time": "2024-08-03T06:50:48.693Z"
   },
   {
    "duration": 33195,
    "start_time": "2024-08-03T06:50:51.041Z"
   },
   {
    "duration": 3,
    "start_time": "2024-08-03T06:51:42.022Z"
   },
   {
    "duration": 3,
    "start_time": "2024-08-03T06:52:47.301Z"
   },
   {
    "duration": 3,
    "start_time": "2024-08-03T06:52:49.709Z"
   },
   {
    "duration": 26,
    "start_time": "2024-08-03T06:52:50.781Z"
   },
   {
    "duration": 13,
    "start_time": "2024-08-03T06:52:51.241Z"
   },
   {
    "duration": 3,
    "start_time": "2024-08-03T06:52:54.721Z"
   },
   {
    "duration": 2,
    "start_time": "2024-08-03T06:52:55.305Z"
   },
   {
    "duration": 2,
    "start_time": "2024-08-03T06:52:56.389Z"
   },
   {
    "duration": 3,
    "start_time": "2024-08-03T06:52:56.853Z"
   },
   {
    "duration": 3,
    "start_time": "2024-08-03T06:52:57.301Z"
   },
   {
    "duration": 33661,
    "start_time": "2024-08-03T06:52:59.309Z"
   },
   {
    "duration": 3,
    "start_time": "2024-08-03T06:53:35.721Z"
   },
   {
    "duration": 3,
    "start_time": "2024-08-03T06:53:44.893Z"
   },
   {
    "duration": 2,
    "start_time": "2024-08-03T06:53:46.715Z"
   },
   {
    "duration": 23,
    "start_time": "2024-08-03T06:53:47.361Z"
   },
   {
    "duration": 14,
    "start_time": "2024-08-03T06:53:47.793Z"
   },
   {
    "duration": 3,
    "start_time": "2024-08-03T06:53:51.029Z"
   },
   {
    "duration": 3,
    "start_time": "2024-08-03T06:53:51.477Z"
   },
   {
    "duration": 2,
    "start_time": "2024-08-03T06:54:03.506Z"
   },
   {
    "duration": 2,
    "start_time": "2024-08-03T06:54:04.350Z"
   },
   {
    "duration": 52192,
    "start_time": "2024-08-03T06:54:05.801Z"
   },
   {
    "duration": 3,
    "start_time": "2024-08-03T06:55:01.334Z"
   },
   {
    "duration": 4,
    "start_time": "2024-08-03T06:55:53.221Z"
   },
   {
    "duration": 2,
    "start_time": "2024-08-03T06:55:53.618Z"
   },
   {
    "duration": 60714,
    "start_time": "2024-08-03T06:55:54.310Z"
   },
   {
    "duration": 3,
    "start_time": "2024-08-03T06:57:15.082Z"
   },
   {
    "duration": 3,
    "start_time": "2024-08-03T06:58:39.806Z"
   },
   {
    "duration": 3,
    "start_time": "2024-08-03T06:58:40.233Z"
   },
   {
    "duration": 61855,
    "start_time": "2024-08-03T06:58:41.302Z"
   },
   {
    "duration": 3,
    "start_time": "2024-08-03T06:59:51.486Z"
   },
   {
    "duration": 3,
    "start_time": "2024-08-03T07:00:03.914Z"
   },
   {
    "duration": 3,
    "start_time": "2024-08-03T07:00:04.205Z"
   },
   {
    "duration": 160211,
    "start_time": "2024-08-03T07:00:04.614Z"
   },
   {
    "duration": 3,
    "start_time": "2024-08-03T07:02:44.826Z"
   },
   {
    "duration": 3,
    "start_time": "2024-08-03T07:02:53.814Z"
   },
   {
    "duration": 4,
    "start_time": "2024-08-03T07:03:07.166Z"
   },
   {
    "duration": 3,
    "start_time": "2024-08-03T07:03:46.126Z"
   },
   {
    "duration": 2,
    "start_time": "2024-08-03T07:03:46.846Z"
   },
   {
    "duration": 48145,
    "start_time": "2024-08-03T07:03:48.466Z"
   },
   {
    "duration": 3,
    "start_time": "2024-08-03T07:04:52.954Z"
   },
   {
    "duration": 7,
    "start_time": "2024-08-03T07:09:26.870Z"
   },
   {
    "duration": 7,
    "start_time": "2024-08-03T07:09:27.186Z"
   },
   {
    "duration": 4,
    "start_time": "2024-08-03T07:09:29.574Z"
   },
   {
    "duration": 2570,
    "start_time": "2024-08-03T07:09:29.998Z"
   },
   {
    "duration": 460,
    "start_time": "2024-08-03T07:09:47.414Z"
   },
   {
    "duration": 467,
    "start_time": "2024-08-03T07:09:51.306Z"
   },
   {
    "duration": 1321,
    "start_time": "2024-08-03T07:09:54.938Z"
   },
   {
    "duration": 214,
    "start_time": "2024-08-03T07:09:56.261Z"
   },
   {
    "duration": 183,
    "start_time": "2024-08-03T07:10:12.490Z"
   },
   {
    "duration": 5,
    "start_time": "2024-08-03T07:10:29.330Z"
   },
   {
    "duration": 5,
    "start_time": "2024-08-03T07:10:29.746Z"
   },
   {
    "duration": 5,
    "start_time": "2024-08-03T07:10:30.238Z"
   },
   {
    "duration": 3005,
    "start_time": "2024-08-03T07:10:31.190Z"
   },
   {
    "duration": 557,
    "start_time": "2024-08-03T07:10:57.230Z"
   },
   {
    "duration": 8460,
    "start_time": "2024-08-03T07:11:14.937Z"
   },
   {
    "duration": 66,
    "start_time": "2024-08-03T07:11:57.550Z"
   },
   {
    "duration": 10,
    "start_time": "2024-08-03T07:11:57.750Z"
   },
   {
    "duration": 7,
    "start_time": "2024-08-03T07:11:57.918Z"
   },
   {
    "duration": 11,
    "start_time": "2024-08-03T07:11:58.134Z"
   },
   {
    "duration": 10,
    "start_time": "2024-08-03T07:11:58.298Z"
   },
   {
    "duration": 7,
    "start_time": "2024-08-03T07:11:59.046Z"
   },
   {
    "duration": 7,
    "start_time": "2024-08-03T07:11:59.266Z"
   },
   {
    "duration": 3,
    "start_time": "2024-08-03T07:12:00.374Z"
   },
   {
    "duration": 480,
    "start_time": "2024-08-03T07:12:00.586Z"
   },
   {
    "duration": 1518,
    "start_time": "2024-08-03T07:12:01.346Z"
   },
   {
    "duration": 215,
    "start_time": "2024-08-03T07:12:02.866Z"
   },
   {
    "duration": 5,
    "start_time": "2024-08-03T07:12:05.658Z"
   },
   {
    "duration": 5,
    "start_time": "2024-08-03T07:12:06.134Z"
   },
   {
    "duration": 5,
    "start_time": "2024-08-03T07:12:06.611Z"
   },
   {
    "duration": 567,
    "start_time": "2024-08-03T07:12:06.990Z"
   },
   {
    "duration": 3879,
    "start_time": "2024-08-03T07:12:08.574Z"
   },
   {
    "duration": 5106,
    "start_time": "2024-08-03T08:15:33.547Z"
   },
   {
    "duration": 3234,
    "start_time": "2024-08-03T08:15:38.655Z"
   },
   {
    "duration": 1892,
    "start_time": "2024-08-03T08:15:41.891Z"
   },
   {
    "duration": 87,
    "start_time": "2024-08-03T08:15:43.785Z"
   },
   {
    "duration": 17,
    "start_time": "2024-08-03T08:15:43.874Z"
   },
   {
    "duration": 9,
    "start_time": "2024-08-03T08:15:43.892Z"
   },
   {
    "duration": 13,
    "start_time": "2024-08-03T08:15:43.903Z"
   },
   {
    "duration": 6,
    "start_time": "2024-08-03T08:15:43.917Z"
   },
   {
    "duration": 26,
    "start_time": "2024-08-03T08:15:43.924Z"
   },
   {
    "duration": 14,
    "start_time": "2024-08-03T08:15:43.953Z"
   },
   {
    "duration": 11,
    "start_time": "2024-08-03T08:15:43.968Z"
   },
   {
    "duration": 11,
    "start_time": "2024-08-03T08:15:43.980Z"
   },
   {
    "duration": 39,
    "start_time": "2024-08-03T08:15:43.992Z"
   },
   {
    "duration": 4,
    "start_time": "2024-08-03T08:15:44.033Z"
   },
   {
    "duration": 26,
    "start_time": "2024-08-03T08:15:44.038Z"
   },
   {
    "duration": 2,
    "start_time": "2024-08-03T08:15:44.066Z"
   },
   {
    "duration": 6,
    "start_time": "2024-08-03T08:15:44.070Z"
   },
   {
    "duration": 10,
    "start_time": "2024-08-03T08:15:44.077Z"
   },
   {
    "duration": 4,
    "start_time": "2024-08-03T08:15:44.089Z"
   },
   {
    "duration": 4,
    "start_time": "2024-08-03T08:15:44.094Z"
   },
   {
    "duration": 3,
    "start_time": "2024-08-03T08:15:44.099Z"
   },
   {
    "duration": 1102,
    "start_time": "2024-08-03T08:15:44.104Z"
   },
   {
    "duration": 1570,
    "start_time": "2024-08-03T08:15:45.208Z"
   },
   {
    "duration": 479,
    "start_time": "2024-08-03T08:15:46.779Z"
   },
   {
    "duration": 1511,
    "start_time": "2024-08-03T08:15:47.259Z"
   },
   {
    "duration": 488,
    "start_time": "2024-08-03T08:15:48.771Z"
   },
   {
    "duration": 6,
    "start_time": "2024-08-03T08:15:49.260Z"
   },
   {
    "duration": 299,
    "start_time": "2024-08-03T08:15:49.270Z"
   },
   {
    "duration": 1382,
    "start_time": "2024-08-03T08:15:49.571Z"
   },
   {
    "duration": 14,
    "start_time": "2024-08-03T08:15:50.954Z"
   },
   {
    "duration": 13,
    "start_time": "2024-08-03T08:15:50.969Z"
   },
   {
    "duration": 10,
    "start_time": "2024-08-03T08:15:51.025Z"
   },
   {
    "duration": 7,
    "start_time": "2024-08-03T08:15:51.036Z"
   },
   {
    "duration": 7,
    "start_time": "2024-08-03T08:15:51.045Z"
   },
   {
    "duration": 7,
    "start_time": "2024-08-03T08:15:51.054Z"
   },
   {
    "duration": 4,
    "start_time": "2024-08-03T08:15:51.062Z"
   },
   {
    "duration": 59,
    "start_time": "2024-08-03T08:15:51.067Z"
   },
   {
    "duration": 5,
    "start_time": "2024-08-03T08:15:51.128Z"
   },
   {
    "duration": 3,
    "start_time": "2024-08-03T08:15:51.134Z"
   },
   {
    "duration": 9,
    "start_time": "2024-08-03T08:15:51.139Z"
   },
   {
    "duration": 4,
    "start_time": "2024-08-03T08:15:51.149Z"
   },
   {
    "duration": 8,
    "start_time": "2024-08-03T08:15:51.155Z"
   },
   {
    "duration": 4,
    "start_time": "2024-08-03T08:15:51.164Z"
   },
   {
    "duration": 4,
    "start_time": "2024-08-03T08:15:51.223Z"
   },
   {
    "duration": 24,
    "start_time": "2024-08-03T08:15:51.228Z"
   },
   {
    "duration": 13,
    "start_time": "2024-08-03T08:15:51.253Z"
   },
   {
    "duration": 7,
    "start_time": "2024-08-03T08:15:51.267Z"
   },
   {
    "duration": 4,
    "start_time": "2024-08-03T08:15:51.323Z"
   },
   {
    "duration": 5,
    "start_time": "2024-08-03T08:15:51.328Z"
   },
   {
    "duration": 3,
    "start_time": "2024-08-03T08:15:51.334Z"
   },
   {
    "duration": 3,
    "start_time": "2024-08-03T08:15:51.339Z"
   },
   {
    "duration": 47352,
    "start_time": "2024-08-03T08:15:51.343Z"
   },
   {
    "duration": 3,
    "start_time": "2024-08-03T08:16:38.696Z"
   },
   {
    "duration": 25,
    "start_time": "2024-08-03T08:16:38.700Z"
   },
   {
    "duration": 3,
    "start_time": "2024-08-03T08:16:38.727Z"
   },
   {
    "duration": 5,
    "start_time": "2024-08-03T08:16:38.731Z"
   },
   {
    "duration": 21,
    "start_time": "2024-08-03T08:16:38.737Z"
   },
   {
    "duration": 2,
    "start_time": "2024-08-03T08:16:38.760Z"
   },
   {
    "duration": 5,
    "start_time": "2024-08-03T08:16:38.764Z"
   },
   {
    "duration": 55,
    "start_time": "2024-08-03T08:16:38.770Z"
   },
   {
    "duration": 11,
    "start_time": "2024-08-03T08:16:38.828Z"
   },
   {
    "duration": 523,
    "start_time": "2024-08-03T08:16:38.929Z"
   },
   {
    "duration": 65,
    "start_time": "2024-08-03T08:16:39.454Z"
   },
   {
    "duration": 11,
    "start_time": "2024-08-03T08:16:39.520Z"
   },
   {
    "duration": 15,
    "start_time": "2024-08-03T08:16:39.532Z"
   },
   {
    "duration": 19,
    "start_time": "2024-08-03T08:16:39.548Z"
   },
   {
    "duration": 20,
    "start_time": "2024-08-03T08:16:39.568Z"
   },
   {
    "duration": 11,
    "start_time": "2024-08-03T08:16:39.590Z"
   },
   {
    "duration": 22,
    "start_time": "2024-08-03T08:16:39.602Z"
   },
   {
    "duration": 3,
    "start_time": "2024-08-03T08:16:39.625Z"
   },
   {
    "duration": 478,
    "start_time": "2024-08-03T08:16:39.629Z"
   },
   {
    "duration": 1269,
    "start_time": "2024-08-03T08:16:40.108Z"
   },
   {
    "duration": 206,
    "start_time": "2024-08-03T08:16:41.379Z"
   },
   {
    "duration": 6,
    "start_time": "2024-08-03T08:16:41.586Z"
   },
   {
    "duration": 5,
    "start_time": "2024-08-03T08:16:41.593Z"
   },
   {
    "duration": 27,
    "start_time": "2024-08-03T08:16:41.599Z"
   },
   {
    "duration": 10,
    "start_time": "2024-08-03T08:16:41.627Z"
   },
   {
    "duration": 552,
    "start_time": "2024-08-03T08:16:41.639Z"
   },
   {
    "duration": 3838,
    "start_time": "2024-08-03T08:16:42.193Z"
   },
   {
    "duration": 12,
    "start_time": "2024-08-03T08:16:46.033Z"
   },
   {
    "duration": 280,
    "start_time": "2024-08-03T08:16:46.047Z"
   },
   {
    "duration": 20,
    "start_time": "2024-08-03T08:16:46.333Z"
   },
   {
    "duration": 4,
    "start_time": "2024-08-03T08:16:46.354Z"
   },
   {
    "duration": 4,
    "start_time": "2024-08-03T08:16:46.360Z"
   },
   {
    "duration": 12,
    "start_time": "2024-08-03T08:16:46.365Z"
   },
   {
    "duration": 6,
    "start_time": "2024-08-03T08:16:46.378Z"
   },
   {
    "duration": 8,
    "start_time": "2024-08-03T08:16:46.385Z"
   },
   {
    "duration": 5,
    "start_time": "2024-08-03T08:16:46.425Z"
   },
   {
    "duration": 21,
    "start_time": "2024-08-03T08:16:46.432Z"
   },
   {
    "duration": 5,
    "start_time": "2024-08-03T08:16:46.455Z"
   },
   {
    "duration": 4,
    "start_time": "2024-08-03T08:16:46.461Z"
   },
   {
    "duration": 4,
    "start_time": "2024-08-03T08:16:46.466Z"
   },
   {
    "duration": 31396,
    "start_time": "2024-08-03T08:16:46.472Z"
   },
   {
    "duration": 4,
    "start_time": "2024-08-03T08:17:17.869Z"
   },
   {
    "duration": 6,
    "start_time": "2024-08-03T08:17:17.874Z"
   },
   {
    "duration": 156,
    "start_time": "2024-08-03T08:17:17.882Z"
   },
   {
    "duration": 12,
    "start_time": "2024-08-03T09:11:00.462Z"
   },
   {
    "duration": 5,
    "start_time": "2024-08-03T09:11:09.913Z"
   },
   {
    "duration": 3,
    "start_time": "2024-08-03T09:12:59.182Z"
   },
   {
    "duration": 2,
    "start_time": "2024-08-03T09:13:01.134Z"
   },
   {
    "duration": 4,
    "start_time": "2024-08-03T09:13:01.586Z"
   },
   {
    "duration": 491,
    "start_time": "2024-08-03T09:13:01.998Z"
   },
   {
    "duration": 1457,
    "start_time": "2024-08-03T09:13:03.617Z"
   },
   {
    "duration": 209,
    "start_time": "2024-08-03T09:13:05.075Z"
   },
   {
    "duration": 5,
    "start_time": "2024-08-03T09:13:08.314Z"
   },
   {
    "duration": 5,
    "start_time": "2024-08-03T09:13:08.718Z"
   },
   {
    "duration": 5,
    "start_time": "2024-08-03T09:13:43.365Z"
   },
   {
    "duration": 5,
    "start_time": "2024-08-03T09:13:44.173Z"
   },
   {
    "duration": 8816,
    "start_time": "2024-08-03T09:14:08.462Z"
   },
   {
    "duration": 6,
    "start_time": "2024-08-03T09:14:27.225Z"
   },
   {
    "duration": 9229,
    "start_time": "2024-08-03T09:14:30.902Z"
   },
   {
    "duration": 5,
    "start_time": "2024-08-03T09:15:21.642Z"
   },
   {
    "duration": 585,
    "start_time": "2024-08-03T09:15:28.101Z"
   },
   {
    "duration": 8685,
    "start_time": "2024-08-03T09:15:34.697Z"
   },
   {
    "duration": 5,
    "start_time": "2024-08-03T09:16:27.294Z"
   },
   {
    "duration": 534,
    "start_time": "2024-08-03T09:16:27.662Z"
   },
   {
    "duration": 8594,
    "start_time": "2024-08-03T09:16:33.262Z"
   },
   {
    "duration": 68,
    "start_time": "2024-08-03T09:17:57.517Z"
   },
   {
    "duration": 12,
    "start_time": "2024-08-03T09:17:57.765Z"
   },
   {
    "duration": 7,
    "start_time": "2024-08-03T09:17:58.010Z"
   },
   {
    "duration": 13,
    "start_time": "2024-08-03T09:17:58.221Z"
   },
   {
    "duration": 11,
    "start_time": "2024-08-03T09:17:58.397Z"
   },
   {
    "duration": 9,
    "start_time": "2024-08-03T09:17:58.994Z"
   },
   {
    "duration": 10,
    "start_time": "2024-08-03T09:17:59.182Z"
   },
   {
    "duration": 3,
    "start_time": "2024-08-03T09:17:59.978Z"
   },
   {
    "duration": 4,
    "start_time": "2024-08-03T09:18:00.146Z"
   },
   {
    "duration": 515,
    "start_time": "2024-08-03T09:18:00.381Z"
   },
   {
    "duration": 1494,
    "start_time": "2024-08-03T09:18:01.002Z"
   },
   {
    "duration": 289,
    "start_time": "2024-08-03T09:18:02.525Z"
   },
   {
    "duration": 6,
    "start_time": "2024-08-03T09:18:02.957Z"
   },
   {
    "duration": 6,
    "start_time": "2024-08-03T09:18:03.109Z"
   },
   {
    "duration": 5,
    "start_time": "2024-08-03T09:18:03.350Z"
   },
   {
    "duration": 6,
    "start_time": "2024-08-03T09:18:03.549Z"
   },
   {
    "duration": 8,
    "start_time": "2024-08-03T09:18:03.798Z"
   },
   {
    "duration": 567,
    "start_time": "2024-08-03T09:18:04.126Z"
   },
   {
    "duration": 4528,
    "start_time": "2024-08-03T09:18:04.697Z"
   },
   {
    "duration": 8,
    "start_time": "2024-08-03T09:21:58.362Z"
   },
   {
    "duration": 611,
    "start_time": "2024-08-03T09:22:01.697Z"
   },
   {
    "duration": 5,
    "start_time": "2024-08-03T09:22:42.522Z"
   },
   {
    "duration": 5,
    "start_time": "2024-08-03T09:22:47.069Z"
   },
   {
    "duration": 7,
    "start_time": "2024-08-03T09:22:56.106Z"
   },
   {
    "duration": 639,
    "start_time": "2024-08-03T09:22:58.114Z"
   },
   {
    "duration": 4180,
    "start_time": "2024-08-03T09:37:09.786Z"
   },
   {
    "duration": 3345,
    "start_time": "2024-08-03T09:37:59.282Z"
   },
   {
    "duration": 57,
    "start_time": "2024-08-03T09:39:55.963Z"
   },
   {
    "duration": 14,
    "start_time": "2024-08-03T09:40:18.478Z"
   },
   {
    "duration": 4,
    "start_time": "2024-08-03T09:40:18.922Z"
   },
   {
    "duration": 18,
    "start_time": "2024-08-03T09:42:15.451Z"
   },
   {
    "duration": 14,
    "start_time": "2024-08-03T09:42:15.955Z"
   },
   {
    "duration": 17,
    "start_time": "2024-08-03T09:42:33.878Z"
   },
   {
    "duration": 14,
    "start_time": "2024-08-03T09:43:23.083Z"
   },
   {
    "duration": 85,
    "start_time": "2024-08-03T09:43:57.651Z"
   },
   {
    "duration": 18,
    "start_time": "2024-08-03T09:43:58.823Z"
   },
   {
    "duration": 9,
    "start_time": "2024-08-03T09:43:59.355Z"
   },
   {
    "duration": 7,
    "start_time": "2024-08-03T09:43:59.771Z"
   },
   {
    "duration": 3,
    "start_time": "2024-08-03T09:44:07.379Z"
   },
   {
    "duration": 24,
    "start_time": "2024-08-03T09:44:07.543Z"
   },
   {
    "duration": 21,
    "start_time": "2024-08-03T09:44:08.979Z"
   },
   {
    "duration": 11,
    "start_time": "2024-08-03T09:44:09.171Z"
   },
   {
    "duration": 10,
    "start_time": "2024-08-03T09:44:10.002Z"
   },
   {
    "duration": 12,
    "start_time": "2024-08-03T09:44:10.415Z"
   },
   {
    "duration": 7,
    "start_time": "2024-08-03T09:44:11.086Z"
   },
   {
    "duration": 12,
    "start_time": "2024-08-03T09:44:12.246Z"
   },
   {
    "duration": 3,
    "start_time": "2024-08-03T09:44:12.946Z"
   },
   {
    "duration": 7,
    "start_time": "2024-08-03T09:44:13.350Z"
   },
   {
    "duration": 9,
    "start_time": "2024-08-03T09:44:14.851Z"
   },
   {
    "duration": 12,
    "start_time": "2024-08-03T09:44:27.199Z"
   },
   {
    "duration": 8,
    "start_time": "2024-08-03T09:44:29.039Z"
   },
   {
    "duration": 10,
    "start_time": "2024-08-03T09:44:30.327Z"
   },
   {
    "duration": 7,
    "start_time": "2024-08-03T09:44:30.739Z"
   },
   {
    "duration": 7,
    "start_time": "2024-08-03T09:44:31.819Z"
   },
   {
    "duration": 8,
    "start_time": "2024-08-03T09:44:32.430Z"
   },
   {
    "duration": 4,
    "start_time": "2024-08-03T09:44:35.567Z"
   },
   {
    "duration": 4,
    "start_time": "2024-08-03T09:44:36.074Z"
   },
   {
    "duration": 3,
    "start_time": "2024-08-03T09:44:37.311Z"
   },
   {
    "duration": 3,
    "start_time": "2024-08-03T09:44:38.058Z"
   },
   {
    "duration": 10,
    "start_time": "2024-08-03T09:44:45.754Z"
   },
   {
    "duration": 5,
    "start_time": "2024-08-03T09:44:46.099Z"
   },
   {
    "duration": 9,
    "start_time": "2024-08-03T09:44:46.659Z"
   },
   {
    "duration": 3,
    "start_time": "2024-08-03T09:44:47.823Z"
   },
   {
    "duration": 3,
    "start_time": "2024-08-03T09:44:49.435Z"
   },
   {
    "duration": 26,
    "start_time": "2024-08-03T09:44:50.918Z"
   },
   {
    "duration": 14,
    "start_time": "2024-08-03T09:44:51.735Z"
   },
   {
    "duration": 19,
    "start_time": "2024-08-03T09:45:14.799Z"
   },
   {
    "duration": 24,
    "start_time": "2024-08-03T09:45:19.403Z"
   },
   {
    "duration": 4,
    "start_time": "2024-08-03T09:45:33.242Z"
   },
   {
    "duration": 3,
    "start_time": "2024-08-03T09:45:34.147Z"
   },
   {
    "duration": 11,
    "start_time": "2024-08-03T09:45:35.019Z"
   },
   {
    "duration": 4,
    "start_time": "2024-08-03T09:45:48.058Z"
   },
   {
    "duration": 4,
    "start_time": "2024-08-03T09:45:55.359Z"
   },
   {
    "duration": 4,
    "start_time": "2024-08-03T09:45:58.047Z"
   },
   {
    "duration": 20,
    "start_time": "2024-08-03T09:45:58.742Z"
   },
   {
    "duration": 4,
    "start_time": "2024-08-03T09:46:01.275Z"
   },
   {
    "duration": 2,
    "start_time": "2024-08-03T09:46:02.407Z"
   },
   {
    "duration": 4,
    "start_time": "2024-08-03T09:46:06.593Z"
   },
   {
    "duration": 33611,
    "start_time": "2024-08-03T09:46:09.687Z"
   },
   {
    "duration": 3,
    "start_time": "2024-08-03T09:46:43.299Z"
   },
   {
    "duration": 4,
    "start_time": "2024-08-03T09:46:55.895Z"
   },
   {
    "duration": 16,
    "start_time": "2024-08-03T09:51:30.562Z"
   },
   {
    "duration": 14,
    "start_time": "2024-08-03T09:52:33.695Z"
   },
   {
    "duration": 16,
    "start_time": "2024-08-03T09:54:16.231Z"
   },
   {
    "duration": 3,
    "start_time": "2024-08-03T09:54:52.575Z"
   },
   {
    "duration": 11,
    "start_time": "2024-08-03T09:55:00.955Z"
   },
   {
    "duration": 6,
    "start_time": "2024-08-03T09:55:34.867Z"
   },
   {
    "duration": 13,
    "start_time": "2024-08-03T09:59:46.575Z"
   },
   {
    "duration": 7,
    "start_time": "2024-08-03T10:00:00.495Z"
   },
   {
    "duration": 14,
    "start_time": "2024-08-03T10:01:04.475Z"
   },
   {
    "duration": 17,
    "start_time": "2024-08-03T10:01:21.898Z"
   },
   {
    "duration": 13,
    "start_time": "2024-08-03T10:02:00.671Z"
   },
   {
    "duration": 19,
    "start_time": "2024-08-03T10:02:28.970Z"
   },
   {
    "duration": 4,
    "start_time": "2024-08-03T10:03:00.971Z"
   },
   {
    "duration": 6,
    "start_time": "2024-08-03T10:03:02.018Z"
   },
   {
    "duration": 4,
    "start_time": "2024-08-03T10:03:02.591Z"
   },
   {
    "duration": 703,
    "start_time": "2024-08-03T10:03:02.900Z"
   },
   {
    "duration": 5,
    "start_time": "2024-08-03T10:03:40.051Z"
   },
   {
    "duration": 4,
    "start_time": "2024-08-03T10:03:40.307Z"
   },
   {
    "duration": 19,
    "start_time": "2024-08-03T10:03:40.575Z"
   },
   {
    "duration": 3,
    "start_time": "2024-08-03T10:03:42.167Z"
   },
   {
    "duration": 2,
    "start_time": "2024-08-03T10:03:42.428Z"
   },
   {
    "duration": 3,
    "start_time": "2024-08-03T10:03:42.855Z"
   },
   {
    "duration": 26166,
    "start_time": "2024-08-03T10:03:43.458Z"
   },
   {
    "duration": 4,
    "start_time": "2024-08-03T10:04:09.627Z"
   },
   {
    "duration": 4,
    "start_time": "2024-08-03T10:09:47.956Z"
   },
   {
    "duration": 7,
    "start_time": "2024-08-03T10:10:12.192Z"
   },
   {
    "duration": 7,
    "start_time": "2024-08-03T10:10:52.868Z"
   },
   {
    "duration": 6,
    "start_time": "2024-08-03T10:12:33.236Z"
   },
   {
    "duration": 17,
    "start_time": "2024-08-03T10:12:41.972Z"
   },
   {
    "duration": 14,
    "start_time": "2024-08-03T10:12:42.545Z"
   },
   {
    "duration": 4,
    "start_time": "2024-08-03T10:13:21.768Z"
   },
   {
    "duration": 5,
    "start_time": "2024-08-03T10:13:22.233Z"
   },
   {
    "duration": 4,
    "start_time": "2024-08-03T10:13:22.969Z"
   },
   {
    "duration": 18,
    "start_time": "2024-08-03T10:13:23.633Z"
   },
   {
    "duration": 6,
    "start_time": "2024-08-03T10:13:31.477Z"
   },
   {
    "duration": 19,
    "start_time": "2024-08-03T10:13:42.304Z"
   },
   {
    "duration": 4,
    "start_time": "2024-08-03T10:13:43.120Z"
   },
   {
    "duration": 3,
    "start_time": "2024-08-03T10:13:43.332Z"
   },
   {
    "duration": 3,
    "start_time": "2024-08-03T10:13:43.596Z"
   },
   {
    "duration": 39409,
    "start_time": "2024-08-03T10:13:44.761Z"
   },
   {
    "duration": 3,
    "start_time": "2024-08-03T10:14:29.684Z"
   },
   {
    "duration": 3,
    "start_time": "2024-08-03T10:14:33.880Z"
   },
   {
    "duration": 10,
    "start_time": "2024-08-03T10:14:34.920Z"
   },
   {
    "duration": 7,
    "start_time": "2024-08-03T10:14:37.344Z"
   },
   {
    "duration": 7,
    "start_time": "2024-08-03T10:14:37.776Z"
   },
   {
    "duration": 14,
    "start_time": "2024-08-03T10:14:38.849Z"
   },
   {
    "duration": 4,
    "start_time": "2024-08-03T10:15:25.301Z"
   },
   {
    "duration": 30,
    "start_time": "2024-08-03T10:15:34.821Z"
   },
   {
    "duration": 7,
    "start_time": "2024-08-03T10:16:34.553Z"
   },
   {
    "duration": 4,
    "start_time": "2024-08-03T10:17:36.673Z"
   },
   {
    "duration": 35,
    "start_time": "2024-08-03T10:17:39.565Z"
   },
   {
    "duration": 4,
    "start_time": "2024-08-03T10:17:42.693Z"
   },
   {
    "duration": 5,
    "start_time": "2024-08-03T10:17:42.845Z"
   },
   {
    "duration": 4,
    "start_time": "2024-08-03T10:17:43.049Z"
   },
   {
    "duration": 26,
    "start_time": "2024-08-03T10:17:43.260Z"
   },
   {
    "duration": 3,
    "start_time": "2024-08-03T10:17:43.785Z"
   },
   {
    "duration": 3,
    "start_time": "2024-08-03T10:17:44.165Z"
   },
   {
    "duration": 3,
    "start_time": "2024-08-03T10:17:45.797Z"
   },
   {
    "duration": 39994,
    "start_time": "2024-08-03T10:17:46.257Z"
   },
   {
    "duration": 3,
    "start_time": "2024-08-03T10:18:37.961Z"
   },
   {
    "duration": 4,
    "start_time": "2024-08-03T10:18:39.032Z"
   },
   {
    "duration": 11,
    "start_time": "2024-08-03T10:18:39.773Z"
   },
   {
    "duration": 7,
    "start_time": "2024-08-03T10:18:40.233Z"
   },
   {
    "duration": 7,
    "start_time": "2024-08-03T10:18:40.817Z"
   },
   {
    "duration": 7,
    "start_time": "2024-08-03T10:18:41.457Z"
   },
   {
    "duration": 16,
    "start_time": "2024-08-03T10:18:42.081Z"
   },
   {
    "duration": 16,
    "start_time": "2024-08-03T10:19:06.525Z"
   },
   {
    "duration": 96,
    "start_time": "2024-08-03T10:19:38.372Z"
   },
   {
    "duration": 19,
    "start_time": "2024-08-03T10:20:32.560Z"
   },
   {
    "duration": 3,
    "start_time": "2024-08-03T10:21:45.801Z"
   },
   {
    "duration": 3,
    "start_time": "2024-08-03T10:21:46.226Z"
   },
   {
    "duration": 3,
    "start_time": "2024-08-03T10:21:46.648Z"
   },
   {
    "duration": 66222,
    "start_time": "2024-08-03T10:21:47.317Z"
   },
   {
    "duration": 3,
    "start_time": "2024-08-03T10:22:58.656Z"
   },
   {
    "duration": 2,
    "start_time": "2024-08-03T10:23:00.713Z"
   },
   {
    "duration": 11,
    "start_time": "2024-08-03T10:23:01.213Z"
   },
   {
    "duration": 8,
    "start_time": "2024-08-03T10:23:02.209Z"
   },
   {
    "duration": 7,
    "start_time": "2024-08-03T10:23:03.009Z"
   },
   {
    "duration": 15,
    "start_time": "2024-08-03T10:23:03.445Z"
   },
   {
    "duration": 100,
    "start_time": "2024-08-03T10:23:07.013Z"
   },
   {
    "duration": 69,
    "start_time": "2024-08-03T10:23:11.165Z"
   },
   {
    "duration": 63,
    "start_time": "2024-08-03T10:23:25.166Z"
   },
   {
    "duration": 20,
    "start_time": "2024-08-03T10:23:46.641Z"
   },
   {
    "duration": 5,
    "start_time": "2024-08-03T10:24:05.357Z"
   },
   {
    "duration": 4,
    "start_time": "2024-08-03T10:24:58.473Z"
   },
   {
    "duration": 9,
    "start_time": "2024-08-03T10:25:15.377Z"
   },
   {
    "duration": 4,
    "start_time": "2024-08-03T10:26:36.657Z"
   },
   {
    "duration": 3,
    "start_time": "2024-08-03T10:26:37.433Z"
   },
   {
    "duration": 2,
    "start_time": "2024-08-03T10:26:38.001Z"
   },
   {
    "duration": 72972,
    "start_time": "2024-08-03T10:26:40.565Z"
   },
   {
    "duration": 3,
    "start_time": "2024-08-03T10:28:04.697Z"
   },
   {
    "duration": 3,
    "start_time": "2024-08-03T10:28:06.377Z"
   },
   {
    "duration": 11,
    "start_time": "2024-08-03T10:28:07.037Z"
   },
   {
    "duration": 7,
    "start_time": "2024-08-03T10:28:07.653Z"
   },
   {
    "duration": 7,
    "start_time": "2024-08-03T10:28:07.893Z"
   },
   {
    "duration": 16,
    "start_time": "2024-08-03T10:28:08.209Z"
   },
   {
    "duration": 103,
    "start_time": "2024-08-03T10:28:08.794Z"
   },
   {
    "duration": 10,
    "start_time": "2024-08-03T10:28:09.113Z"
   },
   {
    "duration": 4,
    "start_time": "2024-08-03T10:29:47.369Z"
   },
   {
    "duration": 2,
    "start_time": "2024-08-03T10:29:49.665Z"
   },
   {
    "duration": 3,
    "start_time": "2024-08-03T10:29:50.021Z"
   },
   {
    "duration": 84351,
    "start_time": "2024-08-03T10:29:50.509Z"
   },
   {
    "duration": 3,
    "start_time": "2024-08-03T10:31:30.826Z"
   },
   {
    "duration": 3,
    "start_time": "2024-08-03T10:31:33.077Z"
   },
   {
    "duration": 15,
    "start_time": "2024-08-03T10:31:33.594Z"
   },
   {
    "duration": 7,
    "start_time": "2024-08-03T10:31:34.757Z"
   },
   {
    "duration": 6,
    "start_time": "2024-08-03T10:31:35.678Z"
   },
   {
    "duration": 15,
    "start_time": "2024-08-03T10:31:36.894Z"
   },
   {
    "duration": 96,
    "start_time": "2024-08-03T10:31:37.729Z"
   },
   {
    "duration": 10,
    "start_time": "2024-08-03T10:31:38.267Z"
   },
   {
    "duration": 17,
    "start_time": "2024-08-03T10:35:58.325Z"
   },
   {
    "duration": 13,
    "start_time": "2024-08-03T10:35:58.642Z"
   },
   {
    "duration": 12,
    "start_time": "2024-08-03T10:41:31.006Z"
   },
   {
    "duration": 18,
    "start_time": "2024-08-03T10:41:56.410Z"
   },
   {
    "duration": 15,
    "start_time": "2024-08-03T10:41:56.933Z"
   },
   {
    "duration": 16,
    "start_time": "2024-08-03T10:42:17.106Z"
   },
   {
    "duration": 4,
    "start_time": "2024-08-03T10:45:06.530Z"
   },
   {
    "duration": 5,
    "start_time": "2024-08-03T10:45:07.234Z"
   },
   {
    "duration": 5,
    "start_time": "2024-08-03T10:45:07.898Z"
   },
   {
    "duration": 5,
    "start_time": "2024-08-03T10:45:08.434Z"
   },
   {
    "duration": 25,
    "start_time": "2024-08-03T10:45:09.758Z"
   },
   {
    "duration": 4,
    "start_time": "2024-08-03T10:45:18.742Z"
   },
   {
    "duration": 3,
    "start_time": "2024-08-03T10:45:19.746Z"
   },
   {
    "duration": 2,
    "start_time": "2024-08-03T10:45:20.351Z"
   },
   {
    "duration": 94982,
    "start_time": "2024-08-03T10:45:20.946Z"
   },
   {
    "duration": 3,
    "start_time": "2024-08-03T10:47:02.578Z"
   },
   {
    "duration": 3,
    "start_time": "2024-08-03T10:47:08.108Z"
   },
   {
    "duration": 5,
    "start_time": "2024-08-03T10:47:08.670Z"
   },
   {
    "duration": 12,
    "start_time": "2024-08-03T10:47:09.543Z"
   },
   {
    "duration": 7,
    "start_time": "2024-08-03T10:47:10.314Z"
   },
   {
    "duration": 7,
    "start_time": "2024-08-03T10:47:11.094Z"
   },
   {
    "duration": 14,
    "start_time": "2024-08-03T10:47:11.987Z"
   },
   {
    "duration": 108,
    "start_time": "2024-08-03T10:47:13.590Z"
   },
   {
    "duration": 14,
    "start_time": "2024-08-03T10:49:15.827Z"
   },
   {
    "duration": 65,
    "start_time": "2024-08-03T10:49:36.978Z"
   },
   {
    "duration": 10,
    "start_time": "2024-08-03T10:49:37.174Z"
   },
   {
    "duration": 7,
    "start_time": "2024-08-03T10:49:37.370Z"
   },
   {
    "duration": 11,
    "start_time": "2024-08-03T10:49:38.099Z"
   },
   {
    "duration": 10,
    "start_time": "2024-08-03T10:49:38.595Z"
   },
   {
    "duration": 5,
    "start_time": "2024-08-03T10:49:45.490Z"
   },
   {
    "duration": 3,
    "start_time": "2024-08-03T10:49:51.551Z"
   },
   {
    "duration": 5,
    "start_time": "2024-08-03T10:49:51.778Z"
   },
   {
    "duration": 15,
    "start_time": "2024-08-03T10:50:00.670Z"
   },
   {
    "duration": 231,
    "start_time": "2024-08-03T10:50:01.579Z"
   },
   {
    "duration": 16,
    "start_time": "2024-08-03T10:50:20.207Z"
   },
   {
    "duration": 5312,
    "start_time": "2024-08-03T10:50:48.819Z"
   },
   {
    "duration": 2402,
    "start_time": "2024-08-03T10:50:54.133Z"
   },
   {
    "duration": 1946,
    "start_time": "2024-08-03T10:50:56.537Z"
   },
   {
    "duration": 88,
    "start_time": "2024-08-03T10:50:58.485Z"
   },
   {
    "duration": 20,
    "start_time": "2024-08-03T10:50:58.574Z"
   },
   {
    "duration": 12,
    "start_time": "2024-08-03T10:50:58.596Z"
   },
   {
    "duration": 20,
    "start_time": "2024-08-03T10:50:58.610Z"
   },
   {
    "duration": 11,
    "start_time": "2024-08-03T10:50:58.633Z"
   },
   {
    "duration": 33,
    "start_time": "2024-08-03T10:50:58.645Z"
   },
   {
    "duration": 16,
    "start_time": "2024-08-03T10:50:58.681Z"
   },
   {
    "duration": 14,
    "start_time": "2024-08-03T10:50:58.698Z"
   },
   {
    "duration": 27,
    "start_time": "2024-08-03T10:50:58.714Z"
   },
   {
    "duration": 11,
    "start_time": "2024-08-03T10:50:58.743Z"
   },
   {
    "duration": 9,
    "start_time": "2024-08-03T10:50:58.756Z"
   },
   {
    "duration": 33,
    "start_time": "2024-08-03T10:50:58.766Z"
   },
   {
    "duration": 24,
    "start_time": "2024-08-03T10:50:58.801Z"
   },
   {
    "duration": 13,
    "start_time": "2024-08-03T10:50:58.827Z"
   },
   {
    "duration": 50,
    "start_time": "2024-08-03T10:50:58.841Z"
   },
   {
    "duration": 5,
    "start_time": "2024-08-03T10:50:58.893Z"
   },
   {
    "duration": 17,
    "start_time": "2024-08-03T10:50:58.899Z"
   },
   {
    "duration": 8,
    "start_time": "2024-08-03T10:50:58.917Z"
   },
   {
    "duration": 1272,
    "start_time": "2024-08-03T10:50:58.926Z"
   },
   {
    "duration": 1689,
    "start_time": "2024-08-03T10:51:00.200Z"
   },
   {
    "duration": 494,
    "start_time": "2024-08-03T10:51:01.891Z"
   },
   {
    "duration": 1604,
    "start_time": "2024-08-03T10:51:02.386Z"
   },
   {
    "duration": 479,
    "start_time": "2024-08-03T10:51:03.992Z"
   },
   {
    "duration": 6,
    "start_time": "2024-08-03T10:51:04.472Z"
   },
   {
    "duration": 354,
    "start_time": "2024-08-03T10:51:04.482Z"
   },
   {
    "duration": 979,
    "start_time": "2024-08-03T10:51:04.838Z"
   },
   {
    "duration": 13,
    "start_time": "2024-08-03T10:51:05.818Z"
   },
   {
    "duration": 60,
    "start_time": "2024-08-03T10:51:05.832Z"
   },
   {
    "duration": 10,
    "start_time": "2024-08-03T10:51:05.894Z"
   },
   {
    "duration": 8,
    "start_time": "2024-08-03T10:51:05.905Z"
   },
   {
    "duration": 9,
    "start_time": "2024-08-03T10:51:05.914Z"
   },
   {
    "duration": 30,
    "start_time": "2024-08-03T10:51:05.925Z"
   },
   {
    "duration": 5,
    "start_time": "2024-08-03T10:51:05.957Z"
   },
   {
    "duration": 13,
    "start_time": "2024-08-03T10:51:05.964Z"
   },
   {
    "duration": 7,
    "start_time": "2024-08-03T10:51:05.978Z"
   },
   {
    "duration": 31,
    "start_time": "2024-08-03T10:51:05.986Z"
   },
   {
    "duration": 14,
    "start_time": "2024-08-03T10:51:06.019Z"
   },
   {
    "duration": 10,
    "start_time": "2024-08-03T10:51:06.034Z"
   },
   {
    "duration": 12,
    "start_time": "2024-08-03T10:51:06.046Z"
   },
   {
    "duration": 4,
    "start_time": "2024-08-03T10:51:06.059Z"
   },
   {
    "duration": 5,
    "start_time": "2024-08-03T10:51:06.064Z"
   },
   {
    "duration": 26,
    "start_time": "2024-08-03T10:51:06.070Z"
   },
   {
    "duration": 13,
    "start_time": "2024-08-03T10:51:06.098Z"
   },
   {
    "duration": 4,
    "start_time": "2024-08-03T10:51:06.124Z"
   },
   {
    "duration": 7,
    "start_time": "2024-08-03T10:51:06.129Z"
   },
   {
    "duration": 3,
    "start_time": "2024-08-03T10:51:06.138Z"
   },
   {
    "duration": 4,
    "start_time": "2024-08-03T10:51:06.142Z"
   },
   {
    "duration": 48,
    "start_time": "2024-08-03T10:51:06.148Z"
   },
   {
    "duration": 201,
    "start_time": "2024-08-03T10:51:06.198Z"
   },
   {
    "duration": 10,
    "start_time": "2024-08-03T10:51:06.400Z"
   },
   {
    "duration": 0,
    "start_time": "2024-08-03T10:51:06.413Z"
   },
   {
    "duration": 0,
    "start_time": "2024-08-03T10:51:06.415Z"
   },
   {
    "duration": 0,
    "start_time": "2024-08-03T10:51:06.416Z"
   },
   {
    "duration": 0,
    "start_time": "2024-08-03T10:51:06.417Z"
   },
   {
    "duration": 0,
    "start_time": "2024-08-03T10:51:06.419Z"
   },
   {
    "duration": 0,
    "start_time": "2024-08-03T10:51:06.421Z"
   },
   {
    "duration": 0,
    "start_time": "2024-08-03T10:51:06.422Z"
   },
   {
    "duration": 0,
    "start_time": "2024-08-03T10:51:06.423Z"
   },
   {
    "duration": 0,
    "start_time": "2024-08-03T10:51:06.425Z"
   },
   {
    "duration": 0,
    "start_time": "2024-08-03T10:51:06.426Z"
   },
   {
    "duration": 0,
    "start_time": "2024-08-03T10:51:06.428Z"
   },
   {
    "duration": 0,
    "start_time": "2024-08-03T10:51:06.429Z"
   },
   {
    "duration": 0,
    "start_time": "2024-08-03T10:51:06.431Z"
   },
   {
    "duration": 0,
    "start_time": "2024-08-03T10:51:06.432Z"
   },
   {
    "duration": 0,
    "start_time": "2024-08-03T10:51:06.433Z"
   },
   {
    "duration": 0,
    "start_time": "2024-08-03T10:51:06.435Z"
   },
   {
    "duration": 0,
    "start_time": "2024-08-03T10:51:06.436Z"
   },
   {
    "duration": 0,
    "start_time": "2024-08-03T10:51:06.437Z"
   },
   {
    "duration": 0,
    "start_time": "2024-08-03T10:51:06.438Z"
   },
   {
    "duration": 0,
    "start_time": "2024-08-03T10:51:06.438Z"
   },
   {
    "duration": 0,
    "start_time": "2024-08-03T10:51:06.439Z"
   },
   {
    "duration": 0,
    "start_time": "2024-08-03T10:51:06.440Z"
   },
   {
    "duration": 0,
    "start_time": "2024-08-03T10:51:06.441Z"
   },
   {
    "duration": 0,
    "start_time": "2024-08-03T10:51:06.442Z"
   },
   {
    "duration": 0,
    "start_time": "2024-08-03T10:51:06.444Z"
   },
   {
    "duration": 0,
    "start_time": "2024-08-03T10:51:06.444Z"
   },
   {
    "duration": 0,
    "start_time": "2024-08-03T10:51:06.445Z"
   },
   {
    "duration": 0,
    "start_time": "2024-08-03T10:51:06.446Z"
   },
   {
    "duration": 0,
    "start_time": "2024-08-03T10:51:06.447Z"
   },
   {
    "duration": 0,
    "start_time": "2024-08-03T10:51:06.448Z"
   },
   {
    "duration": 0,
    "start_time": "2024-08-03T10:51:06.449Z"
   },
   {
    "duration": 0,
    "start_time": "2024-08-03T10:51:06.450Z"
   },
   {
    "duration": 0,
    "start_time": "2024-08-03T10:51:06.451Z"
   },
   {
    "duration": 0,
    "start_time": "2024-08-03T10:51:06.452Z"
   },
   {
    "duration": 0,
    "start_time": "2024-08-03T10:51:06.453Z"
   },
   {
    "duration": 0,
    "start_time": "2024-08-03T10:51:06.454Z"
   },
   {
    "duration": 0,
    "start_time": "2024-08-03T10:51:06.455Z"
   },
   {
    "duration": 0,
    "start_time": "2024-08-03T10:51:06.456Z"
   },
   {
    "duration": 0,
    "start_time": "2024-08-03T10:51:06.457Z"
   },
   {
    "duration": 0,
    "start_time": "2024-08-03T10:51:06.458Z"
   },
   {
    "duration": 0,
    "start_time": "2024-08-03T10:51:06.459Z"
   },
   {
    "duration": 0,
    "start_time": "2024-08-03T10:51:06.459Z"
   },
   {
    "duration": 0,
    "start_time": "2024-08-03T10:51:06.460Z"
   },
   {
    "duration": 0,
    "start_time": "2024-08-03T10:51:06.461Z"
   },
   {
    "duration": 0,
    "start_time": "2024-08-03T10:51:06.523Z"
   },
   {
    "duration": 0,
    "start_time": "2024-08-03T10:51:06.525Z"
   },
   {
    "duration": 0,
    "start_time": "2024-08-03T10:51:06.525Z"
   },
   {
    "duration": 0,
    "start_time": "2024-08-03T10:51:06.526Z"
   },
   {
    "duration": 0,
    "start_time": "2024-08-03T10:51:06.527Z"
   },
   {
    "duration": 0,
    "start_time": "2024-08-03T10:51:06.528Z"
   },
   {
    "duration": 0,
    "start_time": "2024-08-03T10:51:06.530Z"
   },
   {
    "duration": 0,
    "start_time": "2024-08-03T10:51:06.531Z"
   },
   {
    "duration": 0,
    "start_time": "2024-08-03T10:51:06.532Z"
   },
   {
    "duration": 0,
    "start_time": "2024-08-03T10:51:06.533Z"
   },
   {
    "duration": 0,
    "start_time": "2024-08-03T10:51:06.534Z"
   },
   {
    "duration": 0,
    "start_time": "2024-08-03T10:51:06.534Z"
   },
   {
    "duration": 5214,
    "start_time": "2024-08-03T10:52:28.444Z"
   },
   {
    "duration": 2481,
    "start_time": "2024-08-03T10:52:33.660Z"
   },
   {
    "duration": 1886,
    "start_time": "2024-08-03T10:52:36.145Z"
   },
   {
    "duration": 86,
    "start_time": "2024-08-03T10:52:38.033Z"
   },
   {
    "duration": 17,
    "start_time": "2024-08-03T10:52:38.121Z"
   },
   {
    "duration": 9,
    "start_time": "2024-08-03T10:52:38.140Z"
   },
   {
    "duration": 6,
    "start_time": "2024-08-03T10:52:38.150Z"
   },
   {
    "duration": 3,
    "start_time": "2024-08-03T10:52:38.157Z"
   },
   {
    "duration": 24,
    "start_time": "2024-08-03T10:52:38.162Z"
   },
   {
    "duration": 43,
    "start_time": "2024-08-03T10:52:38.188Z"
   },
   {
    "duration": 78,
    "start_time": "2024-08-03T10:52:38.232Z"
   },
   {
    "duration": 11,
    "start_time": "2024-08-03T10:52:38.311Z"
   },
   {
    "duration": 11,
    "start_time": "2024-08-03T10:52:38.323Z"
   },
   {
    "duration": 11,
    "start_time": "2024-08-03T10:52:38.335Z"
   },
   {
    "duration": 13,
    "start_time": "2024-08-03T10:52:38.347Z"
   },
   {
    "duration": 2,
    "start_time": "2024-08-03T10:52:38.362Z"
   },
   {
    "duration": 5,
    "start_time": "2024-08-03T10:52:38.366Z"
   },
   {
    "duration": 21,
    "start_time": "2024-08-03T10:52:38.373Z"
   },
   {
    "duration": 5,
    "start_time": "2024-08-03T10:52:38.395Z"
   },
   {
    "duration": 3,
    "start_time": "2024-08-03T10:52:38.401Z"
   },
   {
    "duration": 3,
    "start_time": "2024-08-03T10:52:38.425Z"
   },
   {
    "duration": 1120,
    "start_time": "2024-08-03T10:52:38.430Z"
   },
   {
    "duration": 1640,
    "start_time": "2024-08-03T10:52:39.551Z"
   },
   {
    "duration": 520,
    "start_time": "2024-08-03T10:52:41.192Z"
   },
   {
    "duration": 1479,
    "start_time": "2024-08-03T10:52:41.713Z"
   },
   {
    "duration": 484,
    "start_time": "2024-08-03T10:52:43.194Z"
   },
   {
    "duration": 6,
    "start_time": "2024-08-03T10:52:43.682Z"
   },
   {
    "duration": 344,
    "start_time": "2024-08-03T10:52:43.690Z"
   },
   {
    "duration": 973,
    "start_time": "2024-08-03T10:52:44.036Z"
   },
   {
    "duration": 12,
    "start_time": "2024-08-03T10:52:45.011Z"
   },
   {
    "duration": 29,
    "start_time": "2024-08-03T10:52:45.024Z"
   },
   {
    "duration": 31,
    "start_time": "2024-08-03T10:52:45.054Z"
   },
   {
    "duration": 29,
    "start_time": "2024-08-03T10:52:45.087Z"
   },
   {
    "duration": 25,
    "start_time": "2024-08-03T10:52:45.118Z"
   },
   {
    "duration": 11,
    "start_time": "2024-08-03T10:52:45.144Z"
   },
   {
    "duration": 19,
    "start_time": "2024-08-03T10:52:45.156Z"
   },
   {
    "duration": 39,
    "start_time": "2024-08-03T10:52:45.177Z"
   },
   {
    "duration": 7,
    "start_time": "2024-08-03T10:52:45.218Z"
   },
   {
    "duration": 12,
    "start_time": "2024-08-03T10:52:45.226Z"
   },
   {
    "duration": 11,
    "start_time": "2024-08-03T10:52:45.239Z"
   },
   {
    "duration": 32,
    "start_time": "2024-08-03T10:52:45.251Z"
   },
   {
    "duration": 25,
    "start_time": "2024-08-03T10:52:45.284Z"
   },
   {
    "duration": 14,
    "start_time": "2024-08-03T10:52:45.310Z"
   },
   {
    "duration": 4,
    "start_time": "2024-08-03T10:52:45.325Z"
   },
   {
    "duration": 28,
    "start_time": "2024-08-03T10:52:45.330Z"
   },
   {
    "duration": 13,
    "start_time": "2024-08-03T10:52:45.360Z"
   },
   {
    "duration": 5,
    "start_time": "2024-08-03T10:52:45.374Z"
   },
   {
    "duration": 9,
    "start_time": "2024-08-03T10:52:45.381Z"
   },
   {
    "duration": 8,
    "start_time": "2024-08-03T10:52:45.391Z"
   },
   {
    "duration": 10,
    "start_time": "2024-08-03T10:52:45.401Z"
   },
   {
    "duration": 9,
    "start_time": "2024-08-03T10:52:45.412Z"
   },
   {
    "duration": 48737,
    "start_time": "2024-08-03T10:52:45.424Z"
   },
   {
    "duration": 2,
    "start_time": "2024-08-03T10:53:34.163Z"
   },
   {
    "duration": 29,
    "start_time": "2024-08-03T10:53:34.167Z"
   },
   {
    "duration": 27,
    "start_time": "2024-08-03T10:53:34.198Z"
   },
   {
    "duration": 6,
    "start_time": "2024-08-03T10:53:34.226Z"
   },
   {
    "duration": 80,
    "start_time": "2024-08-03T10:53:34.233Z"
   },
   {
    "duration": 5,
    "start_time": "2024-08-03T10:53:34.314Z"
   },
   {
    "duration": 4,
    "start_time": "2024-08-03T10:53:34.321Z"
   },
   {
    "duration": 14,
    "start_time": "2024-08-03T10:53:34.327Z"
   },
   {
    "duration": 3,
    "start_time": "2024-08-03T10:53:34.342Z"
   },
   {
    "duration": 605,
    "start_time": "2024-08-03T10:53:34.348Z"
   },
   {
    "duration": 65,
    "start_time": "2024-08-03T10:53:34.954Z"
   },
   {
    "duration": 10,
    "start_time": "2024-08-03T10:53:35.021Z"
   },
   {
    "duration": 13,
    "start_time": "2024-08-03T10:53:35.032Z"
   },
   {
    "duration": 23,
    "start_time": "2024-08-03T10:53:35.046Z"
   },
   {
    "duration": 9,
    "start_time": "2024-08-03T10:53:35.071Z"
   },
   {
    "duration": 18,
    "start_time": "2024-08-03T10:53:35.082Z"
   },
   {
    "duration": 23,
    "start_time": "2024-08-03T10:53:35.102Z"
   },
   {
    "duration": 4,
    "start_time": "2024-08-03T10:53:35.127Z"
   },
   {
    "duration": 5,
    "start_time": "2024-08-03T10:53:35.132Z"
   },
   {
    "duration": 5,
    "start_time": "2024-08-03T10:53:35.139Z"
   },
   {
    "duration": 507,
    "start_time": "2024-08-03T10:53:35.145Z"
   },
   {
    "duration": 1226,
    "start_time": "2024-08-03T10:53:35.653Z"
   },
   {
    "duration": 269,
    "start_time": "2024-08-03T10:53:36.881Z"
   },
   {
    "duration": 5,
    "start_time": "2024-08-03T10:53:37.152Z"
   },
   {
    "duration": 8,
    "start_time": "2024-08-03T10:53:37.159Z"
   },
   {
    "duration": 5,
    "start_time": "2024-08-03T10:53:37.168Z"
   },
   {
    "duration": 15,
    "start_time": "2024-08-03T10:53:37.174Z"
   },
   {
    "duration": 5,
    "start_time": "2024-08-03T10:53:37.191Z"
   },
   {
    "duration": 599,
    "start_time": "2024-08-03T10:53:37.201Z"
   },
   {
    "duration": 3933,
    "start_time": "2024-08-03T10:53:37.801Z"
   },
   {
    "duration": 11,
    "start_time": "2024-08-03T10:53:41.736Z"
   },
   {
    "duration": 278,
    "start_time": "2024-08-03T10:53:41.749Z"
   },
   {
    "duration": 3147,
    "start_time": "2024-08-03T10:53:42.028Z"
   },
   {
    "duration": 149,
    "start_time": "2024-08-03T10:53:45.176Z"
   },
   {
    "duration": 0,
    "start_time": "2024-08-03T10:53:45.327Z"
   },
   {
    "duration": 0,
    "start_time": "2024-08-03T10:53:45.328Z"
   },
   {
    "duration": 0,
    "start_time": "2024-08-03T10:53:45.329Z"
   },
   {
    "duration": 0,
    "start_time": "2024-08-03T10:53:45.330Z"
   },
   {
    "duration": 0,
    "start_time": "2024-08-03T10:53:45.331Z"
   },
   {
    "duration": 0,
    "start_time": "2024-08-03T10:53:45.332Z"
   },
   {
    "duration": 0,
    "start_time": "2024-08-03T10:53:45.333Z"
   },
   {
    "duration": 0,
    "start_time": "2024-08-03T10:53:45.334Z"
   },
   {
    "duration": 0,
    "start_time": "2024-08-03T10:53:45.335Z"
   },
   {
    "duration": 0,
    "start_time": "2024-08-03T10:53:45.336Z"
   },
   {
    "duration": 0,
    "start_time": "2024-08-03T10:53:45.336Z"
   },
   {
    "duration": 0,
    "start_time": "2024-08-03T10:53:45.337Z"
   },
   {
    "duration": 0,
    "start_time": "2024-08-03T10:53:45.338Z"
   },
   {
    "duration": 0,
    "start_time": "2024-08-03T10:53:45.339Z"
   },
   {
    "duration": 0,
    "start_time": "2024-08-03T10:53:45.340Z"
   },
   {
    "duration": 0,
    "start_time": "2024-08-03T10:53:45.341Z"
   },
   {
    "duration": 0,
    "start_time": "2024-08-03T10:53:45.342Z"
   },
   {
    "duration": 0,
    "start_time": "2024-08-03T10:53:45.343Z"
   },
   {
    "duration": 0,
    "start_time": "2024-08-03T10:53:45.344Z"
   },
   {
    "duration": 0,
    "start_time": "2024-08-03T10:53:45.345Z"
   },
   {
    "duration": 0,
    "start_time": "2024-08-03T10:53:45.346Z"
   },
   {
    "duration": 0,
    "start_time": "2024-08-03T10:53:45.347Z"
   },
   {
    "duration": 0,
    "start_time": "2024-08-03T10:53:45.348Z"
   },
   {
    "duration": 17,
    "start_time": "2024-08-03T10:54:13.712Z"
   },
   {
    "duration": 4,
    "start_time": "2024-08-03T10:54:14.996Z"
   },
   {
    "duration": 3,
    "start_time": "2024-08-03T10:54:15.464Z"
   },
   {
    "duration": 11,
    "start_time": "2024-08-03T10:54:16.220Z"
   },
   {
    "duration": 4,
    "start_time": "2024-08-03T10:54:16.964Z"
   },
   {
    "duration": 4,
    "start_time": "2024-08-03T10:54:17.464Z"
   },
   {
    "duration": 5,
    "start_time": "2024-08-03T10:54:17.984Z"
   },
   {
    "duration": 24,
    "start_time": "2024-08-03T10:54:18.456Z"
   },
   {
    "duration": 4,
    "start_time": "2024-08-03T10:54:19.988Z"
   },
   {
    "duration": 2,
    "start_time": "2024-08-03T10:54:21.488Z"
   },
   {
    "duration": 3,
    "start_time": "2024-08-03T10:54:24.032Z"
   },
   {
    "duration": 83985,
    "start_time": "2024-08-03T10:54:26.376Z"
   },
   {
    "duration": 3,
    "start_time": "2024-08-03T10:55:58.688Z"
   },
   {
    "duration": 3,
    "start_time": "2024-08-03T10:56:00.712Z"
   },
   {
    "duration": 10,
    "start_time": "2024-08-03T10:56:01.688Z"
   },
   {
    "duration": 6,
    "start_time": "2024-08-03T10:56:04.676Z"
   },
   {
    "duration": 7,
    "start_time": "2024-08-03T10:56:05.808Z"
   },
   {
    "duration": 15,
    "start_time": "2024-08-03T10:56:09.425Z"
   },
   {
    "duration": 96,
    "start_time": "2024-08-03T10:56:11.412Z"
   },
   {
    "duration": 9,
    "start_time": "2024-08-03T10:56:12.729Z"
   },
   {
    "duration": 4,
    "start_time": "2024-08-03T10:56:40.952Z"
   },
   {
    "duration": 5,
    "start_time": "2024-08-03T10:56:41.456Z"
   },
   {
    "duration": 4,
    "start_time": "2024-08-03T10:56:42.028Z"
   },
   {
    "duration": 715,
    "start_time": "2024-08-03T10:56:42.548Z"
   },
   {
    "duration": 4,
    "start_time": "2024-08-03T10:57:27.568Z"
   },
   {
    "duration": 3,
    "start_time": "2024-08-03T10:57:47.656Z"
   },
   {
    "duration": 2,
    "start_time": "2024-08-03T10:58:02.760Z"
   },
   {
    "duration": 4,
    "start_time": "2024-08-03T10:58:05.412Z"
   },
   {
    "duration": 23,
    "start_time": "2024-08-03T10:58:06.440Z"
   },
   {
    "duration": 4,
    "start_time": "2024-08-03T10:58:08.056Z"
   },
   {
    "duration": 2,
    "start_time": "2024-08-03T10:58:08.524Z"
   },
   {
    "duration": 3,
    "start_time": "2024-08-03T10:58:08.988Z"
   },
   {
    "duration": 69001,
    "start_time": "2024-08-03T10:58:10.460Z"
   },
   {
    "duration": 3,
    "start_time": "2024-08-03T10:59:27.936Z"
   },
   {
    "duration": 2,
    "start_time": "2024-08-03T10:59:29.685Z"
   },
   {
    "duration": 11,
    "start_time": "2024-08-03T10:59:30.431Z"
   },
   {
    "duration": 7,
    "start_time": "2024-08-03T10:59:32.980Z"
   },
   {
    "duration": 6,
    "start_time": "2024-08-03T10:59:33.592Z"
   },
   {
    "duration": 14,
    "start_time": "2024-08-03T10:59:34.129Z"
   },
   {
    "duration": 85,
    "start_time": "2024-08-03T10:59:34.856Z"
   },
   {
    "duration": 9,
    "start_time": "2024-08-03T10:59:35.545Z"
   },
   {
    "duration": 4,
    "start_time": "2024-08-03T11:02:43.316Z"
   },
   {
    "duration": 5,
    "start_time": "2024-08-03T11:02:44.109Z"
   },
   {
    "duration": 3,
    "start_time": "2024-08-03T11:02:44.724Z"
   },
   {
    "duration": 5,
    "start_time": "2024-08-03T11:02:45.196Z"
   },
   {
    "duration": 21,
    "start_time": "2024-08-03T11:02:45.808Z"
   },
   {
    "duration": 4,
    "start_time": "2024-08-03T11:02:47.873Z"
   },
   {
    "duration": 3,
    "start_time": "2024-08-03T11:02:48.925Z"
   },
   {
    "duration": 4,
    "start_time": "2024-08-03T11:02:49.576Z"
   },
   {
    "duration": 66861,
    "start_time": "2024-08-03T11:02:50.648Z"
   },
   {
    "duration": 13,
    "start_time": "2024-08-03T11:03:57.511Z"
   },
   {
    "duration": 3,
    "start_time": "2024-08-03T11:03:57.526Z"
   },
   {
    "duration": 12,
    "start_time": "2024-08-03T11:03:57.530Z"
   },
   {
    "duration": 3,
    "start_time": "2024-08-03T11:04:04.952Z"
   },
   {
    "duration": 3,
    "start_time": "2024-08-03T11:04:07.116Z"
   },
   {
    "duration": 10,
    "start_time": "2024-08-03T11:04:07.968Z"
   },
   {
    "duration": 6,
    "start_time": "2024-08-03T11:04:08.473Z"
   },
   {
    "duration": 7,
    "start_time": "2024-08-03T11:04:09.224Z"
   },
   {
    "duration": 13,
    "start_time": "2024-08-03T11:04:09.812Z"
   },
   {
    "duration": 82,
    "start_time": "2024-08-03T11:04:10.288Z"
   },
   {
    "duration": 10,
    "start_time": "2024-08-03T11:04:11.256Z"
   },
   {
    "duration": 4,
    "start_time": "2024-08-03T11:05:40.848Z"
   },
   {
    "duration": 69,
    "start_time": "2024-08-03T11:12:18.604Z"
   },
   {
    "duration": 8,
    "start_time": "2024-08-03T11:13:23.304Z"
   },
   {
    "duration": 12,
    "start_time": "2024-08-03T11:18:43.393Z"
   },
   {
    "duration": 8,
    "start_time": "2024-08-03T11:18:44.690Z"
   },
   {
    "duration": 14,
    "start_time": "2024-08-03T11:18:44.704Z"
   },
   {
    "duration": 7,
    "start_time": "2024-08-03T11:18:45.007Z"
   },
   {
    "duration": 7,
    "start_time": "2024-08-03T11:18:47.154Z"
   },
   {
    "duration": 7,
    "start_time": "2024-08-03T11:18:47.466Z"
   },
   {
    "duration": 4,
    "start_time": "2024-08-03T11:18:48.901Z"
   },
   {
    "duration": 6,
    "start_time": "2024-08-03T11:18:49.570Z"
   },
   {
    "duration": 14,
    "start_time": "2024-08-03T11:18:51.334Z"
   },
   {
    "duration": 5218,
    "start_time": "2024-08-03T11:19:10.220Z"
   },
   {
    "duration": 2457,
    "start_time": "2024-08-03T11:19:15.440Z"
   },
   {
    "duration": 1959,
    "start_time": "2024-08-03T11:19:17.899Z"
   },
   {
    "duration": 87,
    "start_time": "2024-08-03T11:19:19.860Z"
   },
   {
    "duration": 35,
    "start_time": "2024-08-03T11:19:19.949Z"
   },
   {
    "duration": 10,
    "start_time": "2024-08-03T11:19:19.985Z"
   },
   {
    "duration": 7,
    "start_time": "2024-08-03T11:19:19.996Z"
   },
   {
    "duration": 29,
    "start_time": "2024-08-03T11:19:20.005Z"
   },
   {
    "duration": 55,
    "start_time": "2024-08-03T11:19:20.036Z"
   },
   {
    "duration": 15,
    "start_time": "2024-08-03T11:19:20.093Z"
   },
   {
    "duration": 10,
    "start_time": "2024-08-03T11:19:20.109Z"
   },
   {
    "duration": 11,
    "start_time": "2024-08-03T11:19:20.121Z"
   },
   {
    "duration": 14,
    "start_time": "2024-08-03T11:19:20.134Z"
   },
   {
    "duration": 5,
    "start_time": "2024-08-03T11:19:20.150Z"
   },
   {
    "duration": 29,
    "start_time": "2024-08-03T11:19:20.156Z"
   },
   {
    "duration": 4,
    "start_time": "2024-08-03T11:19:20.187Z"
   },
   {
    "duration": 8,
    "start_time": "2024-08-03T11:19:20.192Z"
   },
   {
    "duration": 31,
    "start_time": "2024-08-03T11:19:20.201Z"
   },
   {
    "duration": 51,
    "start_time": "2024-08-03T11:19:20.233Z"
   },
   {
    "duration": 6,
    "start_time": "2024-08-03T11:19:20.285Z"
   },
   {
    "duration": 4,
    "start_time": "2024-08-03T11:19:20.292Z"
   },
   {
    "duration": 1142,
    "start_time": "2024-08-03T11:19:20.297Z"
   },
   {
    "duration": 1552,
    "start_time": "2024-08-03T11:19:21.440Z"
   },
   {
    "duration": 553,
    "start_time": "2024-08-03T11:19:22.994Z"
   },
   {
    "duration": 1536,
    "start_time": "2024-08-03T11:19:23.549Z"
   },
   {
    "duration": 479,
    "start_time": "2024-08-03T11:19:25.086Z"
   },
   {
    "duration": 7,
    "start_time": "2024-08-03T11:19:25.566Z"
   },
   {
    "duration": 381,
    "start_time": "2024-08-03T11:19:25.578Z"
   },
   {
    "duration": 947,
    "start_time": "2024-08-03T11:19:25.961Z"
   },
   {
    "duration": 12,
    "start_time": "2024-08-03T11:19:26.910Z"
   },
   {
    "duration": 7,
    "start_time": "2024-08-03T11:19:26.924Z"
   },
   {
    "duration": 9,
    "start_time": "2024-08-03T11:19:26.932Z"
   },
   {
    "duration": 10,
    "start_time": "2024-08-03T11:19:26.942Z"
   },
   {
    "duration": 9,
    "start_time": "2024-08-03T11:19:26.953Z"
   },
   {
    "duration": 8,
    "start_time": "2024-08-03T11:19:26.963Z"
   },
   {
    "duration": 5,
    "start_time": "2024-08-03T11:19:26.973Z"
   },
   {
    "duration": 3,
    "start_time": "2024-08-03T11:19:26.979Z"
   },
   {
    "duration": 4,
    "start_time": "2024-08-03T11:19:26.983Z"
   },
   {
    "duration": 3,
    "start_time": "2024-08-03T11:19:26.988Z"
   },
   {
    "duration": 36,
    "start_time": "2024-08-03T11:19:26.992Z"
   },
   {
    "duration": 5,
    "start_time": "2024-08-03T11:19:27.029Z"
   },
   {
    "duration": 9,
    "start_time": "2024-08-03T11:19:27.035Z"
   },
   {
    "duration": 3,
    "start_time": "2024-08-03T11:19:27.045Z"
   },
   {
    "duration": 3,
    "start_time": "2024-08-03T11:19:27.049Z"
   },
   {
    "duration": 23,
    "start_time": "2024-08-03T11:19:27.053Z"
   },
   {
    "duration": 12,
    "start_time": "2024-08-03T11:19:27.078Z"
   },
   {
    "duration": 4,
    "start_time": "2024-08-03T11:19:27.123Z"
   },
   {
    "duration": 5,
    "start_time": "2024-08-03T11:19:27.129Z"
   },
   {
    "duration": 4,
    "start_time": "2024-08-03T11:19:27.136Z"
   },
   {
    "duration": 3,
    "start_time": "2024-08-03T11:19:27.141Z"
   },
   {
    "duration": 3,
    "start_time": "2024-08-03T11:19:27.146Z"
   },
   {
    "duration": 9971,
    "start_time": "2024-08-03T11:19:27.150Z"
   },
   {
    "duration": 10,
    "start_time": "2024-08-03T11:19:37.122Z"
   },
   {
    "duration": 0,
    "start_time": "2024-08-03T11:19:37.134Z"
   },
   {
    "duration": 0,
    "start_time": "2024-08-03T11:19:37.135Z"
   },
   {
    "duration": 0,
    "start_time": "2024-08-03T11:19:37.136Z"
   },
   {
    "duration": 0,
    "start_time": "2024-08-03T11:19:37.137Z"
   },
   {
    "duration": 0,
    "start_time": "2024-08-03T11:19:37.138Z"
   },
   {
    "duration": 0,
    "start_time": "2024-08-03T11:19:37.139Z"
   },
   {
    "duration": 0,
    "start_time": "2024-08-03T11:19:37.140Z"
   },
   {
    "duration": 0,
    "start_time": "2024-08-03T11:19:37.141Z"
   },
   {
    "duration": 0,
    "start_time": "2024-08-03T11:19:37.142Z"
   },
   {
    "duration": 0,
    "start_time": "2024-08-03T11:19:37.143Z"
   },
   {
    "duration": 0,
    "start_time": "2024-08-03T11:19:37.144Z"
   },
   {
    "duration": 0,
    "start_time": "2024-08-03T11:19:37.145Z"
   },
   {
    "duration": 0,
    "start_time": "2024-08-03T11:19:37.146Z"
   },
   {
    "duration": 0,
    "start_time": "2024-08-03T11:19:37.148Z"
   },
   {
    "duration": 0,
    "start_time": "2024-08-03T11:19:37.150Z"
   },
   {
    "duration": 0,
    "start_time": "2024-08-03T11:19:37.150Z"
   },
   {
    "duration": 0,
    "start_time": "2024-08-03T11:19:37.151Z"
   },
   {
    "duration": 0,
    "start_time": "2024-08-03T11:19:37.153Z"
   },
   {
    "duration": 0,
    "start_time": "2024-08-03T11:19:37.154Z"
   },
   {
    "duration": 0,
    "start_time": "2024-08-03T11:19:37.155Z"
   },
   {
    "duration": 0,
    "start_time": "2024-08-03T11:19:37.156Z"
   },
   {
    "duration": 0,
    "start_time": "2024-08-03T11:19:37.157Z"
   },
   {
    "duration": 0,
    "start_time": "2024-08-03T11:19:37.158Z"
   },
   {
    "duration": 0,
    "start_time": "2024-08-03T11:19:37.159Z"
   },
   {
    "duration": 0,
    "start_time": "2024-08-03T11:19:37.160Z"
   },
   {
    "duration": 0,
    "start_time": "2024-08-03T11:19:37.161Z"
   },
   {
    "duration": 0,
    "start_time": "2024-08-03T11:19:37.162Z"
   },
   {
    "duration": 0,
    "start_time": "2024-08-03T11:19:37.163Z"
   },
   {
    "duration": 0,
    "start_time": "2024-08-03T11:19:37.224Z"
   },
   {
    "duration": 0,
    "start_time": "2024-08-03T11:19:37.225Z"
   },
   {
    "duration": 0,
    "start_time": "2024-08-03T11:19:37.226Z"
   },
   {
    "duration": 0,
    "start_time": "2024-08-03T11:19:37.227Z"
   },
   {
    "duration": 0,
    "start_time": "2024-08-03T11:19:37.228Z"
   },
   {
    "duration": 0,
    "start_time": "2024-08-03T11:19:37.229Z"
   },
   {
    "duration": 0,
    "start_time": "2024-08-03T11:19:37.230Z"
   },
   {
    "duration": 0,
    "start_time": "2024-08-03T11:19:37.231Z"
   },
   {
    "duration": 0,
    "start_time": "2024-08-03T11:19:37.231Z"
   },
   {
    "duration": 0,
    "start_time": "2024-08-03T11:19:37.232Z"
   },
   {
    "duration": 0,
    "start_time": "2024-08-03T11:19:37.233Z"
   },
   {
    "duration": 0,
    "start_time": "2024-08-03T11:19:37.234Z"
   },
   {
    "duration": 0,
    "start_time": "2024-08-03T11:19:37.235Z"
   },
   {
    "duration": 0,
    "start_time": "2024-08-03T11:19:37.236Z"
   },
   {
    "duration": 0,
    "start_time": "2024-08-03T11:19:37.236Z"
   },
   {
    "duration": 0,
    "start_time": "2024-08-03T11:19:37.237Z"
   },
   {
    "duration": 0,
    "start_time": "2024-08-03T11:19:37.238Z"
   },
   {
    "duration": 0,
    "start_time": "2024-08-03T11:19:37.239Z"
   },
   {
    "duration": 0,
    "start_time": "2024-08-03T11:19:37.240Z"
   },
   {
    "duration": 0,
    "start_time": "2024-08-03T11:19:37.240Z"
   },
   {
    "duration": 0,
    "start_time": "2024-08-03T11:19:37.242Z"
   },
   {
    "duration": 0,
    "start_time": "2024-08-03T11:19:37.242Z"
   },
   {
    "duration": 0,
    "start_time": "2024-08-03T11:19:37.243Z"
   },
   {
    "duration": 0,
    "start_time": "2024-08-03T11:19:37.244Z"
   },
   {
    "duration": 0,
    "start_time": "2024-08-03T11:19:37.246Z"
   },
   {
    "duration": 0,
    "start_time": "2024-08-03T11:19:37.246Z"
   },
   {
    "duration": 4,
    "start_time": "2024-08-03T11:24:52.960Z"
   },
   {
    "duration": 4,
    "start_time": "2024-08-03T11:24:55.076Z"
   },
   {
    "duration": 13,
    "start_time": "2024-08-03T11:24:56.880Z"
   },
   {
    "duration": 2,
    "start_time": "2024-08-03T11:24:57.496Z"
   },
   {
    "duration": 4,
    "start_time": "2024-08-03T11:25:12.684Z"
   },
   {
    "duration": 4,
    "start_time": "2024-08-03T11:25:13.720Z"
   },
   {
    "duration": 2,
    "start_time": "2024-08-03T11:25:16.428Z"
   },
   {
    "duration": 10,
    "start_time": "2024-08-03T11:25:16.431Z"
   },
   {
    "duration": 5,
    "start_time": "2024-08-03T11:25:17.536Z"
   },
   {
    "duration": 9,
    "start_time": "2024-08-03T11:25:18.924Z"
   },
   {
    "duration": 4,
    "start_time": "2024-08-03T11:25:23.016Z"
   },
   {
    "duration": 3,
    "start_time": "2024-08-03T11:25:24.356Z"
   },
   {
    "duration": 22,
    "start_time": "2024-08-03T11:25:25.568Z"
   },
   {
    "duration": 15,
    "start_time": "2024-08-03T11:25:26.860Z"
   },
   {
    "duration": 4,
    "start_time": "2024-08-03T11:25:28.583Z"
   },
   {
    "duration": 3,
    "start_time": "2024-08-03T11:25:28.919Z"
   },
   {
    "duration": 3,
    "start_time": "2024-08-03T11:25:30.004Z"
   },
   {
    "duration": 3,
    "start_time": "2024-08-03T11:25:30.568Z"
   },
   {
    "duration": 3,
    "start_time": "2024-08-03T11:25:31.124Z"
   },
   {
    "duration": 41976,
    "start_time": "2024-08-03T11:25:32.099Z"
   },
   {
    "duration": 3,
    "start_time": "2024-08-03T11:27:13.616Z"
   },
   {
    "duration": 5401,
    "start_time": "2024-08-03T11:28:01.871Z"
   },
   {
    "duration": 2563,
    "start_time": "2024-08-03T11:28:07.274Z"
   },
   {
    "duration": 2126,
    "start_time": "2024-08-03T11:28:09.840Z"
   },
   {
    "duration": 87,
    "start_time": "2024-08-03T11:28:11.968Z"
   },
   {
    "duration": 20,
    "start_time": "2024-08-03T11:28:12.057Z"
   },
   {
    "duration": 10,
    "start_time": "2024-08-03T11:28:12.078Z"
   },
   {
    "duration": 7,
    "start_time": "2024-08-03T11:28:12.089Z"
   },
   {
    "duration": 4,
    "start_time": "2024-08-03T11:28:12.097Z"
   },
   {
    "duration": 32,
    "start_time": "2024-08-03T11:28:12.102Z"
   },
   {
    "duration": 18,
    "start_time": "2024-08-03T11:28:12.139Z"
   },
   {
    "duration": 12,
    "start_time": "2024-08-03T11:28:12.159Z"
   },
   {
    "duration": 10,
    "start_time": "2024-08-03T11:28:12.173Z"
   },
   {
    "duration": 11,
    "start_time": "2024-08-03T11:28:12.184Z"
   },
   {
    "duration": 40,
    "start_time": "2024-08-03T11:28:12.196Z"
   },
   {
    "duration": 18,
    "start_time": "2024-08-03T11:28:12.238Z"
   },
   {
    "duration": 37,
    "start_time": "2024-08-03T11:28:12.258Z"
   },
   {
    "duration": 7,
    "start_time": "2024-08-03T11:28:12.297Z"
   },
   {
    "duration": 10,
    "start_time": "2024-08-03T11:28:12.306Z"
   },
   {
    "duration": 4,
    "start_time": "2024-08-03T11:28:12.318Z"
   },
   {
    "duration": 15,
    "start_time": "2024-08-03T11:28:12.323Z"
   },
   {
    "duration": 4,
    "start_time": "2024-08-03T11:28:12.339Z"
   },
   {
    "duration": 1141,
    "start_time": "2024-08-03T11:28:12.344Z"
   },
   {
    "duration": 1774,
    "start_time": "2024-08-03T11:28:13.487Z"
   },
   {
    "duration": 533,
    "start_time": "2024-08-03T11:28:15.262Z"
   },
   {
    "duration": 1789,
    "start_time": "2024-08-03T11:28:15.797Z"
   },
   {
    "duration": 517,
    "start_time": "2024-08-03T11:28:17.587Z"
   },
   {
    "duration": 7,
    "start_time": "2024-08-03T11:28:18.105Z"
   },
   {
    "duration": 337,
    "start_time": "2024-08-03T11:28:18.124Z"
   },
   {
    "duration": 1047,
    "start_time": "2024-08-03T11:28:18.462Z"
   },
   {
    "duration": 17,
    "start_time": "2024-08-03T11:28:19.510Z"
   },
   {
    "duration": 8,
    "start_time": "2024-08-03T11:28:19.537Z"
   },
   {
    "duration": 10,
    "start_time": "2024-08-03T11:28:19.547Z"
   },
   {
    "duration": 21,
    "start_time": "2024-08-03T11:28:19.559Z"
   },
   {
    "duration": 9,
    "start_time": "2024-08-03T11:28:19.584Z"
   },
   {
    "duration": 10,
    "start_time": "2024-08-03T11:28:19.595Z"
   },
   {
    "duration": 5,
    "start_time": "2024-08-03T11:28:19.608Z"
   },
   {
    "duration": 8,
    "start_time": "2024-08-03T11:28:19.623Z"
   },
   {
    "duration": 14,
    "start_time": "2024-08-03T11:28:19.634Z"
   },
   {
    "duration": 49,
    "start_time": "2024-08-03T11:28:19.651Z"
   },
   {
    "duration": 11,
    "start_time": "2024-08-03T11:28:19.702Z"
   },
   {
    "duration": 17,
    "start_time": "2024-08-03T11:28:19.714Z"
   },
   {
    "duration": 13,
    "start_time": "2024-08-03T11:28:19.734Z"
   },
   {
    "duration": 4,
    "start_time": "2024-08-03T11:28:19.748Z"
   },
   {
    "duration": 3,
    "start_time": "2024-08-03T11:28:19.754Z"
   },
   {
    "duration": 25,
    "start_time": "2024-08-03T11:28:19.758Z"
   },
   {
    "duration": 13,
    "start_time": "2024-08-03T11:28:19.784Z"
   },
   {
    "duration": 3,
    "start_time": "2024-08-03T11:28:19.799Z"
   },
   {
    "duration": 35,
    "start_time": "2024-08-03T11:28:19.803Z"
   },
   {
    "duration": 3,
    "start_time": "2024-08-03T11:28:19.841Z"
   },
   {
    "duration": 4,
    "start_time": "2024-08-03T11:28:19.845Z"
   },
   {
    "duration": 4,
    "start_time": "2024-08-03T11:28:19.851Z"
   },
   {
    "duration": 51568,
    "start_time": "2024-08-03T11:28:19.856Z"
   },
   {
    "duration": 4,
    "start_time": "2024-08-03T11:29:11.436Z"
   },
   {
    "duration": 6,
    "start_time": "2024-08-03T11:29:11.441Z"
   },
   {
    "duration": 4,
    "start_time": "2024-08-03T11:29:11.448Z"
   },
   {
    "duration": 5,
    "start_time": "2024-08-03T11:29:11.453Z"
   },
   {
    "duration": 20,
    "start_time": "2024-08-03T11:29:11.459Z"
   },
   {
    "duration": 3,
    "start_time": "2024-08-03T11:29:11.481Z"
   },
   {
    "duration": 4,
    "start_time": "2024-08-03T11:29:11.485Z"
   },
   {
    "duration": 54,
    "start_time": "2024-08-03T11:29:11.490Z"
   },
   {
    "duration": 92,
    "start_time": "2024-08-03T11:29:11.546Z"
   },
   {
    "duration": 629,
    "start_time": "2024-08-03T11:29:11.640Z"
   },
   {
    "duration": 66,
    "start_time": "2024-08-03T11:29:12.271Z"
   },
   {
    "duration": 10,
    "start_time": "2024-08-03T11:29:12.339Z"
   },
   {
    "duration": 6,
    "start_time": "2024-08-03T11:29:12.351Z"
   },
   {
    "duration": 12,
    "start_time": "2024-08-03T11:29:12.358Z"
   },
   {
    "duration": 30,
    "start_time": "2024-08-03T11:29:12.372Z"
   },
   {
    "duration": 40,
    "start_time": "2024-08-03T11:29:12.403Z"
   },
   {
    "duration": 7,
    "start_time": "2024-08-03T11:29:12.444Z"
   },
   {
    "duration": 4,
    "start_time": "2024-08-03T11:29:12.453Z"
   },
   {
    "duration": 17,
    "start_time": "2024-08-03T11:29:12.458Z"
   },
   {
    "duration": 6,
    "start_time": "2024-08-03T11:29:12.476Z"
   },
   {
    "duration": 507,
    "start_time": "2024-08-03T11:29:12.484Z"
   },
   {
    "duration": 1467,
    "start_time": "2024-08-03T11:29:12.993Z"
   },
   {
    "duration": 212,
    "start_time": "2024-08-03T11:29:14.462Z"
   },
   {
    "duration": 5,
    "start_time": "2024-08-03T11:29:14.675Z"
   },
   {
    "duration": 7,
    "start_time": "2024-08-03T11:29:14.681Z"
   },
   {
    "duration": 4,
    "start_time": "2024-08-03T11:29:14.690Z"
   },
   {
    "duration": 15,
    "start_time": "2024-08-03T11:29:14.696Z"
   },
   {
    "duration": 24,
    "start_time": "2024-08-03T11:29:14.712Z"
   },
   {
    "duration": 579,
    "start_time": "2024-08-03T11:29:14.737Z"
   },
   {
    "duration": 4116,
    "start_time": "2024-08-03T11:29:15.326Z"
   },
   {
    "duration": 13,
    "start_time": "2024-08-03T11:29:19.444Z"
   },
   {
    "duration": 327,
    "start_time": "2024-08-03T11:29:19.459Z"
   },
   {
    "duration": 3300,
    "start_time": "2024-08-03T11:29:19.788Z"
   },
   {
    "duration": 16,
    "start_time": "2024-08-03T11:29:23.090Z"
   },
   {
    "duration": 2,
    "start_time": "2024-08-03T11:29:23.108Z"
   },
   {
    "duration": 26,
    "start_time": "2024-08-03T11:29:23.112Z"
   },
   {
    "duration": 17,
    "start_time": "2024-08-03T11:29:23.140Z"
   },
   {
    "duration": 12,
    "start_time": "2024-08-03T11:29:23.158Z"
   },
   {
    "duration": 14,
    "start_time": "2024-08-03T11:29:23.171Z"
   },
   {
    "duration": 6,
    "start_time": "2024-08-03T11:29:23.187Z"
   },
   {
    "duration": 5,
    "start_time": "2024-08-03T11:29:23.195Z"
   },
   {
    "duration": 28,
    "start_time": "2024-08-03T11:29:23.202Z"
   },
   {
    "duration": 4,
    "start_time": "2024-08-03T11:29:23.238Z"
   },
   {
    "duration": 6,
    "start_time": "2024-08-03T11:29:23.244Z"
   },
   {
    "duration": 5,
    "start_time": "2024-08-03T11:29:23.251Z"
   },
   {
    "duration": 73603,
    "start_time": "2024-08-03T11:29:23.257Z"
   },
   {
    "duration": 3,
    "start_time": "2024-08-03T11:30:36.861Z"
   },
   {
    "duration": 8,
    "start_time": "2024-08-03T11:30:36.865Z"
   },
   {
    "duration": 14,
    "start_time": "2024-08-03T11:30:36.875Z"
   },
   {
    "duration": 11,
    "start_time": "2024-08-03T11:30:36.891Z"
   },
   {
    "duration": 31,
    "start_time": "2024-08-03T11:30:36.903Z"
   },
   {
    "duration": 16,
    "start_time": "2024-08-03T11:30:36.936Z"
   },
   {
    "duration": 98,
    "start_time": "2024-08-03T11:30:36.954Z"
   },
   {
    "duration": 10,
    "start_time": "2024-08-03T11:30:37.053Z"
   },
   {
    "duration": 12,
    "start_time": "2024-08-03T11:30:37.065Z"
   },
   {
    "duration": 29913,
    "start_time": "2024-08-04T10:34:47.427Z"
   },
   {
    "duration": 3306,
    "start_time": "2024-08-04T10:35:17.343Z"
   },
   {
    "duration": 2425,
    "start_time": "2024-08-04T10:35:20.652Z"
   },
   {
    "duration": 229,
    "start_time": "2024-08-04T10:35:23.079Z"
   },
   {
    "duration": 20,
    "start_time": "2024-08-04T10:35:23.310Z"
   },
   {
    "duration": 34,
    "start_time": "2024-08-04T10:35:23.331Z"
   },
   {
    "duration": 21,
    "start_time": "2024-08-04T10:35:23.367Z"
   },
   {
    "duration": 26,
    "start_time": "2024-08-04T10:35:23.389Z"
   },
   {
    "duration": 43,
    "start_time": "2024-08-04T10:35:23.417Z"
   },
   {
    "duration": 15,
    "start_time": "2024-08-04T10:35:23.463Z"
   },
   {
    "duration": 62,
    "start_time": "2024-08-04T10:35:23.479Z"
   },
   {
    "duration": 90,
    "start_time": "2024-08-04T10:35:23.543Z"
   },
   {
    "duration": 23,
    "start_time": "2024-08-04T10:35:23.634Z"
   },
   {
    "duration": 29,
    "start_time": "2024-08-04T10:35:23.659Z"
   },
   {
    "duration": 39,
    "start_time": "2024-08-04T10:35:23.689Z"
   },
   {
    "duration": 6,
    "start_time": "2024-08-04T10:35:23.730Z"
   },
   {
    "duration": 12,
    "start_time": "2024-08-04T10:36:01.508Z"
   },
   {
    "duration": 82,
    "start_time": "2024-08-04T10:36:24.792Z"
   },
   {
    "duration": 11,
    "start_time": "2024-08-04T10:36:25.379Z"
   },
   {
    "duration": 10,
    "start_time": "2024-08-04T10:36:25.611Z"
   },
   {
    "duration": 7,
    "start_time": "2024-08-04T10:36:25.823Z"
   },
   {
    "duration": 3,
    "start_time": "2024-08-04T10:36:26.074Z"
   },
   {
    "duration": 29,
    "start_time": "2024-08-04T10:36:26.335Z"
   },
   {
    "duration": 33,
    "start_time": "2024-08-04T10:36:28.660Z"
   },
   {
    "duration": 15,
    "start_time": "2024-08-04T10:36:28.696Z"
   },
   {
    "duration": 13,
    "start_time": "2024-08-04T10:36:30.167Z"
   },
   {
    "duration": 12,
    "start_time": "2024-08-04T10:36:30.824Z"
   },
   {
    "duration": 5,
    "start_time": "2024-08-04T10:36:31.691Z"
   },
   {
    "duration": 12,
    "start_time": "2024-08-04T10:36:32.879Z"
   },
   {
    "duration": 6,
    "start_time": "2024-08-04T10:36:33.627Z"
   },
   {
    "duration": 12,
    "start_time": "2024-08-04T10:36:35.894Z"
   },
   {
    "duration": 9,
    "start_time": "2024-08-04T10:36:36.671Z"
   },
   {
    "duration": 62,
    "start_time": "2024-08-04T10:41:58.392Z"
   },
   {
    "duration": 73,
    "start_time": "2024-08-04T10:42:10.328Z"
   },
   {
    "duration": 148,
    "start_time": "2024-08-04T10:42:29.743Z"
   },
   {
    "duration": 4,
    "start_time": "2024-08-04T10:43:00.068Z"
   },
   {
    "duration": 5661,
    "start_time": "2024-08-04T10:55:16.708Z"
   },
   {
    "duration": 2585,
    "start_time": "2024-08-04T10:55:22.372Z"
   },
   {
    "duration": 2086,
    "start_time": "2024-08-04T10:55:24.960Z"
   },
   {
    "duration": 77,
    "start_time": "2024-08-04T10:55:27.048Z"
   },
   {
    "duration": 19,
    "start_time": "2024-08-04T10:55:27.126Z"
   },
   {
    "duration": 9,
    "start_time": "2024-08-04T10:55:27.146Z"
   },
   {
    "duration": 14,
    "start_time": "2024-08-04T10:55:27.156Z"
   },
   {
    "duration": 5,
    "start_time": "2024-08-04T10:55:27.172Z"
   },
   {
    "duration": 27,
    "start_time": "2024-08-04T10:55:27.178Z"
   },
   {
    "duration": 14,
    "start_time": "2024-08-04T10:55:27.207Z"
   },
   {
    "duration": 33,
    "start_time": "2024-08-04T10:55:27.222Z"
   },
   {
    "duration": 22,
    "start_time": "2024-08-04T10:55:27.257Z"
   },
   {
    "duration": 18,
    "start_time": "2024-08-04T10:55:27.280Z"
   },
   {
    "duration": 22,
    "start_time": "2024-08-04T10:55:27.300Z"
   },
   {
    "duration": 19,
    "start_time": "2024-08-04T10:55:27.324Z"
   },
   {
    "duration": 23,
    "start_time": "2024-08-04T10:55:27.345Z"
   },
   {
    "duration": 52,
    "start_time": "2024-08-04T10:55:27.370Z"
   },
   {
    "duration": 26,
    "start_time": "2024-08-04T10:55:27.424Z"
   },
   {
    "duration": 1265,
    "start_time": "2024-08-04T10:55:27.453Z"
   },
   {
    "duration": 1699,
    "start_time": "2024-08-04T10:55:28.720Z"
   },
   {
    "duration": 581,
    "start_time": "2024-08-04T10:55:30.420Z"
   },
   {
    "duration": 1658,
    "start_time": "2024-08-04T10:55:31.003Z"
   },
   {
    "duration": 519,
    "start_time": "2024-08-04T10:55:32.663Z"
   },
   {
    "duration": 7,
    "start_time": "2024-08-04T10:55:33.183Z"
   },
   {
    "duration": 346,
    "start_time": "2024-08-04T10:55:33.191Z"
   },
   {
    "duration": 1050,
    "start_time": "2024-08-04T10:55:33.539Z"
   },
   {
    "duration": 14,
    "start_time": "2024-08-04T10:55:34.591Z"
   },
   {
    "duration": 10,
    "start_time": "2024-08-04T10:55:34.610Z"
   },
   {
    "duration": 24,
    "start_time": "2024-08-04T10:55:34.622Z"
   },
   {
    "duration": 10,
    "start_time": "2024-08-04T10:55:34.648Z"
   },
   {
    "duration": 35,
    "start_time": "2024-08-04T10:55:34.659Z"
   },
   {
    "duration": 9,
    "start_time": "2024-08-04T10:55:34.695Z"
   },
   {
    "duration": 30,
    "start_time": "2024-08-04T10:55:34.705Z"
   },
   {
    "duration": 5,
    "start_time": "2024-08-04T10:55:34.737Z"
   },
   {
    "duration": 16,
    "start_time": "2024-08-04T10:55:34.744Z"
   },
   {
    "duration": 8,
    "start_time": "2024-08-04T10:55:34.761Z"
   },
   {
    "duration": 13,
    "start_time": "2024-08-04T10:55:34.770Z"
   },
   {
    "duration": 6,
    "start_time": "2024-08-04T10:55:34.785Z"
   },
   {
    "duration": 10,
    "start_time": "2024-08-04T10:55:34.792Z"
   },
   {
    "duration": 4,
    "start_time": "2024-08-04T10:55:34.804Z"
   },
   {
    "duration": 7,
    "start_time": "2024-08-04T10:55:34.810Z"
   },
   {
    "duration": 45,
    "start_time": "2024-08-04T10:55:34.818Z"
   },
   {
    "duration": 15,
    "start_time": "2024-08-04T10:55:34.865Z"
   },
   {
    "duration": 4,
    "start_time": "2024-08-04T10:55:34.881Z"
   },
   {
    "duration": 14,
    "start_time": "2024-08-04T10:55:34.887Z"
   },
   {
    "duration": 68,
    "start_time": "2024-08-04T10:55:34.902Z"
   },
   {
    "duration": 46,
    "start_time": "2024-08-04T10:55:34.972Z"
   },
   {
    "duration": 25,
    "start_time": "2024-08-04T10:55:35.020Z"
   },
   {
    "duration": 51547,
    "start_time": "2024-08-04T10:55:35.047Z"
   },
   {
    "duration": 4,
    "start_time": "2024-08-04T10:56:26.595Z"
   },
   {
    "duration": 18,
    "start_time": "2024-08-04T10:56:26.600Z"
   },
   {
    "duration": 7,
    "start_time": "2024-08-04T10:56:26.620Z"
   },
   {
    "duration": 8,
    "start_time": "2024-08-04T10:56:26.628Z"
   },
   {
    "duration": 25,
    "start_time": "2024-08-04T10:56:26.638Z"
   },
   {
    "duration": 3,
    "start_time": "2024-08-04T10:56:26.665Z"
   },
   {
    "duration": 10,
    "start_time": "2024-08-04T10:56:26.669Z"
   },
   {
    "duration": 17,
    "start_time": "2024-08-04T10:56:26.681Z"
   },
   {
    "duration": 48,
    "start_time": "2024-08-04T10:56:26.700Z"
   },
   {
    "duration": 724,
    "start_time": "2024-08-04T10:56:26.749Z"
   },
   {
    "duration": 150,
    "start_time": "2024-08-04T10:56:27.475Z"
   },
   {
    "duration": 11,
    "start_time": "2024-08-04T10:56:27.627Z"
   },
   {
    "duration": 86,
    "start_time": "2024-08-04T10:56:27.639Z"
   },
   {
    "duration": 23,
    "start_time": "2024-08-04T10:56:27.727Z"
   },
   {
    "duration": 15,
    "start_time": "2024-08-04T10:56:27.752Z"
   },
   {
    "duration": 12,
    "start_time": "2024-08-04T10:56:27.768Z"
   },
   {
    "duration": 23,
    "start_time": "2024-08-04T10:56:27.781Z"
   },
   {
    "duration": 13,
    "start_time": "2024-08-04T10:56:27.806Z"
   },
   {
    "duration": 3,
    "start_time": "2024-08-04T10:56:27.821Z"
   },
   {
    "duration": 4,
    "start_time": "2024-08-04T10:56:27.826Z"
   },
   {
    "duration": 511,
    "start_time": "2024-08-04T10:56:27.831Z"
   },
   {
    "duration": 1462,
    "start_time": "2024-08-04T10:56:28.346Z"
   },
   {
    "duration": 270,
    "start_time": "2024-08-04T10:56:29.810Z"
   },
   {
    "duration": 6,
    "start_time": "2024-08-04T10:56:30.081Z"
   },
   {
    "duration": 89,
    "start_time": "2024-08-04T10:56:30.089Z"
   },
   {
    "duration": 83,
    "start_time": "2024-08-04T10:56:30.179Z"
   },
   {
    "duration": 59,
    "start_time": "2024-08-04T10:56:30.265Z"
   },
   {
    "duration": 89,
    "start_time": "2024-08-04T10:56:30.326Z"
   },
   {
    "duration": 757,
    "start_time": "2024-08-04T10:56:30.417Z"
   },
   {
    "duration": 4116,
    "start_time": "2024-08-04T10:56:31.176Z"
   },
   {
    "duration": 13,
    "start_time": "2024-08-04T10:56:35.294Z"
   },
   {
    "duration": 351,
    "start_time": "2024-08-04T10:56:35.308Z"
   },
   {
    "duration": 3400,
    "start_time": "2024-08-04T10:56:35.665Z"
   },
   {
    "duration": 20,
    "start_time": "2024-08-04T10:56:39.066Z"
   },
   {
    "duration": 22,
    "start_time": "2024-08-04T10:56:39.088Z"
   },
   {
    "duration": 16,
    "start_time": "2024-08-04T10:56:39.111Z"
   },
   {
    "duration": 54,
    "start_time": "2024-08-04T10:56:39.129Z"
   },
   {
    "duration": 21,
    "start_time": "2024-08-04T10:56:39.184Z"
   },
   {
    "duration": 22,
    "start_time": "2024-08-04T10:56:39.206Z"
   },
   {
    "duration": 22,
    "start_time": "2024-08-04T10:56:39.229Z"
   },
   {
    "duration": 35,
    "start_time": "2024-08-04T10:56:39.252Z"
   },
   {
    "duration": 46,
    "start_time": "2024-08-04T10:56:39.288Z"
   },
   {
    "duration": 3,
    "start_time": "2024-08-04T10:56:39.336Z"
   },
   {
    "duration": 13,
    "start_time": "2024-08-04T10:56:39.341Z"
   },
   {
    "duration": 24,
    "start_time": "2024-08-04T10:56:39.356Z"
   },
   {
    "duration": 74888,
    "start_time": "2024-08-04T10:56:39.381Z"
   },
   {
    "duration": 3,
    "start_time": "2024-08-04T10:57:54.271Z"
   },
   {
    "duration": 13,
    "start_time": "2024-08-04T10:57:54.276Z"
   },
   {
    "duration": 32,
    "start_time": "2024-08-04T10:57:54.291Z"
   },
   {
    "duration": 26,
    "start_time": "2024-08-04T10:57:54.324Z"
   },
   {
    "duration": 28,
    "start_time": "2024-08-04T10:57:54.352Z"
   },
   {
    "duration": 32,
    "start_time": "2024-08-04T10:57:54.381Z"
   },
   {
    "duration": 155,
    "start_time": "2024-08-04T10:57:54.414Z"
   },
   {
    "duration": 0,
    "start_time": "2024-08-04T10:57:54.571Z"
   },
   {
    "duration": 0,
    "start_time": "2024-08-04T10:57:54.573Z"
   },
   {
    "duration": 5,
    "start_time": "2024-08-04T11:04:23.837Z"
   },
   {
    "duration": 5394,
    "start_time": "2024-08-04T11:04:40.190Z"
   },
   {
    "duration": 2569,
    "start_time": "2024-08-04T11:04:45.587Z"
   },
   {
    "duration": 2362,
    "start_time": "2024-08-04T11:04:48.158Z"
   },
   {
    "duration": 79,
    "start_time": "2024-08-04T11:04:50.522Z"
   },
   {
    "duration": 18,
    "start_time": "2024-08-04T11:04:50.603Z"
   },
   {
    "duration": 38,
    "start_time": "2024-08-04T11:04:50.623Z"
   },
   {
    "duration": 33,
    "start_time": "2024-08-04T11:04:50.662Z"
   },
   {
    "duration": 5,
    "start_time": "2024-08-04T11:04:50.697Z"
   },
   {
    "duration": 36,
    "start_time": "2024-08-04T11:04:50.704Z"
   },
   {
    "duration": 20,
    "start_time": "2024-08-04T11:04:50.741Z"
   },
   {
    "duration": 18,
    "start_time": "2024-08-04T11:04:50.762Z"
   },
   {
    "duration": 18,
    "start_time": "2024-08-04T11:04:50.782Z"
   },
   {
    "duration": 23,
    "start_time": "2024-08-04T11:04:50.802Z"
   },
   {
    "duration": 7,
    "start_time": "2024-08-04T11:04:50.829Z"
   },
   {
    "duration": 36,
    "start_time": "2024-08-04T11:04:50.838Z"
   },
   {
    "duration": 4,
    "start_time": "2024-08-04T11:04:50.876Z"
   },
   {
    "duration": 22,
    "start_time": "2024-08-04T11:04:50.882Z"
   },
   {
    "duration": 33,
    "start_time": "2024-08-04T11:04:50.906Z"
   },
   {
    "duration": 1184,
    "start_time": "2024-08-04T11:04:50.940Z"
   },
   {
    "duration": 1725,
    "start_time": "2024-08-04T11:04:52.126Z"
   },
   {
    "duration": 538,
    "start_time": "2024-08-04T11:04:53.852Z"
   },
   {
    "duration": 1719,
    "start_time": "2024-08-04T11:04:54.392Z"
   },
   {
    "duration": 496,
    "start_time": "2024-08-04T11:04:56.113Z"
   },
   {
    "duration": 7,
    "start_time": "2024-08-04T11:04:56.611Z"
   },
   {
    "duration": 341,
    "start_time": "2024-08-04T11:04:56.619Z"
   },
   {
    "duration": 1037,
    "start_time": "2024-08-04T11:04:56.962Z"
   },
   {
    "duration": 14,
    "start_time": "2024-08-04T11:04:58.001Z"
   },
   {
    "duration": 7,
    "start_time": "2024-08-04T11:04:58.017Z"
   },
   {
    "duration": 10,
    "start_time": "2024-08-04T11:04:58.026Z"
   },
   {
    "duration": 15,
    "start_time": "2024-08-04T11:04:58.038Z"
   },
   {
    "duration": 8,
    "start_time": "2024-08-04T11:04:58.055Z"
   },
   {
    "duration": 8,
    "start_time": "2024-08-04T11:04:58.064Z"
   },
   {
    "duration": 4,
    "start_time": "2024-08-04T11:04:58.074Z"
   },
   {
    "duration": 3,
    "start_time": "2024-08-04T11:04:58.080Z"
   },
   {
    "duration": 6,
    "start_time": "2024-08-04T11:04:58.085Z"
   },
   {
    "duration": 9,
    "start_time": "2024-08-04T11:04:58.093Z"
   },
   {
    "duration": 22,
    "start_time": "2024-08-04T11:04:58.104Z"
   },
   {
    "duration": 23,
    "start_time": "2024-08-04T11:04:58.128Z"
   },
   {
    "duration": 11,
    "start_time": "2024-08-04T11:04:58.153Z"
   },
   {
    "duration": 10,
    "start_time": "2024-08-04T11:04:58.165Z"
   },
   {
    "duration": 3,
    "start_time": "2024-08-04T11:04:58.180Z"
   },
   {
    "duration": 35,
    "start_time": "2024-08-04T11:04:58.185Z"
   },
   {
    "duration": 25,
    "start_time": "2024-08-04T11:04:58.221Z"
   },
   {
    "duration": 4,
    "start_time": "2024-08-04T11:04:58.247Z"
   },
   {
    "duration": 7,
    "start_time": "2024-08-04T11:04:58.252Z"
   },
   {
    "duration": 14,
    "start_time": "2024-08-04T11:04:58.260Z"
   },
   {
    "duration": 16,
    "start_time": "2024-08-04T11:04:58.275Z"
   },
   {
    "duration": 39,
    "start_time": "2024-08-04T11:04:58.292Z"
   },
   {
    "duration": 53377,
    "start_time": "2024-08-04T11:04:58.332Z"
   },
   {
    "duration": 3,
    "start_time": "2024-08-04T11:05:51.711Z"
   },
   {
    "duration": 124,
    "start_time": "2024-08-04T11:05:51.716Z"
   },
   {
    "duration": 14,
    "start_time": "2024-08-04T11:05:51.842Z"
   },
   {
    "duration": 22,
    "start_time": "2024-08-04T11:05:51.858Z"
   },
   {
    "duration": 48,
    "start_time": "2024-08-04T11:05:51.882Z"
   },
   {
    "duration": 21,
    "start_time": "2024-08-04T11:05:51.932Z"
   },
   {
    "duration": 16,
    "start_time": "2024-08-04T11:05:51.955Z"
   },
   {
    "duration": 48,
    "start_time": "2024-08-04T11:05:51.972Z"
   },
   {
    "duration": 32,
    "start_time": "2024-08-04T11:05:52.022Z"
   },
   {
    "duration": 580,
    "start_time": "2024-08-04T11:05:52.147Z"
   },
   {
    "duration": 57,
    "start_time": "2024-08-04T11:05:52.729Z"
   },
   {
    "duration": 11,
    "start_time": "2024-08-04T11:05:52.788Z"
   },
   {
    "duration": 48,
    "start_time": "2024-08-04T11:05:52.800Z"
   },
   {
    "duration": 35,
    "start_time": "2024-08-04T11:05:52.849Z"
   },
   {
    "duration": 30,
    "start_time": "2024-08-04T11:05:52.886Z"
   },
   {
    "duration": 29,
    "start_time": "2024-08-04T11:05:52.918Z"
   },
   {
    "duration": 22,
    "start_time": "2024-08-04T11:05:52.949Z"
   },
   {
    "duration": 27,
    "start_time": "2024-08-04T11:05:52.972Z"
   },
   {
    "duration": 25,
    "start_time": "2024-08-04T11:05:53.001Z"
   },
   {
    "duration": 27,
    "start_time": "2024-08-04T11:05:53.028Z"
   },
   {
    "duration": 544,
    "start_time": "2024-08-04T11:05:53.057Z"
   },
   {
    "duration": 1445,
    "start_time": "2024-08-04T11:05:53.603Z"
   },
   {
    "duration": 244,
    "start_time": "2024-08-04T11:05:55.049Z"
   },
   {
    "duration": 5,
    "start_time": "2024-08-04T11:05:55.295Z"
   },
   {
    "duration": 7,
    "start_time": "2024-08-04T11:05:55.302Z"
   },
   {
    "duration": 13,
    "start_time": "2024-08-04T11:05:55.311Z"
   },
   {
    "duration": 7,
    "start_time": "2024-08-04T11:05:55.325Z"
   },
   {
    "duration": 5,
    "start_time": "2024-08-04T11:05:55.345Z"
   },
   {
    "duration": 614,
    "start_time": "2024-08-04T11:05:55.352Z"
   },
   {
    "duration": 4320,
    "start_time": "2024-08-04T11:05:55.967Z"
   },
   {
    "duration": 12,
    "start_time": "2024-08-04T11:06:00.289Z"
   },
   {
    "duration": 579,
    "start_time": "2024-08-04T11:06:00.302Z"
   },
   {
    "duration": 3455,
    "start_time": "2024-08-04T11:06:00.883Z"
   },
   {
    "duration": 19,
    "start_time": "2024-08-04T11:06:04.346Z"
   },
   {
    "duration": 10,
    "start_time": "2024-08-04T11:06:04.367Z"
   },
   {
    "duration": 5,
    "start_time": "2024-08-04T11:06:04.378Z"
   },
   {
    "duration": 13,
    "start_time": "2024-08-04T11:06:04.384Z"
   },
   {
    "duration": 24,
    "start_time": "2024-08-04T11:06:04.398Z"
   },
   {
    "duration": 5,
    "start_time": "2024-08-04T11:06:04.424Z"
   },
   {
    "duration": 5,
    "start_time": "2024-08-04T11:06:04.430Z"
   },
   {
    "duration": 10,
    "start_time": "2024-08-04T11:06:04.437Z"
   },
   {
    "duration": 30,
    "start_time": "2024-08-04T11:06:04.449Z"
   },
   {
    "duration": 4,
    "start_time": "2024-08-04T11:06:04.481Z"
   },
   {
    "duration": 12,
    "start_time": "2024-08-04T11:06:04.487Z"
   },
   {
    "duration": 7,
    "start_time": "2024-08-04T11:06:04.501Z"
   },
   {
    "duration": 74883,
    "start_time": "2024-08-04T11:06:04.510Z"
   },
   {
    "duration": 3,
    "start_time": "2024-08-04T11:07:19.395Z"
   },
   {
    "duration": 29,
    "start_time": "2024-08-04T11:07:19.399Z"
   },
   {
    "duration": 38,
    "start_time": "2024-08-04T11:07:19.429Z"
   },
   {
    "duration": 21,
    "start_time": "2024-08-04T11:07:19.468Z"
   },
   {
    "duration": 29,
    "start_time": "2024-08-04T11:07:19.491Z"
   },
   {
    "duration": 27,
    "start_time": "2024-08-04T11:07:19.521Z"
   },
   {
    "duration": 154,
    "start_time": "2024-08-04T11:07:19.549Z"
   },
   {
    "duration": 0,
    "start_time": "2024-08-04T11:07:19.704Z"
   },
   {
    "duration": 0,
    "start_time": "2024-08-04T11:07:19.706Z"
   },
   {
    "duration": 0,
    "start_time": "2024-08-04T11:07:19.707Z"
   },
   {
    "duration": 9,
    "start_time": "2024-08-04T11:07:38.421Z"
   },
   {
    "duration": 10,
    "start_time": "2024-08-04T11:07:55.402Z"
   },
   {
    "duration": 11,
    "start_time": "2024-08-04T11:28:38.412Z"
   },
   {
    "duration": 6,
    "start_time": "2024-08-04T11:36:47.402Z"
   },
   {
    "duration": 5,
    "start_time": "2024-08-04T11:36:49.706Z"
   },
   {
    "duration": 29,
    "start_time": "2024-08-04T11:36:49.934Z"
   },
   {
    "duration": 4,
    "start_time": "2024-08-04T11:36:50.544Z"
   },
   {
    "duration": 2,
    "start_time": "2024-08-04T11:36:51.192Z"
   },
   {
    "duration": 3,
    "start_time": "2024-08-04T11:36:51.706Z"
   },
   {
    "duration": 15,
    "start_time": "2024-08-04T11:37:00.049Z"
   },
   {
    "duration": 3,
    "start_time": "2024-08-04T11:37:00.250Z"
   },
   {
    "duration": 12,
    "start_time": "2024-08-04T11:37:00.485Z"
   },
   {
    "duration": 5598,
    "start_time": "2024-08-04T11:37:10.947Z"
   },
   {
    "duration": 2757,
    "start_time": "2024-08-04T11:37:16.548Z"
   },
   {
    "duration": 2080,
    "start_time": "2024-08-04T11:37:19.308Z"
   },
   {
    "duration": 77,
    "start_time": "2024-08-04T11:37:21.390Z"
   },
   {
    "duration": 18,
    "start_time": "2024-08-04T11:37:21.468Z"
   },
   {
    "duration": 38,
    "start_time": "2024-08-04T11:37:21.488Z"
   },
   {
    "duration": 49,
    "start_time": "2024-08-04T11:37:21.527Z"
   },
   {
    "duration": 10,
    "start_time": "2024-08-04T11:37:21.578Z"
   },
   {
    "duration": 34,
    "start_time": "2024-08-04T11:37:21.589Z"
   },
   {
    "duration": 15,
    "start_time": "2024-08-04T11:37:21.626Z"
   },
   {
    "duration": 20,
    "start_time": "2024-08-04T11:37:21.643Z"
   },
   {
    "duration": 19,
    "start_time": "2024-08-04T11:37:21.665Z"
   },
   {
    "duration": 12,
    "start_time": "2024-08-04T11:37:21.686Z"
   },
   {
    "duration": 12,
    "start_time": "2024-08-04T11:37:21.699Z"
   },
   {
    "duration": 41,
    "start_time": "2024-08-04T11:37:21.712Z"
   },
   {
    "duration": 30,
    "start_time": "2024-08-04T11:37:21.755Z"
   },
   {
    "duration": 44,
    "start_time": "2024-08-04T11:37:21.786Z"
   },
   {
    "duration": 14,
    "start_time": "2024-08-04T11:37:21.831Z"
   },
   {
    "duration": 1162,
    "start_time": "2024-08-04T11:37:21.847Z"
   },
   {
    "duration": 1805,
    "start_time": "2024-08-04T11:37:23.011Z"
   },
   {
    "duration": 594,
    "start_time": "2024-08-04T11:37:24.818Z"
   },
   {
    "duration": 1746,
    "start_time": "2024-08-04T11:37:25.413Z"
   },
   {
    "duration": 538,
    "start_time": "2024-08-04T11:37:27.161Z"
   },
   {
    "duration": 6,
    "start_time": "2024-08-04T11:37:27.701Z"
   },
   {
    "duration": 372,
    "start_time": "2024-08-04T11:37:27.708Z"
   },
   {
    "duration": 1079,
    "start_time": "2024-08-04T11:37:28.082Z"
   },
   {
    "duration": 15,
    "start_time": "2024-08-04T11:37:29.163Z"
   },
   {
    "duration": 8,
    "start_time": "2024-08-04T11:37:29.183Z"
   },
   {
    "duration": 12,
    "start_time": "2024-08-04T11:37:29.192Z"
   },
   {
    "duration": 8,
    "start_time": "2024-08-04T11:37:29.205Z"
   },
   {
    "duration": 22,
    "start_time": "2024-08-04T11:37:29.214Z"
   },
   {
    "duration": 8,
    "start_time": "2024-08-04T11:37:29.238Z"
   },
   {
    "duration": 15,
    "start_time": "2024-08-04T11:37:29.247Z"
   },
   {
    "duration": 5,
    "start_time": "2024-08-04T11:37:29.263Z"
   },
   {
    "duration": 39,
    "start_time": "2024-08-04T11:37:29.269Z"
   },
   {
    "duration": 10,
    "start_time": "2024-08-04T11:37:29.309Z"
   },
   {
    "duration": 17,
    "start_time": "2024-08-04T11:37:29.321Z"
   },
   {
    "duration": 18,
    "start_time": "2024-08-04T11:37:29.340Z"
   },
   {
    "duration": 51,
    "start_time": "2024-08-04T11:37:29.360Z"
   },
   {
    "duration": 28,
    "start_time": "2024-08-04T11:37:29.413Z"
   },
   {
    "duration": 30,
    "start_time": "2024-08-04T11:37:29.443Z"
   },
   {
    "duration": 49,
    "start_time": "2024-08-04T11:37:29.475Z"
   },
   {
    "duration": 22,
    "start_time": "2024-08-04T11:37:29.526Z"
   },
   {
    "duration": 5,
    "start_time": "2024-08-04T11:37:29.551Z"
   },
   {
    "duration": 47,
    "start_time": "2024-08-04T11:37:29.558Z"
   },
   {
    "duration": 14,
    "start_time": "2024-08-04T11:37:29.607Z"
   },
   {
    "duration": 4,
    "start_time": "2024-08-04T11:37:29.622Z"
   },
   {
    "duration": 5,
    "start_time": "2024-08-04T11:37:29.627Z"
   },
   {
    "duration": 52364,
    "start_time": "2024-08-04T11:37:29.633Z"
   },
   {
    "duration": 4,
    "start_time": "2024-08-04T11:38:21.999Z"
   },
   {
    "duration": 7,
    "start_time": "2024-08-04T11:38:22.005Z"
   },
   {
    "duration": 10,
    "start_time": "2024-08-04T11:38:22.014Z"
   },
   {
    "duration": 26,
    "start_time": "2024-08-04T11:38:22.025Z"
   },
   {
    "duration": 35,
    "start_time": "2024-08-04T11:38:22.052Z"
   },
   {
    "duration": 17,
    "start_time": "2024-08-04T11:38:22.089Z"
   },
   {
    "duration": 16,
    "start_time": "2024-08-04T11:38:22.108Z"
   },
   {
    "duration": 32,
    "start_time": "2024-08-04T11:38:22.125Z"
   },
   {
    "duration": 95,
    "start_time": "2024-08-04T11:38:22.160Z"
   },
   {
    "duration": 714,
    "start_time": "2024-08-04T11:38:22.258Z"
   },
   {
    "duration": 56,
    "start_time": "2024-08-04T11:38:22.974Z"
   },
   {
    "duration": 12,
    "start_time": "2024-08-04T11:38:23.032Z"
   },
   {
    "duration": 12,
    "start_time": "2024-08-04T11:38:23.045Z"
   },
   {
    "duration": 12,
    "start_time": "2024-08-04T11:38:23.059Z"
   },
   {
    "duration": 10,
    "start_time": "2024-08-04T11:38:23.073Z"
   },
   {
    "duration": 12,
    "start_time": "2024-08-04T11:38:23.084Z"
   },
   {
    "duration": 7,
    "start_time": "2024-08-04T11:38:23.098Z"
   },
   {
    "duration": 4,
    "start_time": "2024-08-04T11:38:23.107Z"
   },
   {
    "duration": 33,
    "start_time": "2024-08-04T11:38:23.113Z"
   },
   {
    "duration": 28,
    "start_time": "2024-08-04T11:38:23.148Z"
   },
   {
    "duration": 519,
    "start_time": "2024-08-04T11:38:23.178Z"
   },
   {
    "duration": 1399,
    "start_time": "2024-08-04T11:38:23.698Z"
   },
   {
    "duration": 209,
    "start_time": "2024-08-04T11:38:25.098Z"
   },
   {
    "duration": 5,
    "start_time": "2024-08-04T11:38:25.309Z"
   },
   {
    "duration": 19,
    "start_time": "2024-08-04T11:38:25.315Z"
   },
   {
    "duration": 12,
    "start_time": "2024-08-04T11:38:25.335Z"
   },
   {
    "duration": 10,
    "start_time": "2024-08-04T11:38:25.349Z"
   },
   {
    "duration": 10,
    "start_time": "2024-08-04T11:38:25.360Z"
   },
   {
    "duration": 681,
    "start_time": "2024-08-04T11:38:25.372Z"
   },
   {
    "duration": 4198,
    "start_time": "2024-08-04T11:38:26.055Z"
   },
   {
    "duration": 12,
    "start_time": "2024-08-04T11:38:30.255Z"
   },
   {
    "duration": 384,
    "start_time": "2024-08-04T11:38:30.268Z"
   },
   {
    "duration": 3406,
    "start_time": "2024-08-04T11:38:30.658Z"
   },
   {
    "duration": 9,
    "start_time": "2024-08-04T11:38:34.066Z"
   },
   {
    "duration": 22,
    "start_time": "2024-08-04T11:38:34.077Z"
   },
   {
    "duration": 4,
    "start_time": "2024-08-04T11:38:34.100Z"
   },
   {
    "duration": 6,
    "start_time": "2024-08-04T11:38:34.105Z"
   },
   {
    "duration": 34,
    "start_time": "2024-08-04T11:38:34.113Z"
   },
   {
    "duration": 35,
    "start_time": "2024-08-04T11:38:34.149Z"
   },
   {
    "duration": 20,
    "start_time": "2024-08-04T11:38:34.186Z"
   },
   {
    "duration": 10,
    "start_time": "2024-08-04T11:38:34.207Z"
   },
   {
    "duration": 8,
    "start_time": "2024-08-04T11:38:34.218Z"
   },
   {
    "duration": 39,
    "start_time": "2024-08-04T11:38:34.227Z"
   },
   {
    "duration": 6,
    "start_time": "2024-08-04T11:38:34.268Z"
   },
   {
    "duration": 13,
    "start_time": "2024-08-04T11:38:34.276Z"
   },
   {
    "duration": 24,
    "start_time": "2024-08-04T11:38:34.291Z"
   },
   {
    "duration": 75283,
    "start_time": "2024-08-04T11:38:34.316Z"
   },
   {
    "duration": 3,
    "start_time": "2024-08-04T11:39:49.601Z"
   },
   {
    "duration": 33,
    "start_time": "2024-08-04T11:39:49.606Z"
   },
   {
    "duration": 40,
    "start_time": "2024-08-04T11:39:49.641Z"
   },
   {
    "duration": 39,
    "start_time": "2024-08-04T11:39:49.683Z"
   },
   {
    "duration": 19,
    "start_time": "2024-08-04T11:39:49.723Z"
   },
   {
    "duration": 36,
    "start_time": "2024-08-04T11:39:49.743Z"
   },
   {
    "duration": 97,
    "start_time": "2024-08-04T11:39:49.781Z"
   },
   {
    "duration": 10,
    "start_time": "2024-08-04T11:39:49.880Z"
   },
   {
    "duration": 30,
    "start_time": "2024-08-04T11:39:49.891Z"
   }
  ],
  "kernelspec": {
   "display_name": "Python 3 (ipykernel)",
   "language": "python",
   "name": "python3"
  },
  "language_info": {
   "codemirror_mode": {
    "name": "ipython",
    "version": 3
   },
   "file_extension": ".py",
   "mimetype": "text/x-python",
   "name": "python",
   "nbconvert_exporter": "python",
   "pygments_lexer": "ipython3",
   "version": "3.9.12"
  },
  "toc": {
   "base_numbering": 1,
   "nav_menu": {},
   "number_sections": true,
   "sideBar": true,
   "skip_h1_title": true,
   "title_cell": "Table of Contents",
   "title_sidebar": "Contents",
   "toc_cell": false,
   "toc_position": {
    "height": "calc(100% - 180px)",
    "left": "10px",
    "top": "150px",
    "width": "360px"
   },
   "toc_section_display": true,
   "toc_window_display": true
  }
 },
 "nbformat": 4,
 "nbformat_minor": 5
}
